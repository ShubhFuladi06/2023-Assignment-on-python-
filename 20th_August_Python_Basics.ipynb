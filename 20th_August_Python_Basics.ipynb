{
 "cells": [
  {
   "cell_type": "markdown",
   "id": "fc6ef75a",
   "metadata": {},
   "source": [
    "## TOPIC: String Based Assignment Problem"
   ]
  },
  {
   "cell_type": "code",
   "execution_count": 4,
   "id": "15ee0b68",
   "metadata": {},
   "outputs": [
    {
     "name": "stdout",
     "output_type": "stream",
     "text": [
      "reverse of Shubham is mahbuhS\n"
     ]
    }
   ],
   "source": [
    "\"\"\"1. Write a program to reverse a string.\"\"\"\n",
    "\n",
    "s1 = \"Shubham\"\n",
    "s1_r = s1[::-1]\n",
    "print(\"reverse of\", s1,\"is\",s1_r)"
   ]
  },
  {
   "cell_type": "code",
   "execution_count": 5,
   "id": "736743a0",
   "metadata": {},
   "outputs": [
    {
     "name": "stdout",
     "output_type": "stream",
     "text": [
      "The string is palindrome\n"
     ]
    }
   ],
   "source": [
    "\"\"\"2. Check if a string is a palindrome.\"\"\"\n",
    "\n",
    "s2 = \"radar\"\n",
    "s2_r = s2[::-1]\n",
    "\n",
    "if s2 == s2_r:\n",
    "    print(\"The string is palindrome\")\n",
    "else:\n",
    "    print(\"The string is not palindrome\")"
   ]
  },
  {
   "cell_type": "code",
   "execution_count": 7,
   "id": "76f89dec",
   "metadata": {},
   "outputs": [
    {
     "name": "stdout",
     "output_type": "stream",
     "text": [
      "the uppercase of Shubhendu is SHUBHENDU\n"
     ]
    }
   ],
   "source": [
    "\"\"\"3. Convert a string to uppercase.\"\"\"\n",
    "\n",
    "s3 = \"Shubhendu\"\n",
    "s3_u = s3.upper()\n",
    "\n",
    "print(\"the uppercase of\", s3,\"is\",s3_u)"
   ]
  },
  {
   "cell_type": "code",
   "execution_count": 8,
   "id": "928d3f51",
   "metadata": {},
   "outputs": [
    {
     "name": "stdout",
     "output_type": "stream",
     "text": [
      "the lowercase of ShuBheNdu is shubhendu\n"
     ]
    }
   ],
   "source": [
    "\"\"\"4. Convert a string to lowercase.\"\"\"\n",
    "\n",
    "s4 = \"ShuBheNdu\"\n",
    "s4_l = s4.lower()\n",
    "\n",
    "print(\"the lowercase of\", s4,\"is\",s4_l)"
   ]
  },
  {
   "cell_type": "code",
   "execution_count": 22,
   "id": "b2bc9f1c",
   "metadata": {},
   "outputs": [
    {
     "name": "stdout",
     "output_type": "stream",
     "text": [
      "number of vowels in sentence = 8\n"
     ]
    }
   ],
   "source": [
    "\"\"\"5. Count the number of vowels in a string..\"\"\"\n",
    "\n",
    "s5 = \"Hello Sir How Are You\"\n",
    "s5_l = s5.lower()\n",
    "v = ['a','e','i','o','u']\n",
    "\n",
    "count = 0\n",
    "\n",
    "for i in s5_l:\n",
    "    if i in v:\n",
    "        count+=1\n",
    "\n",
    "print(\"number of vowels in sentence =\", count)\n",
    "        "
   ]
  },
  {
   "cell_type": "code",
   "execution_count": 23,
   "id": "67f974e6",
   "metadata": {},
   "outputs": [
    {
     "name": "stdout",
     "output_type": "stream",
     "text": [
      "number of consonants in sentence = 13\n"
     ]
    }
   ],
   "source": [
    "\"\"\"6. Count the number of consonants in a string.\"\"\"\n",
    "\n",
    "s6 = \"Hello Sir How Are You\"\n",
    "s6_l = s6.lower()\n",
    "v = ['a','e','i','o','u']\n",
    "\n",
    "count = 0\n",
    "\n",
    "for i in s6_l:\n",
    "    if i not in v:\n",
    "        count+=1\n",
    "\n",
    "print(\"number of consonants in sentence =\", count)"
   ]
  },
  {
   "cell_type": "code",
   "execution_count": 25,
   "id": "36fd86c1",
   "metadata": {},
   "outputs": [
    {
     "name": "stdout",
     "output_type": "stream",
     "text": [
      "the string after removing spaces is\n",
      " Hellosirhowareyou\n"
     ]
    }
   ],
   "source": [
    "\"\"\"7. Remove all whitespaces from a string.\"\"\"\n",
    "\n",
    "s7 = \"    Hello sir  how  are you  \"\n",
    "s7_s = s7.replace(\" \",\"\")\n",
    "print(\"the string after removing spaces is\\n\",s7_s)\n"
   ]
  },
  {
   "cell_type": "code",
   "execution_count": 26,
   "id": "215c8b16",
   "metadata": {},
   "outputs": [
    {
     "name": "stdout",
     "output_type": "stream",
     "text": [
      "the lenght of string is\n",
      " 21\n"
     ]
    }
   ],
   "source": [
    "\"\"\"8. Find the length of a string without using the `len()` function.\"\"\"\n",
    "\n",
    "s8 = \"Hello sir how are you\"\n",
    "count =0\n",
    "for i in s8:\n",
    "    count+=1\n",
    "print(\"the lenght of string is\\n\",count)"
   ]
  },
  {
   "cell_type": "code",
   "execution_count": 30,
   "id": "249603bf",
   "metadata": {},
   "outputs": [
    {
     "name": "stdout",
     "output_type": "stream",
     "text": [
      "Enter the stringhello sir how are you\n",
      "Enter specific wordsir\n",
      "the word- sir is present in- hello sir how are you\n"
     ]
    }
   ],
   "source": [
    "\"\"\"9. Check if a string contains a specific word.\"\"\"\n",
    "\n",
    "s9 = input(\"Enter the string\")\n",
    "word = input(\"Enter specific word\")\n",
    "\n",
    "if word in s9:\n",
    "    print(\"the word-\",word, \"is present in-\",s9)\n",
    "else:\n",
    "    print(\"the word-\",word, \"is not present in-\",s9)"
   ]
  },
  {
   "cell_type": "code",
   "execution_count": 31,
   "id": "5414dbad",
   "metadata": {},
   "outputs": [
    {
     "name": "stdout",
     "output_type": "stream",
     "text": [
      "Enter the stringhello sir how are you\n",
      "Enter the word which to be replacesir\n",
      "Enter new wordprofessor\n",
      "the modified sentence is\n",
      " hello professor how are you\n"
     ]
    }
   ],
   "source": [
    "\"\"\"10. Replace a word in a string with another word.\"\"\"\n",
    "\n",
    "s10 = input(\"Enter the string\")\n",
    "\n",
    "word1 = input(\"Enter the word which to be replace\")\n",
    "word2 = input(\"Enter new word\")\n",
    "\n",
    "s10_r = s10.replace(word1,word2)\n",
    "\n",
    "print(\"the modified sentence is\\n\",s10_r)"
   ]
  },
  {
   "cell_type": "code",
   "execution_count": 6,
   "id": "45489a86",
   "metadata": {},
   "outputs": [
    {
     "name": "stdout",
     "output_type": "stream",
     "text": [
      "Enter the sentencei like mango what do you like\n",
      "Enter wordlike\n",
      "['i', 'like', 'mango', 'what', 'do', 'you', 'like']\n",
      "the word  like  occurrences  2 times\n"
     ]
    }
   ],
   "source": [
    "\"11. Count the occurrences of a word in a string.\"\n",
    "\n",
    "s11 = input(\"Enter the sentence\")\n",
    "word= input(\"Enter word\")\n",
    "\n",
    "s11_s = s11.split()\n",
    "print(s11_s)\n",
    "count = 0\n",
    "\n",
    "for w in s11_s:\n",
    "    if w == word:\n",
    "        count+=1\n",
    "\n",
    "print(\"the word \",word,\" occurrences \",count,\"times\")\n",
    "\n"
   ]
  },
  {
   "cell_type": "code",
   "execution_count": 7,
   "id": "7107b486",
   "metadata": {},
   "outputs": [
    {
     "name": "stdout",
     "output_type": "stream",
     "text": [
      "Enter the sentenceHello sir how are you\n",
      "Enter wordsir\n",
      "word found at location 6\n"
     ]
    }
   ],
   "source": [
    "\"\"\"12. Find the first occurrence of a word in a string.\"\"\"\n",
    "\n",
    "s12 = input(\"Enter the sentence\")\n",
    "word= input(\"Enter word\")\n",
    "\n",
    "loc = s12.find(word)\n",
    "\n",
    "if loc == -1:\n",
    "    print(\"the word is not found\")\n",
    "else:\n",
    "    print(\"word found at location\",loc)"
   ]
  },
  {
   "cell_type": "code",
   "execution_count": 8,
   "id": "590aef91",
   "metadata": {},
   "outputs": [
    {
     "name": "stdout",
     "output_type": "stream",
     "text": [
      "Enter the sentencei like mango what do you like\n",
      "Enter wordlike\n",
      "word found at location 25\n"
     ]
    }
   ],
   "source": [
    "\"\"\"13. Find the last occurrence of a word in a string.\"\"\"\n",
    "\n",
    "s13 = input(\"Enter the sentence\")\n",
    "word= input(\"Enter word\")\n",
    "\n",
    "loc = s13.rfind(word)\n",
    "\n",
    "if loc == -1:\n",
    "    print(\"the word is not found\")\n",
    "else:\n",
    "    print(\"word found at location\",loc)"
   ]
  },
  {
   "cell_type": "code",
   "execution_count": 9,
   "id": "35215fcf",
   "metadata": {},
   "outputs": [
    {
     "name": "stdout",
     "output_type": "stream",
     "text": [
      "Enter the sentencei love you\n",
      "list of words\n",
      " ['i', 'love', 'you']\n"
     ]
    }
   ],
   "source": [
    "\"\"\"14. Split a string into a list of words.\"\"\"\n",
    "\n",
    "s14 = input(\"Enter the sentence\")\n",
    "s14_s = s14.split()\n",
    "\n",
    "print(\"list of words\\n\",s14_s)"
   ]
  },
  {
   "cell_type": "code",
   "execution_count": 10,
   "id": "d4a168ed",
   "metadata": {},
   "outputs": [
    {
     "name": "stdout",
     "output_type": "stream",
     "text": [
      "joint string is\n",
      " i love you\n"
     ]
    }
   ],
   "source": [
    "\"\"\"15. Join a list of words into a string.\"\"\"\n",
    "\n",
    "s15 = ['i', 'love', 'you']\n",
    "s15_j = ' '.join(s15)\n",
    "\n",
    "print(\"joint string is\\n\",s15_j)"
   ]
  },
  {
   "cell_type": "code",
   "execution_count": 12,
   "id": "f63da6ac",
   "metadata": {},
   "outputs": [
    {
     "name": "stdout",
     "output_type": "stream",
     "text": [
      "Enter a stringi love you\n",
      "i_love_you\n"
     ]
    }
   ],
   "source": [
    "\"\"\"16. Convert a string where words are separated by spaces to one where words\n",
    "are separated by underscores.\"\"\"\n",
    "\n",
    "s16 = input(\"Enter a string\")\n",
    "s16_r = s16.replace(\" \",\"_\")\n",
    "\n",
    "print(s16_r)"
   ]
  },
  {
   "cell_type": "code",
   "execution_count": 19,
   "id": "6648d387",
   "metadata": {},
   "outputs": [
    {
     "name": "stdout",
     "output_type": "stream",
     "text": [
      "Enter a string\n",
      "hello professor\n",
      "Enter a word\n",
      "hello\n",
      "the sentence start with word hello\n"
     ]
    }
   ],
   "source": [
    "\"\"\"17. Check if a string starts with a specific word or phrase.\"\"\"\n",
    "\n",
    "s17 = input(\"Enter a string\\n\")\n",
    "word = input(\"Enter a word\\n\")\n",
    "\n",
    "result = s17.startswith(word)\n",
    "\n",
    "if result == True:\n",
    "    print(\"the sentence start with word\",word)\n",
    "else:\n",
    "    print(\"the sentence is not start with\",word)"
   ]
  },
  {
   "cell_type": "code",
   "execution_count": 20,
   "id": "d4c249b7",
   "metadata": {},
   "outputs": [
    {
     "name": "stdout",
     "output_type": "stream",
     "text": [
      "Enter a string\n",
      "i am shubh\n",
      "Enter a word\n",
      "shubh\n",
      "the sentence end with word shubh\n"
     ]
    }
   ],
   "source": [
    "\"\"\"18. Check if a string ends with a specific word or phrase.\"\"\"\n",
    "\n",
    "s18 = input(\"Enter a string\\n\")\n",
    "word = input(\"Enter a word\\n\")\n",
    "\n",
    "result = s18.endswith(word)\n",
    "\n",
    "if result == True:\n",
    "    print(\"the sentence end with word\",word)\n",
    "else:\n",
    "    print(\"the sentence is not ends with\",word)"
   ]
  },
  {
   "cell_type": "code",
   "execution_count": 22,
   "id": "e7624b16",
   "metadata": {},
   "outputs": [
    {
     "name": "stdout",
     "output_type": "stream",
     "text": [
      "Enter a string\n",
      "i love you\n",
      "I Love You\n"
     ]
    }
   ],
   "source": [
    "\"\"\"19. Convert a string to title case (e.g., \"hello world\" to \"Hello World\").\"\"\"\n",
    "\n",
    "s19 = input(\"Enter a string\\n\")\n",
    "s19_t = s19.title()\n",
    "print(s19_t)"
   ]
  },
  {
   "cell_type": "code",
   "execution_count": 27,
   "id": "f1a8b4ac",
   "metadata": {},
   "outputs": [
    {
     "name": "stdout",
     "output_type": "stream",
     "text": [
      "Enter a string\n",
      "hello professor how are you\n",
      "the longest word in sentence is professor\n"
     ]
    }
   ],
   "source": [
    "\"\"\"20. Find the longest word in a string.\"\"\"\n",
    "\n",
    "s20 = input(\"Enter a string\\n\")\n",
    "s20_s = s20.split()\n",
    "size = 0\n",
    "lword = \"\"\n",
    "\n",
    "\n",
    "for s in s20_s:\n",
    "    if len(s) > size:\n",
    "        size = len(s)\n",
    "        lword = s\n",
    "    \n",
    "print(\"the longest word in sentence is\",lword)"
   ]
  },
  {
   "cell_type": "code",
   "execution_count": 31,
   "id": "b9f64375",
   "metadata": {},
   "outputs": [
    {
     "name": "stdout",
     "output_type": "stream",
     "text": [
      "Enter a string\n",
      "i love you\n",
      "the shortest word in sentence is i\n"
     ]
    }
   ],
   "source": [
    "\"\"\"21. Find the shortest word in a string.\"\"\"\n",
    "\n",
    "s21 = input(\"Enter a string\\n\")\n",
    "s21_s = s21.split()\n",
    "size = float('inf')\n",
    "sword = \"\"\n",
    "\n",
    "\n",
    "for s in s21_s:\n",
    "    if len(s) < size:\n",
    "        size = len(s)\n",
    "        sword = s\n",
    "    \n",
    "print(\"the shortest word in sentence is\",sword)"
   ]
  },
  {
   "cell_type": "code",
   "execution_count": 35,
   "id": "a7c73a38",
   "metadata": {},
   "outputs": [
    {
     "name": "stdout",
     "output_type": "stream",
     "text": [
      "Enter a string\n",
      "Practice makes man perfect\n",
      "the reverse the order of word in string is\n",
      "  perfect man makes Practice\n"
     ]
    }
   ],
   "source": [
    "\"\"\"22. Reverse the order of words in a string.\"\"\"\n",
    "\n",
    "s22 = input(\"Enter a string\\n\")\n",
    "s22_s = s22.split()\n",
    "s22_r = ' '.join(s22_s[::-1])\n",
    "\n",
    "print(\"the reverse the order of word in string is\\n \",s22_r)"
   ]
  },
  {
   "cell_type": "code",
   "execution_count": 37,
   "id": "2548f3ab",
   "metadata": {},
   "outputs": [
    {
     "name": "stdout",
     "output_type": "stream",
     "text": [
      "Enter a string\n",
      "shubh123\n",
      "the string is alphanumeric\n"
     ]
    }
   ],
   "source": [
    "\"\"\"23. Check if a string is alphanumeric.\"\"\"\n",
    "\n",
    "s23 = input(\"Enter a string\\n\")\n",
    "s23_an = s23.isalnum()\n",
    "\n",
    "if s23_an == True:\n",
    "    print(\"the string is alphanumeric\")\n",
    "else:\n",
    "    print(\"the string is not alphanumeric\")\n",
    "    "
   ]
  },
  {
   "cell_type": "code",
   "execution_count": 3,
   "id": "f29ebb5c",
   "metadata": {},
   "outputs": [
    {
     "name": "stdout",
     "output_type": "stream",
     "text": [
      "Enter a string\n",
      "vchg567ghui75fgh675\n",
      "all digits in strings are 56775675\n"
     ]
    }
   ],
   "source": [
    "\"\"\"24. Extract all digits from a string.\"\"\"\n",
    "\n",
    "s24 = input(\"Enter a string\\n\")\n",
    "dig = \"\"\n",
    "\n",
    "for c in s24:\n",
    "    if c.isdigit():\n",
    "        dig += c\n",
    "\n",
    "print(\"all digits in strings are\",dig)"
   ]
  },
  {
   "cell_type": "code",
   "execution_count": 2,
   "id": "76fd6031",
   "metadata": {},
   "outputs": [
    {
     "name": "stdout",
     "output_type": "stream",
     "text": [
      "Enter a string\n",
      "s654h76u46b7h43\n",
      "all alphabates in string are shubh\n"
     ]
    }
   ],
   "source": [
    "\"\"\"25. Extract all alphabets from a string.\"\"\"\n",
    "\n",
    "s25 = input(\"Enter a string\\n\")\n",
    "alph = \"\"\n",
    "\n",
    "for c in s25:\n",
    "    if c.isalpha():\n",
    "        alph += c\n",
    "\n",
    "print(\"all alphabates in string are\",alph)\n",
    "\n"
   ]
  },
  {
   "cell_type": "code",
   "execution_count": 5,
   "id": "a61049ac",
   "metadata": {},
   "outputs": [
    {
     "name": "stdout",
     "output_type": "stream",
     "text": [
      "Enter a string\n",
      "Hello EveryOne My Name is ShuBh\n",
      "number of uppercase letters are 7\n"
     ]
    }
   ],
   "source": [
    "\"\"\"26. Count the number of uppercase letters in a string.\"\"\"\n",
    "\n",
    "s26 = input(\"Enter a string\\n\")\n",
    "count=0\n",
    "for i in s26:\n",
    "    if i.isupper():\n",
    "        count+=1\n",
    "\n",
    "print(\"number of uppercase letters are\",count)"
   ]
  },
  {
   "cell_type": "code",
   "execution_count": 7,
   "id": "e585d630",
   "metadata": {},
   "outputs": [
    {
     "name": "stdout",
     "output_type": "stream",
     "text": [
      "Enter a string\n",
      "Hello EveryOne My Name is ShuBh\n",
      "number of lowercase letters are 19\n"
     ]
    }
   ],
   "source": [
    "\"\"\"27. Count the number of lowercase letters in a string.\"\"\"\n",
    "\n",
    "s27 = input(\"Enter a string\\n\")\n",
    "count=0\n",
    "for i in s27:\n",
    "    if i.islower():\n",
    "        count+=1\n",
    "\n",
    "print(\"number of lowercase letters are\",count)"
   ]
  },
  {
   "cell_type": "code",
   "execution_count": 9,
   "id": "07f02978",
   "metadata": {},
   "outputs": [
    {
     "name": "stdout",
     "output_type": "stream",
     "text": [
      "Enter a string\n",
      "Hello EveryOne My Name is ShuBh\n",
      "sentence after swap case\n",
      " hELLO eVERYoNE mY nAME IS sHUbH\n"
     ]
    }
   ],
   "source": [
    "\"\"\"28. Swap the case of each character in a string.\"\"\"\n",
    "\n",
    "s28 = input(\"Enter a string\\n\")\n",
    "s28_r = s28.swapcase()\n",
    "\n",
    "print(\"sentence after swap case\\n\",s28_r)"
   ]
  },
  {
   "cell_type": "code",
   "execution_count": 7,
   "id": "22993f1d",
   "metadata": {},
   "outputs": [
    {
     "name": "stdout",
     "output_type": "stream",
     "text": [
      "Enter a string\n",
      "i love you\n",
      "Enter a word\n",
      "love\n",
      "i you\n"
     ]
    }
   ],
   "source": [
    "\"\"\"29. Remove a specific word from a string.\"\"\"\n",
    "\n",
    "s29 = input(\"Enter a string\\n\")\n",
    "s29_word = input(\"Enter a word\\n\")\n",
    "\n",
    "s29_s = s29.split()\n",
    "if s29_word in s29_s:\n",
    "    s29_s.remove(s29_word)\n",
    "result = ' '.join(s29_s)\n",
    "print(result)"
   ]
  },
  {
   "cell_type": "code",
   "execution_count": 9,
   "id": "420025d6",
   "metadata": {},
   "outputs": [
    {
     "name": "stdout",
     "output_type": "stream",
     "text": [
      "Enter a email adress\n",
      "shubh06@gmail.com\n",
      "valid email\n"
     ]
    }
   ],
   "source": [
    "\"\"\"30. Check if a string is a valid email address.\"\"\"\n",
    "import re\n",
    "\n",
    "s30 = input(\"Enter a email adress\\n\")\n",
    "pattern = r'^[\\w\\.-]+@[\\w\\.-]+\\.\\w+$'\n",
    "if re.match(pattern,s30):\n",
    "    print(\"valid email\")\n",
    "else:\n",
    "    print(\"invalid email\")\n"
   ]
  },
  {
   "cell_type": "code",
   "execution_count": 61,
   "id": "ff73b34a",
   "metadata": {},
   "outputs": [
    {
     "name": "stdout",
     "output_type": "stream",
     "text": [
      "Enter email adressshubh06@gmail.com\n",
      "the username is  shubh06\n"
     ]
    }
   ],
   "source": [
    "\"\"\"31. Extract the username from an email address string.\"\"\"\n",
    "\n",
    "s31 = input(\"Enter email adress\")\n",
    "s31_u = s31.split(\"@\")[0]\n",
    "print(\"the username is \",s31_u)"
   ]
  },
  {
   "cell_type": "code",
   "execution_count": 63,
   "id": "ccb98bd1",
   "metadata": {},
   "outputs": [
    {
     "name": "stdout",
     "output_type": "stream",
     "text": [
      "Enter email adressshubh06@gmail.com\n",
      "the domain name is  gmail.com\n"
     ]
    }
   ],
   "source": [
    "\"\"\"32. Extract the domain name from an email address string.\"\"\"\n",
    "\n",
    "s32 = input(\"Enter email adress\")\n",
    "s32_u = s32.split(\"@\")[1]\n",
    "print(\"the domain name is \",s32_u)"
   ]
  },
  {
   "cell_type": "code",
   "execution_count": 65,
   "id": "3473e681",
   "metadata": {},
   "outputs": [
    {
     "name": "stdout",
     "output_type": "stream",
     "text": [
      "Enter a stringhello sir    how are    you\n",
      "hello sir how are you\n"
     ]
    }
   ],
   "source": [
    "\"\"\"33. Replace multiple spaces in a string with a single space.\"\"\"\n",
    "\n",
    "s33 = input(\"Enter a string\")\n",
    "s33_s = ' '.join(s33.split())\n",
    "print(s33_s)"
   ]
  },
  {
   "cell_type": "code",
   "execution_count": 72,
   "id": "90bf4337",
   "metadata": {},
   "outputs": [
    {
     "name": "stdout",
     "output_type": "stream",
     "text": [
      "Enter a URLhttps://www.example.com\n",
      "ParseResult(scheme='https', netloc='www.example.com', path='', params='', query='', fragment='')\n",
      "\n",
      "URL is valid\n"
     ]
    }
   ],
   "source": [
    "\"\"\"34. Check if a string is a valid URL.\"\"\"\n",
    "from urllib.parse import urlparse\n",
    "\n",
    "s34 = input(\"Enter a URL\")\n",
    "s34_url = urlparse(s34)\n",
    "print(s34_url)\n",
    "check = all([s34_url.scheme, s34_url.netloc])\n",
    "if check:\n",
    "    print(\"\\nURL is valid\")\n",
    "else:\n",
    "    print(\"URL is not valid\")"
   ]
  },
  {
   "cell_type": "code",
   "execution_count": 75,
   "id": "d3367387",
   "metadata": {},
   "outputs": [
    {
     "name": "stdout",
     "output_type": "stream",
     "text": [
      "Enter URLhttps://www.example.com\n",
      "Protocol 1: https\n"
     ]
    }
   ],
   "source": [
    "\"\"\"35. Extract the protocol (http or https) from a URL string.\"\"\"\n",
    "\n",
    "def extract_protocol(url):\n",
    "    protocol_end = url.find(\"://\")\n",
    "\n",
    "    if protocol_end != -1:\n",
    "        protocol = url[:protocol_end]\n",
    "        return protocol\n",
    "    else:\n",
    "        return None\n",
    "    \n",
    "url1 = input(\"Enter URL\")\n",
    "protocol1 = extract_protocol(url1)\n",
    "print(\"Protocol 1:\", protocol1)"
   ]
  },
  {
   "cell_type": "code",
   "execution_count": 78,
   "id": "20dea45e",
   "metadata": {},
   "outputs": [
    {
     "name": "stdout",
     "output_type": "stream",
     "text": [
      "The frequency of each character in the string is:\n",
      "'H': 1\n",
      "'e': 1\n",
      "'l': 3\n",
      "'o': 2\n",
      "',': 1\n",
      "' ': 1\n",
      "'w': 1\n",
      "'r': 1\n",
      "'d': 1\n",
      "'!': 1\n"
     ]
    }
   ],
   "source": [
    "\"\"\"36. Find the frequency of each character in a string.\"\"\"\n",
    "\n",
    "s36 = \"Hello, world!\"\n",
    "chcount = {}\n",
    "for ch in s36:\n",
    "    if ch in chcount:\n",
    "        chcount[ch] += 1\n",
    "    else:\n",
    "        chcount[ch] = 1\n",
    "\n",
    "print(\"The frequency of each character in the string is \")\n",
    "\n",
    "for ch, co in chcount.items():\n",
    "    print(f\"'{ch}': {co}\")\n",
    "    "
   ]
  },
  {
   "cell_type": "code",
   "execution_count": 80,
   "id": "ad00ae16",
   "metadata": {},
   "outputs": [
    {
     "name": "stdout",
     "output_type": "stream",
     "text": [
      "Hello world\n"
     ]
    }
   ],
   "source": [
    "\"\"\"37. Remove all punctuation from a string.\"\"\"\n",
    "\n",
    "import re\n",
    "\n",
    "def remove_punctuation(input_string):\n",
    "    return re.sub(r'[^\\w\\s]', '', input_string)\n",
    "\n",
    "string_with_punctuation = \"Hello, world!\"\n",
    "string_without_punctuation = remove_punctuation(string_with_punctuation)\n",
    "print(string_without_punctuation)\n"
   ]
  },
  {
   "cell_type": "code",
   "execution_count": 98,
   "id": "29f8589a",
   "metadata": {},
   "outputs": [
    {
     "name": "stdout",
     "output_type": "stream",
     "text": [
      "string1 contains only digits: False\n",
      "string2 contains only digits: False\n",
      "string3 contains only digits: True\n"
     ]
    }
   ],
   "source": [
    "\"\"\"38. Check if a string contains only digits.\"\"\"\n",
    "\n",
    "def check_dig(string):\n",
    "    return string.isdigit()\n",
    "\n",
    "result1 = check_dig(\"shreeram\")\n",
    "result2 = check_dig(\"shubh65\")\n",
    "result3 = check_dig(\"56987\")\n",
    "\n",
    "print(\"string1 contains only digits:\", result1)\n",
    "print(\"string2 contains only digits:\", result2)\n",
    "print(\"string3 contains only digits:\", result3)\n"
   ]
  },
  {
   "cell_type": "code",
   "execution_count": 99,
   "id": "4d5f088e",
   "metadata": {},
   "outputs": [
    {
     "name": "stdout",
     "output_type": "stream",
     "text": [
      "string1 contains only digits: True\n",
      "string2 contains only digits: False\n",
      "string3 contains only digits: False\n"
     ]
    }
   ],
   "source": [
    "\"\"\"39. Check if a string contains only alphabets.\"\"\"\n",
    "\n",
    "def check_alph(string):\n",
    "    return string.isalpha()\n",
    "\n",
    "result1 = check_alph(\"shreeram\")\n",
    "result2 = check_alph(\"shubh65\")\n",
    "result3 = check_alph(\"56987\")\n",
    "\n",
    "print(\"string1 contains only digits:\", result1)\n",
    "print(\"string2 contains only digits:\", result2)\n",
    "print(\"string3 contains only digits:\", result3)"
   ]
  },
  {
   "cell_type": "code",
   "execution_count": 102,
   "id": "8eaee422",
   "metadata": {},
   "outputs": [
    {
     "name": "stdout",
     "output_type": "stream",
     "text": [
      "['H', 'e', 'l', 'l', 'o', ' ', 's', 'i', 'r']\n"
     ]
    }
   ],
   "source": [
    "\"\"\"40. Convert a string to a list of characters.\"\"\"\n",
    "\n",
    "string = \"Hello sir\"\n",
    "lst = []\n",
    "\n",
    "for i in string:\n",
    "    lst.append(i)\n",
    "print(lst)"
   ]
  },
  {
   "cell_type": "code",
   "execution_count": 104,
   "id": "5166935c",
   "metadata": {},
   "outputs": [
    {
     "name": "stdout",
     "output_type": "stream",
     "text": [
      "'listen' and 'silent' are anagrams: True\n",
      "'hello' and 'world' are anagrams: False\n"
     ]
    }
   ],
   "source": [
    "\"\"\"41. Check if two strings are anagrams.\"\"\"\n",
    "\n",
    "def anagrams_check(str1, str2):\n",
    "    str1 = str1.replace(\" \", \"\").lower()\n",
    "    str2 = str2.replace(\" \", \"\").lower()\n",
    "\n",
    "    return sorted(str1) == sorted(str2)\n",
    "\n",
    "str1 = \"listen\"\n",
    "str2 = \"silent\"\n",
    "str3 = \"hello\"\n",
    "str4 = \"world\"\n",
    "\n",
    "# Check if strings are anagrams\n",
    "res1 = anagrams_check(str1, str2)\n",
    "res2 = anagrams_check(str3, str4)\n",
    "\n",
    "# Print the results\n",
    "print(f\"'{str1}' and '{str2}' are anagrams:\", res1)\n",
    "print(f\"'{str3}' and '{str4}' are anagrams:\", res2)"
   ]
  },
  {
   "cell_type": "code",
   "execution_count": 108,
   "id": "9028209d",
   "metadata": {},
   "outputs": [
    {
     "name": "stdout",
     "output_type": "stream",
     "text": [
      "Khoor, zruog!\n"
     ]
    }
   ],
   "source": [
    "\"\"\"42. Encode a string using a Caesar cipher.\"\"\"\n",
    "\n",
    "def caesar_cipher_encode(string, shift):\n",
    "    encoded_string = \"\"\n",
    "    for c in string:\n",
    "        if c.isalpha():\n",
    "            ascii_offset = ord('A') if c.isupper() else ord('a')\n",
    "            encoded_char = chr((ord(c) - ascii_offset + shift) % 26 + ascii_offset)\n",
    "            encoded_string += encoded_char\n",
    "        else:\n",
    "            encoded_string += c\n",
    "    return encoded_string\n",
    "\n",
    "plaintext = \"Hello, world!\"\n",
    "shift = 3\n",
    "ciphertext = caesar_cipher_encode(plaintext, shift)\n",
    "print(ciphertext) "
   ]
  },
  {
   "cell_type": "code",
   "execution_count": 109,
   "id": "7b1c188e",
   "metadata": {},
   "outputs": [
    {
     "name": "stdout",
     "output_type": "stream",
     "text": [
      "Hello, world!\n"
     ]
    }
   ],
   "source": [
    "\"\"\"43. Decode a Caesar cipher encoded string.\"\"\"\n",
    "\n",
    "def caesar_cipher_decode(string, shift):\n",
    "    return caesar_cipher_encode(string, -shift)\n",
    "\n",
    "\n",
    "ciphertext = \"Khoor, zruog!\"\n",
    "shift = 3\n",
    "plaintext = caesar_cipher_decode(ciphertext, shift)\n",
    "print(plaintext)"
   ]
  },
  {
   "cell_type": "code",
   "execution_count": 113,
   "id": "afd0b02c",
   "metadata": {},
   "outputs": [
    {
     "name": "stdout",
     "output_type": "stream",
     "text": [
      "The most frequent word in 'Hello world, hello there How's the world' is 'Hello'.\n"
     ]
    }
   ],
   "source": [
    "\"\"\"44. Find the most frequent word in a string.\"\"\"\n",
    "\n",
    "def most_frequent_word(string):\n",
    "    words = string.split()\n",
    "    word_count = {}\n",
    "    for w in words:\n",
    "        if w in word_count:\n",
    "            word_count[w] += 1\n",
    "        else:\n",
    "            word_count[w] = 1\n",
    "    max_count = 0\n",
    "    max_word = \"\"\n",
    "    for word, count in word_count.items():\n",
    "        if count > max_count:\n",
    "            max_count = count\n",
    "            max_word = word\n",
    "    return max_word\n",
    "\n",
    "string = \"Hello world, hello there How's the world\"\n",
    "most_frequent = most_frequent_word(string)\n",
    "print(f\"The most frequent word in '{string}' is '{most_frequent}'.\")"
   ]
  },
  {
   "cell_type": "code",
   "execution_count": 121,
   "id": "ee708de7",
   "metadata": {},
   "outputs": [
    {
     "name": "stdout",
     "output_type": "stream",
     "text": [
      "hello world hello there hows the world\n",
      "Unique words: {'hows', 'there', 'world', 'the', 'hello'}\n"
     ]
    }
   ],
   "source": [
    "\"\"\"45. Find all unique words in a string.\"\"\"\n",
    "\n",
    "import re\n",
    "\n",
    "def unique_words(input_string):\n",
    "    clean_string = re.sub(r'[^\\w\\s]', '', input_string).lower()\n",
    "    print(clean_string)\n",
    "    words = set(clean_string.split())\n",
    "    return words\n",
    "\n",
    "input_str = \"Hello world, hello there! How's the world?\"\n",
    "unique_word_set = unique_words(input_str)\n",
    "print(\"Unique words:\", unique_word_set)"
   ]
  },
  {
   "cell_type": "code",
   "execution_count": 123,
   "id": "c6cee04e",
   "metadata": {},
   "outputs": [
    {
     "name": "stdout",
     "output_type": "stream",
     "text": [
      "'banana' has 3 syllables.\n"
     ]
    }
   ],
   "source": [
    "\"\"\"46. Count the number of syllables in a string.\"\"\"\n",
    "\n",
    "import re\n",
    "\n",
    "def count_syllables(word):\n",
    "    vowel_groups = re.findall(r'[aeiouy]+', word, re.IGNORECASE)\n",
    "    return len(vowel_groups)\n",
    "word1 = \"banana\"\n",
    "syllables1 = count_syllables(word1)\n",
    "print(f\"'{word1}' has {syllables1} syllables.\")\n"
   ]
  },
  {
   "cell_type": "code",
   "execution_count": 127,
   "id": "392191b8",
   "metadata": {},
   "outputs": [
    {
     "name": "stdout",
     "output_type": "stream",
     "text": [
      "contian special char\n"
     ]
    }
   ],
   "source": [
    "\"\"\"47. Check if a string contains any special characters.\"\"\"\n",
    "\n",
    "str = \"Hello@123\"\n",
    "pattern = re.compile(r'[!@#$%^&*()_+{}\\[\\]:;<>,.?~\\\\/]')\n",
    "m = pattern.search(str)\n",
    "if m:\n",
    "    print(\"contian special char\")\n",
    "else:\n",
    "    print(\"not contain special char\")"
   ]
  },
  {
   "cell_type": "code",
   "execution_count": 128,
   "id": "08e6e085",
   "metadata": {},
   "outputs": [
    {
     "name": "stdout",
     "output_type": "stream",
     "text": [
      "Original string: This is an example sentence to test the function.\n",
      "Modified string: This is an sentence to test the function.\n",
      "Removed word: example\n"
     ]
    }
   ],
   "source": [
    "\"\"\"48. Remove the nth word from a string.\"\"\"\n",
    "\n",
    "def remove_nth_word(input_string, n):\n",
    "    words = input_string.split()\n",
    "    if n >= 1 and n <= len(words):\n",
    "        removed_word = words.pop(n - 1)\n",
    "        modified_string = ' '.join(words)\n",
    "\n",
    "        return modified_string, removed_word\n",
    "    else:\n",
    "        return None, None\n",
    "input_str = \"This is an example sentence to test the function.\"\n",
    "n_value = 4\n",
    "modified_str, removed_word = remove_nth_word(input_str, n_value)\n",
    "print(\"Original string:\", input_str)\n",
    "if modified_str is not None:\n",
    "    print(\"Modified string:\", modified_str)\n",
    "    print(\"Removed word:\", removed_word)\n",
    "else:\n",
    "    print(\"Invalid n value.\")"
   ]
  },
  {
   "cell_type": "code",
   "execution_count": 7,
   "id": "ba3274ba",
   "metadata": {},
   "outputs": [
    {
     "name": "stdout",
     "output_type": "stream",
     "text": [
      "input string ---  This is example sentence to test the function.\n",
      "modified_string ---  This is an example sentence to test the function.\n"
     ]
    }
   ],
   "source": [
    "\"\"\"49. Insert a word at the nth position in a string.\"\"\"\n",
    "\n",
    "def insertion(input_str,input_word,n):\n",
    "    \n",
    "    modified_str = input_str[0:n] + input_word + \" \" + input_str[n:]\n",
    "    print(\"input string --- \",input_str)\n",
    "    print(\"modified_string --- \",modified_str)\n",
    "\n",
    "input_str = \"This is example sentence to test the function.\"\n",
    "n = 8\n",
    "input_word = \"an\"\n",
    "\n",
    "insertion(input_str,input_word,n)"
   ]
  },
  {
   "cell_type": "code",
   "execution_count": 8,
   "id": "ea1377b0",
   "metadata": {},
   "outputs": [
    {
     "name": "stdout",
     "output_type": "stream",
     "text": [
      "[['Name', ' Age', ' Country'], ['John', ' 25', ' USA'], ['Alice', ' 30', ' Canada'], ['Bob', ' 22', ' UK']]\n"
     ]
    }
   ],
   "source": [
    "\"50. Convert a CSV string to a list of lists.\"\n",
    "\n",
    "def csv_string_to_list(csv_string):\n",
    "    lines = csv_string.split('\\n')\n",
    "    result = []\n",
    "    for line in lines:\n",
    "        fields = line.split(',')\n",
    "        result.append(fields)\n",
    "    return result\n",
    "\n",
    "csv_data = \"Name, Age, Country\\nJohn, 25, USA\\nAlice, 30, Canada\\nBob, 22, UK\"\n",
    "list_of_lists = csv_string_to_list(csv_data)\n",
    "print(list_of_lists)"
   ]
  },
  {
   "cell_type": "code",
   "execution_count": null,
   "id": "b1c9b11f",
   "metadata": {},
   "outputs": [],
   "source": []
  },
  {
   "cell_type": "markdown",
   "id": "954eb774",
   "metadata": {},
   "source": [
    "## List Based Practice Problem :"
   ]
  },
  {
   "cell_type": "code",
   "execution_count": 10,
   "id": "cd9ec910",
   "metadata": {},
   "outputs": [
    {
     "name": "stdout",
     "output_type": "stream",
     "text": [
      "[1, 2, 3, 4, 5, 6, 7, 8, 9, 10]\n"
     ]
    }
   ],
   "source": [
    "\"\"\"1. Create a list with integers from 1 to 10.\"\"\"\n",
    "\n",
    "l1 = list(range(1,11))\n",
    "print(l1)"
   ]
  },
  {
   "cell_type": "code",
   "execution_count": 14,
   "id": "61797c8a",
   "metadata": {},
   "outputs": [
    {
     "name": "stdout",
     "output_type": "stream",
     "text": [
      "length of list is  8\n"
     ]
    }
   ],
   "source": [
    "\"\"\"2. Find the length of a list without using the `len()` function.\"\"\"\n",
    "\n",
    "l2 = [1, 2, 3, 4, 7, 8, 9, 10]\n",
    "i=0\n",
    "for l in l2:\n",
    "    i=i+1\n",
    "print(\"length of list is \", i)"
   ]
  },
  {
   "cell_type": "code",
   "execution_count": 15,
   "id": "128af718",
   "metadata": {},
   "outputs": [
    {
     "name": "stdout",
     "output_type": "stream",
     "text": [
      "[1, 2, 'shubh', 4, 7, 'korea', 9, 10, 'bharat']\n"
     ]
    }
   ],
   "source": [
    "\"\"\"3. Append an element to the end of a list..\"\"\"\n",
    "\n",
    "l3 = [1, 2, 'shubh' , 4, 7, 'korea' , 9, 10]\n",
    "l3.append('bharat')\n",
    "print(l3)\n"
   ]
  },
  {
   "cell_type": "code",
   "execution_count": 16,
   "id": "e57e2061",
   "metadata": {},
   "outputs": [
    {
     "name": "stdout",
     "output_type": "stream",
     "text": [
      "[1, 2, 'shubh', 'india', 4, 7, 9, 10, 'bharat']\n"
     ]
    }
   ],
   "source": [
    "\"\"\"4. Insert an element at a specific index in a list.\"\"\"\n",
    "\n",
    "l4 = [1, 2, 'shubh', 4, 7, 9, 10, 'bharat']\n",
    "l4.insert(3,'india')\n",
    "print(l4)"
   ]
  },
  {
   "cell_type": "code",
   "execution_count": 20,
   "id": "ae392a42",
   "metadata": {},
   "outputs": [
    {
     "name": "stdout",
     "output_type": "stream",
     "text": [
      "[1, 2, 'shubh', 'india', 4, 7, 10, 'bharat']\n"
     ]
    }
   ],
   "source": [
    "\"\"\"5. Remove an element from a list by its value.\"\"\"\n",
    "\n",
    "l5 = [1, 2, 'shubh', 'india', 4, 7, 9, 10, 'bharat']\n",
    "l5.remove(9)\n",
    "print(l5)"
   ]
  },
  {
   "cell_type": "code",
   "execution_count": 22,
   "id": "87379ff6",
   "metadata": {},
   "outputs": [
    {
     "name": "stdout",
     "output_type": "stream",
     "text": [
      "[1, 2, 'india', 4, 7, 10, 'bharat']\n"
     ]
    }
   ],
   "source": [
    "\"\"\"6. Remove an element from a list by its index.\"\"\"\n",
    "\n",
    "l6 = [1, 2, 'shubh', 'india', 4, 7, 10, 'bharat']\n",
    "i = 2\n",
    "l6.pop(i)\n",
    "print(l6)"
   ]
  },
  {
   "cell_type": "code",
   "execution_count": 23,
   "id": "884527f3",
   "metadata": {},
   "outputs": [
    {
     "name": "stdout",
     "output_type": "stream",
     "text": [
      "element is present\n"
     ]
    }
   ],
   "source": [
    "\"\"\"7. Check if an element exists in a list.\"\"\"\n",
    "\n",
    "l7 = [1, 2, 'india', 4, 7, 10, 'bharat']\n",
    "l7_e = 7\n",
    "\n",
    "if l7_e in l7:\n",
    "    print(\"element is present\")\n",
    "else:\n",
    "    print(\"element is not present\")"
   ]
  },
  {
   "cell_type": "code",
   "execution_count": 26,
   "id": "ec8908e4",
   "metadata": {},
   "outputs": [
    {
     "name": "stdout",
     "output_type": "stream",
     "text": [
      "the index is  5\n"
     ]
    }
   ],
   "source": [
    "\"\"\"8. Find the index of the first occurrence of an element in a list.\"\"\"\n",
    "\n",
    "l8 = [1, 2, 'india', 4, 7, 10, 'bharat',10]\n",
    "l8_w = 10\n",
    "\n",
    "loc = l8.index(l8_w)\n",
    "print(\"the index is \",loc)"
   ]
  },
  {
   "cell_type": "code",
   "execution_count": 32,
   "id": "44d2148c",
   "metadata": {},
   "outputs": [
    {
     "name": "stdout",
     "output_type": "stream",
     "text": [
      "10  occurrence 3  times\n"
     ]
    }
   ],
   "source": [
    "\"\"\"9. Count the occurrences of an element in a list.\"\"\"\n",
    "\n",
    "l9 = [1, 2,10, 'india', 4, 7, 10, 'bharat',10]\n",
    "l9_e = 10\n",
    "o=0\n",
    "for i in l9:\n",
    "    if i == l9_e:\n",
    "        o = o+1\n",
    "print(l9_e,\" occurrence\",o,\" times\")"
   ]
  },
  {
   "cell_type": "code",
   "execution_count": 35,
   "id": "d174cde2",
   "metadata": {},
   "outputs": [
    {
     "name": "stdout",
     "output_type": "stream",
     "text": [
      "[10, 'bharat', 10, 7, 4, 'india', 10, 2, 1]\n"
     ]
    }
   ],
   "source": [
    "\"\"\"10. Reverse the order of elements in a list.\"\"\"\n",
    "\n",
    "l10 = [1, 2,10, 'india', 4, 7, 10, 'bharat',10]\n",
    "\n",
    "l10_r = l10[::-1]\n",
    "print(l10_r)"
   ]
  },
  {
   "cell_type": "code",
   "execution_count": 42,
   "id": "a48ec011",
   "metadata": {},
   "outputs": [
    {
     "name": "stdout",
     "output_type": "stream",
     "text": [
      "list in asending order  [1, 2, 4, 7, 8, 10, 10]\n"
     ]
    }
   ],
   "source": [
    "\"\"\"11. Sort a list in ascending order.\"\"\"\n",
    "\n",
    "l11 = [8, 2,10, 4, 7, 10 ,1]\n",
    "l11.sort()\n",
    "print(\"list in asending order \",l11)"
   ]
  },
  {
   "cell_type": "code",
   "execution_count": 43,
   "id": "95a49497",
   "metadata": {},
   "outputs": [
    {
     "name": "stdout",
     "output_type": "stream",
     "text": [
      "list in descending order  [10, 10, 8, 7, 4, 2, 1]\n"
     ]
    }
   ],
   "source": [
    "\"\"\"12. Sort a list in descending order.\"\"\"\n",
    "\n",
    "l12 = [8, 2,10, 4, 7, 10 ,1]\n",
    "l12.sort(reverse=True)\n",
    "print(\"list in descending order \",l12)"
   ]
  },
  {
   "cell_type": "code",
   "execution_count": 49,
   "id": "2fa5d4c7",
   "metadata": {},
   "outputs": [
    {
     "name": "stdout",
     "output_type": "stream",
     "text": [
      "list of even numbers from 1 to 20  [2, 4, 6, 8, 10, 12, 14, 16, 18]\n"
     ]
    }
   ],
   "source": [
    "\"\"\"13. Create a list of even numbers from 1 to 20.\"\"\"\n",
    "l13=[]\n",
    "for i in range(1,20):\n",
    "    if i%2 == 0:\n",
    "        l13.append(i)\n",
    "\n",
    "print(\"list of even numbers from 1 to 20 \",l13)\n",
    "    "
   ]
  },
  {
   "cell_type": "code",
   "execution_count": 53,
   "id": "51e5953d",
   "metadata": {},
   "outputs": [
    {
     "name": "stdout",
     "output_type": "stream",
     "text": [
      "list of even numbers from 1 to 20  [1, 3, 5, 7, 9, 11, 13, 15, 17, 19]\n"
     ]
    }
   ],
   "source": [
    "\"\"\"14. Create a list of odd numbers from 1 to 20.\"\"\"\n",
    "l14=[]\n",
    "for i in range(1,20):\n",
    "    if i%2 != 0:\n",
    "        l14.append(i)\n",
    "\n",
    "print(\"list of even numbers from 1 to 20 \",l14)"
   ]
  },
  {
   "cell_type": "code",
   "execution_count": 58,
   "id": "43b77a53",
   "metadata": {},
   "outputs": [
    {
     "name": "stdout",
     "output_type": "stream",
     "text": [
      "sum of element is  42\n"
     ]
    }
   ],
   "source": [
    "\"\"\"15. Find the sum of all elements in a list.\"\"\"\n",
    "\n",
    "l15 = [8, 2,10, 4, 7, 10 ,1]\n",
    "l15_s = sum(l15)\n",
    "print(\"sum of element is \",l15_s)"
   ]
  },
  {
   "cell_type": "code",
   "execution_count": 64,
   "id": "32c2c9df",
   "metadata": {},
   "outputs": [
    {
     "name": "stdout",
     "output_type": "stream",
     "text": [
      "the max value is  10\n"
     ]
    }
   ],
   "source": [
    "\"\"\"16. Find the maximum value in a list.\"\"\"\n",
    "\n",
    "l16 = [8, 2,10, 4, 7, 10 ,1]\n",
    "m = max(l16)\n",
    "print(\"the max value is \",m)"
   ]
  },
  {
   "cell_type": "code",
   "execution_count": 65,
   "id": "31209e74",
   "metadata": {},
   "outputs": [
    {
     "name": "stdout",
     "output_type": "stream",
     "text": [
      "the max value is  1\n"
     ]
    }
   ],
   "source": [
    "\"\"\"17. Find the minimum value in a list.\"\"\"\n",
    "\n",
    "l17 = [8, 2,10, 4, 7, 10 ,1]\n",
    "mn = min(l17)\n",
    "print(\"the max value is \",mn)"
   ]
  },
  {
   "cell_type": "code",
   "execution_count": 67,
   "id": "a86e427b",
   "metadata": {},
   "outputs": [
    {
     "name": "stdout",
     "output_type": "stream",
     "text": [
      "list of squares of numbers from 1 to 10\n",
      "  [1, 4, 9, 16, 25, 36, 49, 64, 81, 100]\n"
     ]
    }
   ],
   "source": [
    "\"\"\"18. Create a list of squares of numbers from 1 to 10.\"\"\"\n",
    "l18=[]\n",
    "for i in range(1,11):\n",
    "    l18.append(i*i)\n",
    "print(\"list of squares of numbers from 1 to 10\\n \",l18)"
   ]
  },
  {
   "cell_type": "code",
   "execution_count": 77,
   "id": "e60b81f0",
   "metadata": {},
   "outputs": [
    {
     "name": "stdout",
     "output_type": "stream",
     "text": [
      "[13, 87, 90, 8, 23, 70, 36, 58, 55, 49]\n"
     ]
    }
   ],
   "source": [
    "\"\"\"19. Create a list of random numbers.\"\"\"\n",
    "\n",
    "import random\n",
    "l19 = []\n",
    "for i in range(0,10):\n",
    "    l19_i = random.randint(1,100)\n",
    "    l19.append(l19_i)\n",
    "print(l19)"
   ]
  },
  {
   "cell_type": "code",
   "execution_count": 78,
   "id": "2fa44dbd",
   "metadata": {},
   "outputs": [
    {
     "name": "stdout",
     "output_type": "stream",
     "text": [
      "[8, 1, 5, 6]\n"
     ]
    }
   ],
   "source": [
    "\"\"\"20. Remove duplicates from a list.\"\"\"\n",
    "\n",
    "l20 = [5,8,6,8,1,6,5,8,1]\n",
    "\n",
    "l20_s = set(l20)\n",
    "result = list(l20_s)\n",
    "\n",
    "print(result)"
   ]
  },
  {
   "cell_type": "code",
   "execution_count": 80,
   "id": "1928e64a",
   "metadata": {},
   "outputs": [
    {
     "name": "stdout",
     "output_type": "stream",
     "text": [
      "common element  [8, 'ram']\n"
     ]
    }
   ],
   "source": [
    "\"\"\"21. Find the common elements between two lists.\"\"\"\n",
    "\n",
    "lst1 = [1,'ravan',8,'ram',9,4,'sita']\n",
    "lst2 = [8,'shubh','ram',5,3]\n",
    "\n",
    "l21=[]\n",
    "for i in lst1:\n",
    "    if i in lst2:\n",
    "        l21.append(i)\n",
    "        \n",
    "print(\"common element \",l21)\n",
    "        "
   ]
  },
  {
   "cell_type": "code",
   "execution_count": 82,
   "id": "3fefe17f",
   "metadata": {},
   "outputs": [
    {
     "name": "stdout",
     "output_type": "stream",
     "text": [
      "diffrence element  [1, 'ravan', 9, 4, 'sita']\n"
     ]
    }
   ],
   "source": [
    "\"\"\"22. Find the difference between two lists.\"\"\"\n",
    "\n",
    "lst1 = [1,'ravan',8,'ram',9,4,'sita']\n",
    "lst2 = [8,'shubh','ram',5,3]\n",
    "\n",
    "l22=[]\n",
    "for i in lst1:\n",
    "    if i not in lst2:\n",
    "        l22.append(i)\n",
    "        \n",
    "print(\"diffrence element \",l22)"
   ]
  },
  {
   "cell_type": "code",
   "execution_count": 83,
   "id": "265bbeb1",
   "metadata": {},
   "outputs": [
    {
     "name": "stdout",
     "output_type": "stream",
     "text": [
      "merged list  [1, 'ravan', 8, 'ram', 9, 4, 'sita', 8, 'shubh', 'ram', 5, 3]\n"
     ]
    }
   ],
   "source": [
    "\"\"\"23. Merge two lists.\"\"\"\n",
    "\n",
    "lst1 = [1,'ravan',8,'ram',9,4,'sita']\n",
    "lst2 = [8,'shubh','ram',5,3]\n",
    "\n",
    "l23=[]\n",
    "l23 = lst1+lst2\n",
    "\n",
    "        \n",
    "print(\"merged list \",l23)"
   ]
  },
  {
   "cell_type": "code",
   "execution_count": 84,
   "id": "15eb2d33",
   "metadata": {},
   "outputs": [
    {
     "name": "stdout",
     "output_type": "stream",
     "text": [
      "list after mult by2  [26, 174, 180, 16, 46, 140, 72, 116, 110, 98]\n"
     ]
    }
   ],
   "source": [
    "\"\"\"24. Multiply all elements in a list by 2.\"\"\"\n",
    "\n",
    "l24 = [13, 87, 90, 8, 23, 70, 36, 58, 55, 49]\n",
    "result=[]\n",
    "for i in l24:\n",
    "    result.append(i*2)\n",
    "print(\"list after mult by2 \",result)"
   ]
  },
  {
   "cell_type": "code",
   "execution_count": 87,
   "id": "86e4ef27",
   "metadata": {},
   "outputs": [
    {
     "name": "stdout",
     "output_type": "stream",
     "text": [
      "list after filter out even number, the odd number list is  [13, 87, 8, 23, 36, 55, 49]\n"
     ]
    }
   ],
   "source": [
    "\"\"\"25. Filter out all even numbers from a list.\"\"\"\n",
    "\n",
    "l25 = [13, 87, 90, 8, 23, 70, 36, 58, 55, 49]\n",
    "\n",
    "for i in l25:\n",
    "    if i%2==0:\n",
    "        l25.remove(i)\n",
    "print(\"list after filter out even number, the odd number list is \",l25)"
   ]
  },
  {
   "cell_type": "code",
   "execution_count": 89,
   "id": "8afb5abd",
   "metadata": {},
   "outputs": [
    {
     "name": "stdout",
     "output_type": "stream",
     "text": [
      "[13, 87, 90, 8, 23, 70, 36, 58, 55, 49]\n"
     ]
    }
   ],
   "source": [
    "\"\"\"26. Convert a list of strings to a list of integers.\"\"\"\n",
    "\n",
    "l26 = ['13', '87', '90', '8', '23', '70', '36', '58', '55', '49']\n",
    "result=[]\n",
    "for i in l26:\n",
    "    result.append(int(i))\n",
    "\n",
    "print(result)"
   ]
  },
  {
   "cell_type": "code",
   "execution_count": 90,
   "id": "1a990484",
   "metadata": {},
   "outputs": [
    {
     "name": "stdout",
     "output_type": "stream",
     "text": [
      "['13', '87', '90', '8', '23', '70', '36', '58', '55', '49']\n"
     ]
    }
   ],
   "source": [
    "\"\"\"27. Convert a list of integers to a list of strings.\"\"\"\n",
    "\n",
    "l27 = [13, 87, 90, 8, 23, 70, 36, 58, 55, 49]\n",
    "result=[]\n",
    "for i in l27:\n",
    "    result.append(str(i))\n",
    "\n",
    "print(result)"
   ]
  },
  {
   "cell_type": "code",
   "execution_count": 91,
   "id": "87cc0f62",
   "metadata": {},
   "outputs": [
    {
     "name": "stdout",
     "output_type": "stream",
     "text": [
      "[1, 2, 3, 5, 6, 7, 11, 12]\n"
     ]
    }
   ],
   "source": [
    "\"\"\"28. Flatten a nested list.\"\"\"\n",
    "\n",
    "l28 = [[1,2,3],[5,6,7],[11,12]] \n",
    "result=[]\n",
    "for i in l28:\n",
    "    result = result+i\n",
    "print(result)\n",
    "    \n",
    "    "
   ]
  },
  {
   "cell_type": "code",
   "execution_count": 92,
   "id": "8fd703d0",
   "metadata": {},
   "outputs": [
    {
     "name": "stdout",
     "output_type": "stream",
     "text": [
      "10 fibonacci numbers are  [1, 1, 2, 3, 5, 8, 13, 21, 34, 55]\n"
     ]
    }
   ],
   "source": [
    "\"\"\"29. Create a list of the first 10 Fibonacci numbers.\"\"\"\n",
    "\n",
    "l29 = []\n",
    "a=0\n",
    "b=1\n",
    "\n",
    "for i in range(10):\n",
    "    l29.append(b)   \n",
    "    c=a+b\n",
    "    a=b\n",
    "    b=c\n",
    "print(\"10 fibonacci numbers are \",l29)"
   ]
  },
  {
   "cell_type": "code",
   "execution_count": 106,
   "id": "ef1457fb",
   "metadata": {},
   "outputs": [
    {
     "name": "stdout",
     "output_type": "stream",
     "text": [
      "lst is sorted\n"
     ]
    }
   ],
   "source": [
    "\"\"\"30. Check if a list is sorted.\"\"\"\n",
    "import copy\n",
    "l30 = [1, 2, 7, 8, 10, 10]\n",
    "\n",
    "la = copy.copy(l30)\n",
    "ld = copy.copy(l30)\n",
    "\n",
    "la.sort()\n",
    "ld.sort(reverse=True)\n",
    "\n",
    "if l30 == la or l30 == ld:\n",
    "    print(\"lst is sorted\")\n",
    "else:\n",
    "    print(\"lst is not sorted\")"
   ]
  },
  {
   "cell_type": "code",
   "execution_count": 88,
   "id": "7a800b60",
   "metadata": {},
   "outputs": [
    {
     "name": "stdout",
     "output_type": "stream",
     "text": [
      "Enter a position 6\n",
      "rotated list  [36, 58, 55, 49, 13, 87, 90, 8, 23, 70]\n"
     ]
    }
   ],
   "source": [
    "\"\"\"31. Rotate a list to the left by `n` positions.\"\"\"\n",
    "\n",
    "l31 = [13, 87, 90, 8, 23, 70, 36, 58, 55, 49]\n",
    "\n",
    "n = int(input(\"Enter a position \"))\n",
    "rot = l31[n:] + l31[:n]\n",
    "print(\"rotated list \",rot)"
   ]
  },
  {
   "cell_type": "code",
   "execution_count": 90,
   "id": "c85744b2",
   "metadata": {},
   "outputs": [
    {
     "name": "stdout",
     "output_type": "stream",
     "text": [
      "Enter a position 6\n",
      "rotated list  [23, 70, 36, 58, 55, 49, 13, 87, 90, 8]\n"
     ]
    }
   ],
   "source": [
    "\"\"\"32. Rotate a list to the right by `n` positions.\"\"\"\n",
    "\n",
    "l32 = [13, 87, 90, 8, 23, 70, 36, 58, 55, 49]\n",
    "\n",
    "m = int(input(\"Enter a position \"))\n",
    "rot = l32[-m:] + l32[:-m]\n",
    "print(\"rotated list \",rot)"
   ]
  },
  {
   "cell_type": "code",
   "execution_count": 95,
   "id": "4a2def83",
   "metadata": {},
   "outputs": [
    {
     "name": "stdout",
     "output_type": "stream",
     "text": [
      "[2, 3, 5, 7, 11, 13, 17, 19, 23, 29, 31, 37, 41, 43, 47]\n"
     ]
    }
   ],
   "source": [
    "\"\"\"33. Create a list of prime numbers up to 50.\"\"\"\n",
    "\n",
    "def is_prime(n):\n",
    "    if n < 2:\n",
    "        return False\n",
    "    for i in range(2, int(n ** 0.5) + 1):\n",
    "        if n % i == 0:\n",
    "            return False\n",
    "    return True\n",
    "\n",
    "l33 = [i for i in range(2, 51) if is_prime(i)]\n",
    "print(l33)\n"
   ]
  },
  {
   "cell_type": "code",
   "execution_count": 3,
   "id": "dcc9a1dc",
   "metadata": {},
   "outputs": [
    {
     "name": "stdout",
     "output_type": "stream",
     "text": [
      "[[1, 2, 3], [4, 5, 6], [7, 8]]\n"
     ]
    }
   ],
   "source": [
    "\"\"\"34. Split a list into chunks of size `n \"\"\"\n",
    "\n",
    "lst = [1, 2, 3, 4, 5, 6, 7, 8]\n",
    "n = 3\n",
    "res=[]\n",
    "for i in range(0,len(lst),n):\n",
    "    res.append(lst[i:i+n])\n",
    "    \n",
    "print(res)\n"
   ]
  },
  {
   "cell_type": "code",
   "execution_count": 11,
   "id": "72cf7d3f",
   "metadata": {},
   "outputs": [
    {
     "name": "stdout",
     "output_type": "stream",
     "text": [
      "the second largest element is 87\n"
     ]
    }
   ],
   "source": [
    "\"\"\"35. Find the second largest number in a list.\"\"\"\n",
    "\n",
    "l35 = [13, 87, 90, 8, 23, 70, 36, 58, 55, 49]\n",
    "l35.sort()\n",
    "res = l35[-2]\n",
    "print(\"the second largest element is\",res)\n"
   ]
  },
  {
   "cell_type": "code",
   "execution_count": 13,
   "id": "dec07f79",
   "metadata": {},
   "outputs": [
    {
     "name": "stdout",
     "output_type": "stream",
     "text": [
      "Squared list: [4, 16, 36, 64, 100]\n"
     ]
    }
   ],
   "source": [
    "\"\"\"36. Replace every element in a list with its square.\"\"\"\n",
    "\n",
    "\n",
    "ls36 = [2, 4, 6, 8, 10]\n",
    "squ_lst = [i*i for i in ls36]\n",
    "print(\"Squared list:\", squ_lst)"
   ]
  },
  {
   "cell_type": "code",
   "execution_count": 19,
   "id": "37bdb24c",
   "metadata": {},
   "outputs": [
    {
     "data": {
      "text/plain": [
       "{13: 0, 87: 1, 90: 2, 8: 3, 23: 4, 70: 5, 36: 6, 58: 7, 55: 8, 49: 9}"
      ]
     },
     "execution_count": 19,
     "metadata": {},
     "output_type": "execute_result"
    }
   ],
   "source": [
    "\"\"\"37. Convert a list to a dictionary where list elements become keys and their\n",
    "indices become values.\"\"\"\n",
    "\n",
    "l37 = [13, 87, 90, 8, 23, 70, 36, 58, 55, 49]\n",
    "dic = {}\n",
    "j=0\n",
    "for i in l37:\n",
    "    dic.update({i:j})\n",
    "    j+=1\n",
    "dic"
   ]
  },
  {
   "cell_type": "code",
   "execution_count": 20,
   "id": "061bfadb",
   "metadata": {},
   "outputs": [
    {
     "name": "stdout",
     "output_type": "stream",
     "text": [
      "Shuffled list: [36, 70, 55, 49, 13, 87, 90, 8, 58, 23]\n"
     ]
    }
   ],
   "source": [
    "\"\"\"38. Shuffle the elements of a list randomly.\"\"\"\n",
    "import random\n",
    "l38 = [13, 87, 90, 8, 23, 70, 36, 58, 55, 49]\n",
    "random.shuffle(l38)\n",
    "print(\"Shuffled list:\", l38)"
   ]
  },
  {
   "cell_type": "code",
   "execution_count": 21,
   "id": "527fa4d4",
   "metadata": {},
   "outputs": [
    {
     "name": "stdout",
     "output_type": "stream",
     "text": [
      "List of the first 10 factorial numbers-- [1, 1, 2, 6, 24, 120, 720, 5040, 40320, 362880]\n"
     ]
    }
   ],
   "source": [
    "\"\"\"39. Create a list of the first 10 factorial numbers.\"\"\"\n",
    "\n",
    "def factorial(n):\n",
    "    if n == 0 or n == 1:\n",
    "        return 1\n",
    "    else:\n",
    "        return n * factorial(n - 1)\n",
    "\n",
    "fact = [factorial(i) for i in range(10)]\n",
    "print(\"List of the first 10 factorial numbers--\", fact)"
   ]
  },
  {
   "cell_type": "code",
   "execution_count": 24,
   "id": "93c5884a",
   "metadata": {},
   "outputs": [
    {
     "name": "stdout",
     "output_type": "stream",
     "text": [
      "atleast one element present\n"
     ]
    }
   ],
   "source": [
    "\"\"\"40. Check if two lists have at least one element in common.\"\"\"\n",
    "\n",
    "lst1 = [1, 2, 3, 4, 5]\n",
    "lst2 = [4, 5, 6, 7, 8]\n",
    "val = False\n",
    "for i in lst1:\n",
    "    if i in lst2:\n",
    "        val = True\n",
    "        \n",
    "if val == True:\n",
    "    print(\"atleast one element present\")\n",
    "else:\n",
    "    print(\"not a single element present\")"
   ]
  },
  {
   "cell_type": "code",
   "execution_count": 25,
   "id": "151202dc",
   "metadata": {},
   "outputs": [
    {
     "name": "stdout",
     "output_type": "stream",
     "text": [
      "Empty list: []\n"
     ]
    }
   ],
   "source": [
    "\"\"\"41. Remove all elements from a list.\"\"\"\n",
    "\n",
    "lst = [1, 2, 3, 4, 5]\n",
    "lst.clear()\n",
    "print(\"Empty list:\", lst)"
   ]
  },
  {
   "cell_type": "code",
   "execution_count": 27,
   "id": "cc3eee1f",
   "metadata": {},
   "outputs": [
    {
     "name": "stdout",
     "output_type": "stream",
     "text": [
      "[13, 0, 90, 0, 23, 70, 0, 58, 55, 0]\n"
     ]
    }
   ],
   "source": [
    "\"\"\"42. Replace negative numbers in a list with 0.\"\"\"\n",
    "\n",
    "l42 = [13, -87, 90, -8, 23, 70, -36, 58, 55, -49]\n",
    "res = [0 if i<0 else i for i in l42]\n",
    "print(res)"
   ]
  },
  {
   "cell_type": "code",
   "execution_count": 29,
   "id": "172d8b20",
   "metadata": {},
   "outputs": [
    {
     "name": "stdout",
     "output_type": "stream",
     "text": [
      "the converted list is ['Hello', 'how', 'are', 'you']\n"
     ]
    }
   ],
   "source": [
    "\"\"\"43. Convert a string into a list of words.\"\"\"\n",
    "\n",
    "str43 = \"Hello how are you\"\n",
    "l43 = str43.split()\n",
    "print(\"the converted list is\",l43)"
   ]
  },
  {
   "cell_type": "code",
   "execution_count": 31,
   "id": "16736bf1",
   "metadata": {},
   "outputs": [
    {
     "name": "stdout",
     "output_type": "stream",
     "text": [
      "Hello how are you\n"
     ]
    }
   ],
   "source": [
    "\"\"\"44. Convert a list of words into a string.\"\"\"\n",
    "\n",
    "str44 = ['Hello', 'how', 'are', 'you']\n",
    "l44 = \" \".join(str44)\n",
    "print(l44)"
   ]
  },
  {
   "cell_type": "code",
   "execution_count": null,
   "id": "0734bf2f",
   "metadata": {},
   "outputs": [],
   "source": [
    "\"\"\"45. Create a list of the first `n` powers of 2.\"\"\"\n",
    "\n",
    "n = 5\n",
    "power_list = [2 ** i for i in range(n)]\n",
    "print(\"List of the first\", n, \"powers of 2:\", power_list)"
   ]
  },
  {
   "cell_type": "code",
   "execution_count": 35,
   "id": "7c6e94e8",
   "metadata": {},
   "outputs": [
    {
     "name": "stdout",
     "output_type": "stream",
     "text": [
      "longest word in list is  elderberry with lenght 10\n"
     ]
    }
   ],
   "source": [
    "\"\"\"46. Find the longest string in a list of strings.\"\"\"\n",
    "\n",
    "l46 = [\"apple\", \"banana\",\"elderberry\", \"cherry\", \"date\" ]\n",
    "c = 1\n",
    "for i in l46:\n",
    "    ln = len(i)\n",
    "    if ln>c:\n",
    "        c=ln\n",
    "        long = i\n",
    "print(\"longest word in list is \",long,\"with lenght\",c)"
   ]
  },
  {
   "cell_type": "code",
   "execution_count": 42,
   "id": "1220fab6",
   "metadata": {},
   "outputs": [
    {
     "name": "stdout",
     "output_type": "stream",
     "text": [
      "shortest word in list is  date with lenght 4\n"
     ]
    }
   ],
   "source": [
    "\"\"\"47. Find the shortest string in a list of strings.\"\"\"\n",
    "\n",
    "l47 = [\"apple\", \"banana\", \"date\",\"elderberry\", \"cherry\" ]\n",
    "c = float('inf')\n",
    "for i in l47:\n",
    "    ln = len(i)\n",
    "    if ln<c:\n",
    "        c=ln\n",
    "        short = i\n",
    "print(\"shortest word in list is \",short,\"with lenght\",c)"
   ]
  },
  {
   "cell_type": "code",
   "execution_count": 44,
   "id": "25161d5c",
   "metadata": {},
   "outputs": [
    {
     "name": "stdout",
     "output_type": "stream",
     "text": [
      "List of the first 10 triangular numbers: [1, 3, 6, 10, 15, 21, 28, 36, 45, 55]\n"
     ]
    }
   ],
   "source": [
    "\"\"\"48. Create a list of the first `n` triangular numbers.\"\"\"\n",
    "\n",
    "def tri_num(n):\n",
    "    return [i * (i + 1) // 2 for i in range(1, n + 1)]\n",
    "\n",
    "n = 10\n",
    "tri_lst = tri_num(n)\n",
    "\n",
    "print(\"List of the first\", n, \"triangular numbers:\", tri_lst)"
   ]
  },
  {
   "cell_type": "code",
   "execution_count": 46,
   "id": "64397e71",
   "metadata": {},
   "outputs": [
    {
     "name": "stdout",
     "output_type": "stream",
     "text": [
      "main list contain sublist\n"
     ]
    }
   ],
   "source": [
    "\"\"\"49. Check if a list contains another list as a subsequence.\"\"\"\n",
    "\n",
    "lst49 = [1, 2, 3, 4, 5, 6, 7, 8, 9, 10]\n",
    "sub = [3, 5, 8]\n",
    "c=0\n",
    "for i in sub:\n",
    "    if i in lst49:\n",
    "        c+=1\n",
    "        \n",
    "if c==len(sub):\n",
    "    print(\"main list contain sublist\")\n",
    "else:\n",
    "    print(\"not contain\")\n",
    "        "
   ]
  },
  {
   "cell_type": "code",
   "execution_count": 51,
   "id": "999cecdf",
   "metadata": {},
   "outputs": [
    {
     "name": "stdout",
     "output_type": "stream",
     "text": [
      "List after swapping elements: [1, 2, 5, 4, 3]\n"
     ]
    }
   ],
   "source": [
    "\"\"\"50. Swap two elements in a list by their indices.\"\"\"\n",
    "\n",
    "lst50 = [1, 2, 3, 4, 5]\n",
    "ind1 = 2\n",
    "ind2 = 4\n",
    "\n",
    "t = lst50[ind1]\n",
    "lst50[ind1] = lst50[ind2]\n",
    "lst50[ind2] = t\n",
    "\n",
    "print(\"List after swapping elements:\", lst50)"
   ]
  },
  {
   "cell_type": "markdown",
   "id": "e8fa5579",
   "metadata": {},
   "source": [
    "## Tuple Based Practice Problem :"
   ]
  },
  {
   "cell_type": "code",
   "execution_count": 1,
   "id": "56592b0a",
   "metadata": {},
   "outputs": [
    {
     "name": "stdout",
     "output_type": "stream",
     "text": [
      "the tuples  (1, 2, 3, 4, 5)\n"
     ]
    }
   ],
   "source": [
    "\"\"\"1. Create a tuple with integers from 1 to 5.\"\"\"\n",
    "\n",
    "t1 = (1,2,3,4,5)\n",
    "print('the tuples ',t1)"
   ]
  },
  {
   "cell_type": "code",
   "execution_count": 4,
   "id": "f27646aa",
   "metadata": {},
   "outputs": [
    {
     "name": "stdout",
     "output_type": "stream",
     "text": [
      "the third element is  3\n"
     ]
    }
   ],
   "source": [
    "\"\"\"2. Access the third element of a tuple.\"\"\"\n",
    "t2 = (1,2,3,4,5)\n",
    "third = t2[2]\n",
    "print(\"the third element is \",third)"
   ]
  },
  {
   "cell_type": "code",
   "execution_count": 8,
   "id": "64515e3f",
   "metadata": {},
   "outputs": [
    {
     "name": "stdout",
     "output_type": "stream",
     "text": [
      "length of tuple is 5\n"
     ]
    }
   ],
   "source": [
    "\"\"\"3. Find the length of a tuple without using the `len()` function.\"\"\"\n",
    "\n",
    "t3 = (1,2,3,4,5)\n",
    "count =0\n",
    "for _ in t3:\n",
    "    count +=1\n",
    "print(\"length of tuple is\",count)"
   ]
  },
  {
   "cell_type": "code",
   "execution_count": 9,
   "id": "e7b74e8d",
   "metadata": {},
   "outputs": [
    {
     "name": "stdout",
     "output_type": "stream",
     "text": [
      "2  times occurs\n"
     ]
    }
   ],
   "source": [
    "\"\"\"4. Count the occurrences of an element in a tuple.\"\"\"\n",
    "\n",
    "t4 = (1,2,3,4,5,2,9,5)\n",
    "ele = 5\n",
    "c=0 \n",
    "for i in t4:\n",
    "    if i == ele:\n",
    "        c+=1\n",
    "print(c,\" times occurs\")\n",
    "        "
   ]
  },
  {
   "cell_type": "code",
   "execution_count": 10,
   "id": "bb698e8f",
   "metadata": {},
   "outputs": [
    {
     "name": "stdout",
     "output_type": "stream",
     "text": [
      "the index is  1\n"
     ]
    }
   ],
   "source": [
    "\"\"\"5. Find the index of the first occurrence of an element in a tuple.\"\"\"\n",
    "\n",
    "t5 = (10, 20, 30, 20, 40, 50)\n",
    "e = 20\n",
    "\n",
    "loc = t5.index(e)\n",
    "print(\"the index is \",loc)"
   ]
  },
  {
   "cell_type": "code",
   "execution_count": 11,
   "id": "2d07585f",
   "metadata": {},
   "outputs": [
    {
     "name": "stdout",
     "output_type": "stream",
     "text": [
      "element is exit\n"
     ]
    }
   ],
   "source": [
    "\"\"\"6. Check if an element exists in a tuple.\"\"\"\n",
    "\n",
    "t6 = (10, 20, 30, 20, 40, 50)\n",
    "el = 40\n",
    "\n",
    "if el in t6:\n",
    "    print(\"element is exit\")\n",
    "else:\n",
    "    print(\"element is not exit\")"
   ]
  },
  {
   "cell_type": "code",
   "execution_count": 12,
   "id": "cfaf905b",
   "metadata": {},
   "outputs": [
    {
     "name": "stdout",
     "output_type": "stream",
     "text": [
      "converted into list [10, 20, 30, 20, 40, 50]\n"
     ]
    }
   ],
   "source": [
    "\"\"\"7. Convert a tuple to a list.\"\"\"\n",
    "\n",
    "t7 = (10, 20, 30, 20, 40, 50)\n",
    "t7_l = list(t7)\n",
    "\n",
    "print(\"converted into list\",t7_l)"
   ]
  },
  {
   "cell_type": "code",
   "execution_count": 2,
   "id": "b8e146ce",
   "metadata": {},
   "outputs": [
    {
     "name": "stdout",
     "output_type": "stream",
     "text": [
      "tuple  (10, 20, 30, 20, 40, 50)\n"
     ]
    }
   ],
   "source": [
    "\"\"\"8. Convert a list to a tuple.\"\"\"\n",
    "\n",
    "l = [10, 20, 30, 20, 40, 50]\n",
    "t8 = tuple(l)\n",
    "\n",
    "print(\"tuple \",t8)"
   ]
  },
  {
   "cell_type": "code",
   "execution_count": 3,
   "id": "e3d234fe",
   "metadata": {},
   "outputs": [
    {
     "name": "stdout",
     "output_type": "stream",
     "text": [
      "variable1  20\n",
      "variable1  40\n",
      "variable1  50\n"
     ]
    }
   ],
   "source": [
    "\"\"\"9. Unpack the elements of a tuple into variables.\"\"\"\n",
    "\n",
    "t9 = (20, 40, 50)\n",
    "vr1,vr2,vr3 = t9\n",
    "\n",
    "print(\"variable1 \",vr1)\n",
    "print(\"variable1 \",vr2)\n",
    "print(\"variable1 \",vr3)\n"
   ]
  },
  {
   "cell_type": "code",
   "execution_count": 10,
   "id": "8eaf7ff5",
   "metadata": {},
   "outputs": [
    {
     "name": "stdout",
     "output_type": "stream",
     "text": [
      "(2, 4, 6, 8, 10)\n"
     ]
    }
   ],
   "source": [
    "\"\"\"10. Create a tuple of even numbers from 1 to 10.\"\"\"\n",
    "\n",
    "t10_l=[]\n",
    "for i in range(2,11,2):\n",
    "    t10_l.append(i)\n",
    "    \n",
    "t10 = tuple(t10_l)\n",
    "print(t10)"
   ]
  },
  {
   "cell_type": "code",
   "execution_count": 11,
   "id": "d9baea65",
   "metadata": {},
   "outputs": [
    {
     "name": "stdout",
     "output_type": "stream",
     "text": [
      "(1, 3, 5, 7, 9)\n"
     ]
    }
   ],
   "source": [
    "\"\"\"11. Create a tuple of odd numbers from 1 to 10.\"\"\"\n",
    "\n",
    "t11_l=[]\n",
    "for i in range(1,11,2):\n",
    "    t11_l.append(i)\n",
    "    \n",
    "t11 = tuple(t11_l)\n",
    "print(t11)"
   ]
  },
  {
   "cell_type": "code",
   "execution_count": 13,
   "id": "5ceec638",
   "metadata": {},
   "outputs": [
    {
     "name": "stdout",
     "output_type": "stream",
     "text": [
      "(2, 4, 6, 8, 10, 1, 3, 5, 7, 9)\n"
     ]
    }
   ],
   "source": [
    "\"\"\"12. Concatenate two tuples.\"\"\"\n",
    "\n",
    "t12_1 = (2, 4, 6, 8, 10)\n",
    "t12_2 = (1, 3, 5, 7, 9)\n",
    "\n",
    "t12 = t12_1 + t12_2\n",
    "print(t12)"
   ]
  },
  {
   "cell_type": "code",
   "execution_count": 15,
   "id": "0092405e",
   "metadata": {},
   "outputs": [
    {
     "name": "stdout",
     "output_type": "stream",
     "text": [
      "Repeated tuple: (1, 6, 5, 1, 6, 5, 1, 6, 5)\n"
     ]
    }
   ],
   "source": [
    "\"\"\"13. Repeat a tuple three times.\"\"\"\n",
    "\n",
    "t13 = (1, 6, 5)\n",
    "t13_r = t13 * 3\n",
    "print(\"Repeated tuple:\", t13_r)"
   ]
  },
  {
   "cell_type": "code",
   "execution_count": 16,
   "id": "699ef22a",
   "metadata": {},
   "outputs": [
    {
     "name": "stdout",
     "output_type": "stream",
     "text": [
      "The tuple is empty.\n",
      "The tuple is not empty.\n"
     ]
    }
   ],
   "source": [
    "\"\"\"14. Check if a tuple is empty.\"\"\"\n",
    "\n",
    "t14_e = ()\n",
    "t14_n = (1, 6, 5)\n",
    "\n",
    "if not t14_e:\n",
    "    print(\"The tuple is empty.\")\n",
    "else:\n",
    "    print(\"The tuple is not empty.\")\n",
    "\n",
    "if not t14_n:\n",
    "    print(\"The tuple is empty.\")\n",
    "else:\n",
    "    print(\"The tuple is not empty.\")"
   ]
  },
  {
   "cell_type": "code",
   "execution_count": 18,
   "id": "7dc37ccf",
   "metadata": {},
   "outputs": [
    {
     "name": "stdout",
     "output_type": "stream",
     "text": [
      "Nested tuple  ((1, 6, 5), ('a', 'b', 'd'), (True, False))\n"
     ]
    }
   ],
   "source": [
    "\"\"\"15. Create a nested tuple.\"\"\"\n",
    "\n",
    "t15 = ((1, 6, 5), ('a', 'b', 'd'), (True, False))\n",
    "print(\"Nested tuple \", t15)"
   ]
  },
  {
   "cell_type": "code",
   "execution_count": 21,
   "id": "8b51dba7",
   "metadata": {},
   "outputs": [
    {
     "name": "stdout",
     "output_type": "stream",
     "text": [
      "first element   ('a', 'b', 'd')\n"
     ]
    }
   ],
   "source": [
    "\"\"\"16. Access the first element of a nested tuple.\"\"\"\n",
    "\n",
    "t15 = ((1, 6, 5), ('a', 'b', 'd'), (True, False))\n",
    "first = t15[1]\n",
    "print(\"first element  \", first)"
   ]
  },
  {
   "cell_type": "code",
   "execution_count": 22,
   "id": "41e3843c",
   "metadata": {},
   "outputs": [
    {
     "name": "stdout",
     "output_type": "stream",
     "text": [
      "tuple with single element  (12,)\n"
     ]
    }
   ],
   "source": [
    "\"\"\"17. Create a tuple with a single element.\"\"\"\n",
    "\n",
    "t17 = (12,)\n",
    "print(\"tuple with single element \",t17)"
   ]
  },
  {
   "cell_type": "code",
   "execution_count": 24,
   "id": "0145e2d2",
   "metadata": {},
   "outputs": [
    {
     "name": "stdout",
     "output_type": "stream",
     "text": [
      "tuple1 == tuple2: False\n",
      "tuple1 != tuple2: True\n",
      "tuple1 < tuple2: True\n",
      "tuple1 <= tuple2: True\n",
      "tuple1 > tuple2: False\n",
      "tuple1 >= tuple2: False\n"
     ]
    }
   ],
   "source": [
    "\"\"\"18. Compare two tuples.\"\"\"\n",
    "\n",
    "t18_1 = (1, 2, 3)\n",
    "t18_2 = (1, 2, 4)\n",
    "\n",
    "print(\"tuple1 == tuple2:\", t18_1 == t18_2 )  \n",
    "print(\"tuple1 != tuple2:\", t18_1 != t18_2 )  \n",
    "print(\"tuple1 < tuple2:\", t18_1 < t18_2 )   \n",
    "print(\"tuple1 <= tuple2:\", t18_1 <= t18_2 )  \n",
    "print(\"tuple1 > tuple2:\", t18_1 > t18_2 )   \n",
    "print(\"tuple1 >= tuple2:\", t18_1 >= t18_2 )  "
   ]
  },
  {
   "cell_type": "code",
   "execution_count": 28,
   "id": "c0739f6d",
   "metadata": {},
   "outputs": [],
   "source": [
    "\"\"\"19. Delete a tuple.\"\"\"\n",
    "\n",
    "t19 = (1, 2, 3)\n",
    "del(t19)"
   ]
  },
  {
   "cell_type": "code",
   "execution_count": 30,
   "id": "9b98122e",
   "metadata": {},
   "outputs": [
    {
     "name": "stdout",
     "output_type": "stream",
     "text": [
      "sliced  (4, 6)\n"
     ]
    }
   ],
   "source": [
    "\"\"\"20. Slice a tuple.\"\"\"\n",
    "\n",
    "t20 = (2, 4, 6, 8, 10)\n",
    "sliced = t20[1:3]\n",
    "print(\"sliced \",sliced)"
   ]
  },
  {
   "cell_type": "code",
   "execution_count": 31,
   "id": "c726fd8a",
   "metadata": {},
   "outputs": [
    {
     "name": "stdout",
     "output_type": "stream",
     "text": [
      "maximum value in tuple is  10\n"
     ]
    }
   ],
   "source": [
    "\"\"\"21. Find the maximum value in a tuple.\"\"\"\n",
    "\n",
    "t21 = (2, 4, 6, 8, 10)\n",
    "maxi = max(t21)\n",
    "print(\"maximum value in tuple is \",maxi)"
   ]
  },
  {
   "cell_type": "code",
   "execution_count": 32,
   "id": "fddee5e8",
   "metadata": {},
   "outputs": [
    {
     "name": "stdout",
     "output_type": "stream",
     "text": [
      "minimum value in tuple is  2\n"
     ]
    }
   ],
   "source": [
    "\"\"\"22. Find the minimum value in a tuple.\"\"\"\n",
    "\n",
    "t22 = (7, 4, 6, 2, 10)\n",
    "mini = min(t22)\n",
    "print(\"minimum value in tuple is \",mini)"
   ]
  },
  {
   "cell_type": "code",
   "execution_count": 33,
   "id": "cb95b78e",
   "metadata": {},
   "outputs": [
    {
     "name": "stdout",
     "output_type": "stream",
     "text": [
      "('H', 'e', 'l', 'l', 'o', ' ', 's', 'i', 'r')\n"
     ]
    }
   ],
   "source": [
    "\"\"\"23. Convert a string to a tuple of characters.\"\"\"\n",
    "\n",
    "t23_string = \"Hello sir\"\n",
    "t23 = tuple(t23_string)\n",
    "print(t23)"
   ]
  },
  {
   "cell_type": "code",
   "execution_count": 35,
   "id": "6be682e4",
   "metadata": {},
   "outputs": [
    {
     "name": "stdout",
     "output_type": "stream",
     "text": [
      "string from tuple  Hello\n"
     ]
    }
   ],
   "source": [
    "\"\"\"24. Convert a tuple of characters to a string.\"\"\"\n",
    "\n",
    "t24_char = ('H', 'e', 'l', 'l', 'o')\n",
    "t24_string = ''.join(t24_char)\n",
    "print(\"string from tuple \",t24_string)"
   ]
  },
  {
   "cell_type": "code",
   "execution_count": 36,
   "id": "cc016bca",
   "metadata": {},
   "outputs": [
    {
     "name": "stdout",
     "output_type": "stream",
     "text": [
      "tuple with multiple data type  (6, 'hello', 3.14, True)\n"
     ]
    }
   ],
   "source": [
    "\"\"\"25. Create a tuple from multiple data types.\"\"\"\n",
    "\n",
    "t25 = (6, \"hello\", 3.14, True)\n",
    "print(\"tuple with multiple data type \",t25)"
   ]
  },
  {
   "cell_type": "code",
   "execution_count": 37,
   "id": "37c77967",
   "metadata": {},
   "outputs": [
    {
     "name": "stdout",
     "output_type": "stream",
     "text": [
      "tuple1 and tuple2 are identical: True\n"
     ]
    }
   ],
   "source": [
    "\"\"\"26. Check if two tuples are identical.\"\"\"\n",
    "\n",
    "t26_1 = (1, 2, 3)\n",
    "t26_2 = (1, 2, 3)\n",
    "\n",
    "print(\"tuple1 and tuple2 are identical:\", t26_1 == t26_2)"
   ]
  },
  {
   "cell_type": "code",
   "execution_count": 41,
   "id": "97aa7f00",
   "metadata": {},
   "outputs": [
    {
     "name": "stdout",
     "output_type": "stream",
     "text": [
      "sorted tuple  (2, 4, 6, 7, 10)\n"
     ]
    }
   ],
   "source": [
    "\"\"\"27. Sort the elements of a tuple.\"\"\"\n",
    "\n",
    "t27 = (7, 4, 6, 2, 10)\n",
    "sort = tuple(sorted(t27))\n",
    "print(\"sorted tuple \",sort)"
   ]
  },
  {
   "cell_type": "code",
   "execution_count": 2,
   "id": "25eb536f",
   "metadata": {},
   "outputs": [
    {
     "name": "stdout",
     "output_type": "stream",
     "text": [
      "('7', '4', '6', '2', '10')\n"
     ]
    }
   ],
   "source": [
    "\"\"\"28. Convert a tuple of integers to a tuple of strings.\"\"\"\n",
    "\n",
    "t28 = (7, 4, 6, 2, 10)\n",
    "tuple_of_string = tuple(str(i) for i in t28)\n",
    "print(tuple_of_string)"
   ]
  },
  {
   "cell_type": "code",
   "execution_count": 3,
   "id": "da81c2c5",
   "metadata": {},
   "outputs": [
    {
     "name": "stdout",
     "output_type": "stream",
     "text": [
      "(7, 4, 6, 10)\n"
     ]
    }
   ],
   "source": [
    "\"\"\"29. Convert a tuple of strings to a tuple of integers.\"\"\"\n",
    "\n",
    "t29 = ('7', '4', '6', '10')\n",
    "tuple_of_int = tuple(int(i) for i in t29)\n",
    "print(tuple_of_int)"
   ]
  },
  {
   "cell_type": "code",
   "execution_count": 5,
   "id": "51ffcb2f",
   "metadata": {},
   "outputs": [
    {
     "name": "stdout",
     "output_type": "stream",
     "text": [
      "murged tuple (7, 6, 2, 10, 9, 4, 3)\n"
     ]
    }
   ],
   "source": [
    "\"\"\"30. Merge two tuples.\"\"\"\n",
    "\n",
    "t30_1 = (7, 6, 2, 10)\n",
    "t30_2 = (9, 4, 3)\n",
    "t30 = t30_1 + t30_2\n",
    "print(\"murged tuple\",t30)"
   ]
  },
  {
   "cell_type": "code",
   "execution_count": 52,
   "id": "b8d953f2",
   "metadata": {},
   "outputs": [
    {
     "name": "stdout",
     "output_type": "stream",
     "text": [
      "Flattened tuple: (1, 2, 3, 4, 5, 6, 7, 8)\n"
     ]
    }
   ],
   "source": [
    "\"\"\"31. Flatten a nested tuple.\"\"\"\n",
    "\n",
    "def flatten_tuple(nested_tuple):\n",
    "    flattened = []\n",
    "    for item in nested_tuple:\n",
    "        if isinstance(item, tuple):\n",
    "            flattened.extend(flatten_tuple(item))\n",
    "        else:\n",
    "            flattened.append(item)\n",
    "    return flattened\n",
    "nested_tuple = ((1, 2), (3, 4, 5), (6, (7, 8)))\n",
    "flattened_tuple = tuple(flatten_tuple(nested_tuple))\n",
    "print(\"Flattened tuple:\", flattened_tuple)\n",
    "    "
   ]
  },
  {
   "cell_type": "code",
   "execution_count": 53,
   "id": "9faa1302",
   "metadata": {},
   "outputs": [
    {
     "name": "stdout",
     "output_type": "stream",
     "text": [
      "(2, 3, 5, 7, 11)\n"
     ]
    }
   ],
   "source": [
    "\"\"\"32. Create a tuple of the first 5 prime numbers.\"\"\"\n",
    "\n",
    "def is_prime(num):\n",
    "    if num <= 1:\n",
    "        return False\n",
    "    for i in range(2, int(num**0.5) + 1):\n",
    "        if num % i == 0:\n",
    "            return False\n",
    "    return True\n",
    "\n",
    "def first_n_primes(n):\n",
    "    prime_list = []\n",
    "    num = 2\n",
    "    while len(prime_list) < n:\n",
    "        if is_prime(num):\n",
    "            prime_list.append(num)\n",
    "        num += 1\n",
    "    return tuple(prime_list)\n",
    "\n",
    "n = 5\n",
    "prime_numbers = first_n_primes(n)\n",
    "print(prime_numbers)"
   ]
  },
  {
   "cell_type": "code",
   "execution_count": 55,
   "id": "79e10533",
   "metadata": {},
   "outputs": [
    {
     "name": "stdout",
     "output_type": "stream",
     "text": [
      "palindrome_tuple is a palindrome: True\n"
     ]
    }
   ],
   "source": [
    "\"\"\"33. Check if a tuple is a palindrome.\"\"\"\n",
    "\n",
    "def is_palindrome(tup):\n",
    "    return tup == tup[::-1]\n",
    "\n",
    "tup = (1, 2, 3, 2, 1)\n",
    "is_palindrome = is_palindrome(tup)\n",
    "print(\"palindrome_tuple is a palindrome:\", is_palindrome)"
   ]
  },
  {
   "cell_type": "code",
   "execution_count": 56,
   "id": "12a58b5a",
   "metadata": {},
   "outputs": [
    {
     "name": "stdout",
     "output_type": "stream",
     "text": [
      "Tuple of squares: (1, 4, 9, 16, 25)\n"
     ]
    }
   ],
   "source": [
    "\"\"\"34. Create a tuple of squares of numbers from 1 to 5.\"\"\"\n",
    "\n",
    "squares_tuple = tuple(x ** 2 for x in range(1, 6))\n",
    "print(\"Tuple of squares:\", squares_tuple)"
   ]
  },
  {
   "cell_type": "code",
   "execution_count": 57,
   "id": "3e68f9f9",
   "metadata": {},
   "outputs": [
    {
     "name": "stdout",
     "output_type": "stream",
     "text": [
      "Filtered tuple: (1, 3, 5, 7, 9)\n"
     ]
    }
   ],
   "source": [
    "\"\"\"35. Filter out all even numbers from a tuple.\"\"\"\n",
    "\n",
    "original_tuple = (1, 2, 3, 4, 5, 6, 7, 8, 9, 10)\n",
    "filtered_tuple = tuple(num for num in original_tuple if num % 2 != 0)\n",
    "\n",
    "print(\"Filtered tuple:\", filtered_tuple)"
   ]
  },
  {
   "cell_type": "code",
   "execution_count": 58,
   "id": "06acd59f",
   "metadata": {},
   "outputs": [
    {
     "name": "stdout",
     "output_type": "stream",
     "text": [
      "Doubled tuple: (2, 4, 6, 8, 10)\n"
     ]
    }
   ],
   "source": [
    "\"\"\"36. Multiply all elements in a tuple by 2.\"\"\"\n",
    "\n",
    "original_tuple = (1, 2, 3, 4, 5)\n",
    "doubled_tuple = tuple(num * 2 for num in original_tuple)\n",
    "print(\"Doubled tuple:\", doubled_tuple)"
   ]
  },
  {
   "cell_type": "code",
   "execution_count": 65,
   "id": "d788fcaa",
   "metadata": {},
   "outputs": [
    {
     "name": "stdout",
     "output_type": "stream",
     "text": [
      "Random tuple: (38, 67, 19, 57, 11, 2, 62, 34, 21, 95)\n"
     ]
    }
   ],
   "source": [
    "\"\"\"37. Create a tuple of random numbers.\"\"\"\n",
    "\n",
    "import random\n",
    "rand_tup = tuple(random.randint(1,100) for i in range(10))\n",
    "print(\"Random tuple:\", rand_tup)"
   ]
  },
  {
   "cell_type": "code",
   "execution_count": 67,
   "id": "e439c8c3",
   "metadata": {},
   "outputs": [
    {
     "name": "stdout",
     "output_type": "stream",
     "text": [
      "sorted_tuple is sorted: True\n"
     ]
    }
   ],
   "source": [
    "\"\"\"38. Check if a tuple is sorted.\"\"\"\n",
    "\n",
    "def is_sorted(tup):\n",
    "    for i in range(len(tup) - 1):\n",
    "        if tup[i] > tup[i + 1]:\n",
    "            return False\n",
    "    return True\n",
    "\n",
    "tup = (1, 2, 3, 5)\n",
    "\n",
    "is_sort = is_sorted(tup)\n",
    "print(\"sorted_tuple is sorted:\", is_sort)"
   ]
  },
  {
   "cell_type": "code",
   "execution_count": 68,
   "id": "3542b000",
   "metadata": {},
   "outputs": [
    {
     "name": "stdout",
     "output_type": "stream",
     "text": [
      "(3, 4, 5, 1, 2)\n"
     ]
    }
   ],
   "source": [
    "\"\"\"39. Rotate a tuple to the left by `n` positions.\"\"\"\n",
    "\n",
    "def rotate_tuple_left(tup, n):\n",
    "    n = n % len(tup)\n",
    "    rotated_tuple = tup[n:] + tup[:n] \n",
    "    return rotated_tuple\n",
    "\n",
    "my_tuple = (1, 2, 3, 4, 5)\n",
    "n_positions = 2\n",
    "result = rotate_tuple_left(my_tuple, n_positions)\n",
    "print(result)"
   ]
  },
  {
   "cell_type": "code",
   "execution_count": 69,
   "id": "c39c419e",
   "metadata": {},
   "outputs": [
    {
     "name": "stdout",
     "output_type": "stream",
     "text": [
      "(4, 5, 1, 2, 3)\n"
     ]
    }
   ],
   "source": [
    "\"\"\"40. Rotate a tuple to the right by `n` positions.\"\"\"\n",
    "\n",
    "def rotate_tuple_right(tup, n):\n",
    "    n = n % len(tup) \n",
    "    rotated_tuple = tup[-n:] + tup[:-n] \n",
    "    return rotated_tuple\n",
    "\n",
    "my_tuple = (1, 2, 3, 4, 5)\n",
    "n_positions = 2\n",
    "result = rotate_tuple_right(my_tuple, n_positions)\n",
    "print(result)"
   ]
  },
  {
   "cell_type": "code",
   "execution_count": 123,
   "id": "8bec742c",
   "metadata": {},
   "outputs": [
    {
     "name": "stdout",
     "output_type": "stream",
     "text": [
      "(0, 1, 1, 2, 3)\n"
     ]
    }
   ],
   "source": [
    "\"\"\"41. Create a tuple of the first 5 Fibonacci numbers.\"\"\"\n",
    "\n",
    "\n",
    "def generate_fibonacci(n):\n",
    "    fibonacci = [0, 1]  \n",
    "    while len(fibonacci) < n:\n",
    "        next_number = fibonacci[-1] + fibonacci[-2] \n",
    "        fibonacci.append(next_number)  \n",
    "    return tuple(fibonacci) \n",
    "\n",
    "fibonacci_tuple = generate_fibonacci(5)\n",
    "print(fibonacci_tuple)"
   ]
  },
  {
   "cell_type": "code",
   "execution_count": 125,
   "id": "a20cebe1",
   "metadata": {},
   "outputs": [
    {
     "name": "stdout",
     "output_type": "stream",
     "text": [
      "Enter elements separated by commas: h,f,d,s,k,t\n",
      "User input tuple: ('h', 'f', 'd', 's', 'k', 't')\n"
     ]
    }
   ],
   "source": [
    "\"\"\"42. Create a tuple from user input.\"\"\"\n",
    "\n",
    "input_str = input(\"Enter elements separated by commas: \")\n",
    "input_list = input_str.split(',')\n",
    "user_tuple = tuple(input_list)\n",
    "print(\"User input tuple:\", user_tuple)"
   ]
  },
  {
   "cell_type": "code",
   "execution_count": 126,
   "id": "59e49f18",
   "metadata": {},
   "outputs": [
    {
     "name": "stdout",
     "output_type": "stream",
     "text": [
      "Swapped tuple: (1, 4, 3, 2, 5)\n"
     ]
    }
   ],
   "source": [
    "\"\"\"43. Swap two elements in a tuple.\"\"\"\n",
    "\n",
    "my_tuple = (1, 2, 3, 4, 5)\n",
    "\n",
    "index1 = 1\n",
    "index2 = 3\n",
    "swapped_tuple = tuple(\n",
    "    my_tuple[i] if i not in (index1, index2) else\n",
    "    my_tuple[index2] if i == index1 else\n",
    "    my_tuple[index1]\n",
    "    for i in range(len(my_tuple))\n",
    ")\n",
    "\n",
    "print(\"Swapped tuple:\", swapped_tuple)"
   ]
  },
  {
   "cell_type": "code",
   "execution_count": 127,
   "id": "20831982",
   "metadata": {},
   "outputs": [
    {
     "name": "stdout",
     "output_type": "stream",
     "text": [
      "Reversed tuple: (5, 4, 3, 2, 1)\n"
     ]
    }
   ],
   "source": [
    "\"\"\"44. Reverse the elements of a tuple.\"\"\"\n",
    "\n",
    "my_tuple = (1, 2, 3, 4, 5)\n",
    "reversed_tuple = my_tuple[::-1]\n",
    "print(\"Reversed tuple:\", reversed_tuple)"
   ]
  },
  {
   "cell_type": "code",
   "execution_count": 128,
   "id": "e28a3bf4",
   "metadata": {},
   "outputs": [
    {
     "name": "stdout",
     "output_type": "stream",
     "text": [
      "Tuple of the first 5 powers of 2: (1, 2, 4, 8, 16)\n"
     ]
    }
   ],
   "source": [
    "\"\"\"45. Create a tuple of the first `n` powers of 2.\"\"\"\n",
    "\n",
    "n = 5\n",
    "powers_of_2_tuple = tuple(2 ** i for i in range(n))\n",
    "print(\"Tuple of the first\", n, \"powers of 2:\", powers_of_2_tuple)"
   ]
  },
  {
   "cell_type": "code",
   "execution_count": 129,
   "id": "e69a2a33",
   "metadata": {},
   "outputs": [
    {
     "name": "stdout",
     "output_type": "stream",
     "text": [
      "Longest string: watermelon\n"
     ]
    }
   ],
   "source": [
    "\"\"\"46. Find the longest string in a tuple of strings.\"\"\"\n",
    "\n",
    "string_tuple = (\"apple\", \"banana\", \"grape\", \"kiwi\", \"watermelon\")\n",
    "longest_string = max(string_tuple, key=len)\n",
    "print(\"Longest string:\", longest_string)"
   ]
  },
  {
   "cell_type": "code",
   "execution_count": 130,
   "id": "07529345",
   "metadata": {},
   "outputs": [
    {
     "name": "stdout",
     "output_type": "stream",
     "text": [
      "Shortest string: kiwi\n"
     ]
    }
   ],
   "source": [
    "\"\"\"47. Find the shortest string in a tuple of strings.\"\"\"\n",
    "\n",
    "string_tuple = (\"apple\", \"banana\", \"grape\", \"kiwi\", \"watermelon\")\n",
    "shortest_string = min(string_tuple, key=len)\n",
    "print(\"Shortest string:\", shortest_string)"
   ]
  },
  {
   "cell_type": "code",
   "execution_count": 131,
   "id": "7edcc944",
   "metadata": {},
   "outputs": [
    {
     "name": "stdout",
     "output_type": "stream",
     "text": [
      "Tuple of the first 5 triangular numbers: (1, 3, 6, 10, 15)\n"
     ]
    }
   ],
   "source": [
    "\"\"\"48. Create a tuple of the first `n` triangular numbers.\"\"\"\n",
    "\n",
    "n = 5\n",
    "triangular_numbers_tuple = tuple((i * (i + 1)) // 2 for i in range(1, n + 1))\n",
    "print(\"Tuple of the first\", n, \"triangular numbers:\", triangular_numbers_tuple)"
   ]
  },
  {
   "cell_type": "code",
   "execution_count": 132,
   "id": "deffe474",
   "metadata": {},
   "outputs": [
    {
     "name": "stdout",
     "output_type": "stream",
     "text": [
      "Main tuple contains subsequence tuple: True\n"
     ]
    }
   ],
   "source": [
    "\"\"\"49. Check if a tuple contains another tuple as a subsequence.\"\"\"\n",
    "\n",
    "def contains_subsequence(main_tuple, sub_tuple):\n",
    "    sub_length = len(sub_tuple)\n",
    "    for i in range(len(main_tuple) - sub_length + 1):\n",
    "        if main_tuple[i:i+sub_length] == sub_tuple:\n",
    "            return True\n",
    "    return False\n",
    "\n",
    "main_tuple = (1, 2, 3, 4, 5, 6, 7, 8, 9)\n",
    "sub_tuple = (3, 4, 5)\n",
    "contains_subseq = contains_subsequence(main_tuple, sub_tuple)\n",
    "print(\"Main tuple contains subsequence tuple:\", contains_subseq)"
   ]
  },
  {
   "cell_type": "code",
   "execution_count": 133,
   "id": "7b53e483",
   "metadata": {},
   "outputs": [
    {
     "name": "stdout",
     "output_type": "stream",
     "text": [
      "Tuple of alternating 1s and 0s: (0, 1, 0, 1, 0, 1, 0, 1, 0, 1)\n"
     ]
    }
   ],
   "source": [
    "\"\"\"50. Create a tuple of alternating 1s and 0s of length `n`.\"\"\"\n",
    "\n",
    "n = 10\n",
    "alternating_tuple = tuple(i % 2 for i in range(n))\n",
    "print(\"Tuple of alternating 1s and 0s:\", alternating_tuple)"
   ]
  },
  {
   "cell_type": "markdown",
   "id": "d02193e7",
   "metadata": {},
   "source": [
    "## Set Based Practice Problem :"
   ]
  },
  {
   "cell_type": "code",
   "execution_count": 6,
   "id": "ed544ec8",
   "metadata": {},
   "outputs": [
    {
     "name": "stdout",
     "output_type": "stream",
     "text": [
      "{1, 2, 3, 4, 5}\n"
     ]
    }
   ],
   "source": [
    "\"\"\"1. Create a set with integers from 1 to 5.\"\"\"\n",
    "\n",
    "st1 = {1,2,3,4,5}\n",
    "print(st1)"
   ]
  },
  {
   "cell_type": "code",
   "execution_count": 7,
   "id": "0f1fd274",
   "metadata": {},
   "outputs": [
    {
     "name": "stdout",
     "output_type": "stream",
     "text": [
      "Set after adding element: {1, 2, 4, 5, 7}\n"
     ]
    }
   ],
   "source": [
    "\"\"\"2. Add an element to a set.\"\"\"\n",
    "\n",
    "st2 ={1,2,4,5}\n",
    "ele = 7\n",
    "\n",
    "st2.add(ele)\n",
    "print(\"Set after adding element \",st2)"
   ]
  },
  {
   "cell_type": "code",
   "execution_count": 8,
   "id": "c8e9d42b",
   "metadata": {},
   "outputs": [
    {
     "name": "stdout",
     "output_type": "stream",
     "text": [
      "set after removed ele  {1, 2, 4, 7}\n"
     ]
    }
   ],
   "source": [
    "\"\"\"3. Remove an element from a set.\"\"\"\n",
    "\n",
    "st3 = {1, 2, 4, 5, 7}\n",
    "eler =5\n",
    "\n",
    "st3.remove(eler)\n",
    "print(\"set after removed ele \",st3)"
   ]
  },
  {
   "cell_type": "code",
   "execution_count": 9,
   "id": "b8d3fee9",
   "metadata": {},
   "outputs": [
    {
     "name": "stdout",
     "output_type": "stream",
     "text": [
      "element exists\n"
     ]
    }
   ],
   "source": [
    "\"\"\"4. Check if an element exists in a set.\"\"\"\n",
    "\n",
    "st4 = {1, 2, 4, 5, 7}\n",
    "ch = 4\n",
    "\n",
    "if ch in st4:\n",
    "    print(\"element exists\")\n",
    "else:\n",
    "    print(\"element not exists\")"
   ]
  },
  {
   "cell_type": "code",
   "execution_count": 10,
   "id": "05ee0de2",
   "metadata": {},
   "outputs": [
    {
     "name": "stdout",
     "output_type": "stream",
     "text": [
      "lenght of set is  5\n"
     ]
    }
   ],
   "source": [
    "\"\"\"5. Find the length of a set without using the `len()` function.\"\"\"\n",
    "\n",
    "st5 = {1, 2, 4, 5, 7}\n",
    "cnt =0\n",
    "for i in st5:\n",
    "    cnt +=1\n",
    "    \n",
    "print(\"lenght of set is \",cnt)"
   ]
  },
  {
   "cell_type": "code",
   "execution_count": 12,
   "id": "de2ac2ed",
   "metadata": {},
   "outputs": [
    {
     "name": "stdout",
     "output_type": "stream",
     "text": [
      "set()\n"
     ]
    }
   ],
   "source": [
    "\"\"\"6. Clear all elements from a set.\"\"\"\n",
    "\n",
    "st6 = {1, 2, 4, 5, 7}\n",
    "st6.clear()\n",
    "print(st6)"
   ]
  },
  {
   "cell_type": "code",
   "execution_count": 15,
   "id": "9a563cf8",
   "metadata": {},
   "outputs": [
    {
     "name": "stdout",
     "output_type": "stream",
     "text": [
      "{0, 2, 4, 6, 8, 10}\n"
     ]
    }
   ],
   "source": [
    "\"\"\"7. Create a set of even numbers from 1 to 10.\"\"\"\n",
    "\n",
    "st7 = set()\n",
    "for i in range(0,11,2):\n",
    "    st7.add(i)\n",
    "print(st7)"
   ]
  },
  {
   "cell_type": "code",
   "execution_count": 16,
   "id": "219a8be7",
   "metadata": {},
   "outputs": [
    {
     "name": "stdout",
     "output_type": "stream",
     "text": [
      "{1, 3, 5, 7, 9}\n"
     ]
    }
   ],
   "source": [
    "\"\"\"8. Create a set of odd numbers from 1 to 10.\"\"\"\n",
    "\n",
    "st8 = set()\n",
    "for i in range(1,11,2):\n",
    "    st8.add(i)\n",
    "print(st8)"
   ]
  },
  {
   "cell_type": "code",
   "execution_count": 17,
   "id": "91a7576b",
   "metadata": {},
   "outputs": [
    {
     "name": "stdout",
     "output_type": "stream",
     "text": [
      "union of 2 set  {1, 2, 3, 4, 5, 6, 7, 8}\n"
     ]
    }
   ],
   "source": [
    "\"\"\"9. Find the union of two sets.\"\"\"\n",
    "\n",
    "st9_1 = {1, 2, 3, 4, 5}\n",
    "st9_2 = {6, 2, 7, 8, 3}\n",
    "\n",
    "st9 = st9_1.union(st9_2)\n",
    "print(\"union of 2 set \",st9)"
   ]
  },
  {
   "cell_type": "code",
   "execution_count": 18,
   "id": "7b5d44bc",
   "metadata": {},
   "outputs": [
    {
     "name": "stdout",
     "output_type": "stream",
     "text": [
      "intersection of 2 set  {2, 3}\n"
     ]
    }
   ],
   "source": [
    "\"\"\"10. Find the intersection of two sets.\"\"\"\n",
    "\n",
    "st10_1 = {1, 2, 3, 4, 5}\n",
    "st10_2 = {6, 2, 7, 8, 3}\n",
    "\n",
    "st10 = st10_1.intersection(st10_2)\n",
    "print(\"intersection of 2 set \",st10)"
   ]
  },
  {
   "cell_type": "code",
   "execution_count": 21,
   "id": "5dedf5f9",
   "metadata": {},
   "outputs": [
    {
     "name": "stdout",
     "output_type": "stream",
     "text": [
      "difference between two set  {1, 4, 5}\n"
     ]
    }
   ],
   "source": [
    "\"\"\"11. Find the difference between two sets.\"\"\"\n",
    "\n",
    "st11_1 = {1, 2, 3, 4, 5}\n",
    "st11_2 = {6, 2, 7, 8, 3}\n",
    "\n",
    "st11 = st11_1.difference(st11_2)\n",
    "print(\"difference between two set \",st11)"
   ]
  },
  {
   "cell_type": "code",
   "execution_count": 22,
   "id": "410a7331",
   "metadata": {},
   "outputs": [
    {
     "name": "stdout",
     "output_type": "stream",
     "text": [
      "Is set1 a subset of set2: True\n"
     ]
    }
   ],
   "source": [
    "\"\"\"12. Check if a set is a subset of another set.\"\"\"\n",
    "\n",
    "st12_1 = {1, 2, 3}\n",
    "st12_2 = {1, 2, 3, 4, 5}\n",
    "\n",
    "subs = st12_1.issubset(st12_2)\n",
    "\n",
    "print(\"Is set1 a subset of set2:\", subs)"
   ]
  },
  {
   "cell_type": "code",
   "execution_count": 25,
   "id": "b6ca3be7",
   "metadata": {},
   "outputs": [
    {
     "name": "stdout",
     "output_type": "stream",
     "text": [
      "Is set1 a superset of set2: False\n"
     ]
    }
   ],
   "source": [
    "\"\"\"13. Check if a set is a superset of another set.\"\"\"\n",
    "\n",
    "st13_1 = {1, 2, 3}\n",
    "st13_2 = {3, 4}\n",
    "\n",
    "sups = st13_1.issuperset(st13_2)\n",
    "\n",
    "print(\"Is set1 a superset of set2:\", sups)"
   ]
  },
  {
   "cell_type": "code",
   "execution_count": 27,
   "id": "5544e788",
   "metadata": {},
   "outputs": [
    {
     "name": "stdout",
     "output_type": "stream",
     "text": [
      "{1, 2, 3, 4, 5}\n"
     ]
    }
   ],
   "source": [
    "\"\"\"14. Create a set from a list.\"\"\"\n",
    "\n",
    "st14_l = [1,2,3,4,5]\n",
    "st14   = set(st14_l)\n",
    "\n",
    "print(st14)\n"
   ]
  },
  {
   "cell_type": "code",
   "execution_count": 28,
   "id": "0ac9441a",
   "metadata": {},
   "outputs": [
    {
     "name": "stdout",
     "output_type": "stream",
     "text": [
      "[1, 2, 3, 4, 5]\n"
     ]
    }
   ],
   "source": [
    "\"\"\"15. Convert a set to a list.\"\"\"\n",
    "\n",
    "st15 = {1, 2, 3, 4, 5}\n",
    "st15_l   = list(st14_l)\n",
    "\n",
    "print(st15_l)"
   ]
  },
  {
   "cell_type": "code",
   "execution_count": 29,
   "id": "84673944",
   "metadata": {},
   "outputs": [
    {
     "name": "stdout",
     "output_type": "stream",
     "text": [
      "Updated set after removing 3  is  {1, 2, 4, 5}\n"
     ]
    }
   ],
   "source": [
    "\"\"\"16. Remove a random element from a set.\"\"\"\n",
    "\n",
    "import random\n",
    "st16 = {1, 2, 3, 4, 5}\n",
    "rand_ele = random.choice(list(st16))\n",
    "st16.remove(rand_ele)\n",
    "print(\"Updated set after removing\", rand_ele ,\" is \", st16)"
   ]
  },
  {
   "cell_type": "code",
   "execution_count": 32,
   "id": "1c709113",
   "metadata": {},
   "outputs": [
    {
     "name": "stdout",
     "output_type": "stream",
     "text": [
      "Set after pop: {2, 3, 4, 5}\n"
     ]
    }
   ],
   "source": [
    "\"\"\"17. Pop an element from a set.\"\"\"\n",
    "\n",
    "st17 = {1, 2, 3, 4, 5}\n",
    "ele_p = st17.pop()\n",
    "print(\"Set after pop:\", st17)"
   ]
  },
  {
   "cell_type": "code",
   "execution_count": 33,
   "id": "f64c78f1",
   "metadata": {},
   "outputs": [
    {
     "name": "stdout",
     "output_type": "stream",
     "text": [
      "The two sets have no elements in common.\n"
     ]
    }
   ],
   "source": [
    "\"\"\"18. Check if two sets have no elements in common.\"\"\"\n",
    "\n",
    "st18_1 = {1, 2, 3, 4}\n",
    "st18_2 = {5, 6, 7, 8}\n",
    "\n",
    "ele_c = st18_1.intersection(st18_2)\n",
    "if not ele_c:\n",
    "    print(\"The two sets have no elements in common.\")\n",
    "else:\n",
    "    print(\"The two sets have common elements:\", ele_c)"
   ]
  },
  {
   "cell_type": "code",
   "execution_count": 34,
   "id": "de406b10",
   "metadata": {},
   "outputs": [
    {
     "name": "stdout",
     "output_type": "stream",
     "text": [
      "Symmetric Difference  {1, 2, 3, 6, 7, 8}\n"
     ]
    }
   ],
   "source": [
    "\"\"\"19. Find the symmetric difference between two sets.\"\"\"\n",
    "\n",
    "st19_2 = {1, 2, 3, 4, 5}\n",
    "st19_1 = {4, 5, 6, 7, 8}\n",
    "\n",
    "sym_dif = st19_1 ^ st19_2\n",
    "print(\"Symmetric Difference \", sym_dif)"
   ]
  },
  {
   "cell_type": "code",
   "execution_count": 35,
   "id": "e6c477b4",
   "metadata": {},
   "outputs": [
    {
     "name": "stdout",
     "output_type": "stream",
     "text": [
      "Updated Set 1: {1, 2, 3, 4, 5}\n"
     ]
    }
   ],
   "source": [
    "\"\"\"20. Update a set with elements from another set.\"\"\"\n",
    "\n",
    "st20_1 = {1, 2, 3}\n",
    "st20_2 = {3, 4, 5}\n",
    "\n",
    "st20_1.update(st20_2)\n",
    "print(\"Updated Set 1:\", st20_1)"
   ]
  },
  {
   "cell_type": "code",
   "execution_count": 36,
   "id": "a8935823",
   "metadata": {},
   "outputs": [
    {
     "name": "stdout",
     "output_type": "stream",
     "text": [
      "Set of the first 5 prime numbers  {2, 3, 5, 7, 11}\n"
     ]
    }
   ],
   "source": [
    "\"\"\"21. Create a set of the first 5 prime numbers.\"\"\"\n",
    "\n",
    "\n",
    "def is_prime(n):\n",
    "    if n <= 1:\n",
    "        return False\n",
    "    for i in range(2, int(n ** 0.5) + 1):\n",
    "        if n % i == 0:\n",
    "            return False\n",
    "    return True\n",
    "\n",
    "st21 = set()\n",
    "n = 2\n",
    "\n",
    "while len(st21) < 5:\n",
    "    if is_prime(n):\n",
    "        st21.add(n)\n",
    "    n += 1\n",
    "    \n",
    "print(\"Set of the first 5 prime numbers \", st21)  "
   ]
  },
  {
   "cell_type": "code",
   "execution_count": 37,
   "id": "cc93f472",
   "metadata": {},
   "outputs": [
    {
     "name": "stdout",
     "output_type": "stream",
     "text": [
      "sets are identical\n"
     ]
    }
   ],
   "source": [
    "\"\"\"22. Check if two sets are identical.\"\"\"\n",
    "\n",
    "st22_1 = {1, 2, 3}\n",
    "st22_2 = {1, 2, 3}\n",
    "\n",
    "if st22_1 == st22_2:\n",
    "    print(\"sets are identical\")\n",
    "else:\n",
    "    print(\"sets are not identical\")\n",
    "   "
   ]
  },
  {
   "cell_type": "code",
   "execution_count": 42,
   "id": "ed3edc2a",
   "metadata": {},
   "outputs": [
    {
     "name": "stdout",
     "output_type": "stream",
     "text": [
      "Frozen Set: frozenset({1, 2, 3, 4, 5})\n"
     ]
    }
   ],
   "source": [
    "\"\"\"23. Create a frozen set.\"\"\"\n",
    "\n",
    "st23_e = {1, 2, 3, 4, 5}\n",
    "st23 = frozenset(st23_e)\n",
    "print(\"Frozen Set:\", st23)"
   ]
  },
  {
   "cell_type": "code",
   "execution_count": 43,
   "id": "19bb2626",
   "metadata": {},
   "outputs": [
    {
     "name": "stdout",
     "output_type": "stream",
     "text": [
      "Are the sets disjoint  True\n"
     ]
    }
   ],
   "source": [
    "\"\"\"24. Check if a set is disjoint with another set.\"\"\"\n",
    "\n",
    "st24_1 = {1, 2, 3, 4}\n",
    "st24_2 = {5, 6, 7, 8}\n",
    "\n",
    "st24 = st24_1.isdisjoint(st24_2)\n",
    "\n",
    "print(\"Are the sets disjoint \", st24)"
   ]
  },
  {
   "cell_type": "code",
   "execution_count": 45,
   "id": "5be99dad",
   "metadata": {},
   "outputs": [
    {
     "name": "stdout",
     "output_type": "stream",
     "text": [
      "{1, 4, 9, 16, 25}\n"
     ]
    }
   ],
   "source": [
    "\"\"\"25. Create a set of squares of numbers from 1 to 5.\"\"\"\n",
    "\n",
    "st25 = set()\n",
    "for m in range(1, 6):\n",
    "    sq = m ** 2\n",
    "    st25.add(sq)\n",
    "print(st25)"
   ]
  },
  {
   "cell_type": "code",
   "execution_count": 47,
   "id": "64f48466",
   "metadata": {},
   "outputs": [
    {
     "name": "stdout",
     "output_type": "stream",
     "text": [
      "Original Set  {1, 2, 3, 4, 5}\n",
      "Even Numbers Set  {2, 4}\n"
     ]
    }
   ],
   "source": [
    "\"\"\"26. Filter out all even numbers from a set.\"\"\"\n",
    "\n",
    "st26 = {1, 2, 3, 4, 5}\n",
    "even = set()\n",
    "for n in st26:\n",
    "    if n % 2 == 0:\n",
    "        even.add(n)\n",
    "\n",
    "print(\"Original Set \", st26)\n",
    "print(\"Even Numbers Set \", even)"
   ]
  },
  {
   "cell_type": "code",
   "execution_count": 51,
   "id": "df5d1b54",
   "metadata": {},
   "outputs": [
    {
     "name": "stdout",
     "output_type": "stream",
     "text": [
      "Original Set  {1, 2, 3, 4}\n",
      "Multiplied Set  {8, 2, 4, 6}\n"
     ]
    }
   ],
   "source": [
    "\"\"\"27. Multiply all elements in a set by 2.\"\"\"\n",
    "\n",
    "st27 = {1, 2, 3, 4}\n",
    "st27_mul = set()\n",
    "\n",
    "for n in st27:\n",
    "    num = n * 2\n",
    "    st27_mul.add(num)\n",
    "\n",
    "print(\"Original Set \", st27)\n",
    "print(\"Multiplied Set \", st27_mul)"
   ]
  },
  {
   "cell_type": "code",
   "execution_count": 53,
   "id": "aa45aea1",
   "metadata": {},
   "outputs": [
    {
     "name": "stdout",
     "output_type": "stream",
     "text": [
      "Generated set of random numbers  {72, 10, 77, 27, 29}\n"
     ]
    }
   ],
   "source": [
    "\"\"\"28. Create a set of random numbers.\"\"\"\n",
    "\n",
    "import random\n",
    "s = 5\n",
    "st28 = set()\n",
    "\n",
    "for i in range(s): \n",
    "    num = random.randint(1, 100)\n",
    "    st28.add(num)\n",
    "\n",
    "print(\"Generated set of random numbers \",st28)"
   ]
  },
  {
   "cell_type": "code",
   "execution_count": 54,
   "id": "f161adea",
   "metadata": {},
   "outputs": [
    {
     "name": "stdout",
     "output_type": "stream",
     "text": [
      "set is empty \n"
     ]
    }
   ],
   "source": [
    "\"\"\"29. Check if a set is empty.\"\"\"\n",
    "\n",
    "st29 = set()\n",
    "if not st29:\n",
    "    print(\"set is empty \")\n",
    "else:\n",
    "    print(\"set is not empty \")"
   ]
  },
  {
   "cell_type": "code",
   "execution_count": 59,
   "id": "3af13852",
   "metadata": {},
   "outputs": [
    {
     "name": "stdout",
     "output_type": "stream",
     "text": [
      "Nested Set  {frozenset({1, 3, 5}), frozenset({8, 10, 6})}\n"
     ]
    }
   ],
   "source": [
    "\"\"\"30. Create a nested set (hint: use frozenset).\"\"\"\n",
    "\n",
    "st30_1 = {1, 3, 5}\n",
    "st30_2 = {6, 8, 10}\n",
    "\n",
    "st30_f1 = frozenset(st30_1)\n",
    "st30_f2 = frozenset(st30_2)\n",
    "\n",
    "st30 = {st30_f1, st30_f2}\n",
    "print(\"Nested Set \", st30)"
   ]
  },
  {
   "cell_type": "code",
   "execution_count": 72,
   "id": "e6756339",
   "metadata": {},
   "outputs": [
    {
     "name": "stdout",
     "output_type": "stream",
     "text": [
      "Set after removing element 3 - {1, 2, 4, 5}\n"
     ]
    }
   ],
   "source": [
    "\"\"\"31. Remove an element from a set using the discard method.\"\"\"\n",
    "\n",
    "my_set = {1, 2, 3, 4, 5}\n",
    "element_to_remove = 3\n",
    "my_set.discard(element_to_remove)\n",
    "\n",
    "print(\"Set after removing element\", element_to_remove, \"-\", my_set)"
   ]
  },
  {
   "cell_type": "code",
   "execution_count": 75,
   "id": "e44f869e",
   "metadata": {},
   "outputs": [
    {
     "name": "stdout",
     "output_type": "stream",
     "text": [
      "Is set1 a subset of set2 -  False\n",
      "Is set2 a subset of set1 -  False\n",
      "Intersection: {4, 5}\n",
      "Union: {1, 2, 3, 4, 5, 6, 7, 8}\n",
      "Elements in set1 but not in set2: {1, 2, 3}\n",
      "Elements in set2 but not in set1: {8, 6, 7}\n"
     ]
    }
   ],
   "source": [
    "\"\"\"32. Compare two sets.\"\"\"\n",
    "set1 = {1, 2, 3, 4, 5}\n",
    "set2 = {4, 5, 6, 7, 8}\n",
    "is_subset = set1.issubset(set2)\n",
    "\n",
    "is_superset = set1.issuperset(set2)\n",
    "intersection = set1.intersection(set2)\n",
    "union = set1.union(set2)\n",
    "difference1 = set1.difference(set2)\n",
    "difference2 = set2.difference(set1)\n",
    "\n",
    "print(\"Is set1 a subset of set2 - \", is_subset)\n",
    "print(\"Is set2 a subset of set1 - \" , is_superset)\n",
    "print(\"Intersection:\", intersection)\n",
    "print(\"Union:\", union)\n",
    "print(\"Elements in set1 but not in set2:\", difference1)\n",
    "print(\"Elements in set2 but not in set1:\", difference2)"
   ]
  },
  {
   "cell_type": "code",
   "execution_count": 79,
   "id": "ff2ea1ca",
   "metadata": {},
   "outputs": [
    {
     "name": "stdout",
     "output_type": "stream",
     "text": [
      "{'s', 'n', 'u', 'd', 'b', 'h', 'e'}\n"
     ]
    }
   ],
   "source": [
    "\"\"\"33. Create a set from a string.\"\"\"\n",
    "\n",
    "input_string = \"shubhendu\"\n",
    "char_set = set(input_string)\n",
    "print(char_set)"
   ]
  },
  {
   "cell_type": "code",
   "execution_count": 83,
   "id": "dd5f9e8d",
   "metadata": {},
   "outputs": [
    {
     "name": "stdout",
     "output_type": "stream",
     "text": [
      "Converted Integer Set: {456, 123, 789}\n"
     ]
    }
   ],
   "source": [
    "\"\"\"34. Convert a set of strings to a set of integers.\"\"\"\n",
    "\n",
    "\n",
    "set34 = {\"456\",\"789\",\"123\"}\n",
    "integer_set = set()\n",
    "for s in set34:\n",
    "    integer_value = int(s)\n",
    "    integer_set.add(integer_value)\n",
    "    \n",
    "print(\"Converted Integer Set:\", integer_set)"
   ]
  },
  {
   "cell_type": "code",
   "execution_count": 84,
   "id": "d385df7a",
   "metadata": {},
   "outputs": [
    {
     "name": "stdout",
     "output_type": "stream",
     "text": [
      "Converted strings_set: {'5', '2', '3', '4', '1'}\n"
     ]
    }
   ],
   "source": [
    "\"\"\"35. Convert a set of integers to a set of strings.\"\"\"\n",
    "\n",
    "integers_set = {1, 2, 3, 4, 5}\n",
    "strings_set = set()\n",
    "\n",
    "for num in integers_set:\n",
    "    num_str = str(num)\n",
    "    strings_set.add(num_str)\n",
    "    \n",
    "print(\"Converted strings_set:\", strings_set)"
   ]
  },
  {
   "cell_type": "code",
   "execution_count": 85,
   "id": "94b6787f",
   "metadata": {},
   "outputs": [
    {
     "name": "stdout",
     "output_type": "stream",
     "text": [
      "{1, 2, 3, 4, 5}\n"
     ]
    }
   ],
   "source": [
    "\"\"\"36. Create a set from a tuple.\"\"\"\n",
    "\n",
    "input_tuple = (1, 2, 3, 2, 4, 5, 1)\n",
    "output_set = set(input_tuple)\n",
    "print(output_set)\n"
   ]
  },
  {
   "cell_type": "code",
   "execution_count": 86,
   "id": "dd3c6a75",
   "metadata": {},
   "outputs": [
    {
     "name": "stdout",
     "output_type": "stream",
     "text": [
      "Converted tuple: (1, 2, 3, 4, 5)\n"
     ]
    }
   ],
   "source": [
    "\"\"\"37. Convert a set to a tuple.\"\"\"\n",
    "\n",
    "input_set = {1, 2, 3, 4, 5}\n",
    "output_tuple = tuple(input_set)\n",
    "print(\"Converted tuple:\", output_tuple)"
   ]
  },
  {
   "cell_type": "code",
   "execution_count": 87,
   "id": "1ce01b9b",
   "metadata": {},
   "outputs": [
    {
     "name": "stdout",
     "output_type": "stream",
     "text": [
      "Maximum value: 22\n"
     ]
    }
   ],
   "source": [
    "\"\"\"38. Find the maximum value in a set.\"\"\"\n",
    "\n",
    "set38 = {15, 7, 22, 13, 8}\n",
    "maxv = None\n",
    "for n in set38:\n",
    "    if maxv is None or n > maxv:\n",
    "        maxv = n  \n",
    "\n",
    "print(\"Maximum value:\", maxv)"
   ]
  },
  {
   "cell_type": "code",
   "execution_count": 88,
   "id": "d3dcd4fc",
   "metadata": {},
   "outputs": [
    {
     "name": "stdout",
     "output_type": "stream",
     "text": [
      "Maximum value: 7\n"
     ]
    }
   ],
   "source": [
    "\"\"\"39. Find the minimum value in a set.\"\"\"\n",
    "\n",
    "set39 = {15, 7, 22, 13, 8}\n",
    "minv = None\n",
    "for n in set39:\n",
    "    if minv is None or n < minv:\n",
    "        minv = n  \n",
    "\n",
    "print(\"Maximum value:\", minv)"
   ]
  },
  {
   "cell_type": "code",
   "execution_count": 90,
   "id": "eb8d8d86",
   "metadata": {},
   "outputs": [
    {
     "name": "stdout",
     "output_type": "stream",
     "text": [
      "Enter elements for the set (type 'done' to finish):\n",
      " shubh\n",
      " shubhendu\n",
      " hello\n",
      " sir\n",
      " done\n",
      "Final set: {'hello', 'shubh', 'sir', 'shubhendu'}\n"
     ]
    }
   ],
   "source": [
    "\"\"\"40. Create a set from user input.\"\"\"\n",
    "\n",
    "\n",
    "user_set = set()\n",
    "print(\"Enter elements for the set (type 'done' to finish):\")\n",
    "while True:\n",
    "    user_input = input(\" \")  \n",
    "    if user_input.lower() == 'done':\n",
    "        break  \n",
    "    user_set.add(user_input)\n",
    "\n",
    "print(\"Final set:\", user_set)"
   ]
  },
  {
   "cell_type": "code",
   "execution_count": 91,
   "id": "1b7536b4",
   "metadata": {},
   "outputs": [
    {
     "name": "stdout",
     "output_type": "stream",
     "text": [
      "The intersection of the two sets is not empty.\n"
     ]
    }
   ],
   "source": [
    "\"\"\"41. Check if the intersection of two sets is empty.\"\"\"\n",
    "\n",
    "set1 = {1, 2, 3, 4, 5}\n",
    "set2 = {4, 5, 6, 7, 8}\n",
    "\n",
    "intersection_result = set1.intersection(set2)\n",
    "\n",
    "if not intersection_result:\n",
    "    print(\"The intersection of the two sets is empty.\")\n",
    "else:\n",
    "    print(\"The intersection of the two sets is not empty.\")"
   ]
  },
  {
   "cell_type": "code",
   "execution_count": 98,
   "id": "1f6a4fb9",
   "metadata": {},
   "outputs": [
    {
     "name": "stdout",
     "output_type": "stream",
     "text": [
      "Set of the first 5 Fibonacci numbers: {0, 1, 2, 3, 5}\n"
     ]
    }
   ],
   "source": [
    "\"\"\"42. Create a set of the first 5 Fibonacci numbers.\"\"\"\n",
    "\n",
    "\n",
    "fibonacci_set = set()\n",
    "a, b = 0, 1\n",
    "for i in range(6):\n",
    "    fibonacci_set.add(a)\n",
    "    \n",
    "    a, b = b, a + b\n",
    "print(\"Set of the first 5 Fibonacci numbers:\", fibonacci_set)"
   ]
  },
  {
   "cell_type": "code",
   "execution_count": 99,
   "id": "bfee50af",
   "metadata": {},
   "outputs": [
    {
     "name": "stdout",
     "output_type": "stream",
     "text": [
      "List with Duplicates Removed: [2, 4, 6, 8, 10, 12, 14]\n"
     ]
    }
   ],
   "source": [
    "\"\"\"43. Remove duplicates from a list using sets.\"\"\"\n",
    "\n",
    "original_list = [2, 4, 6, 8, 4, 10, 6, 12, 14, 8]\n",
    "unique_set = set(original_list)\n",
    "unique_list = list(unique_set)\n",
    "print(\"List with Duplicates Removed:\", unique_list)"
   ]
  },
  {
   "cell_type": "code",
   "execution_count": 102,
   "id": "0bb242a7",
   "metadata": {},
   "outputs": [
    {
     "name": "stdout",
     "output_type": "stream",
     "text": [
      "The sets have the same elements -  True\n"
     ]
    }
   ],
   "source": [
    "\"\"\"44. Check if two sets have the same elements, regardless of their count.\"\"\"\n",
    "\n",
    "set1 = {1, 2, 3, 2, 1}\n",
    "set2 = {3, 1, 2}\n",
    "\n",
    "sorted_list1 = sorted(list(set1))\n",
    "sorted_list2 = sorted(list(set2))\n",
    "\n",
    "result = sorted_list1 == sorted_list2\n",
    "\n",
    "print(\"The sets have the same elements - \",result)\n"
   ]
  },
  {
   "cell_type": "code",
   "execution_count": 110,
   "id": "433539cb",
   "metadata": {},
   "outputs": [
    {
     "name": "stdout",
     "output_type": "stream",
     "text": [
      "{1, 2, 4, 8, 16}\n"
     ]
    }
   ],
   "source": [
    "\"\"\"45. Create a set of the first `n` powers of 2 \"\"\"\n",
    "\n",
    "n = 5\n",
    "powers_of_2 = set()\n",
    "for i in range(n):\n",
    "    power = 2 ** i\n",
    "    powers_of_2.add(power)\n",
    "\n",
    "powers_set = generate_powers_of_2(n)\n",
    "print(powers_set)"
   ]
  },
  {
   "cell_type": "code",
   "execution_count": 111,
   "id": "ac559c9f",
   "metadata": {},
   "outputs": [
    {
     "name": "stdout",
     "output_type": "stream",
     "text": [
      "Common elements: [7, 9, 12]\n"
     ]
    }
   ],
   "source": [
    "\"\"\"46. Find the common elements between a set and a list.\"\"\"\n",
    "\n",
    "set46 = {3, 7, 9, 12, 15}\n",
    "list46 = [7, 12, 5, 9]\n",
    "listToSet = set(list46)\n",
    "\n",
    "common_elements = []\n",
    "\n",
    "for ele in set46:\n",
    "    if ele in listToSet:\n",
    "        common_elements.append(ele)\n",
    "print(\"Common elements:\", common_elements)"
   ]
  },
  {
   "cell_type": "code",
   "execution_count": 112,
   "id": "68464f41",
   "metadata": {},
   "outputs": [
    {
     "name": "stdout",
     "output_type": "stream",
     "text": [
      "Enter the value of n: 8\n",
      "The set of the first 8 triangular numbers is: {1, 3, 36, 6, 10, 15, 21, 28}\n"
     ]
    }
   ],
   "source": [
    "\"\"\"47. Create a set of the first `n` triangular numbers.\"\"\"\n",
    "\n",
    "def generate_triangular_numbers(n):\n",
    "    triangular_numbers = set()  \n",
    "    for i in range(1, n + 1):\n",
    "        triangular_number = i * (i + 1) // 2  \n",
    "        triangular_numbers.add(triangular_number) \n",
    "    return triangular_numbers\n",
    "\n",
    "n = int(input(\"Enter the value of n: \"))\n",
    "triangular_set = generate_triangular_numbers(n)\n",
    "\n",
    "print(f\"The set of the first {n} triangular numbers is:\", triangular_set)"
   ]
  },
  {
   "cell_type": "code",
   "execution_count": 113,
   "id": "6222e4e1",
   "metadata": {},
   "outputs": [
    {
     "name": "stdout",
     "output_type": "stream",
     "text": [
      "set2 is a subset of set1\n"
     ]
    }
   ],
   "source": [
    "\"\"\"48. Check if a set contains another set as a subset.\"\"\"\n",
    "\n",
    "\n",
    "set1 = {1, 2, 3, 4, 5}\n",
    "set2 = {3, 4}\n",
    "is_subset = set2.issubset(set1)\n",
    "if is_subset:\n",
    "    print(\"set2 is a subset of set1\")\n",
    "else:\n",
    "    print(\"set2 is not a subset of set1\")"
   ]
  },
  {
   "cell_type": "code",
   "execution_count": 121,
   "id": "239f5979",
   "metadata": {},
   "outputs": [
    {
     "name": "stdout",
     "output_type": "stream",
     "text": [
      "{0, 1}\n"
     ]
    }
   ],
   "source": [
    "\"\"\"49. Create a set of alternating 1s and 0s of length `n`.\"\"\"\n",
    "\n",
    "def create_alternating_set(n):\n",
    "    alternating_set = set()\n",
    "\n",
    "    for i in range(n):\n",
    "        if i % 2 == 0:\n",
    "            alternating_set.add(1) \n",
    "        else:\n",
    "            alternating_set.add(0)  \n",
    "\n",
    "    return alternating_set\n",
    "\n",
    "length_n = 10\n",
    "result = create_alternating_set(length_n)\n",
    "print(result)"
   ]
  },
  {
   "cell_type": "code",
   "execution_count": 122,
   "id": "3f302c86",
   "metadata": {},
   "outputs": [
    {
     "name": "stdout",
     "output_type": "stream",
     "text": [
      "Merged Set: {1, 2, 3, 4, 5, 6, 7}\n"
     ]
    }
   ],
   "source": [
    "\"\"\"50. Merge multiple sets into one.\"\"\"\n",
    "\n",
    "set1 = {1, 2, 3}\n",
    "set2 = {3, 4, 5}\n",
    "set3 = {5, 6, 7}\n",
    "\n",
    "merged_set = set1.union(set2, set3)\n",
    "print(\"Merged Set:\", merged_set)"
   ]
  }
 ],
 "metadata": {
  "kernelspec": {
   "display_name": "Python 3",
   "language": "python",
   "name": "python3"
  },
  "language_info": {
   "codemirror_mode": {
    "name": "ipython",
    "version": 3
   },
   "file_extension": ".py",
   "mimetype": "text/x-python",
   "name": "python",
   "nbconvert_exporter": "python",
   "pygments_lexer": "ipython3",
   "version": "3.8.8"
  },
  "varInspector": {
   "cols": {
    "lenName": 16,
    "lenType": 16,
    "lenVar": 40
   },
   "kernels_config": {
    "python": {
     "delete_cmd_postfix": "",
     "delete_cmd_prefix": "del ",
     "library": "var_list.py",
     "varRefreshCmd": "print(var_dic_list())"
    },
    "r": {
     "delete_cmd_postfix": ") ",
     "delete_cmd_prefix": "rm(",
     "library": "var_list.r",
     "varRefreshCmd": "cat(var_dic_list()) "
    }
   },
   "types_to_exclude": [
    "module",
    "function",
    "builtin_function_or_method",
    "instance",
    "_Feature"
   ],
   "window_display": false
  }
 },
 "nbformat": 4,
 "nbformat_minor": 5
}
