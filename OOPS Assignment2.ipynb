{
 "cells": [
  {
   "cell_type": "markdown",
   "id": "38637f75",
   "metadata": {},
   "source": [
    "## Constructor:"
   ]
  },
  {
   "cell_type": "code",
   "execution_count": 7,
   "id": "5ea8bb44",
   "metadata": {},
   "outputs": [
    {
     "data": {
      "text/plain": [
       "'The constructor is an special method that execute automatically when object of class created.\\nit is used to initialize the atributes of object. __init__ is an constructor that use in python.\\nit will execute autometically when controll of execution comes in class. The purposed is to \\nautomatic configurate necessory atributes. and initiate value that is necessory.other purpose is \\nto connecting databases.\\nexample of constructor is as follows:\\n__init__,__new__,__add__,__del__'"
      ]
     },
     "execution_count": 7,
     "metadata": {},
     "output_type": "execute_result"
    }
   ],
   "source": [
    "\"\"\"1. What is a constructor in Python? Explain its purpose and usage.\"\"\"\n",
    "\n",
    "\"\"\"The constructor is an special method that execute automatically when object of class created.\n",
    "it is used to initialize the atributes of object. __init__ is an constructor that use in python.\n",
    "it will execute autometically when controll of execution comes in class. The purposed is to \n",
    "automatic configurate necessory atributes. and initiate value that is necessory.other purpose is \n",
    "to connecting databases.\n",
    "example of constructor is as follows:\n",
    "__init__,__new__,__add__,__del__\"\"\""
   ]
  },
  {
   "cell_type": "code",
   "execution_count": 8,
   "id": "2accd634",
   "metadata": {},
   "outputs": [
    {
     "data": {
      "text/plain": [
       "'In parameterless constructor, the constructor do not take any arguments, without any aurgument\\nit will call when object of that class will create.\\nexample\\n__init__(self)\\n\\nIn parameterize constructor, The constructor that takes arguments and that will also call when \\nobject ill create but it will execute with having some argument. and initialize with \\nsome parameters.\\nExample\\n__init__(self,parmeter1,parameter2)'"
      ]
     },
     "execution_count": 8,
     "metadata": {},
     "output_type": "execute_result"
    }
   ],
   "source": [
    "\"\"\"2. Differentiate between a parameterless constructor and a parameterized constructor in Python.\"\"\"\n",
    "\n",
    "\"\"\"In parameterless constructor, the constructor do not take any arguments, without any aurgument\n",
    "it will call when object of that class will create.\n",
    "example\n",
    "__init__(self)\n",
    "\n",
    "In parameterize constructor, The constructor that takes arguments and that will also call when \n",
    "object ill create but it will execute with having some argument. and initialize with \n",
    "some parameters.\n",
    "Example\n",
    "__init__(self,parmeter1,parameter2)\"\"\"\n"
   ]
  },
  {
   "cell_type": "code",
   "execution_count": 6,
   "id": "df962e9d",
   "metadata": {},
   "outputs": [
    {
     "name": "stdout",
     "output_type": "stream",
     "text": [
      "Attribute 1: 45\n",
      "Attribute 2: 95\n"
     ]
    }
   ],
   "source": [
    "\"\"\"3. How do you define a constructor in a Python class? Provide an example.\"\"\"\n",
    "\n",
    "\"\"\"The constructor define in class with between two 2 underscore\n",
    "ex. __init__\n",
    "an dit will call automatically.\n",
    "example is as follows.\"\"\"\n",
    "\n",
    "class Class1:\n",
    "    def __init__(self, par1, par2):\n",
    "        self.attribute1 = par1\n",
    "        self.attribute2 = par2\n",
    "\n",
    "    def display_attributes(self):\n",
    "        print(f\"Attribute 1: {self.attribute1}\")\n",
    "        print(f\"Attribute 2: {self.attribute2}\")\n",
    "\n",
    "obj1 = Class1(45, 95)\n",
    "obj1.display_attributes()\n"
   ]
  },
  {
   "cell_type": "code",
   "execution_count": 9,
   "id": "6823b5db",
   "metadata": {},
   "outputs": [
    {
     "data": {
      "text/plain": [
       "'The __init__ is an constructor that most used constructor in python to initialize automatically.\\nThe role of __init__ method is to initiate the parameters that pass by object when it created.\\nat the time of object creation the arguments pass it will come to init function as parameter \\nand that will use further in class.it will invoce automatically.'"
      ]
     },
     "execution_count": 9,
     "metadata": {},
     "output_type": "execute_result"
    }
   ],
   "source": [
    "\"\"\"4. Explain the `__init__` method in Python and its role in constructors.\"\"\"\n",
    "\n",
    "\"\"\"The __init__ is an constructor that most used constructor in python to initialize automatically.\n",
    "The role of __init__ method is to initiate the parameters that pass by object when it created.\n",
    "at the time of object creation the arguments pass it will come to init function as parameter \n",
    "and that will use further in class.it will invoce automatically.\"\"\""
   ]
  },
  {
   "cell_type": "code",
   "execution_count": 14,
   "id": "cd2fc2b7",
   "metadata": {},
   "outputs": [
    {
     "name": "stdout",
     "output_type": "stream",
     "text": [
      "name is shubh\n",
      "age is 30\n"
     ]
    }
   ],
   "source": [
    "\"\"\"5. In a class named `Person`, create a constructor that initializes the `name` and `age` attributes.\n",
    "Provide an example of creating an object of this class.\"\"\"\n",
    "\n",
    "class Person:\n",
    "    def __init__(self,name,age):\n",
    "        self.name = name\n",
    "        self.age = age\n",
    "    def information(self):\n",
    "        print(\"name is\", self.name)\n",
    "        print(\"age is\", self.age)\n",
    "per1 = Person(\"shubh\",30)\n",
    "per1.information()"
   ]
  },
  {
   "cell_type": "code",
   "execution_count": 9,
   "id": "2dbb9f2e",
   "metadata": {},
   "outputs": [
    {
     "name": "stdout",
     "output_type": "stream",
     "text": [
      "name is Shubham\n",
      "age is 30\n"
     ]
    }
   ],
   "source": [
    "\"\"\"6. How can you call a constructor explicitly in Python? Give an example.\"\"\"\n",
    "\n",
    "\"\"\"The explicitly calling construction is done with an creating object with using __init__\n",
    "Example is as follows:\"\"\"\n",
    "class Person:\n",
    "    def __init__(self,name,age):\n",
    "        self.name = name\n",
    "        self.age = age\n",
    "    def information(self):\n",
    "        print(\"name is\", self.name)\n",
    "        print(\"age is\", self.age)\n",
    "        \n",
    "obj = Person(\"shubh\",42)\n",
    "explicit_obj = Person.__init__(obj,\"Shubham\",30)\n",
    "obj.information()"
   ]
  },
  {
   "cell_type": "code",
   "execution_count": 11,
   "id": "94d2f22d",
   "metadata": {},
   "outputs": [
    {
     "name": "stdout",
     "output_type": "stream",
     "text": [
      "name is shubhendu\n",
      "age is 25\n"
     ]
    }
   ],
   "source": [
    "\"\"\"7. What is the significance of the `self` parameter in Python constructors? \n",
    "Explain with an example.\"\"\"\n",
    "\n",
    "\"\"\"The self is use as a parameter to constructor and method that indicates the the methods and\n",
    "constructor dedicate to that class. ot is not compalsory using self, you can use other word but\n",
    "in python self is used widly. In given example self is use in __init__ and also in method\n",
    "self will allow the access the attributes name and age\"\"\"\n",
    "\n",
    "class Person:\n",
    "    def __init__(self,name,age):\n",
    "        self.name = name\n",
    "        self.age = age\n",
    "    def information(self):\n",
    "        print(\"name is\", self.name)\n",
    "        print(\"age is\", self.age)\n",
    "per1 = Person(\"shubhendu\",25)\n",
    "per1.information()"
   ]
  },
  {
   "cell_type": "code",
   "execution_count": 12,
   "id": "02b50cae",
   "metadata": {},
   "outputs": [
    {
     "name": "stdout",
     "output_type": "stream",
     "text": [
      "name shubham\n",
      "age 18\n"
     ]
    }
   ],
   "source": [
    "\"\"\"8. Discuss the concept of default constructors in Python. When are they used?\"\"\"\n",
    "\n",
    "\"\"\"The default construction will not take any arguments and variable of class initialize \n",
    "with default values and it will call automatically when an object of class is created.\"\"\"\n",
    "\n",
    "class Person:\n",
    "    def __init__(self):\n",
    "        self.name = \"shubham\"\n",
    "        self.age = 18\n",
    "        \n",
    "pers = Person()\n",
    "print(\"name\",pers.name)\n",
    "print(\"age\",pers.age)"
   ]
  },
  {
   "cell_type": "code",
   "execution_count": 14,
   "id": "957a9b2e",
   "metadata": {},
   "outputs": [
    {
     "name": "stdout",
     "output_type": "stream",
     "text": [
      "312\n"
     ]
    }
   ],
   "source": [
    "\"\"\"9. Create a Python class called `Rectangle` with a constructor that initializes \n",
    "the `width` and `height`attributes. Provide a method to calculate the area of the rectangle.\"\"\"\n",
    "\n",
    "class Rectangle:\n",
    "    def __init__(self,width,height):\n",
    "        self.width = width\n",
    "        self.height = height\n",
    "    def cal_area(self):\n",
    "        print(self.width * self.height)\n",
    "    \n",
    "a1 = Rectangle(12,26)\n",
    "a1.cal_area()"
   ]
  },
  {
   "cell_type": "code",
   "execution_count": 16,
   "id": "cd766994",
   "metadata": {},
   "outputs": [
    {
     "name": "stdout",
     "output_type": "stream",
     "text": [
      "5 34\n"
     ]
    }
   ],
   "source": [
    "\"\"\"10. How can you have multiple constructors in a Python class? Explain with an example.\"\"\"\n",
    "\n",
    "\"\"\"We can use multiple construction in a class, like in following exampel we use two constructor\n",
    "one is __init__ and other is __add__\"\"\"\n",
    "class bigdata:\n",
    "    def __init__(self , number_of_class , number_of_studnet):\n",
    "        self.number_of_class = number_of_class\n",
    "        self.number_of_studnet = number_of_studnet\n",
    "        \n",
    "    def __add__(self , other):\n",
    "        return bigdata(self.number_of_class + other.number_of_class , self.number_of_studnet+ other.number_of_studnet)\n",
    "    \n",
    "c1 = bigdata(1,10)\n",
    "c2 = bigdata(2,12)\n",
    "c3 = bigdata(2,12)\n",
    "result = c1+c2 + c3\n",
    "print(result.number_of_class , result.number_of_studnet)\n"
   ]
  },
  {
   "cell_type": "code",
   "execution_count": 2,
   "id": "ce05da4a",
   "metadata": {},
   "outputs": [
    {
     "name": "stdout",
     "output_type": "stream",
     "text": [
      "obj1.firstName shubh\n",
      "obj2.firstName shubham\n"
     ]
    }
   ],
   "source": [
    "\"\"\"11. What is method overloading, and how is it related to constructors in Python?\"\"\"\n",
    "\n",
    "\"\"\"If the multiple methods having same name but different number of parameter \n",
    "or different types of parameter used it is called method overloading.\n",
    "And if we are using the constructor as a method then it is constructor overloading\n",
    "the example of constructor overloading is as follows:\"\"\"\n",
    "\n",
    "class MyClass:\n",
    "    def __init__(self, firstName, lastName, age=None):\n",
    "        self.firstName = firstName\n",
    "        self.lastName = lastName\n",
    "        self.age = age\n",
    "\n",
    "obj1 = MyClass(\"shubh\", \"jain\")\n",
    "obj2 = MyClass(\"shubham\", \"fuladi\", 30)\n",
    "\n",
    "print(\"obj1.firstName\", obj1.firstName)\n",
    "print(\"obj2.firstName\", obj2.firstName)"
   ]
  },
  {
   "cell_type": "code",
   "execution_count": 4,
   "id": "96a80dd9",
   "metadata": {},
   "outputs": [
    {
     "name": "stdout",
     "output_type": "stream",
     "text": [
      "ParentClass constructor called with name: shuhb\n",
      "ChildClass constructor called with name: shuhb and age: 25\n"
     ]
    }
   ],
   "source": [
    "\"\"\"12. Explain the use of the `super()` function in Python constructors. Provide an example.\"\"\"\n",
    "\n",
    "\"\"\"The super() function is use to indicate parent class or super class. \n",
    "so we can inherits the functions from super class to subclass.\"\"\"\n",
    "\n",
    "class ParentClass:\n",
    "    def __init__(self, name):\n",
    "        self.name = name\n",
    "        print(f\"ParentClass constructor called with name: {self.name}\")\n",
    "\n",
    "class ChildClass(ParentClass):\n",
    "    def __init__(self, name, age):\n",
    "        # Call the constructor of the parent class using super()\n",
    "        super().__init__(name)\n",
    "        self.age = age\n",
    "        print(f\"ChildClass constructor called with name: {self.name} and age: {self.age}\")\n",
    "\n",
    "child_obj = ChildClass(\"shuhb\", 25)\n"
   ]
  },
  {
   "cell_type": "code",
   "execution_count": 6,
   "id": "32dff74e",
   "metadata": {},
   "outputs": [
    {
     "name": "stdout",
     "output_type": "stream",
     "text": [
      "title Life\n",
      "author shubh\n",
      "published_Year 2024\n"
     ]
    }
   ],
   "source": [
    "\"\"\"13. Create a class called `Book` with a constructor that initializes the `title`, \n",
    "`author`, and `published_year`attributes. Provide a method to display book details.\"\"\"\n",
    "\n",
    "class Book:\n",
    "    def __init__(self,title,author,published_Year):\n",
    "        self.title = title\n",
    "        self.author = author\n",
    "        self.published_Year = published_Year\n",
    "        \n",
    "    def display(self):\n",
    "        print(\"title\",self.title)\n",
    "        print(\"author\",self.author)\n",
    "        print(\"published_Year\",self.published_Year)\n",
    "\n",
    "objbk = Book(\"Life\",\"shubh\",2024)\n",
    "objbk.display()"
   ]
  },
  {
   "cell_type": "code",
   "execution_count": 7,
   "id": "a80a0c3c",
   "metadata": {},
   "outputs": [
    {
     "data": {
      "text/plain": [
       "'constructor is use for initialized automatic when object creates\\nMethod need to call after create the object\\nconstructor donot return value\\nmethod can return value'"
      ]
     },
     "execution_count": 7,
     "metadata": {},
     "output_type": "execute_result"
    }
   ],
   "source": [
    "\"\"\"14. Discuss the differences between constructors and regular methods in Python classes.\"\"\"\n",
    "\n",
    "\"\"\"constructor is use for initialized automatic when object creates\n",
    "Method need to call after create the object\n",
    "constructor donot return value\n",
    "method can return value\"\"\""
   ]
  },
  {
   "cell_type": "code",
   "execution_count": 8,
   "id": "f65ddbd7",
   "metadata": {},
   "outputs": [
    {
     "data": {
      "text/plain": [
       "\"The 'self' parameter is use to represent that \\nthe parameter is represent to that perticular class.\\ninplace of self we can use the other name also in class\\nthe self define by followed the dot (.) and then variable\""
      ]
     },
     "execution_count": 8,
     "metadata": {},
     "output_type": "execute_result"
    }
   ],
   "source": [
    "\"\"\"15. Explain the role of the `self` parameter in instance variable initialization \n",
    "within a constructor.\"\"\"\n",
    "\n",
    "\"\"\"The 'self' parameter is use to represent that \n",
    "the parameter is represent to that perticular class.\n",
    "inplace of self we can use the other name also in class\n",
    "the self define by followed the dot (.) and then variable\"\"\""
   ]
  },
  {
   "cell_type": "code",
   "execution_count": 9,
   "id": "dc082ca8",
   "metadata": {},
   "outputs": [
    {
     "name": "stdout",
     "output_type": "stream",
     "text": [
      "True\n",
      "Instance 1\n",
      "Instance 1\n"
     ]
    }
   ],
   "source": [
    "\"\"\"16. How do you prevent a class from having multiple instances by using constructors in Python? \n",
    "Provide an example.\"\"\"\n",
    "\n",
    "class SingletonClass:\n",
    "    _instance = None  # Class variable to track the instance\n",
    "\n",
    "    def __new__(cls, *args, **kwargs):\n",
    "        if not cls._instance:\n",
    "            # If no instance exists, create one\n",
    "            cls._instance = super(SingletonClass, cls).__new__(cls)\n",
    "        return cls._instance\n",
    "\n",
    "    def __init__(self, data):\n",
    "        if not hasattr(self, 'initialized'):\n",
    "            # Initialize only if not already initialized\n",
    "            self.data = data\n",
    "            self.initialized = True\n",
    "\n",
    "# Creating instances of SingletonClass\n",
    "obj1 = SingletonClass(\"Instance 1\")\n",
    "obj2 = SingletonClass(\"Instance 2\")\n",
    "\n",
    "# Both references point to the same instance\n",
    "print(obj1 is obj2)  # Output: True\n",
    "\n",
    "# Accessing data attribute of the instance\n",
    "print(obj1.data)  # Output: Instance 1\n",
    "print(obj2.data)  # Output: Instance 1\n"
   ]
  },
  {
   "cell_type": "code",
   "execution_count": 11,
   "id": "1a0ebf0a",
   "metadata": {},
   "outputs": [
    {
     "name": "stdout",
     "output_type": "stream",
     "text": [
      "subjects are  ['Math', 'Science', 'History']\n"
     ]
    }
   ],
   "source": [
    "\"\"\"17. Create a Python class called `Student` with a constructor that takes a list of subjects \n",
    "as a parameter and initializes the `subjects` attribute.\"\"\"\n",
    "\n",
    "class Student:\n",
    "    def __init__(self, subjects):\n",
    "        self.subjects = subjects\n",
    "        \n",
    "    def display_subjects(self):\n",
    "        print(\"subjects are \",self.subjects)\n",
    "        \n",
    "sublst = [\"Math\", \"Science\", \"History\"]\n",
    "objstud = Student(sublst)\n",
    "objstud.display_subjects()"
   ]
  },
  {
   "cell_type": "code",
   "execution_count": 12,
   "id": "f4b73ac5",
   "metadata": {},
   "outputs": [
    {
     "name": "stdout",
     "output_type": "stream",
     "text": [
      "Object Instance1 created\n",
      "Object Instance2 created\n",
      "Object Instance1 is deleted\n"
     ]
    }
   ],
   "source": [
    "\"\"\"18. What is the purpose of the `__del__` method in Python classes,\n",
    "and how does it relate to constructors?\"\"\"\n",
    "\n",
    "\"\"\"__del__ is an destructor method. it will use to destroy the object.\n",
    "this will write to cleanup tasks before an object is removed from memory.\"\"\"\n",
    "\n",
    "class MyClass:\n",
    "    def __init__(self, name):\n",
    "        self.name = name\n",
    "        print(f\"Object {self.name} created\")\n",
    "\n",
    "    def __del__(self):\n",
    "        print(f\"Object {self.name} is deleted\")\n",
    "        \n",
    "obj1 = MyClass(\"Instance1\")\n",
    "obj2 = MyClass(\"Instance2\")\n",
    "\n",
    "del obj1\n"
   ]
  },
  {
   "cell_type": "code",
   "execution_count": 13,
   "id": "d153ecba",
   "metadata": {},
   "outputs": [
    {
     "name": "stdout",
     "output_type": "stream",
     "text": [
      "Person constructor called\n",
      "Student constructor called\n",
      "Name: shubh\n",
      "Age: 20\n",
      "Student ID: 345\n"
     ]
    }
   ],
   "source": [
    "\"\"\"19. Explain the use of constructor chaining in Python. Provide a practical example.\"\"\"\n",
    "\n",
    "\"\"\"Constructor chaining is the process of calling the one constructor in other constructor\n",
    " we can use the parameter of 1st constructor in 2nd constructor\n",
    " using super() keyword\"\"\"\n",
    "\n",
    "class Person:\n",
    "    def __init__(self, name, age):\n",
    "        self.name = name\n",
    "        self.age = age\n",
    "        print(\"Person constructor called\")\n",
    "\n",
    "class Student(Person):\n",
    "    def __init__(self, name, age, student_id):\n",
    "        super().__init__(name, age)\n",
    "        self.student_id = student_id\n",
    "        print(\"Student constructor called\")\n",
    "\n",
    "student = Student(\"shubh\", 20, \"345\")\n",
    "print(\"Name:\", student.name)\n",
    "print(\"Age:\", student.age)\n",
    "print(\"Student ID:\", student.student_id)\n"
   ]
  },
  {
   "cell_type": "code",
   "execution_count": 15,
   "id": "b18673a8",
   "metadata": {},
   "outputs": [
    {
     "name": "stdout",
     "output_type": "stream",
     "text": [
      "Car Information:\n",
      "Make: Toyota\n",
      "Model: Camry\n"
     ]
    }
   ],
   "source": [
    "\"\"\"20. Create a Python class called `Car` with a default constructor that initializes the `make` \n",
    "and `model`attributes. Provide a method to display car information.\"\"\"\n",
    "\n",
    "class Car:\n",
    "    def __init__(self, make, model):\n",
    "        self.make = make\n",
    "        self.model = model\n",
    "\n",
    "    def display_info(self):\n",
    "        print(f\"Car Information:\\nMake: {self.make}\\nModel: {self.model}\")\n",
    "\n",
    "car1 = Car(\"Toyota\", \"Camry\")\n",
    "car1.display_info()    "
   ]
  },
  {
   "cell_type": "markdown",
   "id": "b6858c58",
   "metadata": {},
   "source": [
    "## Inheritance:"
   ]
  },
  {
   "cell_type": "code",
   "execution_count": 18,
   "id": "4e98cf51",
   "metadata": {},
   "outputs": [],
   "source": [
    "\"\"\"1. What is inheritance in Python? Explain its significance in object-oriented programming.\"\"\"\n",
    "\n",
    "\"\"\"In python, the inheritance is the one of the property of object oriented language.\n",
    "the class that is inherited from is called \"parent class\" and class that inherits is called\n",
    "\"child class\". \"\"\"\n",
    "\"\"\"The syntax for inheritance is as follows\"\"\"\n",
    "class BaseClass:\n",
    "    pass                          # parent class \n",
    "    \n",
    "class DerivedClass(BaseClass):     # child class \n",
    "    pass\n"
   ]
  },
  {
   "cell_type": "code",
   "execution_count": 27,
   "id": "13989f66",
   "metadata": {},
   "outputs": [
    {
     "name": "stdout",
     "output_type": "stream",
     "text": [
      "This is first parent class.\n",
      "This is child class.\n",
      "This is child class.\n",
      "This is first parent class.\n",
      "This is second parent class\n"
     ]
    }
   ],
   "source": [
    "\"\"\"2. Differentiate between single inheritance and multiple inheritance in Python. \n",
    "Provide examples for each.\"\"\"\n",
    "\n",
    "\"\"\"If the class derived from one class it is called single inheritance.\n",
    "If the class derived from multiple class it is called as multiple inheritance.\n",
    "\n",
    "Single Inheritance: class DerivedClass(parentclass):\n",
    "Multiple Inheritance: class DerivedClass(parentclass1, parentclass2, ...):\"\"\"\n",
    "\n",
    "# single inheritance\n",
    "\n",
    "class Parent1:\n",
    "    def func1(self):\n",
    "        print(\"This is first parent class.\")\n",
    "\n",
    "class Parent2:\n",
    "    def func2(self):\n",
    "        print(\"This is second parent class\")\n",
    "        \n",
    "class Child11(Parent1):\n",
    "    def func11(self):\n",
    "        print(\"This is child class.\")\n",
    "\n",
    "class Child22(Parent1,Parent2):\n",
    "    def func22(self):\n",
    "        print(\"This is child class.\")\n",
    "        \n",
    "        \n",
    "obj1 = Child11()  ###single inheritance\n",
    "obj1.func1()\n",
    "obj1.func11()\n",
    "\n",
    "obj2 = Child22()   ### multiple inheritance\n",
    "obj2.func22()\n",
    "obj2.func1()\n",
    "obj2.func2()"
   ]
  },
  {
   "cell_type": "code",
   "execution_count": 33,
   "id": "da555ee8",
   "metadata": {},
   "outputs": [
    {
     "name": "stdout",
     "output_type": "stream",
     "text": [
      "Car Color: Blue\n",
      "Car Speed: 120\n",
      "Car Brand: Tata\n"
     ]
    }
   ],
   "source": [
    "\"\"\"3. Create a Python class called `Vehicle` with attributes `color` and `speed`. \n",
    "Then, create a child class called `Car` that inherits from `Vehicle` and \n",
    "adds a `brand` attribute. Provide an example of creating a `Car` object.\"\"\"\n",
    "\n",
    "class Vehicle:\n",
    "    def __init__(self, color, speed):\n",
    "        self.color = color\n",
    "        self.speed = speed\n",
    "    \n",
    "class Car(Vehicle):\n",
    "    def __init__(self, color,speed,brand):\n",
    "        super().__init__(color, speed)\n",
    "        self.brand = brand\n",
    "        \n",
    "objcar = Car(color=\"Blue\", speed=120, brand=\"Tata\")\n",
    "print(\"Car Color:\", objcar.color)\n",
    "print(\"Car Speed:\", objcar.speed)\n",
    "print(\"Car Brand:\", objcar.brand)"
   ]
  },
  {
   "cell_type": "code",
   "execution_count": 36,
   "id": "c3de13db",
   "metadata": {},
   "outputs": [
    {
     "name": "stdout",
     "output_type": "stream",
     "text": [
      "Square Area: 25\n",
      "Circle Area: 28.26\n"
     ]
    }
   ],
   "source": [
    "\"\"\"4. Explain the concept of method overriding in inheritance. Provide a practical example.\"\"\"\n",
    "\n",
    "\"\"\"In methodoverriding, the multiple method having same name in inherited class\n",
    "it is one of polymorphysm example\"\"\"\n",
    "\n",
    "class Shape:\n",
    "    def area(self):\n",
    "        return 0\n",
    "\n",
    "class Square(Shape):\n",
    "    def __init__(self, side_length):\n",
    "        self.side_length = side_length\n",
    "\n",
    "    def area(self):\n",
    "        # Override the area method for a square\n",
    "        return self.side_length ** 2\n",
    "\n",
    "class Circle(Shape):\n",
    "    def __init__(self, radius):\n",
    "        self.radius = radius\n",
    "\n",
    "    def area(self):\n",
    "        # Override the area method for a circle\n",
    "        return 3.14 * self.radius ** 2\n",
    "\n",
    "# Creating instances of the classes\n",
    "square = Square(side_length=5)\n",
    "circle = Circle(radius=3)\n",
    "\n",
    "# Calling the area method on each object\n",
    "print(\"Square Area:\", square.area())  \n",
    "print(\"Circle Area:\", circle.area())  \n"
   ]
  },
  {
   "cell_type": "code",
   "execution_count": 39,
   "id": "c692a4f3",
   "metadata": {},
   "outputs": [
    {
     "name": "stdout",
     "output_type": "stream",
     "text": [
      "name shubh\n",
      "age 30\n"
     ]
    },
    {
     "data": {
      "text/plain": [
       "'shubh'"
      ]
     },
     "execution_count": 39,
     "metadata": {},
     "output_type": "execute_result"
    }
   ],
   "source": [
    "\"\"\"5. How can you access the methods and attributes of a parent class from a child class in \n",
    "Python?Give an example.\"\"\"\n",
    "\"\"\"By using the overloading in inheritance and using the super() keyworld this can be achieved\"\"\"\n",
    "\n",
    "class Parent:\n",
    "    def __init__(self,name):\n",
    "        self.name = name\n",
    "        \n",
    "    def show_Info(self):\n",
    "        print(\"name\" , self.name)\n",
    "        \n",
    "class Child(Parent):\n",
    "    def __init__(self,name,age):\n",
    "        super().__init__(name)\n",
    "        self.age = age\n",
    "        \n",
    "    def show_Info(self):\n",
    "        super().show_Info()\n",
    "        print(\"age\" , self.age)\n",
    "        \n",
    "obj1 = Child(\"shubh\",30)\n",
    "obj1.show_Info()\n",
    "obj1.name\n"
   ]
  },
  {
   "cell_type": "code",
   "execution_count": 41,
   "id": "eed7964e",
   "metadata": {},
   "outputs": [
    {
     "name": "stdout",
     "output_type": "stream",
     "text": [
      "Parent's name: John\n",
      "Child's age: 10\n"
     ]
    }
   ],
   "source": [
    "\"\"\"6. Discuss the use of the `super()` function in Python inheritance.\n",
    "When and why is it used? Provide an example.\"\"\"\n",
    "\n",
    "\"\"\"the super() function is use to inherits the features of parent class to the child class\n",
    "it allowing the call the child class featurs from the child class\n",
    "we can call the methods and attributes of parent class from child class\n",
    "the example is as follows\"\"\"\n",
    "\n",
    "class Parent:\n",
    "    def __init__(self, name):\n",
    "        self.name = name\n",
    "\n",
    "    def display_info(self):\n",
    "        print(f\"Parent's name: {self.name}\")\n",
    "\n",
    "class Child(Parent):\n",
    "    def __init__(self, name, age):\n",
    "        # Calling the constructor of the parent class\n",
    "        super().__init__(name)\n",
    "        self.age = age\n",
    "\n",
    "    def display_info(self):\n",
    "        # Calling the display_info method of the parent class\n",
    "        super().display_info()\n",
    "        print(f\"Child's age: {self.age}\")\n",
    "\n",
    "# Creating an instance of the Child class\n",
    "child_obj = Child(name=\"John\", age=10)\n",
    "\n",
    "# Calling the display_info method of the Child class\n",
    "child_obj.display_info()"
   ]
  },
  {
   "cell_type": "code",
   "execution_count": 42,
   "id": "96335ec4",
   "metadata": {},
   "outputs": [
    {
     "name": "stdout",
     "output_type": "stream",
     "text": [
      "Animal: animal sound\n",
      "Dog: woof\n",
      "Cat: meuw\n"
     ]
    }
   ],
   "source": [
    "\"\"\"7. Create a Python class called `Animal` with a method `speak()`. Then, create child classes \n",
    "`Dog` and `Cat` that inherit from `Animal` and override the `speak()` method.\n",
    "Provide an example of using these classes.\"\"\"\n",
    "\n",
    "class Animal:\n",
    "    def speak(self):\n",
    "        return \"animal sound\"\n",
    "        \n",
    "class Dog(Animal):\n",
    "    def speak(self):\n",
    "        return \"woof\"\n",
    "        \n",
    "        \n",
    "class Cat(Animal):\n",
    "    def speak(self):\n",
    "        return \"meuw\"\n",
    "        \n",
    "animal = Animal()\n",
    "dog = Dog()\n",
    "cat = Cat()\n",
    "\n",
    "# Calling the speak method on each object\n",
    "print(\"Animal:\", animal.speak())  \n",
    "print(\"Dog:\", dog.speak())                        \n",
    "print(\"Cat:\", cat.speak())      "
   ]
  },
  {
   "cell_type": "code",
   "execution_count": 44,
   "id": "e3c20621",
   "metadata": {},
   "outputs": [
    {
     "name": "stdout",
     "output_type": "stream",
     "text": [
      "True\n",
      "True\n",
      "True\n",
      "True\n",
      "True\n",
      "False\n",
      "False\n"
     ]
    }
   ],
   "source": [
    "\"\"\"8. Explain the role of the `isinstance()` function in Python and \n",
    "how it relates to inheritance.\"\"\"\n",
    "\n",
    "\"\"\"THE isinstance() function is use to check an sepecific object is an instance of \n",
    "specific class. it will return the True or False\n",
    "the example is follows\"\"\"\n",
    "\n",
    "class Animal:\n",
    "    def speak(self):\n",
    "        return \"animal sound\"\n",
    "\n",
    "class Dog(Animal):\n",
    "    def speak(self):\n",
    "        return \"Woof\"\n",
    "\n",
    "class Cat(Animal):\n",
    "    def speak(self):\n",
    "        return \"Meow\"\n",
    "\n",
    "# Example of using isinstance() with inheritance\n",
    "animal = Animal()\n",
    "dog = Dog()\n",
    "cat = Cat()\n",
    "\n",
    "# Check if objects are instances of specific classes or their subclasses\n",
    "print(isinstance(animal, Animal))  \n",
    "print(isinstance(dog, Dog))               \n",
    "print(isinstance(cat, Cat))                \n",
    "\n",
    "# Check if objects are instances of the parent class\n",
    "print(isinstance(dog, Animal))            \n",
    "print(isinstance(cat, Animal))             \n",
    "\n",
    "# Check if objects are instances of other unrelated classes\n",
    "print(isinstance(dog, Cat))                \n",
    "print(isinstance(cat, Dog))             \n"
   ]
  },
  {
   "cell_type": "code",
   "execution_count": 45,
   "id": "3808c0f8",
   "metadata": {},
   "outputs": [
    {
     "name": "stdout",
     "output_type": "stream",
     "text": [
      "True\n",
      "True\n",
      "False\n",
      "False\n"
     ]
    }
   ],
   "source": [
    "\"\"\"9. What is the purpose of the `issubclass()` function in Python? Provide an example.\"\"\"\n",
    "\n",
    "\"\"\"\n",
    "The issubclass() function in Python is used to check whether a class is a \n",
    "subclass of another class. \n",
    "it returns True if the first class is a subclass of the second class, and False \n",
    "\"\"\"\n",
    "class Animal:\n",
    "    def speak(self):\n",
    "        return \"Generic animal sound\"\n",
    "\n",
    "class Dog(Animal):\n",
    "    def speak(self):\n",
    "        return \"Woof!\"\n",
    "\n",
    "class Cat(Animal):\n",
    "    def speak(self):\n",
    "        return \"Meow!\"\n",
    "\n",
    "# Check if classes are subclasses of each other\n",
    "print(issubclass(Dog, Animal))  \n",
    "print(issubclass(Cat, Animal)) \n",
    "print(issubclass(Cat, Dog))      \n",
    "print(issubclass(Animal, Cat))   \n"
   ]
  },
  {
   "cell_type": "code",
   "execution_count": 48,
   "id": "9f6adeb2",
   "metadata": {},
   "outputs": [
    {
     "name": "stdout",
     "output_type": "stream",
     "text": [
      "Parent constructor called for shubh\n",
      "Child constructor called for shubh, 30 years old\n"
     ]
    }
   ],
   "source": [
    "\"\"\"10. Discuss the concept of constructor inheritance in Python.\n",
    "How are constructors inherited in child classes?\"\"\"\n",
    "\n",
    "\"\"\"In python constructor from superclass can inherits in child class\n",
    "the example is shown as follows\"\"\"\n",
    "\n",
    "class Parent:\n",
    "    def __init__(self, name):\n",
    "        self.name = name\n",
    "        print(f\"Parent constructor called for {self.name}\")\n",
    "\n",
    "class Child(Parent):\n",
    "    def __init__(self, name, age):\n",
    "        # Call the constructor of the parent class using super()\n",
    "        super().__init__(name)\n",
    "        self.age = age\n",
    "        print(f\"Child constructor called for {self.name}, {self.age} years old\")\n",
    "\n",
    "child_obj = Child(name=\"shubh\", age=30)\n"
   ]
  },
  {
   "cell_type": "code",
   "execution_count": 50,
   "id": "0db43350",
   "metadata": {},
   "outputs": [
    {
     "name": "stdout",
     "output_type": "stream",
     "text": [
      "Circle Area: 78.53981633974483\n",
      "Rectangle Area: 24\n"
     ]
    }
   ],
   "source": [
    "\"\"\"11. Create a Python class called `Shape` with a method `area()` that \n",
    "calculates the area of a shape. Then, create child classes `Circle` and `Rectangle` \n",
    "that inherit from `Shape` and implement the `area()` method accordingly. Provide an example.\"\"\"\n",
    "\n",
    "import math\n",
    "\n",
    "class Shape:\n",
    "    def area(self):\n",
    "        return 0\n",
    "\n",
    "class Circle(Shape):\n",
    "    def __init__(self, radius):\n",
    "        self.radius = radius\n",
    "\n",
    "    def area(self):\n",
    "        return math.pi * self.radius**2\n",
    "\n",
    "class Rectangle(Shape):\n",
    "    def __init__(self, length, width):\n",
    "        self.length = length\n",
    "        self.width = width\n",
    "\n",
    "    def area(self):\n",
    "        return self.length * self.width\n",
    "\n",
    "circle = Circle(radius=5)\n",
    "rectangle = Rectangle(length=4, width=6)\n",
    "print(\"Circle Area:\", circle.area())        \n",
    "print(\"Rectangle Area:\", rectangle.area()) \n",
    "\n",
    "        "
   ]
  },
  {
   "cell_type": "code",
   "execution_count": 66,
   "id": "474721fd",
   "metadata": {},
   "outputs": [
    {
     "name": "stdout",
     "output_type": "stream",
     "text": [
      "this is a implementation of database connect\n"
     ]
    }
   ],
   "source": [
    "\"\"\"12. Explain the use of abstract base classes (ABCs) in Python and how they relate to \n",
    "inheritance. Provide an example using the `abc` module.\"\"\"\n",
    "\n",
    "\"\"\"the abstract base classes define with decorater @abstractmethod and multiple method \n",
    "define in a class to provide the interface for group of related classes\"\"\"\n",
    "\n",
    "from abc import ABC, abstractmethod\n",
    "\n",
    "class pwskills(ABC):  \n",
    "    @abstractmethod\n",
    "    def databaseconnect(self):\n",
    "        pass\n",
    "    \n",
    "    @abstractmethod\n",
    "    def checkuserenrollment(self, user_mailid):\n",
    "        pass\n",
    "    \n",
    "    @abstractmethod\n",
    "    def check_completed_lecture(self, user_id , class_id):\n",
    "        pass\n",
    "    \n",
    "    @abstractmethod\n",
    "    def check_internship(self,user_id):\n",
    "        pass\n",
    "    \n",
    "class databaseconnect(pwskills):\n",
    "    def databaseconnect(self):\n",
    "        print(\"this is a implementation of database connect\")\n",
    "    \n",
    "    def checkuserenrollment(self, user_mailid):\n",
    "        return \"test\"\n",
    "    \n",
    "    def check_completed_lecture(self, user_id , class_id):\n",
    "        return \"test\"\n",
    "    \n",
    "    def check_internship(self,user_id):\n",
    "        return \"test\"\n",
    "    \n",
    "db1 = databaseconnect()\n",
    "db1.databaseconnect()"
   ]
  },
  {
   "cell_type": "code",
   "execution_count": 67,
   "id": "4782ba3c",
   "metadata": {},
   "outputs": [
    {
     "name": "stdout",
     "output_type": "stream",
     "text": [
      "I am private\n",
      "This is a private method\n"
     ]
    }
   ],
   "source": [
    "\"\"\"13. How can you prevent a child class from modifying certain attributes or methods inherited\n",
    "from a parent class in Python?\"\"\"\n",
    "\n",
    "\"\"\"To prevent the methods and attribute just make it private using double underscore\"\"\"\n",
    "\n",
    "class Parent:\n",
    "    def __init__(self):\n",
    "        self.__private_attribute = \"I am private\"\n",
    "\n",
    "    def __private_method(self):\n",
    "        print(\"This is a private method\")\n",
    "\n",
    "class Child(Parent):\n",
    "    def __init__(self):\n",
    "        super().__init__()\n",
    "\n",
    "    def modify_private(self):\n",
    "        print(self._Parent__private_attribute)\n",
    "        self._Parent__private_method()\n",
    "\n",
    "child = Child()\n",
    "child.modify_private()"
   ]
  },
  {
   "cell_type": "code",
   "execution_count": 2,
   "id": "0b7b7b52",
   "metadata": {},
   "outputs": [
    {
     "name": "stdout",
     "output_type": "stream",
     "text": [
      "Employee: shubh, Salary: Rs50000\n",
      "Manager: yash, Salary: Rs70000, Department: Marketing\n"
     ]
    }
   ],
   "source": [
    "\"\"\"14. Create a Python class called `Employee` with attributes `name` and `salary`. \n",
    "Then, create a child class`Manager` that inherits from `Employee` and adds an attribute `department`. \n",
    "Provide an example.\"\"\"\n",
    "\n",
    "class Employee:\n",
    "    def __init__(self, name, salary):\n",
    "        self.name = name\n",
    "        self.salary = salary\n",
    "    \n",
    "class Manager(Employee):\n",
    "    def __init__(self, name, salary,department):\n",
    "        super().__init__(name,salary)\n",
    "        self.department = department\n",
    "        \n",
    "employee1 = Employee(\"shubh\", 50000)\n",
    "print(f\"Employee: {employee1.name}, Salary: Rs{employee1.salary}\")\n",
    "\n",
    "manager1 = Manager(\"yash\", 70000, \"Marketing\")\n",
    "print(f\"Manager: {manager1.name}, Salary: Rs{manager1.salary}, Department: {manager1.department}\")"
   ]
  },
  {
   "cell_type": "code",
   "execution_count": 3,
   "id": "acdf4128",
   "metadata": {},
   "outputs": [
    {
     "name": "stdout",
     "output_type": "stream",
     "text": [
      "Generic animal sound\n",
      "Woof!\n"
     ]
    }
   ],
   "source": [
    "\"\"\"15. Discuss the concept of method overloading in Python inheritance. \n",
    "How does it differ from method overriding?\"\"\"\n",
    "\n",
    "\"\"\"Method overloading use when we need to define multiple method \n",
    "in same class with same name but different number of datatype or different datatypes\n",
    "and overriding , if you define a method with the same name multiple times in a class,\n",
    "the last definition will override any previous ones so in python we can use default parameter to \n",
    "achive method overloading\n",
    "In method overriding the method that already define in parent class with same of method name, \n",
    "same datatypes one method create in child class\n",
    "example is follows:\n",
    "\"\"\"\n",
    "\n",
    "class Animal:\n",
    "    def speak(self):\n",
    "        return \"Generic animal sound\"\n",
    "\n",
    "class Dog(Animal):\n",
    "    def speak(self):\n",
    "        return \"Woof!\"\n",
    "\n",
    "generic_animal = Animal()\n",
    "print(generic_animal.speak())  \n",
    "my_dog = Dog()\n",
    "print(my_dog.speak())  \n"
   ]
  },
  {
   "cell_type": "code",
   "execution_count": 4,
   "id": "cdfe7222",
   "metadata": {},
   "outputs": [
    {
     "data": {
      "text/plain": [
       "'Answer - __init__ method is called as constructor. \\nTo inheritance the constructor in child class\\nwe have to use super() function and we can inheritance the attributes.\\nfunction to ensure that the attributes of both \\nthe parent and child classes are properly initialized.'"
      ]
     },
     "execution_count": 4,
     "metadata": {},
     "output_type": "execute_result"
    }
   ],
   "source": [
    "\"\"\"16. Explain the purpose of the `__init__()` method in Python \n",
    "inheritance and how it is utilized in child classes.\"\"\"\n",
    "\n",
    "\"\"\"Answer - __init__ method is called as constructor. \n",
    "To inheritance the constructor in child class\n",
    "we have to use super() function and we can inheritance the attributes.\n",
    "function to ensure that the attributes of both \n",
    "the parent and child classes are properly initialized.\"\"\"\n"
   ]
  },
  {
   "cell_type": "code",
   "execution_count": 5,
   "id": "2276b944",
   "metadata": {},
   "outputs": [
    {
     "name": "stdout",
     "output_type": "stream",
     "text": [
      "Default flying behavior for a bird\n",
      "Soaring through the sky like an eagle\n",
      "Flitting from branch to branch like a sparrow\n"
     ]
    }
   ],
   "source": [
    "\"\"\"17. Create a Python class called `Bird` with a method `fly()`. \n",
    "Then, create child classes `Eagle` and `Sparrow` that inherit from `Bird`\n",
    "and implement the `fly()` method differently. Provide an example of using these classes.\"\"\"\n",
    "\n",
    "class Bird:\n",
    "    def fly(self):\n",
    "        return \"Default flying behavior for a bird\"\n",
    "\n",
    "class Eagle(Bird):\n",
    "    def fly(self):\n",
    "        return \"Soaring through the sky like an eagle\"\n",
    "\n",
    "class Sparrow(Bird):\n",
    "    def fly(self):\n",
    "        return \"Flitting from branch to branch like a sparrow\"\n",
    "\n",
    "generic_bird = Bird()\n",
    "print(generic_bird.fly())  \n",
    "\n",
    "eagle = Eagle()\n",
    "print(eagle.fly())  \n",
    "\n",
    "sparrow = Sparrow()\n",
    "print(sparrow.fly())  \n"
   ]
  },
  {
   "cell_type": "code",
   "execution_count": 6,
   "id": "d62d0e7c",
   "metadata": {},
   "outputs": [
    {
     "name": "stdout",
     "output_type": "stream",
     "text": [
      "B's method\n",
      "C's method\n",
      "A's method\n"
     ]
    }
   ],
   "source": [
    "\"\"\"18. What is the \"diamond problem\" in multiple inheritance, \n",
    "and how does Python address it?\"\"\"\n",
    "\n",
    "class A:\n",
    "    def method(self):\n",
    "        print(\"A's method\")\n",
    "\n",
    "class B(A):\n",
    "    def method(self):\n",
    "        print(\"B's method\")\n",
    "        super().method()\n",
    "\n",
    "class C(A):\n",
    "    def method(self):\n",
    "        print(\"C's method\")\n",
    "        super().method()\n",
    "\n",
    "class D(B, C):\n",
    "    pass\n",
    "\n",
    "obj_d = D()\n",
    "obj_d.method()\n"
   ]
  },
  {
   "cell_type": "code",
   "execution_count": 8,
   "id": "25c946d7",
   "metadata": {},
   "outputs": [
    {
     "name": "stdout",
     "output_type": "stream",
     "text": [
      "True\n",
      "True\n",
      "Engine started\n"
     ]
    }
   ],
   "source": [
    "\"\"\"19. Discuss the concept of \"is-a\" and \"has-a\" relationships in inheritance, \n",
    "and provide examples of each.\"\"\"\n",
    "\n",
    "# \"is-a\" relationship example\n",
    "class Animal:\n",
    "    def speak(self):\n",
    "        pass\n",
    "\n",
    "class Dog(Animal):\n",
    "    def speak(self):\n",
    "        return \"Woof!\"\n",
    "\n",
    "class Cat(Animal):\n",
    "    def speak(self):\n",
    "        return \"Meow!\"\n",
    "\n",
    "# Objects and their \"is-a\" relationships\n",
    "my_dog = Dog()\n",
    "my_cat = Cat()\n",
    "\n",
    "print(isinstance(my_dog, Animal))  \n",
    "print(isinstance(my_cat, Animal))  \n",
    "\n",
    "# \"has-a\" relationship example\n",
    "class Engine:\n",
    "    def start(self):\n",
    "        return \"Engine started\"\n",
    "\n",
    "class Car:\n",
    "    def __init__(self):\n",
    "        self.engine = Engine()\n",
    "\n",
    "    def start_engine(self):\n",
    "        return self.engine.start()\n",
    "\n",
    "# Object and its \"has-a\" relationship\n",
    "my_car = Car()\n",
    "print(my_car.start_engine())  \n"
   ]
  },
  {
   "cell_type": "code",
   "execution_count": 9,
   "id": "cece150d",
   "metadata": {},
   "outputs": [
    {
     "name": "stdout",
     "output_type": "stream",
     "text": [
      "Hi, I'm shubh, and I am 20 years old.\n",
      "shubh is studying hard for exams.\n",
      "Hi, I'm yash, and I am 45 years old.\n",
      "yash is conducting a lecture.\n"
     ]
    }
   ],
   "source": [
    "\"\"\"20. Create a Python class hierarchy for a university system. Start with a base class \n",
    "`Person` and create child classes `Student` and `Professor`, each with their own attributes \n",
    "and methods. Provide an example of using these classes in a university context.\"\"\"\n",
    "\n",
    "class Person:\n",
    "    def __init__(self, name, age):\n",
    "        self.name = name\n",
    "        self.age = age\n",
    "\n",
    "    def introduce(self):\n",
    "        return f\"Hi, I'm {self.name}, and I am {self.age} years old.\"\n",
    "\n",
    "class Student(Person):\n",
    "    def __init__(self, name, age, student_id):\n",
    "        super().__init__(name, age)\n",
    "        self.student_id = student_id\n",
    "\n",
    "    def study(self):\n",
    "        return f\"{self.name} is studying hard for exams.\"\n",
    "\n",
    "class Professor(Person):\n",
    "    def __init__(self, name, age, employee_id):\n",
    "        super().__init__(name, age)\n",
    "        self.employee_id = employee_id\n",
    "\n",
    "    def teach(self):\n",
    "        return f\"{self.name} is conducting a lecture.\"\n",
    "\n",
    "student1 = Student(\"shubh\", 20, \"345\")\n",
    "professor1 = Professor(\"yash\", 45, \"765\")\n",
    "\n",
    "print(student1.introduce())  \n",
    "print(student1.study())     \n",
    "\n",
    "print(professor1.introduce())  \n",
    "print(professor1.teach())     "
   ]
  },
  {
   "cell_type": "markdown",
   "id": "c0ab7d36",
   "metadata": {},
   "source": [
    "## Encapsulation:"
   ]
  },
  {
   "cell_type": "code",
   "execution_count": 10,
   "id": "f8f52bc3",
   "metadata": {},
   "outputs": [
    {
     "data": {
      "text/plain": [
       "'The encapsulation is the one of the principle of OOP\\nthe encapsulation is the concept of binding the atributes,method,data \\nin single class to restrict the accesibility of details from outside the world\\nit can impliment through the use of public, private , protected access modifier'"
      ]
     },
     "execution_count": 10,
     "metadata": {},
     "output_type": "execute_result"
    }
   ],
   "source": [
    "\"\"\"1. Explain the concept of encapsulation in Python. \n",
    "What is its role in object-oriented programming?\"\"\"\n",
    "\n",
    "\"\"\"The encapsulation is the one of the principle of OOP\n",
    "the encapsulation is the concept of binding the atributes,method,data \n",
    "in single class to restrict the accesibility of details from outside the world\n",
    "it can impliment through the use of public, private , protected access modifier\"\"\""
   ]
  },
  {
   "cell_type": "code",
   "execution_count": 12,
   "id": "d37dcb4c",
   "metadata": {},
   "outputs": [
    {
     "data": {
      "text/plain": [
       "'The encapsulation is the one of the principle of OOP\\nthe encapsulation is the concept of binding the atributes,method,data \\nin single class to restrict the accesibility of details from outside the world\\nit can impliment through the use of public, private , protected access modifier\\nand we can make private atributes to hide the data.\\nalso can use the protect access\\npublic atributes can access from both within class and external code\\nprotected attributes can access only from class and there sub class\\nprivate atributes can access only from class'"
      ]
     },
     "execution_count": 12,
     "metadata": {},
     "output_type": "execute_result"
    }
   ],
   "source": [
    "\"\"\"2. Describe the key principles of encapsulation, including access control and data hiding.\"\"\"\n",
    "\n",
    "\"\"\"The encapsulation is the one of the principle of OOP\n",
    "the encapsulation is the concept of binding the atributes,method,data \n",
    "in single class to restrict the accesibility of details from outside the world\n",
    "it can impliment through the use of public, private , protected access modifier\n",
    "and we can make private atributes to hide the data.\n",
    "also can use the protect access\n",
    "public atributes can access from both within class and external code\n",
    "protected attributes can access only from class and there sub class\n",
    "private atributes can access only from class\"\"\""
   ]
  },
  {
   "cell_type": "code",
   "execution_count": 13,
   "id": "bff2c4fd",
   "metadata": {},
   "outputs": [
    {
     "name": "stdout",
     "output_type": "stream",
     "text": [
      "Toyota\n",
      "Camry\n",
      "Corolla\n",
      "Mileage: 50 miles\n"
     ]
    }
   ],
   "source": [
    "\"\"\"3. How can you achieve encapsulation in Python classes? Provide an example.\"\"\"\n",
    "\n",
    "\"\"\"Encapsulation in Python can be achieved by using access modifiers public, private, \n",
    "and protected defining appropriate methods to access and modify the attributes\"\"\"\n",
    "\n",
    "class Car:\n",
    "    def __init__(self, make, model, fuel_type):\n",
    "        self._make = make  # Protected attribute\n",
    "        self.__model = model  # Private attribute\n",
    "        self.__fuel_type = fuel_type  # Private attribute\n",
    "        self._mileage = 0\n",
    "\n",
    "    def get_model(self):\n",
    "        return self.__model\n",
    "\n",
    "    def set_model(self, new_model):\n",
    "        self.__model = new_model\n",
    "\n",
    "    def get_fuel_type(self):\n",
    "        return self.__fuel_type\n",
    "\n",
    "    def set_fuel_type(self, new_fuel_type):\n",
    "        self.__fuel_type = new_fuel_type\n",
    "\n",
    "    def drive(self, miles):\n",
    "        self._mileage += miles\n",
    "\n",
    "my_car = Car(\"Toyota\", \"Camry\", \"Gasoline\")\n",
    "print(my_car._make)  \n",
    "print(my_car.get_model()) \n",
    "my_car.set_model(\"Corolla\")\n",
    "print(my_car.get_model())  \n",
    "my_car.drive(50)\n",
    "print(f\"Mileage: {my_car._mileage} miles\")  "
   ]
  },
  {
   "cell_type": "code",
   "execution_count": 14,
   "id": "99bc7447",
   "metadata": {},
   "outputs": [
    {
     "data": {
      "text/plain": [
       "'The encapsulation is the one of the principle of OOP\\nthe encapsulation is the concept of binding the atributes,method,data \\nin single class to restrict the accesibility of details from outside the world\\nit can impliment through the use of public, private , protected access modifier\\nand we can make private atributes to hide the data.\\nalso can use the protect access\\npublic atributes can access from both within class and external code\\nprotected attributes can access only from class and there sub class\\nprivate atributes can access only from class'"
      ]
     },
     "execution_count": 14,
     "metadata": {},
     "output_type": "execute_result"
    }
   ],
   "source": [
    "\"\"\"4. Discuss the difference between public, private, and protected access modifiers in Python.\"\"\"\n",
    "\n",
    "\"\"\"The encapsulation is the one of the principle of OOP\n",
    "the encapsulation is the concept of binding the atributes,method,data \n",
    "in single class to restrict the accesibility of details from outside the world\n",
    "it can impliment through the use of public, private , protected access modifier\n",
    "and we can make private atributes to hide the data.\n",
    "also can use the protect access\n",
    "public atributes can access from both within class and external code\n",
    "protected attributes can access only from class and there sub class\n",
    "private atributes can access only from class\"\"\""
   ]
  },
  {
   "cell_type": "code",
   "execution_count": 15,
   "id": "3fd38291",
   "metadata": {},
   "outputs": [
    {
     "name": "stdout",
     "output_type": "stream",
     "text": [
      "shubh\n",
      "yash\n"
     ]
    }
   ],
   "source": [
    "\"\"\"5. Create a Python class called `Person` with a private attribute `__name`.\n",
    "Provide methods to get and set the name attribute.\"\"\"\n",
    "\n",
    "class Person:\n",
    "    def __init__(self, name):\n",
    "        self.__name = name  # Private attribute\n",
    "    def get_name(self):\n",
    "        return self.__name\n",
    "    def set_name(self, new_name):\n",
    "        self.__name = new_name\n",
    "\n",
    "person = Person(\"shubh\")\n",
    "print(person.get_name())  \n",
    "person.set_name(\"yash\")\n",
    "print(person.get_name())  "
   ]
  },
  {
   "cell_type": "code",
   "execution_count": 16,
   "id": "3edd65ac",
   "metadata": {},
   "outputs": [
    {
     "name": "stdout",
     "output_type": "stream",
     "text": [
      "John Doe\n",
      "25\n",
      "Invalid balance value. Balance must be non-negative.\n",
      "1500\n"
     ]
    }
   ],
   "source": [
    "\"\"\"6. Explain the purpose of getter and setter methods in encapsulation. Provide examples.\"\"\"\n",
    "\n",
    "\"\"\"Getter and setter are the two types of methods that achieved the encapsulation \n",
    "in OOP by controlling access to class attributes\n",
    "Getter methods also known as access method \n",
    "it is use to retrieve the value of private and protected attributes of class\n",
    "setter method also known as mutator method\n",
    "it is use to modify the values of private and protected attributes in a control way.\n",
    "\"\"\"\n",
    "# example of getter\n",
    "class Person:\n",
    "    def __init__(self, name, age):\n",
    "        self._name = name  # underscore indicates a protected attribute\n",
    "        self._age = age\n",
    "\n",
    "    # Getter methods\n",
    "    def get_name(self):\n",
    "        return self._name\n",
    "\n",
    "    def get_age(self):\n",
    "        return self._age\n",
    "\n",
    "# Usage\n",
    "person = Person(\"John Doe\", 25)\n",
    "print(person.get_name()) \n",
    "print(person.get_age())   \n",
    "\n",
    "\n",
    "#example of setter\n",
    "class BankAccount:\n",
    "    def __init__(self, balance):\n",
    "        self._balance = balance\n",
    "\n",
    "    # Setter method with validation\n",
    "    def set_balance(self, new_balance):\n",
    "        if new_balance >= 0:\n",
    "            self._balance = new_balance\n",
    "        else:\n",
    "            print(\"Invalid balance value. Balance must be non-negative.\")\n",
    "\n",
    "# Usage\n",
    "account = BankAccount(1000)\n",
    "account.set_balance(1500)  \n",
    "account.set_balance(-500)  \n",
    "print(account._balance)   \n"
   ]
  },
  {
   "cell_type": "code",
   "execution_count": 17,
   "id": "cb998d62",
   "metadata": {},
   "outputs": [
    {
     "name": "stdout",
     "output_type": "stream",
     "text": [
      "42\n"
     ]
    }
   ],
   "source": [
    "\"\"\"7. What is name mangling in Python, and how does it affect encapsulation?\"\"\"\n",
    "\n",
    "\"\"\"Name mangling in Python is a mechanism that changes the name of an attribute in a \n",
    "class to make it less accessible from outside the class. \n",
    "This is achieved by adding a prefix to the attribute name. \n",
    "The purpose of name mangling is not to provide security,\n",
    "but rather to avoid unintentional name clashes in large projects \n",
    "where different classes might use similar attribute names.\"\"\"\n",
    "class MyClass:\n",
    "    def __init__(self):\n",
    "        self.__private_attribute = 42\n",
    "\n",
    "    def get_private_attribute(self):\n",
    "        return self.__private_attribute\n",
    "\n",
    "obj = MyClass()\n",
    "print(obj.get_private_attribute())  \n",
    "\n"
   ]
  },
  {
   "cell_type": "code",
   "execution_count": 18,
   "id": "183d3d34",
   "metadata": {},
   "outputs": [
    {
     "name": "stdout",
     "output_type": "stream",
     "text": [
      "Initial balance: Rs1000\n",
      "Deposited Rs500. New balance: Rs1500\n",
      "Withdrew Rs200. New balance: Rs1300\n",
      "Final balance: Rs1300\n"
     ]
    }
   ],
   "source": [
    "\"\"\"8. Create a Python class called `BankAccount` with private attributes \n",
    "for the account balance (`__balance`)\"\"\"\n",
    "\n",
    "class BankAccount:\n",
    "    def __init__(self, initial_balance=0):\n",
    "        self.__balance = initial_balance\n",
    "\n",
    "    def get_balance(self):\n",
    "        return self.__balance\n",
    "\n",
    "    def deposit(self, amount):\n",
    "        if amount > 0:\n",
    "            self.__balance += amount\n",
    "            print(f\"Deposited Rs{amount}. New balance: Rs{self.__balance}\")\n",
    "        else:\n",
    "            print(\"Invalid deposit amount. Amount must be positive.\")\n",
    "\n",
    "    def withdraw(self, amount):\n",
    "        if 0 < amount <= self.__balance:\n",
    "            self.__balance -= amount\n",
    "            print(f\"Withdrew Rs{amount}. New balance: Rs{self.__balance}\")\n",
    "        else:\n",
    "            print(\"Invalid withdrawal amount. Amount must be positive and not exceed the balance.\")\n",
    "\n",
    "account = BankAccount(1000)\n",
    "print(f\"Initial balance: Rs{account.get_balance()}\")\n",
    "\n",
    "account.deposit(500)\n",
    "account.withdraw(200)\n",
    "\n",
    "print(f\"Final balance: Rs{account.get_balance()}\")\n"
   ]
  },
  {
   "cell_type": "code",
   "execution_count": 19,
   "id": "d5ad7752",
   "metadata": {},
   "outputs": [
    {
     "data": {
      "text/plain": [
       "'The encapsulation in OOP is use for the binding the data and methods in class which use to \\nmaintain the code and provide security\\nIt will help to maintain code in easy way with attributes and methods in class\\nalso the accesibility of attributes we can define.\\naccess control provide the security'"
      ]
     },
     "execution_count": 19,
     "metadata": {},
     "output_type": "execute_result"
    }
   ],
   "source": [
    "\"\"\"9. Discuss the advantages of encapsulation in terms of code maintainability and security.\"\"\"\n",
    "\n",
    "\"\"\"The encapsulation in OOP is use for the binding the data and methods in class which use to \n",
    "maintain the code and provide security\n",
    "It will help to maintain code in easy way with attributes and methods in class\n",
    "also the accesibility of attributes we can define.\n",
    "access control provide the security\"\"\""
   ]
  },
  {
   "cell_type": "code",
   "execution_count": 20,
   "id": "3b1461e1",
   "metadata": {},
   "outputs": [
    {
     "name": "stdout",
     "output_type": "stream",
     "text": [
      "42\n"
     ]
    }
   ],
   "source": [
    "\"\"\"10. How can you access private attributes in Python? \n",
    "Provide an example demonstrating the use of name mangling.\"\"\"\n",
    "\n",
    "\"\"\"private attributes are not truly inaccessible from outside the class.\n",
    "they are simply name-mangled by adding a prefix with the class name. \n",
    "Although it is generally not recommended to access private attributes from\n",
    "outside the class to maintain encapsulation, it is technically possible using the mangled names.\n",
    "Here's an example demonstrating the use of name mangling to access private attributes\"\"\"\n",
    "\n",
    "class MyClass:\n",
    "    def __init__(self):\n",
    "        self.__private_attribute = 42\n",
    "\n",
    "obj = MyClass()\n",
    "\n",
    "print(obj._MyClass__private_attribute)  \n"
   ]
  },
  {
   "cell_type": "code",
   "execution_count": 21,
   "id": "af034945",
   "metadata": {},
   "outputs": [
    {
     "name": "stdout",
     "output_type": "stream",
     "text": [
      "Seeta enrolled in Mathematics\n",
      "Ram assigned to teach Mathematics\n",
      "Ram assigned to teach History\n",
      "Seeta is enrolled in courses: ['Mathematics']\n",
      "Ram is assigned to teach courses: ['Mathematics', 'History']\n"
     ]
    }
   ],
   "source": [
    "\"\"\"11. Create a Python class hierarchy for a school system, including classes for students, \n",
    "teachers, and courses,and implement encapsulation principles to protect sensitive information.\"\"\"\n",
    "\n",
    "class Person:\n",
    "    def __init__(self, name, age, gender):\n",
    "        self._name = name\n",
    "        self._age = age\n",
    "        self._gender = gender\n",
    "\n",
    "    def get_name(self):\n",
    "        return self._name\n",
    "\n",
    "    def get_age(self):\n",
    "        return self._age\n",
    "\n",
    "    def get_gender(self):\n",
    "        return self._gender\n",
    "\n",
    "\n",
    "class Student(Person):\n",
    "    def __init__(self, name, age, gender, student_id):\n",
    "        super().__init__(name, age, gender)\n",
    "        self._student_id = student_id\n",
    "        self._courses = []\n",
    "\n",
    "    def get_student_id(self):\n",
    "        return self._student_id\n",
    "\n",
    "    def enroll_course(self, course):\n",
    "        self._courses.append(course)\n",
    "        print(f\"{self.get_name()} enrolled in {course.get_course_name()}\")\n",
    "\n",
    "    def get_enrolled_courses(self):\n",
    "        return [course.get_course_name() for course in self._courses]\n",
    "\n",
    "\n",
    "class Teacher(Person):\n",
    "    def __init__(self, name, age, gender, employee_id):\n",
    "        super().__init__(name, age, gender)\n",
    "        self._employee_id = employee_id\n",
    "        self._courses_taught = []\n",
    "\n",
    "    def get_employee_id(self):\n",
    "        return self._employee_id\n",
    "\n",
    "    def assign_course(self, course):\n",
    "        self._courses_taught.append(course)\n",
    "        print(f\"{self.get_name()} assigned to teach {course.get_course_name()}\")\n",
    "\n",
    "    def get_assigned_courses(self):\n",
    "        return [course.get_course_name() for course in self._courses_taught]\n",
    "\n",
    "\n",
    "class Course:\n",
    "    def __init__(self, course_name, course_code):\n",
    "        self._course_name = course_name\n",
    "        self._course_code = course_code\n",
    "\n",
    "    def get_course_name(self):\n",
    "        return self._course_name\n",
    "\n",
    "    def get_course_code(self):\n",
    "        return self._course_code\n",
    "\n",
    "\n",
    "# Example usage\n",
    "student1 = Student(\"Seeta\", 18, \"Female\", \"001\")\n",
    "teacher1 = Teacher(\"Ram\", 35, \"Male\", \"002\")\n",
    "\n",
    "math_course = Course(\"Mathematics\", \"MATH101\")\n",
    "history_course = Course(\"History\", \"HIST101\")\n",
    "\n",
    "student1.enroll_course(math_course)\n",
    "teacher1.assign_course(math_course)\n",
    "teacher1.assign_course(history_course)\n",
    "\n",
    "print(f\"{student1.get_name()} is enrolled in courses: {student1.get_enrolled_courses()}\")\n",
    "print(f\"{teacher1.get_name()} is assigned to teach courses: {teacher1.get_assigned_courses()}\")\n"
   ]
  },
  {
   "cell_type": "code",
   "execution_count": 23,
   "id": "1720e64f",
   "metadata": {},
   "outputs": [
    {
     "name": "stdout",
     "output_type": "stream",
     "text": [
      "Initial Result: 0\n",
      "Result after adding 5: 5\n",
      "Result after subtracting 3: 2\n"
     ]
    }
   ],
   "source": [
    "\"\"\"12. Explain the concept of property decorators in Python and how they relate to encapsulation.\"\"\"\n",
    "\n",
    "\"\"\"property decorators are a way to define getter, setter, and deleter methods \n",
    "for class attributes. They provide a mechanism to control access to the attributes of \n",
    "a class and allow you to enforce encapsulation by specifying custom behavior \n",
    "when getting, setting, or deleting the values of attributes. Property \n",
    "decorators are a more Pythonic and elegant way to implement getter and setter methods.\"\"\"\n",
    "\n",
    "class Calculator:\n",
    "    def __init__(self, value=0):\n",
    "        self._result = value\n",
    "\n",
    "    @property\n",
    "    def result(self):\n",
    "        return self._result\n",
    "\n",
    "    def add(self, num):\n",
    "        self._result += num\n",
    "\n",
    "    def subtract(self, num):\n",
    "        self._result -= num\n",
    "\n",
    "calculator = Calculator()\n",
    "print(f\"Initial Result: {calculator.result}\")\n",
    "calculator.add(5)\n",
    "print(f\"Result after adding 5: {calculator.result}\")\n",
    "calculator.subtract(3)\n",
    "print(f\"Result after subtracting 3: {calculator.result}\")"
   ]
  },
  {
   "cell_type": "code",
   "execution_count": null,
   "id": "2b03e9b0",
   "metadata": {},
   "outputs": [],
   "source": [
    "\"\"\"13. What is data hiding, and why is it important in encapsulation? Provide examples.\"\"\"\n",
    "\n",
    "\"\"\"The encapsulation is the one of the principle of OOP\n",
    "the encapsulation is the concept of binding the atributes,method,data \n",
    "in single class to restrict the accesibility of details from outside the world\n",
    "it can impliment through the use of public, private , protected access modifier\n",
    "and we can make private atributes to hide the data.\n",
    "also can use the protect access\n",
    "public atributes can access from both within class and external code\n",
    "protected attributes can access only from class and there sub class\n",
    "private atributes can access only from class\"\"\"\n",
    "\n",
    "class BankAccount:\n",
    "    def __init__(self, account_number, balance):\n",
    "        self._account_number = account_number  # Single underscore indicates a protected attribute\n",
    "        self._balance = balance\n",
    "\n",
    "    def get_balance(self):\n",
    "        return self._balance\n",
    "\n",
    "    def deposit(self, amount):\n",
    "        self._balance += amount\n",
    "\n",
    "    def withdraw(self, amount):\n",
    "        if amount <= self._balance:\n",
    "            self._balance -= amount\n",
    "        else:\n",
    "            print(\"Insufficient funds.\")\n",
    "\n",
    "# Usage\n",
    "account = BankAccount(\"123456789\", 1000)\n",
    "print(account.get_balance())  # Accessing balance through a method without knowing attribute name\n",
    "account.deposit(500)\n",
    "print(account.get_balance())\n",
    "account.withdraw(200)\n",
    "print(account.get_balance())\n"
   ]
  },
  {
   "cell_type": "code",
   "execution_count": 24,
   "id": "be64974c",
   "metadata": {},
   "outputs": [
    {
     "name": "stdout",
     "output_type": "stream",
     "text": [
      "Employee ID: E001\n",
      "Salary: Rs50000\n",
      "Yearly Bonus: Rs5000.0\n"
     ]
    }
   ],
   "source": [
    "\"\"\"14. Create a Python class called `Employee` with\n",
    "private attributes for salary (`__salary`) and employee ID (`__employee_id`). \n",
    "Provide a method to calculate yearly bonuses.\"\"\"\n",
    "\n",
    "class Employee:\n",
    "    def __init__(self, employee_id, salary):\n",
    "        self.__employee_id = employee_id \n",
    "        self.__salary = salary\n",
    "\n",
    "    def calculate_yearly_bonus(self, bonus_percentage):\n",
    "        bonus_amount = (bonus_percentage / 100) * self.__salary\n",
    "        return bonus_amount\n",
    "\n",
    "    def get_employee_id(self):\n",
    "        return self.__employee_id\n",
    "\n",
    "    def get_salary(self):\n",
    "        return self.__salary\n",
    "\n",
    "employee1 = Employee(\"E001\", 50000)\n",
    "bonus_percentage = 10  \n",
    "\n",
    "yearly_bonus = employee1.calculate_yearly_bonus(bonus_percentage)\n",
    "print(f\"Employee ID: {employee1.get_employee_id()}\")\n",
    "print(f\"Salary: Rs{employee1.get_salary()}\")\n",
    "print(f\"Yearly Bonus: Rs{yearly_bonus}\")\n"
   ]
  },
  {
   "cell_type": "code",
   "execution_count": null,
   "id": "b49e48c7",
   "metadata": {},
   "outputs": [],
   "source": [
    "\"\"\"15. Discuss the use of accessors and mutators in encapsulation. \n",
    "How do they help maintain control over attribute access?\"\"\"\n",
    "\n",
    "\"\"\"Getter and setter are the two types of methods that achieved the encapsulation \n",
    "in OOP by controlling access to class attributes\n",
    "Getter methods also known as access method \n",
    "it is use to retrieve the value of private and protected attributes of class\n",
    "setter method also known as mutator method\n",
    "it is use to modify the values of private and protected attributes in a control way.\n",
    "\"\"\"\n",
    "# example of getter\n",
    "class Person:\n",
    "    def __init__(self, name, age):\n",
    "        self._name = name  # underscore indicates a protected attribute\n",
    "        self._age = age\n",
    "\n",
    "    # Getter methods\n",
    "    def get_name(self):\n",
    "        return self._name\n",
    "\n",
    "    def get_age(self):\n",
    "        return self._age\n",
    "\n",
    "# Usage\n",
    "person = Person(\"John Doe\", 25)\n",
    "print(person.get_name()) \n",
    "print(person.get_age())   \n",
    "\n",
    "\n",
    "#example of setter\n",
    "class BankAccount:\n",
    "    def __init__(self, balance):\n",
    "        self._balance = balance\n",
    "\n",
    "    # Setter method with validation\n",
    "    def set_balance(self, new_balance):\n",
    "        if new_balance >= 0:\n",
    "            self._balance = new_balance\n",
    "        else:\n",
    "            print(\"Invalid balance value. Balance must be non-negative.\")\n",
    "\n",
    "# Usage\n",
    "account = BankAccount(1000)\n",
    "account.set_balance(1500)  \n",
    "account.set_balance(-500)  \n",
    "print(account._balance)   \n"
   ]
  },
  {
   "cell_type": "code",
   "execution_count": 25,
   "id": "f5ca78df",
   "metadata": {},
   "outputs": [
    {
     "data": {
      "text/plain": [
       "\"The OOP concept has shortcomings. There is a small performance overhead because \\nthere are more method calls. Reduced code conciseness and boilerplate code can result\\nfrom using explicit getters and setters. To avoid making excessive changes to the external \\ncode during internal changes, it is imperative to maintain a balance between flexibility and \\nrigidity in the public interface. Complicated mutators and accessors can make it harder to \\nunderstand and maintain code. Testing becomes difficult, particularly when private members \\nare needed to access frameworks. Despite name mangling, Python's private attribute access \\nfeature can be abused. Developers who are unfamiliar with OOP or a particular class may find\\nencapsulation to be a learning curve. Despite reservations, Python's emphasis on readability \\nand simplicity combined with encapsulation are balanced by careful use of properties, \\ndecorators, and conventions.\\n\""
      ]
     },
     "execution_count": 25,
     "metadata": {},
     "output_type": "execute_result"
    }
   ],
   "source": [
    "\"\"\"16. What are the potential drawbacks or disadvantages of using encapsulation in Python?\"\"\"\n",
    "\n",
    "\"\"\"The OOP concept has shortcomings. There is a small performance overhead because \n",
    "there are more method calls. Reduced code conciseness and boilerplate code can result\n",
    "from using explicit getters and setters. To avoid making excessive changes to the external \n",
    "code during internal changes, it is imperative to maintain a balance between flexibility and \n",
    "rigidity in the public interface. Complicated mutators and accessors can make it harder to \n",
    "understand and maintain code. Testing becomes difficult, particularly when private members \n",
    "are needed to access frameworks. Despite name mangling, Python's private attribute access \n",
    "feature can be abused. Developers who are unfamiliar with OOP or a particular class may find\n",
    "encapsulation to be a learning curve. Despite reservations, Python's emphasis on readability \n",
    "and simplicity combined with encapsulation are balanced by careful use of properties, \n",
    "decorators, and conventions.\n",
    "\"\"\""
   ]
  },
  {
   "cell_type": "code",
   "execution_count": 26,
   "id": "38c81282",
   "metadata": {},
   "outputs": [
    {
     "name": "stdout",
     "output_type": "stream",
     "text": [
      "Book 'A fine balance' by rohinton mishra checked out.\n",
      "Book 'A suitable boy' by vikrant seth checked out.\n",
      "Book 'A fine balance' by rohinton mishra checked in.\n",
      "Book 'A suitable boy' by vikrant seth checked in.\n"
     ]
    }
   ],
   "source": [
    "\"\"\"17. Create a Python class for a library system that encapsulates book information,\n",
    "including titles, authors,and availability status.\"\"\"\n",
    "\n",
    "class Book:\n",
    "    def __init__(self, title, author):\n",
    "        self.title = title\n",
    "        self.author = author\n",
    "        self.available = True  \n",
    "\n",
    "    def check_out(self):\n",
    "        if self.available:\n",
    "            print(f\"Book '{self.title}' by {self.author} checked out.\")\n",
    "            self.available = False\n",
    "        else:\n",
    "            print(f\"Sorry, '{self.title}' is currently checked out.\")\n",
    "\n",
    "    def check_in(self):\n",
    "        if not self.available:\n",
    "            print(f\"Book '{self.title}' by {self.author} checked in.\")\n",
    "            self.available = True\n",
    "        else:\n",
    "            print(f\"Error: '{self.title}' is already available.\")\n",
    "\n",
    "book1 = Book(\"A fine balance\", \"rohinton mishra\")\n",
    "book2 = Book(\"A suitable boy\", \"vikrant seth\")\n",
    "\n",
    "book1.check_out()\n",
    "book2.check_out()\n",
    "book1.check_in()\n",
    "book2.check_in()\n"
   ]
  },
  {
   "cell_type": "code",
   "execution_count": 27,
   "id": "88400c26",
   "metadata": {},
   "outputs": [
    {
     "data": {
      "text/plain": [
       "\"Python encapsulation improves code reusability and modularity by combining functionality \\nand data into a class and providing a distinct, isolated interface to the outside world.\\nBecause of this division of responsibilities, developers can change a class's internal\\nimplementation without affecting its external code. \\nA reliable public interface is provided by the well-defined methods that are used to\\naccess the encapsulated data. This encourages modularity, enabling the autonomous development \\nand maintenance of various program components. Classes allow for the reuse of code in different \\ncontexts without requiring significant changes, which makes the development process of \\nPython programs more streamlined and scalable.\\n\""
      ]
     },
     "execution_count": 27,
     "metadata": {},
     "output_type": "execute_result"
    }
   ],
   "source": [
    "\"\"\"18. Explain how encapsulation enhances code reusability and modularity in Python programs.\"\"\"\n",
    "\n",
    "\"\"\"Python encapsulation improves code reusability and modularity by combining functionality \n",
    "and data into a class and providing a distinct, isolated interface to the outside world.\n",
    "Because of this division of responsibilities, developers can change a class's internal\n",
    "implementation without affecting its external code. \n",
    "A reliable public interface is provided by the well-defined methods that are used to\n",
    "access the encapsulated data. This encourages modularity, enabling the autonomous development \n",
    "and maintenance of various program components. Classes allow for the reuse of code in different \n",
    "contexts without requiring significant changes, which makes the development process of \n",
    "Python programs more streamlined and scalable.\n",
    "\"\"\""
   ]
  },
  {
   "cell_type": "code",
   "execution_count": 28,
   "id": "a793e738",
   "metadata": {},
   "outputs": [
    {
     "data": {
      "text/plain": [
       "\"Encapsulation is the process of hiding an object's internal workings and only revealing what\\nis required through a clearly defined interface. It makes sure that implementation details,\\nlike methods and attributes, are kept hidden from outside code, encouraging a distinct \\ndivision between a class's internal operations and its external use. \\nSecurity is improved by this abstraction since private information is not readily available. \\nIt also allows for maintenance and evolution, allowing changes to the internal organization\\nwithout affecting the external code. In software development, information hiding is crucial\\nfor improving security, maintainability, and flexibility. It also helps to create a resilient, \\nmodular design that can withstand changes and encourages effective developer collaboration.\\n\""
      ]
     },
     "execution_count": 28,
     "metadata": {},
     "output_type": "execute_result"
    }
   ],
   "source": [
    "\"\"\"19. Describe the concept of information hiding in encapsulation.\n",
    "Why is it essential in software development?\"\"\"\n",
    "\n",
    "\"\"\"Encapsulation is the process of hiding an object's internal workings and only revealing what\n",
    "is required through a clearly defined interface. It makes sure that implementation details,\n",
    "like methods and attributes, are kept hidden from outside code, encouraging a distinct \n",
    "division between a class's internal operations and its external use. \n",
    "Security is improved by this abstraction since private information is not readily available. \n",
    "It also allows for maintenance and evolution, allowing changes to the internal organization\n",
    "without affecting the external code. In software development, information hiding is crucial\n",
    "for improving security, maintainability, and flexibility. It also helps to create a resilient, \n",
    "modular design that can withstand changes and encourages effective developer collaboration.\n",
    "\"\"\""
   ]
  },
  {
   "cell_type": "code",
   "execution_count": 29,
   "id": "0a680fd7",
   "metadata": {},
   "outputs": [
    {
     "name": "stdout",
     "output_type": "stream",
     "text": [
      "Customer Name: Shubh\n",
      "Customer Address: ram colony\n",
      "Customer Contact Info: 25648\n",
      "Updated Contact Info: 985624\n"
     ]
    }
   ],
   "source": [
    "\"\"\"20. Create a Python class called `Customer` with private attributes for customer details \n",
    "like name, address,and contact information. \n",
    "Implement encapsulation to ensure data integrity and security.\"\"\"\n",
    "\n",
    "class Customer:\n",
    "    def __init__(self, name, address, contact_info):\n",
    "        self.__name = name  # Private attribute \n",
    "        self.__address = address  # Private attribute \n",
    "        self.__contact_info = contact_info  # Private attribute \n",
    "\n",
    "    def get_name(self):\n",
    "        return self.__name\n",
    "\n",
    "    def get_address(self):\n",
    "        return self.__address\n",
    "\n",
    "    def get_contact_info(self):\n",
    "        return self.__contact_info\n",
    "\n",
    "    def update_contact_info(self, new_contact_info):\n",
    "        self.__contact_info = new_contact_info\n",
    "\n",
    "customer = Customer(\"Shubh\", \"ram colony\", \"25648\")\n",
    "print(\"Customer Name:\", customer.get_name())\n",
    "print(\"Customer Address:\", customer.get_address())\n",
    "print(\"Customer Contact Info:\", customer.get_contact_info())\n",
    "customer.update_contact_info(\"985624\")\n",
    "print(\"Updated Contact Info:\", customer.get_contact_info())\n"
   ]
  },
  {
   "cell_type": "markdown",
   "id": "a80b8090",
   "metadata": {},
   "source": [
    "## Polymorphism:"
   ]
  },
  {
   "cell_type": "code",
   "execution_count": 30,
   "id": "e875ac8b",
   "metadata": {},
   "outputs": [
    {
     "data": {
      "text/plain": [
       "'polymorphism is a principle of OOP.\\npolymorphism can achieve with function overloading or function overriding.\\nin polymorphysm the we can use two methods with same name there attribute \\nit may different parameter types.'"
      ]
     },
     "execution_count": 30,
     "metadata": {},
     "output_type": "execute_result"
    }
   ],
   "source": [
    "\"\"\"1. What is polymorphism in Python? Explain how it is related to object-oriented programming.\"\"\"\n",
    "\n",
    "\"\"\"polymorphism is a principle of OOP.\n",
    "polymorphism can achieve with function overloading or function overriding.\n",
    "in polymorphysm the we can use two methods with same name there attribute \n",
    "it may different parameter types.\"\"\""
   ]
  },
  {
   "cell_type": "code",
   "execution_count": 31,
   "id": "400ecdba",
   "metadata": {},
   "outputs": [
    {
     "data": {
      "text/plain": [
       "\"\\nIn object-oriented programming, polymorphism can be categorized into two main types \\ncompile-time (or static) polymorphism and runtime (or dynamic) polymorphism.\\n\\nMethod Overloading is an Compile-time Polymorphism\\nHaving multiple methods in the same class with the same name but different parameters.\\nPython doesn't natively support method overloading based on different parameter types, \\nbut you can achieve a similar effect using default values or variable-length arguments.\\n\\nMethod overriding is an run-time polymorphism\\nProviding a specific implementation of a \\nmethod in a subclass that is already defined in its superclass.\\n\""
      ]
     },
     "execution_count": 31,
     "metadata": {},
     "output_type": "execute_result"
    }
   ],
   "source": [
    "\"\"\"2. Describe the difference between compile-time polymorphism and runtime\n",
    "polymorphism in Python.\"\"\"\n",
    "\n",
    "\"\"\"\n",
    "In object-oriented programming, polymorphism can be categorized into two main types \n",
    "compile-time (or static) polymorphism and runtime (or dynamic) polymorphism.\n",
    "\n",
    "Method Overloading is an Compile-time Polymorphism\n",
    "Having multiple methods in the same class with the same name but different parameters.\n",
    "Python doesn't natively support method overloading based on different parameter types, \n",
    "but you can achieve a similar effect using default values or variable-length arguments.\n",
    "\n",
    "Method overriding is an run-time polymorphism\n",
    "Providing a specific implementation of a \n",
    "method in a subclass that is already defined in its superclass.\n",
    "\"\"\""
   ]
  },
  {
   "cell_type": "code",
   "execution_count": 32,
   "id": "875d8340",
   "metadata": {},
   "outputs": [
    {
     "name": "stdout",
     "output_type": "stream",
     "text": [
      "Area of Circle: 78.53981633974483\n",
      "Area of Square: 16\n",
      "Area of Triangle: 9.0\n"
     ]
    }
   ],
   "source": [
    "\"\"\"3. Create a Python class hierarchy for shapes (e.g., circle, square, triangle) and \n",
    "demonstrate polymorphism through a common method, such as `calculate_area()`.\"\"\"\n",
    "\n",
    "import math\n",
    "\n",
    "class Shape:\n",
    "    def calculate_area(self):\n",
    "        pass\n",
    "\n",
    "class Circle(Shape):\n",
    "    def __init__(self, radius):\n",
    "        self.radius = radius\n",
    "\n",
    "    def calculate_area(self):\n",
    "        return math.pi * self.radius**2\n",
    "\n",
    "class Square(Shape):\n",
    "    def __init__(self, side_length):\n",
    "        self.side_length = side_length\n",
    "\n",
    "    def calculate_area(self):\n",
    "        return self.side_length**2\n",
    "\n",
    "class Triangle(Shape):\n",
    "    def __init__(self, base, height):\n",
    "        self.base = base\n",
    "        self.height = height\n",
    "\n",
    "    def calculate_area(self):\n",
    "        return 0.5 * self.base * self.height\n",
    "\n",
    "shapes = [Circle(5), Square(4), Triangle(3, 6)]\n",
    "\n",
    "for shape in shapes:\n",
    "    print(f\"Area of {shape.__class__.__name__}: {shape.calculate_area()}\")\n"
   ]
  },
  {
   "cell_type": "code",
   "execution_count": null,
   "id": "aa9c91e4",
   "metadata": {},
   "outputs": [],
   "source": [
    "\n",
    "import math\n",
    "\n",
    "class Shape:\n",
    "    def __init__(self):\n",
    "        pass\n",
    "\n",
    "    def calculate_area(self):\n",
    "        pass\n",
    "\n",
    "class Circle(Shape):\n",
    "    def __init__(self, radius):\n",
    "        super().__init__()\n",
    "        self.radius = radius\n",
    "\n",
    "    def calculate_area(self):\n",
    "        return math.pi * self.radius**2\n",
    "\n",
    "class Square(Shape):\n",
    "    def __init__(self, side_length):\n",
    "        super().__init__()\n",
    "        self.side_length = side_length\n",
    "\n",
    "    def calculate_area(self):\n",
    "        return self.side_length**2\n",
    "\n",
    "class Triangle(Shape):\n",
    "    def __init__(self, base, height):\n",
    "        super().__init__()\n",
    "        self.base = base\n",
    "        self.height = height\n",
    "\n",
    "    def calculate_area(self):\n",
    "        return 0.5 * self.base * self.height\n",
    "\n",
    "# Demonstrate polymorphism\n",
    "def print_area(shape):\n",
    "    print(f\"Area of {shape.__class__.__name__}: {shape.calculate_area()}\")\n",
    "\n",
    "shapes = [Circle(5), Square(4), Triangle(3, 6)]\n",
    "\n",
    "for shape in shapes:\n",
    "    print_area(shape)\n"
   ]
  },
  {
   "cell_type": "code",
   "execution_count": 33,
   "id": "143ef41f",
   "metadata": {},
   "outputs": [
    {
     "name": "stdout",
     "output_type": "stream",
     "text": [
      "Woof\n",
      "Meow\n"
     ]
    }
   ],
   "source": [
    "\"\"\"4. Explain the concept of method overriding in polymorphism. Provide an example.\"\"\"\n",
    "\n",
    "\"\"\"Method overriding is an run-time polymorphism\n",
    "Providing a specific implementation of a \n",
    "method in a subclass that is already defined in its superclass.\"\"\"\n",
    "\n",
    "class Animal:\n",
    "    def make_sound(self):\n",
    "        return \"Generic animal sound\"\n",
    "\n",
    "class Dog(Animal):\n",
    "    def make_sound(self):\n",
    "        return \"Woof\"\n",
    "\n",
    "class Cat(Animal):\n",
    "    def make_sound(self):\n",
    "        return \"Meow\"\n",
    "\n",
    "dog = Dog()\n",
    "cat = Cat()\n",
    "\n",
    "print(dog.make_sound())  \n",
    "print(cat.make_sound())  \n"
   ]
  },
  {
   "cell_type": "code",
   "execution_count": 1,
   "id": "328304d5",
   "metadata": {},
   "outputs": [
    {
     "name": "stdout",
     "output_type": "stream",
     "text": [
      "Woof!\n",
      "Meow!\n",
      "1\n",
      "3\n",
      "6\n"
     ]
    }
   ],
   "source": [
    "\"\"\"5. How is polymorphism different from method overloading in Python? Provide examples for both.\"\"\"\n",
    "\n",
    "\"\"\"Polymorphism means the object can takes different forms with using common methods\n",
    "and method overloading is an technique of polymorphism with using same name\n",
    "of method but different in number of polymorphism\"\"\"\n",
    "#following is the example of polymorphism\n",
    "class Animal:\n",
    "    def sound(self):\n",
    "        pass\n",
    "\n",
    "class Dog(Animal):\n",
    "    def sound(self):\n",
    "        return \"Woof!\"\n",
    "\n",
    "class Cat(Animal):\n",
    "    def sound(self):\n",
    "        return \"Meow!\"\n",
    "\n",
    "def make_sound(animal):\n",
    "    return animal.sound()\n",
    "\n",
    "dog = Dog()\n",
    "cat = Cat()\n",
    "\n",
    "print(make_sound(dog))  \n",
    "print(make_sound(cat)) \n",
    "\n",
    "# following is the example of method overloading\n",
    "\n",
    "class Calculator:\n",
    "    def add(self, a, b=0, c=0):\n",
    "        return a + b + c\n",
    "\n",
    "calc = Calculator()\n",
    "print(calc.add(1))      \n",
    "print(calc.add(1, 2))    \n",
    "print(calc.add(1, 2, 3)) \n"
   ]
  },
  {
   "cell_type": "code",
   "execution_count": 2,
   "id": "1e3c33ed",
   "metadata": {},
   "outputs": [
    {
     "name": "stdout",
     "output_type": "stream",
     "text": [
      "Woof\n",
      "meow\n",
      "chirp\n"
     ]
    }
   ],
   "source": [
    "\"\"\"6. Create a Python class called `Animal` with a method `speak()`. \n",
    "Then, create child classes like `Dog`, `Cat`, and `Bird`, each with their own `speak()` method. \n",
    "Demonstrate polymorphism by calling the `speak()` method on objects of different subclasses.\n",
    "\"\"\"\n",
    "class Animal:\n",
    "    def speak(self):\n",
    "        pass\n",
    "    \n",
    "class Dog(Animal):\n",
    "    def speak(self):\n",
    "        return \"Woof\"  \n",
    "    \n",
    "class Cat(Animal):\n",
    "    def speak(self):\n",
    "        return \"meow\"\n",
    "    \n",
    "class Bird(Animal):\n",
    "    def speak(self):\n",
    "        return \"chirp\"\n",
    "    \n",
    "def make_speak(animal):\n",
    "    return animal.speak()\n",
    "\n",
    "dog = Dog()\n",
    "cat = Cat()\n",
    "bird = Bird()\n",
    "\n",
    "for sp in [dog,cat,bird]:\n",
    "    print(make_speak(sp))"
   ]
  },
  {
   "cell_type": "code",
   "execution_count": 1,
   "id": "3f2c9c83",
   "metadata": {},
   "outputs": [
    {
     "name": "stdout",
     "output_type": "stream",
     "text": [
      "Area: 78.5\n",
      "Area: 24\n"
     ]
    }
   ],
   "source": [
    "\"\"\"7. Discuss the use of abstract methods and classes in achieving polymorphism in Python. \n",
    "Provide an example using the `abc` module.\"\"\"\n",
    "\n",
    "\"\"\"In Python, polymorphism is the ability of different objects to be treated as instances \n",
    "of the same class. One way to achieve polymorphism is by using abstract methods and classes.\n",
    "Abstract classes provide a way to define a common interface for a group of related classes, \n",
    "and abstract methods within these classes serve as placeholders for methods that must be \n",
    "implemented by the derived classes.\"\"\"\n",
    "\n",
    "from abc import ABC, abstractmethod\n",
    "\n",
    "class Shape(ABC):\n",
    "    @abstractmethod\n",
    "    def area(self):\n",
    "        pass\n",
    "\n",
    "class Circle(Shape):\n",
    "    def __init__(self, radius):\n",
    "        self.radius = radius\n",
    "\n",
    "    def area(self):\n",
    "        return 3.14 * self.radius * self.radius\n",
    "\n",
    "class Rectangle(Shape):\n",
    "    def __init__(self, length, width):\n",
    "        self.length = length\n",
    "        self.width = width\n",
    "\n",
    "    def area(self):\n",
    "        return self.length * self.width\n",
    "\n",
    "def print_area(shape):\n",
    "    print(f\"Area: {shape.area()}\")\n",
    "\n",
    "circle = Circle(5)\n",
    "rectangle = Rectangle(4, 6)\n",
    "\n",
    "print_area(circle)    \n",
    "print_area(rectangle)  \n",
    "\n"
   ]
  },
  {
   "cell_type": "code",
   "execution_count": 2,
   "id": "b2f774bc",
   "metadata": {},
   "outputs": [
    {
     "name": "stdout",
     "output_type": "stream",
     "text": [
      "Starting the 4-door car: Toyota Camry.\n",
      "Pedaling the Trek Mountain Bike bicycle with 21 gears.\n",
      "Starting the boat: Mercury Speedboat with 2 engines.\n"
     ]
    }
   ],
   "source": [
    "\"\"\"8. Create a Python class hierarchy for a vehicle system (e.g., car, bicycle, boat) and \n",
    "implement a polymorphic `start()` method that prints a message specific to each vehicle type.\"\"\"\n",
    "\n",
    "class Vehicle:\n",
    "    def __init__(self, brand, model):\n",
    "        self.brand = brand\n",
    "        self.model = model\n",
    "\n",
    "    def start(self):\n",
    "        print(f\"Starting the {self.brand} {self.model}.\")\n",
    "\n",
    "class Car(Vehicle):\n",
    "    def __init__(self, brand, model, num_doors):\n",
    "        super().__init__(brand, model)\n",
    "        self.num_doors = num_doors\n",
    "\n",
    "    def start(self):\n",
    "        print(f\"Starting the {self.num_doors}-door car: {self.brand} {self.model}.\")\n",
    "\n",
    "class Bicycle(Vehicle):\n",
    "    def __init__(self, brand, model, num_gears):\n",
    "        super().__init__(brand, model)\n",
    "        self.num_gears = num_gears\n",
    "\n",
    "    def start(self):\n",
    "        print(f\"Pedaling the {self.brand} {self.model} bicycle with {self.num_gears} gears.\")\n",
    "\n",
    "class Boat(Vehicle):\n",
    "    def __init__(self, brand, model, num_engines):\n",
    "        super().__init__(brand, model)\n",
    "        self.num_engines = num_engines\n",
    "\n",
    "    def start(self):\n",
    "        print(f\"Starting the boat: {self.brand} {self.model} with {self.num_engines} engines.\")\n",
    "\n",
    "car = Car(\"Toyota\", \"Camry\", 4)\n",
    "bicycle = Bicycle(\"Trek\", \"Mountain Bike\", 21)\n",
    "boat = Boat(\"Mercury\", \"Speedboat\", 2)\n",
    "\n",
    "car.start()     \n",
    "bicycle.start() \n",
    "boat.start()   \n"
   ]
  },
  {
   "cell_type": "code",
   "execution_count": 3,
   "id": "d2aec04e",
   "metadata": {},
   "outputs": [
    {
     "data": {
      "text/plain": [
       "'The isinstance() and issubclass() functions in Python are important tools when working with \\npolymorphism. They help determine the type and inheritance relationships between objects and \\nclasses, respectively.\\nisinstance() function:This function is used to check if an object is an instance of a \\nparticular class or a tuple of classes. It is crucial for verifying the type of an object \\nbefore performing certain operations on it.\\nissubclass() function:This function checks if a class is a subclass of another class. \\nIt is helpful when you want to determine the inheritance relationship between classes, \\nespecially in scenarios where you are working with a hierarchy of classes and need to know if \\none class is derived from another'"
      ]
     },
     "execution_count": 3,
     "metadata": {},
     "output_type": "execute_result"
    }
   ],
   "source": [
    "\"\"\"9. Explain the significance of the `isinstance()` and `issubclass()` functions \n",
    "in Python polymorphism.\"\"\"\n",
    "\n",
    "\"\"\"The isinstance() and issubclass() functions in Python are important tools when working with \n",
    "polymorphism. They help determine the type and inheritance relationships between objects and \n",
    "classes, respectively.\n",
    "isinstance() function:This function is used to check if an object is an instance of a \n",
    "particular class or a tuple of classes. It is crucial for verifying the type of an object \n",
    "before performing certain operations on it.\n",
    "issubclass() function:This function checks if a class is a subclass of another class. \n",
    "It is helpful when you want to determine the inheritance relationship between classes, \n",
    "especially in scenarios where you are working with a hierarchy of classes and need to know if \n",
    "one class is derived from another\"\"\""
   ]
  },
  {
   "cell_type": "code",
   "execution_count": 4,
   "id": "14abafb0",
   "metadata": {},
   "outputs": [
    {
     "name": "stdout",
     "output_type": "stream",
     "text": [
      "Starting the 4-door car: Toyota Camry.\n",
      "Pedaling the Trek Mountain Bike bicycle with 21 gears.\n"
     ]
    }
   ],
   "source": [
    "\"\"\"10. What is the role of the `@abstractmethod` decorator in achieving polymorphism in Python? \n",
    "Provide an example.\"\"\"\n",
    "\n",
    "\"\"\"The Python module called ABC (Abstract Base Classes) includes the @abstractmethod decorator.\n",
    "It ensures that derived classes provide concrete implementations for these abstract methods, \n",
    "which is essential in achieving polymorphism. It is used to define abstract methods in abstract \n",
    "base classes. Methods that are declared in the base class but lack an implementation are known \n",
    "as abstract methods. Any concrete (non-abstract) subclass must implement them.\"\"\"\n",
    "\n",
    "from abc import ABC, abstractmethod\n",
    "\n",
    "class Vehicle(ABC):\n",
    "    def __init__(self, brand, model):\n",
    "        self.brand = brand\n",
    "        self.model = model\n",
    "\n",
    "    @abstractmethod\n",
    "    def start(self):\n",
    "        pass\n",
    "\n",
    "class Car(Vehicle):\n",
    "    def __init__(self, brand, model, num_doors):\n",
    "        super().__init__(brand, model)\n",
    "        self.num_doors = num_doors\n",
    "\n",
    "    def start(self):\n",
    "        print(f\"Starting the {self.num_doors}-door car: {self.brand} {self.model}.\")\n",
    "\n",
    "class Bicycle(Vehicle):\n",
    "    def __init__(self, brand, model, num_gears):\n",
    "        super().__init__(brand, model)\n",
    "        self.num_gears = num_gears\n",
    "\n",
    "    def start(self):\n",
    "        print(f\"Pedaling the {self.brand} {self.model} bicycle with {self.num_gears} gears.\")\n",
    "\n",
    "class Boat(Vehicle):\n",
    "    def __init__(self, brand, model, num_engines):\n",
    "        super().__init__(brand, model)\n",
    "        self.num_engines = num_engines\n",
    "\n",
    "car = Car(\"Toyota\", \"Camry\", 4)\n",
    "bicycle = Bicycle(\"Trek\", \"Mountain Bike\", 21)\n",
    "car.start()   \n",
    "bicycle.start() \n"
   ]
  },
  {
   "cell_type": "code",
   "execution_count": 5,
   "id": "33901f05",
   "metadata": {},
   "outputs": [
    {
     "name": "stdout",
     "output_type": "stream",
     "text": [
      "Area of Circle: 78.53981633974483\n",
      "Area of Rectangle: 24\n",
      "Area of Triangle: 12.0\n"
     ]
    }
   ],
   "source": [
    "\"\"\"11. Create a Python class called `Shape` with a polymorphic method `area()` that calculates\n",
    "the area of different shapes (e.g., circle, rectangle, triangle).\"\"\"\n",
    "\n",
    "import math\n",
    "\n",
    "class Shape:\n",
    "    def area(self):\n",
    "        pass\n",
    "\n",
    "class Circle(Shape):\n",
    "    def __init__(self, radius):\n",
    "        self.radius = radius\n",
    "\n",
    "    def area(self):\n",
    "        return math.pi * self.radius**2\n",
    "\n",
    "class Rectangle(Shape):\n",
    "    def __init__(self, length, width):\n",
    "        self.length = length\n",
    "        self.width = width\n",
    "\n",
    "    def area(self):\n",
    "        return self.length * self.width\n",
    "\n",
    "class Triangle(Shape):\n",
    "    def __init__(self, base, height):\n",
    "        self.base = base\n",
    "        self.height = height\n",
    "\n",
    "    def area(self):\n",
    "        return 0.5 * self.base * self.height\n",
    "\n",
    "circle = Circle(5)\n",
    "rectangle = Rectangle(4, 6)\n",
    "triangle = Triangle(3, 8)\n",
    "\n",
    "print(\"Area of Circle:\", circle.area())\n",
    "print(\"Area of Rectangle:\", rectangle.area())\n",
    "print(\"Area of Triangle:\", triangle.area())"
   ]
  },
  {
   "cell_type": "code",
   "execution_count": 6,
   "id": "7143fbfa",
   "metadata": {},
   "outputs": [
    {
     "data": {
      "text/plain": [
       "'Polymorphism in Python enhances code reusability and flexibility by allowing objects of \\ndifferent types to be treated uniformly. This enables the use of a common interface, \\nsuch as a shared method like `area()`. Code becomes more modular, promoting easier maintenance\\nand extension. With polymorphism, new classes can be added without modifying existing code,\\nfostering an open-closed principle. This flexibility simplifies the introduction of diverse\\nfunctionalities, making Python programs adaptable and scalable. Overall, polymorphism \\ncontributes to more concise, readable, and maintainable code in Python applications.'"
      ]
     },
     "execution_count": 6,
     "metadata": {},
     "output_type": "execute_result"
    }
   ],
   "source": [
    "\"\"\"12. Discuss the benefits of polymorphism in terms of code reusability and flexibility \n",
    "in Python programs.\"\"\"\n",
    "\n",
    "\"\"\"Polymorphism in Python enhances code reusability and flexibility by allowing objects of \n",
    "different types to be treated uniformly. This enables the use of a common interface, \n",
    "such as a shared method like `area()`. Code becomes more modular, promoting easier maintenance\n",
    "and extension. With polymorphism, new classes can be added without modifying existing code,\n",
    "fostering an open-closed principle. This flexibility simplifies the introduction of diverse\n",
    "functionalities, making Python programs adaptable and scalable. Overall, polymorphism \n",
    "contributes to more concise, readable, and maintainable code in Python applications.\"\"\""
   ]
  },
  {
   "cell_type": "code",
   "execution_count": 9,
   "id": "9453ff12",
   "metadata": {},
   "outputs": [
    {
     "name": "stdout",
     "output_type": "stream",
     "text": [
      "This is the method from the Parent class\n",
      "This is additional functionality in the Child class\n"
     ]
    }
   ],
   "source": [
    "\"\"\"13. Explain the use of the `super()` function in Python polymorphism. How does it help call \n",
    "methods of parent classes?\"\"\"\n",
    "\n",
    "\"\"\"super() in polymorphism enables the invocation of overridden methods from a \n",
    "parent class within a subclass. It fosters code reuse by allowing a subclass to extend or\n",
    "modify the behavior of the parent class while retaining its functionality. By calling `super().\n",
    "method()`, a seamless connection is established, ensuring clean and modular code. This enhances\n",
    "flexibility, as modifications can be made in the subclass without altering the parent class, \n",
    "adhering to the open-closed principle. super() facilitates a streamlined approach to building\n",
    "hierarchies of classes, promoting maintainability and readability in object-oriented programming\"\"\"\n",
    "\n",
    "class Parent:\n",
    "    def some_method(self):\n",
    "        print(\"This is the method from the Parent class\")\n",
    "\n",
    "class Child(Parent):\n",
    "    def some_method(self):\n",
    "        super().some_method()  # Calls the overridden method in the Parent class\n",
    "        print(\"This is additional functionality in the Child class\")\n",
    "\n",
    "child_instance = Child()\n",
    "child_instance.some_method()\n"
   ]
  },
  {
   "cell_type": "code",
   "execution_count": 10,
   "id": "9f4a839f",
   "metadata": {},
   "outputs": [
    {
     "name": "stdout",
     "output_type": "stream",
     "text": [
      "Withdrawal of Rs50 successful from account 123\n",
      "Withdrawal of Rs50 successful from checking account 456\n",
      "Withdrawal of Rs50 successful from credit card account 789\n"
     ]
    }
   ],
   "source": [
    "\"\"\"14. Create a Python class hierarchy for a banking system with various account types\n",
    "(e.g., savings, checking, credit card) and demonstrate polymorphism by implementing a common \n",
    "`withdraw()` method.\"\"\"\n",
    "\n",
    "class BankAccount:\n",
    "    def __init__(self, account_number, balance=0):\n",
    "        self.account_number = account_number\n",
    "        self.balance = balance\n",
    "\n",
    "    def deposit(self, amount):\n",
    "        self.balance += amount\n",
    "\n",
    "    def withdraw(self, amount):\n",
    "        if amount <= self.balance:\n",
    "            self.balance -= amount\n",
    "            print(f\"Withdrawal of Rs{amount} successful from account {self.account_number}\")\n",
    "        else:\n",
    "            print(f\"Insufficient funds in account {self.account_number}\")\n",
    "\n",
    "    def get_balance(self):\n",
    "        return self.balance\n",
    "\n",
    "\n",
    "class SavingsAccount(BankAccount):\n",
    "    def __init__(self, account_number, balance=0, interest_rate=0.02):\n",
    "        super().__init__(account_number, balance)\n",
    "        self.interest_rate = interest_rate\n",
    "\n",
    "    def apply_interest(self):\n",
    "        interest_amount = self.balance * self.interest_rate\n",
    "        self.balance += interest_amount\n",
    "        print(f\"Interest of Rs{interest_amount} applied to savings account {self.account_number}\")\n",
    "\n",
    "\n",
    "class CheckingAccount(BankAccount):\n",
    "    def __init__(self, account_number, balance=0, overdraft_limit=100):\n",
    "        super().__init__(account_number, balance)\n",
    "        self.overdraft_limit = overdraft_limit\n",
    "\n",
    "    def withdraw(self, amount):\n",
    "        if amount <= self.balance + self.overdraft_limit:\n",
    "            self.balance -= amount\n",
    "            print(f\"Withdrawal of Rs{amount} successful from checking account {self.account_number}\")\n",
    "        else:\n",
    "            print(f\"Insufficient funds (including overdraft) in checking account {self.account_number}\")\n",
    "\n",
    "\n",
    "class CreditCardAccount(BankAccount):\n",
    "    def __init__(self, account_number, balance=0, credit_limit=500, interest_rate=0.1):\n",
    "        super().__init__(account_number, balance)\n",
    "        self.credit_limit = credit_limit\n",
    "        self.interest_rate = interest_rate\n",
    "\n",
    "    def withdraw(self, amount):\n",
    "        if amount <= self.balance + self.credit_limit:\n",
    "            self.balance -= amount\n",
    "            print(f\"Withdrawal of Rs{amount} successful from credit card account {self.account_number}\")\n",
    "        else:\n",
    "            print(f\"Exceeded credit limit in credit card account {self.account_number}\")\n",
    "\n",
    "\n",
    "def demonstrate_withdrawal(account):\n",
    "    account.withdraw(50)\n",
    "\n",
    "savings_account = SavingsAccount(account_number=\"123\", balance=1000)\n",
    "checking_account = CheckingAccount(account_number=\"456\", balance=500, overdraft_limit=200)\n",
    "credit_card_account = CreditCardAccount(account_number=\"789\", balance=200, credit_limit=1000)\n",
    "\n",
    "demonstrate_withdrawal(savings_account)\n",
    "demonstrate_withdrawal(checking_account)\n",
    "demonstrate_withdrawal(credit_card_account)\n"
   ]
  },
  {
   "cell_type": "code",
   "execution_count": 15,
   "id": "0286c6b1",
   "metadata": {},
   "outputs": [
    {
     "name": "stdout",
     "output_type": "stream",
     "text": [
      "Addition result: (4, 6)\n",
      "Multiplication result: (2, 4)\n"
     ]
    }
   ],
   "source": [
    "\"\"\"15. Describe the concept of operator overloading in Python and how it relates to polymorphism.\n",
    "Provide examples using operators like `+` and `*`.\"\"\"\n",
    "\n",
    "class Point:\n",
    "    def __init__(self, x, y):\n",
    "        self.x = x\n",
    "        self.y = y\n",
    "\n",
    "    def __add__(self, other):\n",
    "        if isinstance(other, Point):\n",
    "            return Point(self.x + other.x, self.y + other.y)\n",
    "        else:\n",
    "            raise ValueError(\"Unsupported operand type for +: {}\".format(type(other)))\n",
    "\n",
    "    def __mul__(self, scalar):\n",
    "        if isinstance(scalar, (int, float)):\n",
    "            return Point(self.x * scalar, self.y * scalar)\n",
    "        else:\n",
    "            raise ValueError(\"Unsupported operand type for *: {}\".format(type(scalar)))\n",
    "\n",
    "    def __str__(self):\n",
    "        return \"({}, {})\".format(self.x, self.y)\n",
    "\n",
    "point1 = Point(1, 2)\n",
    "point2 = Point(3, 4)\n",
    "result_addition = point1 + point2\n",
    "print(\"Addition result:\", result_addition)  \n",
    "result_multiplication = point1 * 2\n",
    "print(\"Multiplication result:\", result_multiplication)  \n"
   ]
  },
  {
   "cell_type": "code",
   "execution_count": 16,
   "id": "437feae3",
   "metadata": {},
   "outputs": [
    {
     "data": {
      "text/plain": [
       "\"Dynamic polymorphism in Python is the ability to use a single interface method or function with\\nobjects of different types, and the appropriate implementation is determined at runtime.Achieved\\nthrough inheritance and method overriding, objects of various classes share a common base class,\\nallowing flexibility. At runtime, the interpreter selects the specific method based on the object's\\nactual type, enabling seamless handling of diverse object types with a unified interface.\""
      ]
     },
     "execution_count": 16,
     "metadata": {},
     "output_type": "execute_result"
    }
   ],
   "source": [
    "\"\"\"16. What is dynamic polymorphism, and how is it achieved in Python?\"\"\"\n",
    "\n",
    "\"\"\"Dynamic polymorphism in Python is the ability to use a single interface method or function with\n",
    "objects of different types, and the appropriate implementation is determined at runtime.Achieved\n",
    "through inheritance and method overriding, objects of various classes share a common base class,\n",
    "allowing flexibility. At runtime, the interpreter selects the specific method based on the object's\n",
    "actual type, enabling seamless handling of diverse object types with a unified interface.\"\"\"\n",
    "\n"
   ]
  },
  {
   "cell_type": "code",
   "execution_count": 17,
   "id": "db6280b3",
   "metadata": {},
   "outputs": [
    {
     "name": "stdout",
     "output_type": "stream",
     "text": [
      "shubh (Manager) - Salary: Rs80000\n",
      "yash (Developer) - Salary: Rs55000\n",
      "mani (Designer) - Salary: Rs58000\n"
     ]
    }
   ],
   "source": [
    "\"\"\"17. Create a Python class hierarchy for employees in a company (e.g., manager, developer, \n",
    "designer) and implement polymorphism through a common `calculate_salary()` method.\"\"\"\n",
    "\n",
    "class Employee:\n",
    "    def __init__(self, name, role):\n",
    "        self.name = name\n",
    "        self.role = role\n",
    "\n",
    "    def calculate_salary(self):\n",
    "        raise NotImplementedError(\"Subclasses must implement this method\")\n",
    "\n",
    "\n",
    "class Manager(Employee):\n",
    "    def __init__(self, name, team_size):\n",
    "        super().__init__(name, role=\"Manager\")\n",
    "        self.team_size = team_size\n",
    "\n",
    "    def calculate_salary(self):\n",
    "        base_salary = 60000\n",
    "        bonus = self.team_size * 2000\n",
    "        return base_salary + bonus\n",
    "\n",
    "\n",
    "class Developer(Employee):\n",
    "    def __init__(self, name, programming_language):\n",
    "        super().__init__(name, role=\"Developer\")\n",
    "        self.programming_language = programming_language\n",
    "\n",
    "    def calculate_salary(self):\n",
    "        base_salary = 50000\n",
    "        if self.programming_language == \"Python\":\n",
    "            bonus = 5000\n",
    "        else:\n",
    "            bonus = 3000\n",
    "        return base_salary + bonus\n",
    "\n",
    "\n",
    "class Designer(Employee):\n",
    "    def __init__(self, name, years_of_experience):\n",
    "        super().__init__(name, role=\"Designer\")\n",
    "        self.years_of_experience = years_of_experience\n",
    "\n",
    "    def calculate_salary(self):\n",
    "        base_salary = 55000\n",
    "        bonus = min(self.years_of_experience, 5) * 1000\n",
    "        return base_salary + bonus\n",
    "\n",
    "\n",
    "manager = Manager(name=\"shubh\", team_size=10)\n",
    "developer = Developer(name=\"yash\", programming_language=\"Python\")\n",
    "designer = Designer(name=\"mani\", years_of_experience=3)\n",
    "\n",
    "employees = [manager, developer, designer]\n",
    "\n",
    "for employee in employees:\n",
    "    print(f\"{employee.name} ({employee.role}) - Salary: Rs{employee.calculate_salary()}\")\n"
   ]
  },
  {
   "cell_type": "code",
   "execution_count": 18,
   "id": "829c8de7",
   "metadata": {},
   "outputs": [
    {
     "data": {
      "text/plain": [
       "\"Python allows for dynamic behavior and polymorphism through the use of references to \\nfunctions as function pointers. It is possible to treat objects of different types as belonging \\nto the same type thanks to polymorphism. Python function pointers make this possible by enabling\\nfunctions to be assigned to variables or passed as arguments. Python facilitates the creation \\nand manipulation of function pointers through ideas such as higher-order functions and first-\\nclass functions. Because functions can be dynamically switched during runtime, this flexibility \\nmakes it possible to implement polymorphic behavior, which lets objects react differently to the\\nsame method call depending on what kind they are. Python's dynamic dispatch feature makes code\\nmore flexible and extensible.\\n \""
      ]
     },
     "execution_count": 18,
     "metadata": {},
     "output_type": "execute_result"
    }
   ],
   "source": [
    "\"\"\"18. Discuss the concept of function pointers and how they can be used to achieve polymorphism\n",
    "in Python.\"\"\"\n",
    "\n",
    "\"\"\"Python allows for dynamic behavior and polymorphism through the use of references to \n",
    "functions as function pointers. It is possible to treat objects of different types as belonging \n",
    "to the same type thanks to polymorphism. Python function pointers make this possible by enabling\n",
    "functions to be assigned to variables or passed as arguments. Python facilitates the creation \n",
    "and manipulation of function pointers through ideas such as higher-order functions and first-\n",
    "class functions. Because functions can be dynamically switched during runtime, this flexibility \n",
    "makes it possible to implement polymorphic behavior, which lets objects react differently to the\n",
    "same method call depending on what kind they are. Python's dynamic dispatch feature makes code\n",
    "more flexible and extensible.\n",
    " \"\"\""
   ]
  },
  {
   "cell_type": "code",
   "execution_count": 19,
   "id": "7213e89c",
   "metadata": {},
   "outputs": [
    {
     "data": {
      "text/plain": [
       "'In polymorphism, interfaces and abstract classes offer models for objects to behave similarly. \\nIn addition to supporting single inheritance and encouraging code sharing among related classes,\\nabstract classes permit the combination of abstract and concrete methods. On the other hand,\\ninterfaces enforce multiple inheritance for different classes by defining method contracts that\\nonly contain method signatures. Interfaces place more emphasis on a contract-based methodology\\nthat promotes flexibility and modularity than abstract classes, which emphasize shared\\nimplementation. The decision is based on the requirements of the design: interfaces give \\nunrelated classes a contract to implement, allowing for a more flexible and modular design,\\nand abstract classes are appropriate for hierarchies with shared functionality.'"
      ]
     },
     "execution_count": 19,
     "metadata": {},
     "output_type": "execute_result"
    }
   ],
   "source": [
    "\"\"\"19. Explain the role of interfaces and abstract classes in polymorphism, drawing comparisons\n",
    "between them.\"\"\"\n",
    "\n",
    "\"\"\"In polymorphism, interfaces and abstract classes offer models for objects to behave similarly. \n",
    "In addition to supporting single inheritance and encouraging code sharing among related classes,\n",
    "abstract classes permit the combination of abstract and concrete methods. On the other hand,\n",
    "interfaces enforce multiple inheritance for different classes by defining method contracts that\n",
    "only contain method signatures. Interfaces place more emphasis on a contract-based methodology\n",
    "that promotes flexibility and modularity than abstract classes, which emphasize shared\n",
    "implementation. The decision is based on the requirements of the design: interfaces give \n",
    "unrelated classes a contract to implement, allowing for a more flexible and modular design,\n",
    "and abstract classes are appropriate for hierarchies with shared functionality.\"\"\"\n",
    "\n",
    "    "
   ]
  },
  {
   "cell_type": "code",
   "execution_count": 20,
   "id": "ab59ee23",
   "metadata": {},
   "outputs": [
    {
     "name": "stdout",
     "output_type": "stream",
     "text": [
      "Mammal sound: Roar!\n",
      "Bird eating: Peck peck!\n",
      "Reptile sleeping: Hiss hiss...\n"
     ]
    }
   ],
   "source": [
    "\"\"\"20. Create a Python class for a zoo simulation, demonstrating polymorphism with different animal\n",
    "types(e.g., mammals, birds, reptiles) and their behavior (e.g., eating, sleeping, making sounds).\"\"\"\n",
    "\n",
    "class Animal:\n",
    "    def __init__(self, name):\n",
    "        self.name = name\n",
    "\n",
    "    def make_sound(self):\n",
    "        pass\n",
    "\n",
    "    def eat(self):\n",
    "        pass\n",
    "\n",
    "    def sleep(self):\n",
    "        pass\n",
    "\n",
    "class Mammal(Animal):\n",
    "    def make_sound(self):\n",
    "        return \"Mammal sound: Roar!\"\n",
    "\n",
    "    def eat(self):\n",
    "        return \"Mammal eating: Yum yum!\"\n",
    "\n",
    "    def sleep(self):\n",
    "        return \"Mammal sleeping: Zzz...\"\n",
    "\n",
    "class Bird(Animal):\n",
    "    def make_sound(self):\n",
    "        return \"Bird sound: Chirp chirp!\"\n",
    "\n",
    "    def eat(self):\n",
    "        return \"Bird eating: Peck peck!\"\n",
    "\n",
    "    def sleep(self):\n",
    "        return \"Bird sleeping: Tweet tweet...\"\n",
    "\n",
    "class Reptile(Animal):\n",
    "    def make_sound(self):\n",
    "        return \"Reptile sound: Hiss!\"\n",
    "\n",
    "    def eat(self):\n",
    "        return \"Reptile eating: Slurp slurp!\"\n",
    "\n",
    "    def sleep(self):\n",
    "        return \"Reptile sleeping: Hiss hiss...\"\n",
    "\n",
    "lion = Mammal(\"Lion\")\n",
    "sparrow = Bird(\"Sparrow\")\n",
    "snake = Reptile(\"Snake\")\n",
    "\n",
    "print(lion.make_sound())  \n",
    "print(sparrow.eat())      \n",
    "print(snake.sleep())    \n"
   ]
  },
  {
   "cell_type": "markdown",
   "id": "883b747f",
   "metadata": {},
   "source": [
    "## Abstraction:"
   ]
  },
  {
   "cell_type": "code",
   "execution_count": 21,
   "id": "d04faf44",
   "metadata": {},
   "outputs": [
    {
     "data": {
      "text/plain": [
       "\"In OOP, In Python, abstraction is the equivalent of making things simpler by drawing an \\nobject's blueprint. It is a method of concentrating on the essentials while disregarding the \\nminutiae. Using object-oriented programming (OOP), abstract classes with shared characteristics\\nare created. These classes serve as models from which we can construct more specialized classes.\\nIt facilitates code reuse, improves program comprehension, and facilitates better project\\nmanagement. In Python, abstraction is the process of simplifying things by hiding details \\nthat aren't necessary, which enables us to create software more effectively and efficiently.\\n.\\n\""
      ]
     },
     "execution_count": 21,
     "metadata": {},
     "output_type": "execute_result"
    }
   ],
   "source": [
    "\"\"\"1. What is abstraction in Python, and how does it relate to object-oriented programming?\"\"\"\n",
    "\n",
    "\"\"\"In OOP, In Python, abstraction is the equivalent of making things simpler by drawing an \n",
    "object's blueprint. It is a method of concentrating on the essentials while disregarding the \n",
    "minutiae. Using object-oriented programming (OOP), abstract classes with shared characteristics\n",
    "are created. These classes serve as models from which we can construct more specialized classes.\n",
    "It facilitates code reuse, improves program comprehension, and facilitates better project\n",
    "management. In Python, abstraction is the process of simplifying things by hiding details \n",
    "that aren't necessary, which enables us to create software more effectively and efficiently.\n",
    ".\n",
    "\"\"\""
   ]
  },
  {
   "cell_type": "code",
   "execution_count": 22,
   "id": "6e9403f4",
   "metadata": {},
   "outputs": [
    {
     "data": {
      "text/plain": [
       "'Abstraction in coding, especially in object-oriented programming,\\noffers several benefits for code organization and complexity reduction. \\nFirstly, it allows developers to focus on essential features and ignore intricate\\nimplementation details, making the code more understandable. By creating abstract classes and \\ntemplates, code becomes modular, promoting reuse and easier maintenance. \\nAbstraction provides a clear structure to the code, enhancing organization and \\nmaking it easier to navigate. This simplification reduces the cognitive load on developers, \\nmaking it more manageable to handle complex systems. Additionally, abstraction promotes \\nencapsulation, ensuring that the internal workings of a module are hidden, reducing \\ndependencies and making the codebase more flexible and scalable. Overall, abstraction \\ncontributes to creating cleaner, more organized, and less complex code.'"
      ]
     },
     "execution_count": 22,
     "metadata": {},
     "output_type": "execute_result"
    }
   ],
   "source": [
    "\"\"\"2. Describe the benefits of abstraction in terms of code organization and complexity reduction.\"\"\"\n",
    "\n",
    "\"\"\"Abstraction in coding, especially in object-oriented programming,\n",
    "offers several benefits for code organization and complexity reduction. \n",
    "Firstly, it allows developers to focus on essential features and ignore intricate\n",
    "implementation details, making the code more understandable. By creating abstract classes and \n",
    "templates, code becomes modular, promoting reuse and easier maintenance. \n",
    "Abstraction provides a clear structure to the code, enhancing organization and \n",
    "making it easier to navigate. This simplification reduces the cognitive load on developers, \n",
    "making it more manageable to handle complex systems. Additionally, abstraction promotes \n",
    "encapsulation, ensuring that the internal workings of a module are hidden, reducing \n",
    "dependencies and making the codebase more flexible and scalable. Overall, abstraction \n",
    "contributes to creating cleaner, more organized, and less complex code.\"\"\"\n"
   ]
  },
  {
   "cell_type": "code",
   "execution_count": 23,
   "id": "a1139c91",
   "metadata": {},
   "outputs": [
    {
     "name": "stdout",
     "output_type": "stream",
     "text": [
      "Circle Area: 78.54\n",
      "Rectangle Area: 24\n"
     ]
    }
   ],
   "source": [
    "\"\"\"3. Create a Python class called `Shape` with an abstract method `calculate_area()`.\n",
    "Then, create child classes (e.g., `Circle`, `Rectangle`) that implement the `calculate_area()`\n",
    "method. Provide an example of using these classes.\"\"\"\n",
    "\n",
    "from abc import ABC, abstractmethod\n",
    "import math\n",
    "\n",
    "class Shape(ABC):\n",
    "    @abstractmethod\n",
    "    def calculate_area(self):\n",
    "        pass\n",
    "\n",
    "class Circle(Shape):\n",
    "    def __init__(self, radius):\n",
    "        self.radius = radius\n",
    "\n",
    "    def calculate_area(self):\n",
    "        return math.pi * self.radius ** 2\n",
    "\n",
    "class Rectangle(Shape):\n",
    "    def __init__(self, length, width):\n",
    "        self.length = length\n",
    "        self.width = width\n",
    "\n",
    "    def calculate_area(self):\n",
    "        return self.length * self.width\n",
    "\n",
    "circle = Circle(radius=5)\n",
    "rectangle = Rectangle(length=4, width=6)\n",
    "\n",
    "print(f\"Circle Area: {circle.calculate_area():.2f}\")\n",
    "print(f\"Rectangle Area: {rectangle.calculate_area()}\")\n"
   ]
  },
  {
   "cell_type": "code",
   "execution_count": 24,
   "id": "fddb969d",
   "metadata": {},
   "outputs": [
    {
     "name": "stdout",
     "output_type": "stream",
     "text": [
      "Circle Area: 78.54\n",
      "Rectangle Area: 24\n"
     ]
    }
   ],
   "source": [
    "\"\"\"4. Explain the concept of abstract classes in Python and how they are defined using the `abc`\n",
    "module. Provide an example.\"\"\"\n",
    "\n",
    "\"\"\"In OOP, In Python, abstraction is the equivalent of making things simpler by drawing an \n",
    "object's blueprint. It is a method of concentrating on the essentials while disregarding the \n",
    "minutiae. Using object-oriented programming (OOP), abstract classes with shared characteristics\n",
    "are created. These classes serve as models from which we can construct more specialized classes.\n",
    "It facilitates code reuse, improves program comprehension, and facilitates better project\n",
    "management. In Python, abstraction is the process of simplifying things by hiding details \n",
    "that aren't necessary, which enables us to create software more effectively and efficiently.\n",
    ".\n",
    "\"\"\"\n",
    "from abc import ABC, abstractmethod\n",
    "import math\n",
    "\n",
    "class Shape(ABC):\n",
    "    @abstractmethod\n",
    "    def calculate_area(self):\n",
    "        pass\n",
    "\n",
    "class Circle(Shape):\n",
    "    def __init__(self, radius):\n",
    "        self.radius = radius\n",
    "\n",
    "    def calculate_area(self):\n",
    "        return math.pi * self.radius ** 2\n",
    "\n",
    "class Rectangle(Shape):\n",
    "    def __init__(self, length, width):\n",
    "        self.length = length\n",
    "        self.width = width\n",
    "\n",
    "    def calculate_area(self):\n",
    "        return self.length * self.width\n",
    "\n",
    "circle = Circle(radius=5)\n",
    "rectangle = Rectangle(length=4, width=6)\n",
    "\n",
    "print(f\"Circle Area: {circle.calculate_area():.2f}\")\n",
    "print(f\"Rectangle Area: {rectangle.calculate_area()}\")"
   ]
  },
  {
   "cell_type": "code",
   "execution_count": 25,
   "id": "72542930",
   "metadata": {},
   "outputs": [
    {
     "data": {
      "text/plain": [
       "'abstract classes serve as blueprints with potential abstract methods, enforcing a common \\nstructure for subclasses. They cannot be instantiated independently and are designed to be \\ninherited, promoting code consistency and providing a shared interface. Regular classes, in \\ncontrast, are fully implemented and can be instantiated directly. They are employed for \\nstandalone implementations without the need for a standardized interface. Abstract classes are \\nideal for scenarios where a group of related classes should adhere to a shared structure,\\nensuring code reusability, while regular classes are suitable when a complete, standalone \\nimplementation is desired without the constraints of a common interface.'"
      ]
     },
     "execution_count": 25,
     "metadata": {},
     "output_type": "execute_result"
    }
   ],
   "source": [
    "\"\"\"5. How do abstract classes differ from regular classes in Python? Discuss their use cases.\"\"\"\n",
    "\n",
    "\"\"\"abstract classes serve as blueprints with potential abstract methods, enforcing a common \n",
    "structure for subclasses. They cannot be instantiated independently and are designed to be \n",
    "inherited, promoting code consistency and providing a shared interface. Regular classes, in \n",
    "contrast, are fully implemented and can be instantiated directly. They are employed for \n",
    "standalone implementations without the need for a standardized interface. Abstract classes are \n",
    "ideal for scenarios where a group of related classes should adhere to a shared structure,\n",
    "ensuring code reusability, while regular classes are suitable when a complete, standalone \n",
    "implementation is desired without the constraints of a common interface.\"\"\""
   ]
  },
  {
   "cell_type": "code",
   "execution_count": 26,
   "id": "56958f02",
   "metadata": {},
   "outputs": [
    {
     "name": "stdout",
     "output_type": "stream",
     "text": [
      "Initial balance for John Doe: Rs1000\n",
      "Deposited Rs500. New balance: Rs1500\n",
      "Withdrew Rs200. New balance: Rs1300\n",
      "Invalid withdrawal amount or insufficient funds.\n",
      "Final balance for John Doe: Rs1300\n"
     ]
    }
   ],
   "source": [
    "\"\"\"6. Create a Python class for a bank account and demonstrate abstraction by hiding the account\n",
    "balance and providing methods to deposit and withdraw funds.\"\"\"\n",
    "\n",
    "class BankAccount:\n",
    "    def __init__(self, account_holder, initial_balance=0):\n",
    "        self.account_holder = account_holder\n",
    "        self._balance = initial_balance  \n",
    "\n",
    "    def deposit(self, amount):\n",
    "        if amount > 0:\n",
    "            self._balance += amount\n",
    "            print(f\"Deposited Rs{amount}. New balance: Rs{self._balance}\")\n",
    "        else:\n",
    "            print(\"Invalid deposit amount.\")\n",
    "\n",
    "    def withdraw(self, amount):\n",
    "        if 0 < amount <= self._balance:\n",
    "            self._balance -= amount\n",
    "            print(f\"Withdrew Rs{amount}. New balance: Rs{self._balance}\")\n",
    "        else:\n",
    "            print(\"Invalid withdrawal amount or insufficient funds.\")\n",
    "\n",
    "    def get_balance(self):\n",
    "        return self._balance\n",
    "\n",
    "account1 = BankAccount(\"John Doe\", initial_balance=1000)\n",
    "print(f\"Initial balance for {account1.account_holder}: Rs{account1.get_balance()}\")\n",
    "\n",
    "account1.deposit(500)\n",
    "account1.withdraw(200)\n",
    "account1.withdraw(1500)  \n",
    "print(f\"Final balance for {account1.account_holder}: Rs{account1.get_balance()}\")\n"
   ]
  },
  {
   "cell_type": "code",
   "execution_count": 27,
   "id": "0ee996ac",
   "metadata": {},
   "outputs": [
    {
     "data": {
      "text/plain": [
       "'interface classes are not explicitly defined like in some other languages, but the concept \\nof interfaces is achieved through abstract classes or protocols. Interfaces define a set of \\nmethods that concrete classes must implement, ensuring a common structure. By utilizing abstract\\nclasses or protocols, Python achieves abstraction through interface-like behavior. Subclasses \\ninherit from these abstract classes, providing implementations for the required methods. This\\nenforces a standardized interface across multiple classes, facilitating code organization,\\nreusability, and ensuring that objects adhere to a shared contract. Interface classes play a \\ncrucial role in achieving abstraction by promoting a consistent structure without specifying \\nthe detailed implementation, thus enhancing the maintainability and scalability of code.'"
      ]
     },
     "execution_count": 27,
     "metadata": {},
     "output_type": "execute_result"
    }
   ],
   "source": [
    "\"\"\"7. Discuss the concept of interface classes in Python and their role in achieving abstraction.\"\"\"\n",
    "\n",
    "\"\"\"interface classes are not explicitly defined like in some other languages, but the concept \n",
    "of interfaces is achieved through abstract classes or protocols. Interfaces define a set of \n",
    "methods that concrete classes must implement, ensuring a common structure. By utilizing abstract\n",
    "classes or protocols, Python achieves abstraction through interface-like behavior. Subclasses \n",
    "inherit from these abstract classes, providing implementations for the required methods. This\n",
    "enforces a standardized interface across multiple classes, facilitating code organization,\n",
    "reusability, and ensuring that objects adhere to a shared contract. Interface classes play a \n",
    "crucial role in achieving abstraction by promoting a consistent structure without specifying \n",
    "the detailed implementation, thus enhancing the maintainability and scalability of code.\"\"\""
   ]
  },
  {
   "cell_type": "code",
   "execution_count": 3,
   "id": "564060f2",
   "metadata": {},
   "outputs": [
    {
     "name": "stdout",
     "output_type": "stream",
     "text": [
      "Woof\n",
      "Buddy is eating dog food.\n",
      "Buddy is sleeping soundly.\n",
      "Meow\n",
      "Whiskers is eating cat food.\n",
      "Whiskers is sleeping soundly.\n",
      "Chirp\n",
      "Tweetie is eating seeds.\n",
      "Tweetie is roosting for the night.\n"
     ]
    }
   ],
   "source": [
    "\"\"\"8. Create a Python class hierarchy for animals and implement abstraction by defining common\n",
    "methods (e.g., `eat()`, `sleep()`) in an abstract base class.\"\"\"\n",
    "\n",
    "from abc import ABC, abstractmethod\n",
    "\n",
    "class Animal(ABC):\n",
    "    def __init__(self, name):\n",
    "        self.name = name\n",
    "\n",
    "    @abstractmethod\n",
    "    def make_sound(self):\n",
    "        pass\n",
    "\n",
    "    @abstractmethod\n",
    "    def eat(self):\n",
    "        pass\n",
    "\n",
    "    @abstractmethod\n",
    "    def sleep(self):\n",
    "        pass\n",
    "\n",
    "class Mammal(Animal):\n",
    "    def sleep(self):\n",
    "        print(f\"{self.name} is sleeping soundly.\")\n",
    "\n",
    "class Bird(Animal):\n",
    "    def sleep(self):\n",
    "        print(f\"{self.name} is roosting for the night.\")\n",
    "\n",
    "class Dog(Mammal):\n",
    "    def make_sound(self):\n",
    "        print(\"Woof\")\n",
    "\n",
    "    def eat(self):\n",
    "        print(f\"{self.name} is eating dog food.\")\n",
    "\n",
    "class Cat(Mammal):\n",
    "    def make_sound(self):\n",
    "        print(\"Meow\")\n",
    "\n",
    "    def eat(self):\n",
    "        print(f\"{self.name} is eating cat food.\")\n",
    "\n",
    "class Sparrow(Bird):\n",
    "    def make_sound(self):\n",
    "        print(\"Chirp\")\n",
    "\n",
    "    def eat(self):\n",
    "        print(f\"{self.name} is eating seeds.\")\n",
    "\n",
    "dog = Dog(\"Buddy\")\n",
    "cat = Cat(\"Whiskers\")\n",
    "sparrow = Sparrow(\"Tweetie\")\n",
    "\n",
    "dog.make_sound()\n",
    "dog.eat()\n",
    "dog.sleep()\n",
    "\n",
    "cat.make_sound()\n",
    "cat.eat()\n",
    "cat.sleep()\n",
    "\n",
    "sparrow.make_sound()\n",
    "sparrow.eat()\n",
    "sparrow.sleep()\n"
   ]
  },
  {
   "cell_type": "code",
   "execution_count": 4,
   "id": "fa7ce680",
   "metadata": {},
   "outputs": [
    {
     "data": {
      "text/plain": [
       "'Encapsulation in Python is vital for achieving abstraction, a fundamental principle in object\\noriented programming. It involves bundling data and methods that operate on that data within a \\nclass, restricting access to internal details. This shields the implementation from external \\ninterference, promoting a clear separation of concerns and enhancing code modularity. By \\nencapsulating details, developers can focus on the essential functionalities of an object, \\nfostering abstraction.'"
      ]
     },
     "execution_count": 4,
     "metadata": {},
     "output_type": "execute_result"
    }
   ],
   "source": [
    "\"\"\"9. Explain the significance of encapsulation in achieving abstraction.\"\"\"\n",
    "\n",
    "\"\"\"Encapsulation in Python is vital for achieving abstraction, a fundamental principle in object\n",
    "oriented programming. It involves bundling data and methods that operate on that data within a \n",
    "class, restricting access to internal details. This shields the implementation from external \n",
    "interference, promoting a clear separation of concerns and enhancing code modularity. By \n",
    "encapsulating details, developers can focus on the essential functionalities of an object, \n",
    "fostering abstraction.\"\"\""
   ]
  },
  {
   "cell_type": "code",
   "execution_count": 5,
   "id": "fa025e78",
   "metadata": {},
   "outputs": [
    {
     "name": "stdout",
     "output_type": "stream",
     "text": [
      "Circle area: 78.5\n",
      "Square area: 16\n"
     ]
    }
   ],
   "source": [
    "\"\"\"10.What is the purpose of abstract methods, and how do they enforce abstraction in Python classes?\"\"\"\n",
    "\n",
    "\"\"\"Abstract methods in Python are methods declared in an abstract base class (ABC) but do not \n",
    "contain an implementation. Their purpose is to define a common interface for all the classes that\n",
    "inherit from the abstract base class. Abstract methods serve as placeholders that must be implemented\n",
    "by concrete subclasses, ensuring that all subclasses provide a specific set of methods.\n",
    "The concept of abstract methods enforces abstraction in Python classes by requiring derived classes\n",
    "to provide their own implementation for these methods. This ensures that the subclasses adhere to\n",
    "a common interface defined by the abstract base class, promoting a higher level of abstraction \n",
    "and standardization.\"\"\"\n",
    "\n",
    "from abc import ABC, abstractmethod\n",
    "\n",
    "class Shape(ABC):\n",
    "    @abstractmethod\n",
    "    def area(self):\n",
    "        pass\n",
    "\n",
    "class Circle(Shape):\n",
    "    def __init__(self, radius):\n",
    "        self.radius = radius\n",
    "\n",
    "    def area(self):\n",
    "        return 3.14 * self.radius**2\n",
    "\n",
    "class Square(Shape):\n",
    "    def __init__(self, side):\n",
    "        self.side = side\n",
    "\n",
    "    def area(self):\n",
    "        return self.side**2\n",
    "\n",
    "circle = Circle(5)\n",
    "square = Square(4)\n",
    "\n",
    "print(\"Circle area:\", circle.area()) \n",
    "print(\"Square area:\", square.area())  \n"
   ]
  },
  {
   "cell_type": "code",
   "execution_count": 7,
   "id": "fced4476",
   "metadata": {},
   "outputs": [
    {
     "name": "stdout",
     "output_type": "stream",
     "text": [
      "Toyota Camry engine started.\n",
      "Toyota Camry engine stopped.\n",
      "Toyota Camry\n",
      "Harley-Davidson Sportster engine started.\n",
      "Harley-Davidson Sportster engine stopped.\n",
      "Harley-Davidson Sportster\n"
     ]
    }
   ],
   "source": [
    "\"\"\"11. Create a Python class for a vehicle system and demonstrate abstraction by defining common \n",
    "methods (e.g., `start()`, `stop()`) in an abstract base class.\"\"\"\n",
    "\n",
    "from abc import ABC, abstractmethod\n",
    "\n",
    "class Vehicle(ABC):\n",
    "    def __init__(self, brand, model):\n",
    "        self.brand = brand\n",
    "        self.model = model\n",
    "\n",
    "    @abstractmethod\n",
    "    def start(self):\n",
    "        pass\n",
    "\n",
    "    @abstractmethod\n",
    "    def stop(self):\n",
    "        pass\n",
    "\n",
    "    def display_info(self):\n",
    "        print(f\"{self.brand} {self.model}\")\n",
    "\n",
    "class Car(Vehicle):\n",
    "    def start(self):\n",
    "        print(f\"{self.brand} {self.model} engine started.\")\n",
    "\n",
    "    def stop(self):\n",
    "        print(f\"{self.brand} {self.model} engine stopped.\")\n",
    "\n",
    "class Motorcycle(Vehicle):\n",
    "    def start(self):\n",
    "        print(f\"{self.brand} {self.model} engine started.\")\n",
    "\n",
    "    def stop(self):\n",
    "        print(f\"{self.brand} {self.model} engine stopped.\")\n",
    "\n",
    "car = Car(\"Toyota\", \"Camry\")\n",
    "motorcycle = Motorcycle(\"Harley-Davidson\", \"Sportster\")\n",
    "\n",
    "car.start()\n",
    "car.stop()\n",
    "car.display_info()\n",
    "motorcycle.start()\n",
    "motorcycle.stop()\n",
    "motorcycle.display_info()\n"
   ]
  },
  {
   "cell_type": "code",
   "execution_count": 8,
   "id": "64c92595",
   "metadata": {},
   "outputs": [
    {
     "data": {
      "text/plain": [
       "' abstract properties are part of the abstract base classes (ABCs) module, which allows you to\\ndefine abstract classes and abstract methods. Abstract properties are essentially a way to \\ndeclare abstract attributes in a class that must be implemented by its subclasses. To use \\nabstract properties, you need to create an abstract class using the ABC (Abstract Base Class) \\nmodule and the @abstractmethod decorator.'"
      ]
     },
     "execution_count": 8,
     "metadata": {},
     "output_type": "execute_result"
    }
   ],
   "source": [
    "\"\"\"12. Describe the use of abstract properties in Python and how they can be employed in \n",
    "abstract classes.\"\"\"\n",
    "\n",
    "\"\"\" abstract properties are part of the abstract base classes (ABCs) module, which allows you to\n",
    "define abstract classes and abstract methods. Abstract properties are essentially a way to \n",
    "declare abstract attributes in a class that must be implemented by its subclasses. To use \n",
    "abstract properties, you need to create an abstract class using the ABC (Abstract Base Class) \n",
    "module and the @abstractmethod decorator.\"\"\""
   ]
  },
  {
   "cell_type": "code",
   "execution_count": 10,
   "id": "37953d24",
   "metadata": {},
   "outputs": [
    {
     "name": "stdout",
     "output_type": "stream",
     "text": [
      "John Doe - Manager Salary: Rs60000\n",
      "Alice Smith - Developer Salary: Rs62000\n",
      "Bob Johnson - Designer Salary: Rs56500\n"
     ]
    }
   ],
   "source": [
    "\"\"\"13. Create a Python class hierarchy for employees in a company (e.g., manager, developer, \n",
    "designer) and implement abstraction by defining a common `get_salary()` method.\"\"\"\n",
    "\n",
    "from abc import ABC, abstractmethod\n",
    "\n",
    "class Employee(ABC):\n",
    "    def __init__(self, name, role):\n",
    "        self.name = name\n",
    "        self.role = role\n",
    "\n",
    "    @abstractmethod\n",
    "    def get_salary(self):\n",
    "        pass\n",
    "\n",
    "class Manager(Employee):\n",
    "    def __init__(self, name, team_size):\n",
    "        super().__init__(name, role=\"Manager\")\n",
    "        self.team_size = team_size\n",
    "\n",
    "    def get_salary(self):\n",
    "        base_salary = 50000\n",
    "        team_bonus = self.team_size * 1000\n",
    "        return base_salary + team_bonus\n",
    "\n",
    "class Developer(Employee):\n",
    "    def __init__(self, name, programming_language):\n",
    "        super().__init__(name, role=\"Developer\")\n",
    "        self.programming_language = programming_language\n",
    "\n",
    "    def get_salary(self):\n",
    "        base_salary = 60000\n",
    "        language_bonus = 2000 if self.programming_language == \"Python\" else 0\n",
    "        return base_salary + language_bonus\n",
    "\n",
    "class Designer(Employee):\n",
    "    def __init__(self, name, design_tool):\n",
    "        super().__init__(name, role=\"Designer\")\n",
    "        self.design_tool = design_tool\n",
    "\n",
    "    def get_salary(self):\n",
    "        base_salary = 55000\n",
    "        tool_bonus = 1500 if self.design_tool == \"Adobe Illustrator\" else 0\n",
    "        return base_salary + tool_bonus\n",
    "\n",
    "manager = Manager(name=\"John Doe\", team_size=10)\n",
    "developer = Developer(name=\"Alice Smith\", programming_language=\"Python\")\n",
    "designer = Designer(name=\"Bob Johnson\", design_tool=\"Adobe Illustrator\")\n",
    "\n",
    "print(f\"{manager.name} - {manager.role} Salary: Rs{manager.get_salary()}\")\n",
    "print(f\"{developer.name} - {developer.role} Salary: Rs{developer.get_salary()}\")\n",
    "print(f\"{designer.name} - {designer.role} Salary: Rs{designer.get_salary()}\")\n"
   ]
  },
  {
   "cell_type": "code",
   "execution_count": 11,
   "id": "42ef311d",
   "metadata": {},
   "outputs": [
    {
     "data": {
      "text/plain": [
       "'Abstract classes in Python cannot be instantiated and are meant to be subclassed. They may \\ncontain abstract methods, which must be implemented by their subclasses. Abstract classes are \\ncreated using the ABC (Abstract Base Class) module.\\nconcrete classes can be instantiated and provide concrete implementations for all their methods.\\nThey can also inherit from abstract classes and implement their abstract methods. Concrete \\nclasses are used to create objects directly.\\n'"
      ]
     },
     "execution_count": 11,
     "metadata": {},
     "output_type": "execute_result"
    }
   ],
   "source": [
    "\"\"\"14. Discuss the differences between abstract classes and concrete classes in Python, \n",
    "including their instantiation.\"\"\"\n",
    "\n",
    "\"\"\"Abstract classes in Python cannot be instantiated and are meant to be subclassed. They may \n",
    "contain abstract methods, which must be implemented by their subclasses. Abstract classes are \n",
    "created using the ABC (Abstract Base Class) module.\n",
    "concrete classes can be instantiated and provide concrete implementations for all their methods.\n",
    "They can also inherit from abstract classes and implement their abstract methods. Concrete \n",
    "classes are used to create objects directly.\n",
    "\"\"\""
   ]
  },
  {
   "cell_type": "code",
   "execution_count": 12,
   "id": "bad98f80",
   "metadata": {},
   "outputs": [
    {
     "data": {
      "text/plain": [
       "'Abstract Data Types (ADTs) in Python represent a high-level conceptual model for organizing \\nand manipulating data. They define a set of operations without specifying the implementation \\ndetails. ADTs allow programmers to focus on the logical functionality of data structures rather\\nthan their internal workings. this abstraction is achieved through classes,encapsulation, and methods. \\nabstraction simplifies program design,promotes code reusability, and enhances maintainability \\nby isolating implementation complexities,allowing developers to interact with data structures \\nat a more intuitive and conceptual level.'"
      ]
     },
     "execution_count": 12,
     "metadata": {},
     "output_type": "execute_result"
    }
   ],
   "source": [
    "\"\"\"15. Explain the concept of abstract data types (ADTs) and their role in achieving abstraction\n",
    "in Python.\"\"\"\n",
    "\n",
    "\"\"\"Abstract Data Types (ADTs) in Python represent a high-level conceptual model for organizing \n",
    "and manipulating data. They define a set of operations without specifying the implementation \n",
    "details. ADTs allow programmers to focus on the logical functionality of data structures rather\n",
    "than their internal workings. this abstraction is achieved through classes,encapsulation, and methods. \n",
    "abstraction simplifies program design,promotes code reusability, and enhances maintainability \n",
    "by isolating implementation complexities,allowing developers to interact with data structures \n",
    "at a more intuitive and conceptual level.\"\"\""
   ]
  },
  {
   "cell_type": "code",
   "execution_count": 13,
   "id": "1cba21c1",
   "metadata": {},
   "outputs": [
    {
     "name": "stdout",
     "output_type": "stream",
     "text": [
      "Desktop computer is powering on\n",
      "Desktop computer is shutting down\n",
      "Laptop computer is powering on\n",
      "Laptop computer is shutting down\n"
     ]
    }
   ],
   "source": [
    "\"\"\"16. Create a Python class for a computer system, demonstrating abstraction by defining common\n",
    "methods (e.g., `power_on()`, `shutdown()`) in an abstract base class.\"\"\"\n",
    "\n",
    "from abc import ABC, abstractmethod\n",
    "class ComputerSystem(ABC):\n",
    "    @abstractmethod\n",
    "    def power_on(self):\n",
    "        pass\n",
    "\n",
    "    @abstractmethod\n",
    "    def shutdown(self):\n",
    "        pass\n",
    "\n",
    "class DesktopComputer(ComputerSystem):\n",
    "    def power_on(self):\n",
    "        print(\"Desktop computer is powering on\")\n",
    "\n",
    "    def shutdown(self):\n",
    "        print(\"Desktop computer is shutting down\")\n",
    "\n",
    "class LaptopComputer(ComputerSystem):\n",
    "    def power_on(self):\n",
    "        print(\"Laptop computer is powering on\")\n",
    "\n",
    "    def shutdown(self):\n",
    "        print(\"Laptop computer is shutting down\")\n",
    "\n",
    "desktop = DesktopComputer()\n",
    "laptop = LaptopComputer()\n",
    "desktop.power_on()\n",
    "desktop.shutdown()\n",
    "laptop.power_on()\n",
    "laptop.shutdown()\n"
   ]
  },
  {
   "cell_type": "code",
   "execution_count": 14,
   "id": "37189752",
   "metadata": {},
   "outputs": [
    {
     "data": {
      "text/plain": [
       "\"abstraction in big software projects is like hiding complicated stuff so that it's easier \\nto work with. It helps reuse code, makes fixing things simpler, and lets us adapt to changes\\neasily. Think of it like organizing your kitchen – spices in one place, utensils in another. \\nIt makes it easier to find things and cook without chaos. In software, abstraction does a \\nsimilar job by organizing information. It also helps programmers work faster and understand the\\nproject better. Just like how arranging things smartly in the kitchen saves time, abstraction \\nsaves time in making and fixing big software projects..\""
      ]
     },
     "execution_count": 14,
     "metadata": {},
     "output_type": "execute_result"
    }
   ],
   "source": [
    "\"\"\"17. Discuss the benefits of using abstraction in large-scale software development projects.\"\"\"\n",
    "\n",
    "\"\"\"abstraction in big software projects is like hiding complicated stuff so that it's easier \n",
    "to work with. It helps reuse code, makes fixing things simpler, and lets us adapt to changes\n",
    "easily. Think of it like organizing your kitchen – spices in one place, utensils in another. \n",
    "It makes it easier to find things and cook without chaos. In software, abstraction does a \n",
    "similar job by organizing information. It also helps programmers work faster and understand the\n",
    "project better. Just like how arranging things smartly in the kitchen saves time, abstraction \n",
    "saves time in making and fixing big software projects..\"\"\""
   ]
  },
  {
   "cell_type": "code",
   "execution_count": 15,
   "id": "d750e746",
   "metadata": {},
   "outputs": [
    {
     "data": {
      "text/plain": [
       "\" abstraction, like making a recipe card, boosts code reuse and modularity. It's like creating\\na common template (abstract class) for tasks without detailing how each is done. This way, \\ndifferent parts of the program or even other projects can use the same template, promoting code \\nreuse. It also encourages breaking down tasks into smaller, easy-to-understand parts \\nImagine cooking by following a recipe without knowing all the cooking techniques – that's how \\nabstraction lets us use predefined methods and classes without getting into the nittygritty. \\nit's like making a master recipe card, making code adaptable and simpler to manage.\\n\""
      ]
     },
     "execution_count": 15,
     "metadata": {},
     "output_type": "execute_result"
    }
   ],
   "source": [
    "\"\"\"18. Explain how abstraction enhances code reusability and modularity in Python programs.\"\"\"\n",
    "\n",
    "\"\"\" abstraction, like making a recipe card, boosts code reuse and modularity. It's like creating\n",
    "a common template (abstract class) for tasks without detailing how each is done. This way, \n",
    "different parts of the program or even other projects can use the same template, promoting code \n",
    "reuse. It also encourages breaking down tasks into smaller, easy-to-understand parts \n",
    "Imagine cooking by following a recipe without knowing all the cooking techniques – that's how \n",
    "abstraction lets us use predefined methods and classes without getting into the nittygritty. \n",
    "it's like making a master recipe card, making code adaptable and simpler to manage.\n",
    "\"\"\""
   ]
  },
  {
   "cell_type": "code",
   "execution_count": 18,
   "id": "9c608da7",
   "metadata": {},
   "outputs": [
    {
     "name": "stdout",
     "output_type": "stream",
     "text": [
      "Book 'The God of Small Things' has been added to the library.\n",
      "Book 'My Experiments with Truth' has been added to the library.\n",
      "Library Items:\n",
      "Book Title: The God of Small Things\n",
      "Author: Arundhati Roy\n",
      "ISBN: Fiction\n",
      "Status: Available\n",
      "\n",
      "Book Title: My Experiments with Truth\n",
      "Author: Mahatma Gandhi\n",
      "ISBN: Autobiography\n",
      "Status: Available\n",
      "\n",
      "The book 'The God of Small Things' has been borrowed.\n",
      "Library Items:\n",
      "Book Title: The God of Small Things\n",
      "Author: Arundhati Roy\n",
      "ISBN: Fiction\n",
      "Status: Borrowed\n",
      "\n",
      "Book Title: My Experiments with Truth\n",
      "Author: Mahatma Gandhi\n",
      "ISBN: Autobiography\n",
      "Status: Available\n",
      "\n",
      "The book 'The God of Small Things' has been returned.\n",
      "Library Items:\n",
      "Book Title: The God of Small Things\n",
      "Author: Arundhati Roy\n",
      "ISBN: Fiction\n",
      "Status: Available\n",
      "\n",
      "Book Title: My Experiments with Truth\n",
      "Author: Mahatma Gandhi\n",
      "ISBN: Autobiography\n",
      "Status: Available\n",
      "\n"
     ]
    }
   ],
   "source": [
    "\"\"\"19. Create a Python class for a library system, implementing abstraction by defining common\n",
    "methods (e.g., `add_book()`, `borrow_book()`) in an abstract base class.\"\"\"\n",
    "\n",
    "from abc import ABC, abstractmethod\n",
    "\n",
    "class LibraryItem(ABC):\n",
    "    def __init__(self, title, author):\n",
    "        self.title = title\n",
    "        self.author = author\n",
    "        self.is_borrowed = False\n",
    "\n",
    "    @abstractmethod\n",
    "    def display_info(self):\n",
    "        pass\n",
    "\n",
    "    @abstractmethod\n",
    "    def borrow(self):\n",
    "        pass\n",
    "\n",
    "    @abstractmethod\n",
    "    def return_item(self):\n",
    "        pass\n",
    "\n",
    "class Book(LibraryItem):\n",
    "    def __init__(self, title, author, isbn):\n",
    "        super().__init__(title, author)\n",
    "        self.isbn = isbn\n",
    "\n",
    "    def display_info(self):\n",
    "        print(f\"Book Title: {self.title}\")\n",
    "        print(f\"Author: {self.author}\")\n",
    "        print(f\"ISBN: {self.isbn}\")\n",
    "        print(f\"Status: {'Borrowed' if self.is_borrowed else 'Available'}\")\n",
    "\n",
    "    def borrow(self):\n",
    "        if not self.is_borrowed:\n",
    "            self.is_borrowed = True\n",
    "            print(f\"The book '{self.title}' has been borrowed.\")\n",
    "        else:\n",
    "            print(f\"The book '{self.title}' is already borrowed.\")\n",
    "\n",
    "    def return_item(self):\n",
    "        if self.is_borrowed:\n",
    "            self.is_borrowed = False\n",
    "            print(f\"The book '{self.title}' has been returned.\")\n",
    "        else:\n",
    "            print(f\"The book '{self.title}' was not borrowed.\")\n",
    "\n",
    "class Library:\n",
    "    def __init__(self):\n",
    "        self.library_items = []\n",
    "\n",
    "    def add_item(self, item):\n",
    "        self.library_items.append(item)\n",
    "        print(f\"{type(item).__name__} '{item.title}' has been added to the library.\")\n",
    "\n",
    "    def display_all_items(self):\n",
    "        print(\"Library Items:\")\n",
    "        for item in self.library_items:\n",
    "            item.display_info()\n",
    "            print()\n",
    "\n",
    "book1 = Book(\"The God of Small Things\", \"Arundhati Roy\",\"Fiction\")\n",
    "book2 = Book(\"My Experiments with Truth\", \"Mahatma Gandhi\", \"Autobiography\")\n",
    "library = Library()\n",
    "library.add_item(book1)\n",
    "library.add_item(book2)\n",
    "library.display_all_items()\n",
    "book1.borrow()\n",
    "library.display_all_items()\n",
    "book1.return_item()\n",
    "library.display_all_items()\n",
    "\n"
   ]
  },
  {
   "cell_type": "code",
   "execution_count": 20,
   "id": "3085dcae",
   "metadata": {},
   "outputs": [
    {
     "data": {
      "text/plain": [
       "'Method abstraction in Python involves defining abstract methods in a base class that are \\nmeant to be implemented by its subclasses. It allows you to define a common interface for a \\ngroup of related classes. Polymorphism, on the other hand, allows objects of different types to\\nbe treated as objects of a common type.polymorphism is achieved through method \\noverriding, where a method in a subclass has the same name as a method in its superclass. This\\nenables the same method name to be used across different classes, promoting flexibility and code\\nreuse through a consistent interface, thus enhancing the concept of method abstraction.'"
      ]
     },
     "execution_count": 20,
     "metadata": {},
     "output_type": "execute_result"
    }
   ],
   "source": [
    "\"\"\"20. Describe the concept of method abstraction in Python and how it relates to polymorphism.\"\"\"\n",
    "\n",
    "\"\"\"Method abstraction in Python involves defining abstract methods in a base class that are \n",
    "meant to be implemented by its subclasses. It allows you to define a common interface for a \n",
    "group of related classes. Polymorphism, on the other hand, allows objects of different types to\n",
    "be treated as objects of a common type.polymorphism is achieved through method \n",
    "overriding, where a method in a subclass has the same name as a method in its superclass. This\n",
    "enables the same method name to be used across different classes, promoting flexibility and code\n",
    "reuse through a consistent interface, thus enhancing the concept of method abstraction.\"\"\""
   ]
  },
  {
   "cell_type": "markdown",
   "id": "61bd748c",
   "metadata": {},
   "source": [
    "## Composition:"
   ]
  },
  {
   "cell_type": "code",
   "execution_count": 29,
   "id": "3d93f310",
   "metadata": {},
   "outputs": [
    {
     "data": {
      "text/plain": [
       "'student details'"
      ]
     },
     "execution_count": 29,
     "metadata": {},
     "output_type": "execute_result"
    }
   ],
   "source": [
    "\"\"\"1. Explain the concept of composition in Python and how it is used to build complex objects \n",
    "from simpler ones.\"\"\"\n",
    "\n",
    "\"\"\" composition is an way by which you are able to build the complex object by combining simple one.\n",
    "composition refers to the practice of combining simpler objects to create more complex ones.\n",
    "It's like building a dish by combining various ingredients. Instead of inheriting properties \n",
    "directly, objects are composed by including instances of other classes. This promotes code \n",
    "reusability and flexibility. For example, if you want to create a \"Car\" class, you might \n",
    "compose it with \"Engine,\" \"Wheel,\" and \"Body\" classes. Each part remains independent, making it\n",
    "easier to modify or extend. This approach, often used in Indian kitchens, simplifies managing\n",
    "diverse elements, making the overall structure robust and adaptable for creating intricate \n",
    "objects in a straightforward manner..\"\"\"\n",
    "class pwskills:\n",
    "    def student(self):\n",
    "        return \"student details\"\n",
    "    \n",
    "class datascience:\n",
    "    def __init__(self):\n",
    "        self.stud = pwskills()\n",
    "        \n",
    "ds = datascience()\n",
    "ds.stud.student()"
   ]
  },
  {
   "cell_type": "code",
   "execution_count": 22,
   "id": "b7d556a0",
   "metadata": {},
   "outputs": [
    {
     "data": {
      "text/plain": [
       "'Inheritance involves creating a new class by deriving properties and behaviors from an \\nexisting class. The new subclass inherits attributes and methods from a superclass While \\ninheritance promotes code reuse, it can lead to a rigid class hierarchy, making it challenging\\nto modify or extend.\\nComposition involves creating a class by combining existing classes as components or parts. \\nInstead of relying on an \"is-a\" relationship like inheritance, composition uses a \"has-a\" r\\nelationship. This allows for more flexibility and loose coupling between classes, making it\\neasier to modify or replace components.'"
      ]
     },
     "execution_count": 22,
     "metadata": {},
     "output_type": "execute_result"
    }
   ],
   "source": [
    "\"\"\"2. Describe the difference between composition and inheritance in object-oriented programming.\"\"\"\n",
    "\n",
    "\"\"\"Inheritance involves creating a new class by deriving properties and behaviors from an \n",
    "existing class. The new subclass inherits attributes and methods from a superclass While \n",
    "inheritance promotes code reuse, it can lead to a rigid class hierarchy, making it challenging\n",
    "to modify or extend.\n",
    "Composition involves creating a class by combining existing classes as components or parts. \n",
    "Instead of relying on an \"is-a\" relationship like inheritance, composition uses a \"has-a\" r\n",
    "elationship. This allows for more flexibility and loose coupling between classes, making it\n",
    "easier to modify or replace components.\"\"\""
   ]
  },
  {
   "cell_type": "code",
   "execution_count": 42,
   "id": "8fca38cb",
   "metadata": {},
   "outputs": [
    {
     "name": "stdout",
     "output_type": "stream",
     "text": [
      "Book Title: Sample Book\n",
      "Author: John Doe\n",
      "Author Birthdate: January 1, 1980\n",
      "Publication Year: 2022\n"
     ]
    }
   ],
   "source": [
    "\"\"\"3. Create a Python class called `Author` with attributes for name and birthdate. Then, create a\n",
    "`Book` class that contains an instance of `Author` as a composition. Provide an example of \n",
    "creating a `Book` object.\"\"\"\n",
    "\n",
    "class Author:\n",
    "    def __init__(self, name, birthdate):\n",
    "        self.name = name\n",
    "        self.birthdate = birthdate\n",
    "\n",
    "class Book:\n",
    "    def __init__(self, title, author, publication_year):\n",
    "        self.title = title\n",
    "        self.author = author  # Composition: Book has an instance of Author\n",
    "        self.publication_year = publication_year\n",
    "\n",
    "author_info = Author(name=\"John Doe\", birthdate=\"January 1, 1980\")\n",
    "book_example = Book(title=\"Sample Book\", author=author_info, publication_year=2022)\n",
    "\n",
    "print(f\"Book Title: {book_example.title}\")\n",
    "print(f\"Author: {book_example.author.name}\")\n",
    "print(f\"Author Birthdate: {book_example.author.birthdate}\")\n",
    "print(f\"Publication Year: {book_example.publication_year}\")\n"
   ]
  },
  {
   "cell_type": "code",
   "execution_count": 43,
   "id": "b656dcf0",
   "metadata": {},
   "outputs": [
    {
     "data": {
      "text/plain": [
       "'Composition in Python offers superior code flexibility and reusability compared to inheritance. \\nBy favoring composition, you create more modular and loosely coupled classes, reducing the risk \\nof tightly coupling unrelated functionalities. This promotes easier maintenance and modifications \\nwithout affecting the entire class hierarchy. Composition allows for dynamic behavior changes by\\nincorporating different components at runtime, fostering adaptability. Additionally, it encourages a\\n\"has-a\" relationship, promoting a more intuitive and understandable design. Overall, composition \\nempowers developers to construct flexible, maintainable, and extensible code, making it a \\npreferable approach for achieving robust software architecture in Python.'"
      ]
     },
     "execution_count": 43,
     "metadata": {},
     "output_type": "execute_result"
    }
   ],
   "source": [
    "\"\"\"4. Discuss the benefits of using composition over inheritance in Python, especially in terms \n",
    "of code flexibility and reusability.\"\"\"\n",
    "\n",
    "\"\"\"Composition in Python offers superior code flexibility and reusability compared to inheritance. \n",
    "By favoring composition, you create more modular and loosely coupled classes, reducing the risk \n",
    "of tightly coupling unrelated functionalities. This promotes easier maintenance and modifications \n",
    "without affecting the entire class hierarchy. Composition allows for dynamic behavior changes by\n",
    "incorporating different components at runtime, fostering adaptability. Additionally, it encourages a\n",
    "\"has-a\" relationship, promoting a more intuitive and understandable design. Overall, composition \n",
    "empowers developers to construct flexible, maintainable, and extensible code, making it a \n",
    "preferable approach for achieving robust software architecture in Python.\"\"\""
   ]
  },
  {
   "cell_type": "code",
   "execution_count": 44,
   "id": "a96cb02f",
   "metadata": {},
   "outputs": [
    {
     "name": "stdout",
     "output_type": "stream",
     "text": [
      "Engine started\n",
      "Wheels rotating\n",
      "Car is moving\n"
     ]
    }
   ],
   "source": [
    "\"\"\"5. How can you implement composition in Python classes? Provide examples of using composition \n",
    "to create complex objects.\"\"\"\n",
    "\n",
    "\"\"\"To implement composition in Python, instantiate other classes within a class.\n",
    "in a Car class, create instances of Engine and Wheels. Utilize these instances to access\n",
    "functionalities, promoting modular design. Code flexibility improves, as components can be \n",
    "easily replaced or extended without modifying the main class. This approach fosters\n",
    "maintainability, readability, and adaptability in constructing complex objects.\"\"\"\n",
    "class Engine:\n",
    "    def start(self):\n",
    "        print(\"Engine started\")\n",
    "\n",
    "class Wheels:\n",
    "    def rotate(self):\n",
    "        print(\"Wheels rotating\")\n",
    "\n",
    "class Car:\n",
    "    def __init__(self):\n",
    "        self.engine = Engine()\n",
    "        self.wheels = Wheels()\n",
    "\n",
    "    def drive(self):\n",
    "        self.engine.start()\n",
    "        self.wheels.rotate()\n",
    "        print(\"Car is moving\")\n",
    "\n",
    "# Using composition to create a complex object\n",
    "my_car = Car()\n",
    "my_car.drive()\n"
   ]
  },
  {
   "cell_type": "code",
   "execution_count": 46,
   "id": "7b331bea",
   "metadata": {},
   "outputs": [
    {
     "name": "stdout",
     "output_type": "stream",
     "text": [
      "Playlist: My Playlist\n",
      "Playing: Song 1 by Artist 1\n",
      "Playing: Song 2 by Artist 2\n"
     ]
    }
   ],
   "source": [
    "\"\"\"6. Create a Python class hierarchy for a music player system, using composition to represent \n",
    "playlists and songs.\"\"\"\n",
    "\n",
    "class Song:\n",
    "    def __init__(self, title, artist):\n",
    "        self.title = title\n",
    "        self.artist = artist\n",
    "\n",
    "    def play(self):\n",
    "        print(f\"Playing: {self.title} by {self.artist}\")\n",
    "\n",
    "\n",
    "class Playlist:\n",
    "    def __init__(self, name):\n",
    "        self.name = name\n",
    "        self.songs = []\n",
    "\n",
    "    def add_song(self, song):\n",
    "        self.songs.append(song)\n",
    "\n",
    "    def play_all(self):\n",
    "        print(f\"Playlist: {self.name}\")\n",
    "        for song in self.songs:\n",
    "            song.play()\n",
    "\n",
    "\n",
    "class MusicPlayer:\n",
    "    def __init__(self):\n",
    "        self.playlists = []\n",
    "\n",
    "    def add_playlist(self, playlist):\n",
    "        self.playlists.append(playlist)\n",
    "\n",
    "    def play_all_playlists(self):\n",
    "        for playlist in self.playlists:\n",
    "            playlist.play_all()\n",
    "\n",
    "song1 = Song(\"Song 1\", \"Artist 1\")\n",
    "song2 = Song(\"Song 2\", \"Artist 2\")\n",
    "\n",
    "playlist1 = Playlist(\"My Playlist\")\n",
    "playlist1.add_song(song1)\n",
    "playlist1.add_song(song2)\n",
    "\n",
    "player = MusicPlayer()\n",
    "player.add_playlist(playlist1)\n",
    "player.play_all_playlists()\n"
   ]
  },
  {
   "cell_type": "code",
   "execution_count": 47,
   "id": "bf0d5413",
   "metadata": {},
   "outputs": [
    {
     "data": {
      "text/plain": [
       "'The \"has-a\" relationship in composition refers to a design principle where one class contains\\nan instance of another class as a component. Unlike inheritance, which implies an \"is-a\"\\nrelationship, composition focuses on the idea that an object \"has-a\" certain functionality or\\ncomponent.This approach enhances flexibility and modularity in software design. Classes become \\nindependent, and changes in one class don\\'t directly affect others. Components can be easily \\nswapped or extended, promoting code reuse. \"Has-a\" relationships lead to more maintainable, \\nadaptable, and scalable software systems, as you can assemble complex functionalities by \\ncombining simpler, self-contained components. This design principle is particularly useful in \\nachieving a clear, intuitive, and modular structure in object-oriented programming.'"
      ]
     },
     "execution_count": 47,
     "metadata": {},
     "output_type": "execute_result"
    }
   ],
   "source": [
    "\"\"\"7. Explain the concept of \"has-a\" relationships in composition and how it helps design \n",
    "software systems.\"\"\"\n",
    "\n",
    "\"\"\"The \"has-a\" relationship in composition refers to a design principle where one class contains\n",
    "an instance of another class as a component. Unlike inheritance, which implies an \"is-a\"\n",
    "relationship, composition focuses on the idea that an object \"has-a\" certain functionality or\n",
    "component.This approach enhances flexibility and modularity in software design. Classes become \n",
    "independent, and changes in one class don't directly affect others. Components can be easily \n",
    "swapped or extended, promoting code reuse. \"Has-a\" relationships lead to more maintainable, \n",
    "adaptable, and scalable software systems, as you can assemble complex functionalities by \n",
    "combining simpler, self-contained components. This design principle is particularly useful in \n",
    "achieving a clear, intuitive, and modular structure in object-oriented programming.\"\"\""
   ]
  },
  {
   "cell_type": "code",
   "execution_count": 48,
   "id": "8bd2f1f5",
   "metadata": {},
   "outputs": [
    {
     "name": "stdout",
     "output_type": "stream",
     "text": [
      "Intel CPU processing data at 3.5 GHz\n",
      "Reading data from 8 GB RAM\n",
      "Storing data on 500 GB storage\n"
     ]
    }
   ],
   "source": [
    "\"\"\"8. Create a Python class for a computer system, using composition to represent components \n",
    "like CPU, RAM,and storage devices.\"\"\"\n",
    "\n",
    "class CPU:\n",
    "    def __init__(self, brand, speed):\n",
    "        self.brand = brand\n",
    "        self.speed = speed\n",
    "\n",
    "    def process_data(self):\n",
    "        print(f\"{self.brand} CPU processing data at {self.speed} GHz\")\n",
    "\n",
    "\n",
    "class RAM:\n",
    "    def __init__(self, size):\n",
    "        self.size = size\n",
    "\n",
    "    def read_data(self):\n",
    "        print(f\"Reading data from {self.size} GB RAM\")\n",
    "\n",
    "\n",
    "class Storage:\n",
    "    def __init__(self, capacity):\n",
    "        self.capacity = capacity\n",
    "\n",
    "    def store_data(self):\n",
    "        print(f\"Storing data on {self.capacity} GB storage\")\n",
    "\n",
    "\n",
    "class ComputerSystem:\n",
    "    def __init__(self, cpu, ram, storage):\n",
    "        self.cpu = cpu\n",
    "        self.ram = ram\n",
    "        self.storage = storage\n",
    "\n",
    "    def execute_program(self):\n",
    "        self.cpu.process_data()\n",
    "        self.ram.read_data()\n",
    "        self.storage.store_data()\n",
    "\n",
    "cpu = CPU(\"Intel\", 3.5)\n",
    "ram = RAM(8)\n",
    "storage = Storage(500)\n",
    "\n",
    "computer = ComputerSystem(cpu, ram, storage)\n",
    "computer.execute_program()\n"
   ]
  },
  {
   "cell_type": "code",
   "execution_count": 49,
   "id": "eda8da37",
   "metadata": {},
   "outputs": [
    {
     "data": {
      "text/plain": [
       "\"Delegation in composition means passing tasks to another class. Instead of one class doing\\neverything, each class focuses on specific jobs. This makes the code easier to read and change.\\nIf one class changes, it doesn't affect others. It's like teamwork, where everyone has a role.\\nThis approach, with composition, simplifies building big software systems in a flexible and \\nadaptable way, which is important for managing complexity.\""
      ]
     },
     "execution_count": 49,
     "metadata": {},
     "output_type": "execute_result"
    }
   ],
   "source": [
    "\"\"\"9. Describe the concept of \"delegation\" in composition and how it simplifies the design of \n",
    "complex systems.\"\"\"\n",
    "\n",
    "\"\"\"Delegation in composition means passing tasks to another class. Instead of one class doing\n",
    "everything, each class focuses on specific jobs. This makes the code easier to read and change.\n",
    "If one class changes, it doesn't affect others. It's like teamwork, where everyone has a role.\n",
    "This approach, with composition, simplifies building big software systems in a flexible and \n",
    "adaptable way, which is important for managing complexity.\"\"\""
   ]
  },
  {
   "cell_type": "code",
   "execution_count": 50,
   "id": "a8bb6412",
   "metadata": {},
   "outputs": [
    {
     "name": "stdout",
     "output_type": "stream",
     "text": [
      "Engine started\n",
      "Transmission shifting gears\n",
      "Car started, ready to go!\n",
      "Engine stopped\n",
      "Car stopped\n"
     ]
    }
   ],
   "source": [
    "\"\"\"10. Create a Python class for a car, using composition to represent components like the \n",
    "engine, wheels, and transmission.\"\"\"\n",
    "\n",
    "class Engine:\n",
    "    def start(self):\n",
    "        print(\"Engine started\")\n",
    "\n",
    "    def stop(self):\n",
    "        print(\"Engine stopped\")\n",
    "\n",
    "\n",
    "class Wheels:\n",
    "    def rotate(self):\n",
    "        print(\"Wheels rotating\")\n",
    "\n",
    "\n",
    "class Transmission:\n",
    "    def shift_gear(self):\n",
    "        print(\"Transmission shifting gears\")\n",
    "\n",
    "\n",
    "class Car:\n",
    "    def __init__(self, engine, wheels, transmission):\n",
    "        self.engine = engine\n",
    "        self.wheels = wheels\n",
    "        self.transmission = transmission\n",
    "\n",
    "    def start_car(self):\n",
    "        self.engine.start()\n",
    "        self.transmission.shift_gear()\n",
    "        print(\"Car started, ready to go!\")\n",
    "\n",
    "    def stop_car(self):\n",
    "        self.engine.stop()\n",
    "        print(\"Car stopped\")\n",
    "\n",
    "car_engine = Engine()\n",
    "car_wheels = Wheels()\n",
    "car_transmission = Transmission()\n",
    "\n",
    "my_car = Car(car_engine, car_wheels, car_transmission)\n",
    "my_car.start_car()\n",
    "my_car.stop_car()\n"
   ]
  },
  {
   "cell_type": "code",
   "execution_count": 51,
   "id": "29103ab2",
   "metadata": {},
   "outputs": [
    {
     "data": {
      "text/plain": [
       "'encapsulation and abstraction can be achieved through classes, allowing you to hide the \\ninternal complexities of composed objects. Define private attributes using a single or double\\nunderscore, restricting direct access. Implement getter and setter methods to control interaction\\n with these attributes. This shields the internal workings, promoting a clearer interface.\\n For instance, in an Indian English context, consider a class representing a banking account \\n where details like balance and transaction history are encapsulated. Users interact through \\n well-defined methods, maintaining abstraction by concealing the inner workings of the account\\n management, fostering a more intuitive and secure usage.'"
      ]
     },
     "execution_count": 51,
     "metadata": {},
     "output_type": "execute_result"
    }
   ],
   "source": [
    "\"\"\"11. How can you encapsulate and hide the details of composed objects in Python classes to \n",
    "maintain abstraction?\"\"\"\n",
    "\n",
    "\"\"\"encapsulation and abstraction can be achieved through classes, allowing you to hide the \n",
    "internal complexities of composed objects. Define private attributes using a single or double\n",
    "underscore, restricting direct access. Implement getter and setter methods to control interaction\n",
    " with these attributes. This shields the internal workings, promoting a clearer interface.\n",
    " For instance, in an Indian English context, consider a class representing a banking account \n",
    " where details like balance and transaction history are encapsulated. Users interact through \n",
    " well-defined methods, maintaining abstraction by concealing the inner workings of the account\n",
    " management, fostering a more intuitive and secure usage.\"\"\""
   ]
  },
  {
   "cell_type": "code",
   "execution_count": 53,
   "id": "0c6a6233",
   "metadata": {},
   "outputs": [
    {
     "name": "stdout",
     "output_type": "stream",
     "text": [
      "Course: 101 - Introduction to Computer Science\n",
      "Instructor: don\n",
      "Students:\n",
      "  shubh\n",
      "  yash\n",
      "Course Materials:\n",
      "  Textbook\n",
      "  Lecture Slides\n",
      "  Assignments\n"
     ]
    }
   ],
   "source": [
    "\"\"\"12. Create a Python class for a university course, using composition to represent students,\n",
    "instructors, and course materials.\"\"\"\n",
    "\n",
    "class Student:\n",
    "    def __init__(self, student_id, name):\n",
    "        self.student_id = student_id\n",
    "        self.name = name\n",
    "\n",
    "class Instructor:\n",
    "    def __init__(self, instructor_id, name):\n",
    "        self.instructor_id = instructor_id\n",
    "        self.name = name\n",
    "\n",
    "class Course:\n",
    "    def __init__(self, course_code, course_name, instructor, students, materials):\n",
    "        self.course_code = course_code\n",
    "        self.course_name = course_name\n",
    "        self.instructor = instructor\n",
    "        self.students = students\n",
    "        self.materials = materials\n",
    "\n",
    "    def display_course_info(self):\n",
    "        print(f\"Course: {self.course_code} - {self.course_name}\")\n",
    "        print(f\"Instructor: {self.instructor.name}\")\n",
    "        print(\"Students:\")\n",
    "        for student in self.students:\n",
    "            print(f\"  {student.name}\")\n",
    "        print(\"Course Materials:\")\n",
    "        for material in self.materials:\n",
    "            print(f\"  {material}\")\n",
    "\n",
    "student1 = Student(1, \"shubh\")\n",
    "student2 = Student(2, \"yash\")\n",
    "instructor = Instructor(101, \"don\")\n",
    "materials = [\"Textbook\", \"Lecture Slides\", \"Assignments\"]\n",
    "course = Course(\"101\", \"Introduction to Computer Science\", instructor, [student1, student2], materials)\n",
    "course.display_course_info()\n"
   ]
  },
  {
   "cell_type": "code",
   "execution_count": null,
   "id": "9b193778",
   "metadata": {},
   "outputs": [],
   "source": [
    "\"\"\"13. Discuss the challenges and drawbacks of composition, such as increased complexity and \n",
    "potential for tight coupling between objects.\"\"\"\n",
    "\n",
    "\"\"\"Even though composition is powerful in programming, there are obstacles. Complexity increases\n",
    "when handling many objects gets more involved. It is possible for objects to be tightly coupled,\n",
    "in which case changes in one will have an impact on others. Maintenance and flexibility may be\n",
    "hampered by this. To put it another way, it's similar to putting together a puzzle; if one piece\n",
    "is too connected to the others, the entire picture may be affected. Maintaining a codebase's \n",
    "modularity and adaptability requires striking a balance in order to prevent complications. \n",
    "It is similar to keeping harmony in a traditional Indian Rangoli, where each component should\n",
    "make a separate and independent contribution to the overall design without overpowering the\n",
    "whole.\n",
    "\"\"\""
   ]
  },
  {
   "cell_type": "code",
   "execution_count": 56,
   "id": "9b608a8c",
   "metadata": {},
   "outputs": [
    {
     "name": "stdout",
     "output_type": "stream",
     "text": [
      "Restaurant: Pizzeria Bella\n",
      "Menus:\n",
      "Menu: Italian Delights\n",
      "Dishes:\n",
      "Margherita Pizza: Classic pizza with tomato and cheese\n",
      "Ingredients:\n",
      "2 units of Tomato\n",
      "100 grams of Cheese\n"
     ]
    }
   ],
   "source": [
    "\"\"\"14. Create a Python class hierarchy for a restaurant system, using composition to represent \n",
    "menus, dishes,and ingredients.\"\"\"\n",
    "\n",
    "class Ingredient:\n",
    "    def __init__(self, name, quantity, unit):\n",
    "        self.name = name\n",
    "        self.quantity = quantity\n",
    "        self.unit = unit\n",
    "\n",
    "    def display_info(self):\n",
    "        print(f\"{self.quantity} {self.unit} of {self.name}\")\n",
    "\n",
    "class Dish:\n",
    "    def __init__(self, name, description, ingredients):\n",
    "        self.name = name\n",
    "        self.description = description\n",
    "        self.ingredients = ingredients\n",
    "\n",
    "    def display_info(self):\n",
    "        print(f\"{self.name}: {self.description}\")\n",
    "        print(\"Ingredients:\")\n",
    "        for ingredient in self.ingredients:\n",
    "            ingredient.display_info()\n",
    "\n",
    "class Menu:\n",
    "    def __init__(self, name, dishes):\n",
    "        self.name = name\n",
    "        self.dishes = dishes\n",
    "\n",
    "    def display_info(self):\n",
    "        print(f\"Menu: {self.name}\")\n",
    "        print(\"Dishes:\")\n",
    "        for dish in self.dishes:\n",
    "            dish.display_info()\n",
    "\n",
    "class Restaurant:\n",
    "    def __init__(self, name, menus):\n",
    "        self.name = name\n",
    "        self.menus = menus\n",
    "\n",
    "    def display_info(self):\n",
    "        print(f\"Restaurant: {self.name}\")\n",
    "        print(\"Menus:\")\n",
    "        for menu in self.menus:\n",
    "            menu.display_info()\n",
    "\n",
    "ingredient1 = Ingredient(\"Tomato\", 2, \"units\")\n",
    "ingredient2 = Ingredient(\"Cheese\", 100, \"grams\")\n",
    "dish1 = Dish(\"Margherita Pizza\", \"Classic pizza with tomato and cheese\", [ingredient1, ingredient2])\n",
    "menu1 = Menu(\"Italian Delights\", [dish1])\n",
    "restaurant = Restaurant(\"Pizzeria Bella\", [menu1])\n",
    "restaurant.display_info()\n"
   ]
  },
  {
   "cell_type": "code",
   "execution_count": 57,
   "id": "fd36c388",
   "metadata": {},
   "outputs": [
    {
     "data": {
      "text/plain": [
       "\"Composition in Python enhances code maintainability and modularity by promoting a modular \\nstructure. Objects are designed as independent components, making it easier to understand,\\nmodify, and extend. Changes in one component don't necessarily affect others, reducing the risk\\nof unintended consequences. This modularity allows for more straightforward debugging and\\nupdates, fostering a scalable and maintainable codebase in Python programs.\""
      ]
     },
     "execution_count": 57,
     "metadata": {},
     "output_type": "execute_result"
    }
   ],
   "source": [
    "\"\"\"15. Explain how composition enhances code maintainability and modularity in Python programs.\"\"\"\n",
    "\n",
    "\"\"\"Composition in Python enhances code maintainability and modularity by promoting a modular \n",
    "structure. Objects are designed as independent components, making it easier to understand,\n",
    "modify, and extend. Changes in one component don't necessarily affect others, reducing the risk\n",
    "of unintended consequences. This modularity allows for more straightforward debugging and\n",
    "updates, fostering a scalable and maintainable codebase in Python programs.\"\"\""
   ]
  },
  {
   "cell_type": "code",
   "execution_count": 59,
   "id": "e8b17f35",
   "metadata": {},
   "outputs": [
    {
     "name": "stdout",
     "output_type": "stream",
     "text": [
      "Character: Arjun\n",
      "Health: 100\n",
      "Weapon: Katar, Damage: 20\n",
      "Armor: Kavach, Defense: 15\n",
      "Inventory:\n",
      "  - Health Potion\n",
      "  - Mana Elixir\n"
     ]
    }
   ],
   "source": [
    "\"\"\"16. Create a Python class for a computer game character, using composition to represent \n",
    "attributes like weapons, armor, and inventory.\"\"\"\n",
    "\n",
    "class Weapon:\n",
    "    def __init__(self, name, damage):\n",
    "        self.name = name\n",
    "        self.damage = damage\n",
    "\n",
    "    def display_info(self):\n",
    "        print(f\"Weapon: {self.name}, Damage: {self.damage}\")\n",
    "\n",
    "class Armor:\n",
    "    def __init__(self, name, defense):\n",
    "        self.name = name\n",
    "        self.defense = defense\n",
    "\n",
    "    def display_info(self):\n",
    "        print(f\"Armor: {self.name}, Defense: {self.defense}\")\n",
    "\n",
    "class Inventory:\n",
    "    def __init__(self, items):\n",
    "        self.items = items\n",
    "\n",
    "    def display_info(self):\n",
    "        print(\"Inventory:\")\n",
    "        for item in self.items:\n",
    "            print(f\"  - {item}\")\n",
    "\n",
    "class GameCharacter:\n",
    "    def __init__(self, name, health, weapon, armor, inventory):\n",
    "        self.name = name\n",
    "        self.health = health\n",
    "        self.weapon = weapon\n",
    "        self.armor = armor\n",
    "        self.inventory = inventory\n",
    "\n",
    "    def display_info(self):\n",
    "        print(f\"Character: {self.name}\")\n",
    "        print(f\"Health: {self.health}\")\n",
    "        self.weapon.display_info()\n",
    "        self.armor.display_info()\n",
    "        self.inventory.display_info()\n",
    "\n",
    "sword = Weapon(\"Katar\", 20)\n",
    "plate_armor = Armor(\"Kavach\", 15)\n",
    "character_inventory = Inventory([\"Health Potion\", \"Mana Elixir\"])\n",
    "player_character = GameCharacter(\"Arjun\", 100, sword, plate_armor, character_inventory)\n",
    "player_character.display_info()\n",
    "\n"
   ]
  },
  {
   "cell_type": "code",
   "execution_count": 60,
   "id": "d3e81c10",
   "metadata": {},
   "outputs": [
    {
     "data": {
      "text/plain": [
       "'aggregation\" involves combining multiple components to form a larger, more complex entity. \\nUnlike simple composition, aggregation emphasizes a relationship where the components maintain \\na degree of independence. In aggregation, the constituent parts can exist independently and be\\nreused in various contexts. This modular approach promotes flexibility and reusability. In \\ncontrast, simple composition typically implies a tighter integration, with the components being \\ninterdependent and forming an inseparable whole. Aggregation fosters a more flexible and \\ndynamic structure, allowing for diverse arrangements and modifications without compromising the \\nintegrity of the individual components.'"
      ]
     },
     "execution_count": 60,
     "metadata": {},
     "output_type": "execute_result"
    }
   ],
   "source": [
    "\"\"\"17. Describe the concept of \"aggregation\" in composition and how it differs from simple \n",
    "composition.\"\"\"\n",
    "\n",
    "\"\"\"aggregation\" involves combining multiple components to form a larger, more complex entity. \n",
    "Unlike simple composition, aggregation emphasizes a relationship where the components maintain \n",
    "a degree of independence. In aggregation, the constituent parts can exist independently and be\n",
    "reused in various contexts. This modular approach promotes flexibility and reusability. In \n",
    "contrast, simple composition typically implies a tighter integration, with the components being \n",
    "interdependent and forming an inseparable whole. Aggregation fosters a more flexible and \n",
    "dynamic structure, allowing for diverse arrangements and modifications without compromising the \n",
    "integrity of the individual components.\"\"\""
   ]
  },
  {
   "cell_type": "code",
   "execution_count": 61,
   "id": "0a399477",
   "metadata": {},
   "outputs": [
    {
     "name": "stdout",
     "output_type": "stream",
     "text": [
      "House at 123 Main Street:\n",
      " - Living Room (Area: 300 sq. ft.)\n",
      "   - Sofa\n",
      "   - Coffee Table\n",
      "   - TV\n",
      " - Kitchen (Area: 200 sq. ft.)\n",
      "   - Dining Table\n",
      "   - Refrigerator\n",
      "   - Oven\n",
      "\n"
     ]
    }
   ],
   "source": [
    "\"\"\"18. Create a Python class for a house, using composition to represent rooms, furniture, \n",
    "and appliances.\"\"\"\n",
    "\n",
    "class Room:\n",
    "    def __init__(self, name, area):\n",
    "        self.name = name\n",
    "        self.area = area\n",
    "        self.furniture = []\n",
    "\n",
    "    def add_furniture(self, furniture):\n",
    "        self.furniture.append(furniture)\n",
    "\n",
    "    def __str__(self):\n",
    "        return f\"{self.name} (Area: {self.area} sq. ft.)\"\n",
    "    \n",
    "class Furniture:\n",
    "    def __init__(self, name):\n",
    "        self.name = name\n",
    "\n",
    "    def __str__(self):\n",
    "        return self.name\n",
    "class Appliance:\n",
    "    def __init__(self, name):\n",
    "        self.name = name\n",
    "\n",
    "    def __str__(self):\n",
    "        return self.name\n",
    "\n",
    "class House:\n",
    "    def __init__(self, address):\n",
    "        self.address = address\n",
    "        self.rooms = []\n",
    "\n",
    "    def add_room(self, room):\n",
    "        self.rooms.append(room)\n",
    "\n",
    "    def __str__(self):\n",
    "        house_str = f\"House at {self.address}:\\n\"\n",
    "        for room in self.rooms:\n",
    "            house_str += f\" - {room}\\n\"\n",
    "            for item in room.furniture:\n",
    "                house_str += f\"   - {item}\\n\"\n",
    "        return house_str\n",
    "\n",
    "living_room = Room(\"Living Room\", 300)\n",
    "living_room.add_furniture(Furniture(\"Sofa\"))\n",
    "living_room.add_furniture(Furniture(\"Coffee Table\"))\n",
    "living_room.add_furniture(Appliance(\"TV\"))\n",
    "\n",
    "kitchen = Room(\"Kitchen\", 200)\n",
    "kitchen.add_furniture(Furniture(\"Dining Table\"))\n",
    "kitchen.add_furniture(Appliance(\"Refrigerator\"))\n",
    "kitchen.add_furniture(Appliance(\"Oven\"))\n",
    "\n",
    "my_house = House(\"123 Main Street\")\n",
    "my_house.add_room(living_room)\n",
    "my_house.add_room(kitchen)\n",
    "print(my_house)\n"
   ]
  },
  {
   "cell_type": "code",
   "execution_count": 62,
   "id": "d33a1891",
   "metadata": {},
   "outputs": [
    {
     "data": {
      "text/plain": [
       "'To make objects in a program more flexible, you can use smart techniques. \\nThink of it like this - imagine you have different tools, and you want to swap or add new \\nones without messing up your entire toolkit. In computer programming, we have tricks called\\ndesign patterns that work like this. For example, the \"Strategy\" trick lets you change the \\nway your program works without making a mess. The \"Decorator\" trick helps you add new features\\neasily. It\\'s like adding stickers to your phone to make it look cooler. These tricks make your\\nprogram more flexible, just like how you can change or add things to your toolkit without\\nbreaking it.'"
      ]
     },
     "execution_count": 62,
     "metadata": {},
     "output_type": "execute_result"
    }
   ],
   "source": [
    "\"\"\"19. How can you achieve flexibility in composed objects by allowing them to be replaced or \n",
    "modified dynamically at runtime?\"\"\"\n",
    "\n",
    "\"\"\"To make objects in a program more flexible, you can use smart techniques. \n",
    "Think of it like this - imagine you have different tools, and you want to swap or add new \n",
    "ones without messing up your entire toolkit. In computer programming, we have tricks called\n",
    "design patterns that work like this. For example, the \"Strategy\" trick lets you change the \n",
    "way your program works without making a mess. The \"Decorator\" trick helps you add new features\n",
    "easily. It's like adding stickers to your phone to make it look cooler. These tricks make your\n",
    "program more flexible, just like how you can change or add things to your toolkit without\n",
    "breaking it.\"\"\""
   ]
  },
  {
   "cell_type": "code",
   "execution_count": 63,
   "id": "77dab278",
   "metadata": {},
   "outputs": [
    {
     "name": "stdout",
     "output_type": "stream",
     "text": [
      "User: shubh\n",
      "Post by shubh: Hello, world\n",
      "Comment by yash: Nice post\n"
     ]
    }
   ],
   "source": [
    "\"\"\"20. Create a Python class for a social media application, using composition to represent \n",
    "users, posts, and comments.\"\"\"\n",
    "\n",
    "class User:\n",
    "    def __init__(self, username, email):\n",
    "        self.username = username\n",
    "        self.email = email\n",
    "        self.posts = []\n",
    "\n",
    "    def create_post(self, content):\n",
    "        post = Post(content, self)\n",
    "        self.posts.append(post)\n",
    "        return post\n",
    "\n",
    "    def __str__(self):\n",
    "        return f\"User: {self.username}\"\n",
    "\n",
    "class Post:\n",
    "    def __init__(self, content, author):\n",
    "        self.content = content\n",
    "        self.author = author\n",
    "        self.comments = []\n",
    "\n",
    "    def add_comment(self, text, commenter):\n",
    "        comment = Comment(text, commenter)\n",
    "        self.comments.append(comment)\n",
    "        return comment\n",
    "\n",
    "    def __str__(self):\n",
    "        return f\"Post by {self.author.username}: {self.content}\"\n",
    "\n",
    "class Comment:\n",
    "    def __init__(self, text, commenter):\n",
    "        self.text = text\n",
    "        self.commenter = commenter\n",
    "\n",
    "    def __str__(self):\n",
    "        return f\"Comment by {self.commenter.username}: {self.text}\"\n",
    "\n",
    "user1 = User(\"shubh\", \"shubh@gmail.com\")\n",
    "user2 = User(\"yash\", \"yash@email.com\")\n",
    "post1 = user1.create_post(\"Hello, world\")\n",
    "comment1 = post1.add_comment(\"Nice post\", user2)\n",
    "\n",
    "print(user1)\n",
    "print(post1)\n",
    "print(comment1)\n"
   ]
  },
  {
   "cell_type": "code",
   "execution_count": null,
   "id": "9a49fb11",
   "metadata": {},
   "outputs": [],
   "source": []
  }
 ],
 "metadata": {
  "kernelspec": {
   "display_name": "Python 3",
   "language": "python",
   "name": "python3"
  },
  "language_info": {
   "codemirror_mode": {
    "name": "ipython",
    "version": 3
   },
   "file_extension": ".py",
   "mimetype": "text/x-python",
   "name": "python",
   "nbconvert_exporter": "python",
   "pygments_lexer": "ipython3",
   "version": "3.8.8"
  },
  "varInspector": {
   "cols": {
    "lenName": 16,
    "lenType": 16,
    "lenVar": 40
   },
   "kernels_config": {
    "python": {
     "delete_cmd_postfix": "",
     "delete_cmd_prefix": "del ",
     "library": "var_list.py",
     "varRefreshCmd": "print(var_dic_list())"
    },
    "r": {
     "delete_cmd_postfix": ") ",
     "delete_cmd_prefix": "rm(",
     "library": "var_list.r",
     "varRefreshCmd": "cat(var_dic_list()) "
    }
   },
   "types_to_exclude": [
    "module",
    "function",
    "builtin_function_or_method",
    "instance",
    "_Feature"
   ],
   "window_display": false
  }
 },
 "nbformat": 4,
 "nbformat_minor": 5
}
