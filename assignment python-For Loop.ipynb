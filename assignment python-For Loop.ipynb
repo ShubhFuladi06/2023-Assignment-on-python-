{
 "cells": [
  {
   "cell_type": "markdown",
   "id": "ddb5cdd7",
   "metadata": {},
   "source": [
    "## Basic Level:"
   ]
  },
  {
   "cell_type": "code",
   "execution_count": 1,
   "id": "daeb3dee",
   "metadata": {},
   "outputs": [
    {
     "name": "stdout",
     "output_type": "stream",
     "text": [
      "1\n",
      "2\n",
      "3\n",
      "4\n",
      "5\n",
      "6\n",
      "7\n",
      "8\n",
      "9\n",
      "10\n"
     ]
    }
   ],
   "source": [
    "\"\"\"1. Write a Python program to print the numbers from 1 to 10 using a `for` loop.\"\"\"\n",
    "\n",
    "for i in range(1,11):\n",
    "    print(i)"
   ]
  },
  {
   "cell_type": "code",
   "execution_count": 5,
   "id": "eea7d7c6",
   "metadata": {},
   "outputs": [
    {
     "name": "stdout",
     "output_type": "stream",
     "text": [
      "43\n"
     ]
    }
   ],
   "source": [
    "\"\"\"2. Create a program that calculates the sum of all numbers in a list using a `for` loop.\"\"\"\n",
    "\n",
    "l2 = [8, 2,10, 4, 7, 10 ,2]\n",
    "s=0\n",
    "for i in l2:\n",
    "    s = s+i\n",
    "\n",
    "print(s)"
   ]
  },
  {
   "cell_type": "code",
   "execution_count": 26,
   "id": "7adf056e",
   "metadata": {},
   "outputs": [
    {
     "name": "stdout",
     "output_type": "stream",
     "text": [
      "m\n",
      "a\n",
      "h\n",
      "b\n",
      "u\n",
      "h\n",
      "S\n"
     ]
    }
   ],
   "source": [
    "\"\"\"3. Write a program to print the characters of a string in reverse order using a `for` loop.\"\"\"\n",
    "\n",
    "l3 = \"Shubham\"\n",
    "for i in range(-1,-len(l3)-1,-1):\n",
    "    print(l3[i])"
   ]
  },
  {
   "cell_type": "code",
   "execution_count": 34,
   "id": "92c3b4db",
   "metadata": {},
   "outputs": [
    {
     "name": "stdout",
     "output_type": "stream",
     "text": [
      "factorial of is  5040\n"
     ]
    }
   ],
   "source": [
    "\"\"\"4. Develop a program that finds the factorial of a given number using a `for` loop.\"\"\"\n",
    "\n",
    "f = 7\n",
    "t = 1\n",
    "for i in range(1,f+1):\n",
    "    t = f*t\n",
    "    f -=1\n",
    "print(\"factorial of is \",t)"
   ]
  },
  {
   "cell_type": "code",
   "execution_count": 35,
   "id": "69496b26",
   "metadata": {},
   "outputs": [
    {
     "name": "stdout",
     "output_type": "stream",
     "text": [
      "5 * 1 = 5\n",
      "5 * 2 = 10\n",
      "5 * 3 = 15\n",
      "5 * 4 = 20\n",
      "5 * 5 = 25\n",
      "5 * 6 = 30\n",
      "5 * 7 = 35\n",
      "5 * 8 = 40\n",
      "5 * 9 = 45\n",
      "5 * 10 = 50\n"
     ]
    }
   ],
   "source": [
    "\"\"\"5. Create a program to print the multiplication table of a given number using a `for` loop.\"\"\"\n",
    "\n",
    "num = 5\n",
    "for i in range(1,11):\n",
    "    mul = 5*i\n",
    "    print(num,\"*\",i,\"=\",mul)"
   ]
  },
  {
   "cell_type": "code",
   "execution_count": 38,
   "id": "11c1f369",
   "metadata": {},
   "outputs": [
    {
     "name": "stdout",
     "output_type": "stream",
     "text": [
      "no. of even numbers are  3\n",
      "no. of odd numbers are  7\n"
     ]
    }
   ],
   "source": [
    "\"\"\"6. Write a program that counts the number of even and odd numbers in a list using a `for` loop.\"\"\"\n",
    "\n",
    "lst = [1,5,25,68,15,69,22,53,65,56]\n",
    "even = 0\n",
    "odd = 0\n",
    "for i in lst:\n",
    "    if i%2 == 0:\n",
    "        even+=1\n",
    "    else:\n",
    "        odd+=1\n",
    "print(\"no. of even numbers are \",even)\n",
    "print(\"no. of odd numbers are \",odd)"
   ]
  },
  {
   "cell_type": "code",
   "execution_count": 40,
   "id": "b30e2928",
   "metadata": {},
   "outputs": [
    {
     "name": "stdout",
     "output_type": "stream",
     "text": [
      "1\n",
      "4\n",
      "9\n",
      "16\n",
      "25\n"
     ]
    }
   ],
   "source": [
    "\"\"\"7. Develop a program that prints the squares of numbers from 1 to 5 using a `for` loop.\"\"\"\n",
    "\n",
    "l=[]\n",
    "lb = 1\n",
    "ub = 6\n",
    "for i in range(lb,ub):\n",
    "    print(i*i)\n"
   ]
  },
  {
   "cell_type": "code",
   "execution_count": 41,
   "id": "24660de3",
   "metadata": {},
   "outputs": [
    {
     "name": "stdout",
     "output_type": "stream",
     "text": [
      "the lenght of string is\n",
      " 21\n"
     ]
    }
   ],
   "source": [
    "\"\"\"8. Create a program to find the length of a string without using the `len()` function.\"\"\"\n",
    "\n",
    "str1 = \"Hello sir how are you\"\n",
    "count =0\n",
    "for i in str1:\n",
    "    count+=1\n",
    "print(\"the lenght of string is\\n\",count)"
   ]
  },
  {
   "cell_type": "code",
   "execution_count": 42,
   "id": "fdd1d9d5",
   "metadata": {},
   "outputs": [
    {
     "name": "stdout",
     "output_type": "stream",
     "text": [
      "Avarage of list of number is 37.9\n"
     ]
    }
   ],
   "source": [
    "\"\"\"9. Write a program that calculates the average of a list of numbers using a `for` loop.\"\"\"\n",
    "\n",
    "lst = [1,5,25,68,15,69,22,53,65,56]\n",
    "s = 0\n",
    "for i in lst:\n",
    "    s = (s+i)\n",
    "avg = s/len(lst)\n",
    "print(\"Avarage of list of number is\",avg)\n",
    "    "
   ]
  },
  {
   "cell_type": "code",
   "execution_count": 47,
   "id": "bc25d951",
   "metadata": {},
   "outputs": [
    {
     "name": "stdout",
     "output_type": "stream",
     "text": [
      "enter a number 10\n",
      "1\n",
      "1\n",
      "2\n",
      "3\n",
      "5\n",
      "8\n",
      "13\n",
      "21\n",
      "34\n",
      "55\n"
     ]
    }
   ],
   "source": [
    "\"\"\"10. Develop a program that prints the first `n` Fibonacci numbers using a `for` loop.\"\"\"\n",
    "\n",
    "l29 = []\n",
    "a=0\n",
    "b=1\n",
    "num=int(input(\"enter a number \"))\n",
    "for i in range(num):\n",
    "    print(b)\n",
    "    c=a+b\n",
    "    a=b\n",
    "    b=c"
   ]
  },
  {
   "cell_type": "markdown",
   "id": "43b98736",
   "metadata": {},
   "source": [
    "## Intermediate Level:"
   ]
  },
  {
   "cell_type": "code",
   "execution_count": 60,
   "id": "a5826446",
   "metadata": {},
   "outputs": [
    {
     "name": "stdout",
     "output_type": "stream",
     "text": [
      "list contains duplicates\n"
     ]
    }
   ],
   "source": [
    "\"\"\"11. Write a program to check if a given list contains any duplicates using a `for` loop.\"\"\"\n",
    "\n",
    "lst = [2,4,7,2,7,8,9,2]\n",
    "\n",
    "def check_duplicates(lst):\n",
    "    for i in range(len(lst)):\n",
    "        for j in range(i+1,len(lst)):\n",
    "            if lst[i] == lst[j]:\n",
    "                return True\n",
    "    return False\n",
    "\n",
    "if check_duplicates(lst):\n",
    "    print(\"list contains duplicates\")\n",
    "else:\n",
    "    print(\"list does not contain duplicates\")"
   ]
  },
  {
   "cell_type": "code",
   "execution_count": 67,
   "id": "e85704c1",
   "metadata": {},
   "outputs": [
    {
     "name": "stdout",
     "output_type": "stream",
     "text": [
      "5\n",
      "7\n",
      "11\n",
      "13\n",
      "17\n",
      "19\n",
      "23\n",
      "29\n",
      "31\n",
      "37\n",
      "41\n",
      "43\n",
      "47\n"
     ]
    }
   ],
   "source": [
    "\"\"\"12. Create a program that prints the prime numbers in a given range using a `for` loop.\"\"\"\n",
    "\n",
    "def check_prime(n):\n",
    "    if n < 2:\n",
    "        return False\n",
    "    for i in range(2, int(n ** 0.5) + 1):\n",
    "        if n % i == 0:\n",
    "            return False\n",
    "    return True\n",
    "\n",
    "lb = 5\n",
    "ub = 50\n",
    "\n",
    "for n in range(lb, ub + 1):\n",
    "    if check_prime(n):\n",
    "        print(n)"
   ]
  },
  {
   "cell_type": "code",
   "execution_count": 68,
   "id": "f100651f",
   "metadata": {},
   "outputs": [
    {
     "name": "stdout",
     "output_type": "stream",
     "text": [
      "number of vowels in sentence = 8\n"
     ]
    }
   ],
   "source": [
    "\"\"\"13. Develop a program that counts the number of vowels in a string using a `for` loop.\"\"\"\n",
    "\n",
    "s5 = \"Hello Sir How Are You\"\n",
    "s5_l = s5.lower()\n",
    "v = ['a','e','i','o','u']\n",
    "\n",
    "count = 0\n",
    "\n",
    "for i in s5_l:\n",
    "    if i in v:\n",
    "        count+=1\n",
    "\n",
    "print(\"number of vowels in sentence =\", count)"
   ]
  },
  {
   "cell_type": "code",
   "execution_count": 69,
   "id": "4be139c4",
   "metadata": {},
   "outputs": [
    {
     "name": "stdout",
     "output_type": "stream",
     "text": [
      "maximum element is  15\n"
     ]
    }
   ],
   "source": [
    "\"\"\"14. Write a program to find the maximum element in a 2D list using a nested `for` loop.\"\"\"\n",
    "\n",
    "nested_lst = [[5,9,4,6],[5,9,3],[15,8,3]]\n",
    "maxi = 0\n",
    "for i in nested_lst:\n",
    "    for j in i:\n",
    "        if j > maxi:\n",
    "            maxi=j\n",
    "print(\"maximum element is \",maxi)\n",
    "        "
   ]
  },
  {
   "cell_type": "code",
   "execution_count": 73,
   "id": "39bdc6bc",
   "metadata": {},
   "outputs": [
    {
     "name": "stdout",
     "output_type": "stream",
     "text": [
      "[2, 4, 7, 8, 9]\n"
     ]
    }
   ],
   "source": [
    "\"\"\"15. Create a program that removes all occurrences of a specific element from a list using a `for` loop.\"\"\"\n",
    "\n",
    "lst = [2,4,7,7,8,9,]\n",
    "ele = 7\n",
    "for i in lst:\n",
    "    if ele == i:\n",
    "        lst.remove(i)\n",
    "print(lst)   \n",
    "    "
   ]
  },
  {
   "cell_type": "code",
   "execution_count": 80,
   "id": "5ccc4469",
   "metadata": {
    "scrolled": true
   },
   "outputs": [
    {
     "name": "stdout",
     "output_type": "stream",
     "text": [
      "1 * 1 = 1\n",
      "1 * 2 = 2\n",
      "1 * 3 = 3\n",
      "1 * 4 = 4\n",
      "1 * 5 = 5\n",
      "1 * 6 = 6\n",
      "1 * 7 = 7\n",
      "1 * 8 = 8\n",
      "1 * 9 = 9\n",
      "1 * 10 = 10\n",
      "\n",
      "\n",
      "2 * 1 = 2\n",
      "2 * 2 = 4\n",
      "2 * 3 = 6\n",
      "2 * 4 = 8\n",
      "2 * 5 = 10\n",
      "2 * 6 = 12\n",
      "2 * 7 = 14\n",
      "2 * 8 = 16\n",
      "2 * 9 = 18\n",
      "2 * 10 = 20\n",
      "\n",
      "\n",
      "3 * 1 = 3\n",
      "3 * 2 = 6\n",
      "3 * 3 = 9\n",
      "3 * 4 = 12\n",
      "3 * 5 = 15\n",
      "3 * 6 = 18\n",
      "3 * 7 = 21\n",
      "3 * 8 = 24\n",
      "3 * 9 = 27\n",
      "3 * 10 = 30\n",
      "\n",
      "\n",
      "4 * 1 = 4\n",
      "4 * 2 = 8\n",
      "4 * 3 = 12\n",
      "4 * 4 = 16\n",
      "4 * 5 = 20\n",
      "4 * 6 = 24\n",
      "4 * 7 = 28\n",
      "4 * 8 = 32\n",
      "4 * 9 = 36\n",
      "4 * 10 = 40\n",
      "\n",
      "\n",
      "5 * 1 = 5\n",
      "5 * 2 = 10\n",
      "5 * 3 = 15\n",
      "5 * 4 = 20\n",
      "5 * 5 = 25\n",
      "5 * 6 = 30\n",
      "5 * 7 = 35\n",
      "5 * 8 = 40\n",
      "5 * 9 = 45\n",
      "5 * 10 = 50\n",
      "\n",
      "\n"
     ]
    }
   ],
   "source": [
    "\"\"\"16. Develop a program that generates a multiplication table for numbers from 1 to 5 using a nested `for` loop.\"\"\"\n",
    "\n",
    "for n in range(1,6):\n",
    "    for i in range(1,11):\n",
    "        mul = n*i\n",
    "        print(n,\"*\",i,\"=\",mul)\n",
    "    print(\"\\n\")"
   ]
  },
  {
   "cell_type": "code",
   "execution_count": 84,
   "id": "31fd2cd1",
   "metadata": {},
   "outputs": [
    {
     "name": "stdout",
     "output_type": "stream",
     "text": [
      "[18.333333333333332, 115.55555555555556, 48.888888888888886, 100.0]\n"
     ]
    }
   ],
   "source": [
    "\"\"\"17. Write a program that converts a list of Fahrenheit temperatures to Celsius using a `for` loop.\"\"\"\n",
    "\n",
    "fahrenheit_temp = [65,240,120,212]\n",
    "cel_lst=[]\n",
    "for i in fahrenheit_temp:\n",
    "    celcius = (i-32)* 5/9\n",
    "    cel_lst.append(celcius)\n",
    "print(cel_lst)"
   ]
  },
  {
   "cell_type": "code",
   "execution_count": 85,
   "id": "5ad4d1ec",
   "metadata": {},
   "outputs": [
    {
     "name": "stdout",
     "output_type": "stream",
     "text": [
      "9\n",
      "7\n"
     ]
    }
   ],
   "source": [
    "\"\"\"18. Create a program to print the common elements from two lists using a `for` loop.\"\"\"\n",
    "\n",
    "lst1 = [5,9,6,7,8,2]\n",
    "lst2 = [9,1,3,7,4]\n",
    "\n",
    "for i in lst1:\n",
    "    if i in lst2:\n",
    "        print(i)"
   ]
  },
  {
   "cell_type": "code",
   "execution_count": 91,
   "id": "266f3ea1",
   "metadata": {},
   "outputs": [
    {
     "name": "stdout",
     "output_type": "stream",
     "text": [
      "*\n",
      "**\n",
      "***\n",
      "****\n",
      "*****\n",
      "******\n",
      "*******\n",
      "********\n",
      "*********\n"
     ]
    }
   ],
   "source": [
    "\"\"\"19. Develop a program that prints the pattern of right-angled triangles using a `for` loop. Use ‘*’ to draw the\n",
    "pattern\"\"\"\n",
    "\n",
    "for j in range(1,10):\n",
    "    print(\"*\"*j)"
   ]
  },
  {
   "cell_type": "code",
   "execution_count": 92,
   "id": "dc6f2f99",
   "metadata": {},
   "outputs": [
    {
     "name": "stdout",
     "output_type": "stream",
     "text": [
      "The GCD of 54 and 24 is 6\n"
     ]
    }
   ],
   "source": [
    "\"\"\"20. Write a program to find the greatest common divisor (GCD) of two numbers using a `for` loop.\"\"\"\n",
    "\n",
    "a = 54\n",
    "b = 24\n",
    "\n",
    "for i in range(1, min(a, b) + 1):\n",
    "    if a % i == 0 and b % i == 0:\n",
    "        gcd = i\n",
    "\n",
    "print(\"The GCD of\",a, \"and\",b, \"is\", gcd)"
   ]
  },
  {
   "cell_type": "markdown",
   "id": "45acd683",
   "metadata": {},
   "source": [
    "## Advanced Level:"
   ]
  },
  {
   "cell_type": "code",
   "execution_count": 5,
   "id": "b7e29ba5",
   "metadata": {},
   "outputs": [
    {
     "data": {
      "text/plain": [
       "[6, 9, 15, 24, 18]"
      ]
     },
     "execution_count": 5,
     "metadata": {},
     "output_type": "execute_result"
    }
   ],
   "source": [
    "\"\"\"21. Create a program that calculates the sum of the digits of numbers in a list using a list comprehension.\"\"\"\n",
    "\n",
    "lst = [123,234,456,789,567]\n",
    "\n",
    "def to_digit_sum(s):\n",
    "    return sum(int(dig) for dig in str(s))\n",
    "    \n",
    "\n",
    "lstsum = [ to_digit_sum(i) for i in lst]\n",
    "lstsum"
   ]
  },
  {
   "cell_type": "code",
   "execution_count": 8,
   "id": "63d96f2e",
   "metadata": {},
   "outputs": [
    {
     "name": "stdout",
     "output_type": "stream",
     "text": [
      "Enter a number: 15\n",
      "Prime factors of 15: [3, 5]\n"
     ]
    }
   ],
   "source": [
    "\"\"\"22. Write a program to find the prime factors of a given number using a `for` loop and list comprehension.\"\"\"\n",
    "\n",
    "def is_prime(num):\n",
    "    if num < 2:\n",
    "        return False\n",
    "    for i in range(2, int(num**0.5) + 1):\n",
    "        if num % i == 0:\n",
    "            return False\n",
    "    return True\n",
    "\n",
    "def prime_factors(number):\n",
    "    factors = [factor for factor in range(2, number + 1) if number % factor == 0 and is_prime(factor)]\n",
    "    return factors\n",
    "\n",
    "num = int(input(\"Enter a number: \"))\n",
    "\n",
    "factors = prime_factors(num)\n",
    "\n",
    "if len(factors) == 0:\n",
    "    print(f\"{num} has no prime factors.\")\n",
    "else:\n",
    "    print(f\"Prime factors of {num}: {factors}\")\n",
    "\n"
   ]
  },
  {
   "cell_type": "code",
   "execution_count": 5,
   "id": "4e21d199",
   "metadata": {},
   "outputs": [
    {
     "name": "stdout",
     "output_type": "stream",
     "text": [
      "unique element list [8, 6, 7, 4, 2, 3]\n"
     ]
    }
   ],
   "source": [
    "\"\"\"23. Develop a program that extracts unique elements from a list and stores them in a new list using a list\n",
    "comprehension.\"\"\"\n",
    "\n",
    "lst = [1,5,8,6,9,7,4,2,1,5,3,9]\n",
    "\n",
    "def count(n,lst):\n",
    "    c = 0\n",
    "    for i in lst:\n",
    "        if i == n:\n",
    "            c+=1\n",
    "    return c\n",
    "    \n",
    "un = [i for i in lst if count(i,lst) == 1 ]\n",
    "print(\"unique element list\" ,un)"
   ]
  },
  {
   "cell_type": "code",
   "execution_count": 9,
   "id": "00c76883",
   "metadata": {},
   "outputs": [
    {
     "name": "stdout",
     "output_type": "stream",
     "text": [
      "Enter a limt  100\n",
      "Palindromic numbers up to 100 are: [0, 1, 2, 3, 4, 5, 6, 7, 8, 9, 11, 22, 33, 44, 55, 66, 77, 88, 99]\n"
     ]
    }
   ],
   "source": [
    "\"\"\"24. Create a program that generates a list of all palindromic numbers up to a specified limit using a list\n",
    "comprehension.\"\"\"\n",
    "\n",
    "limit = int(input(\"Enter a limt  \"))\n",
    "\n",
    "def is_palindrome(n):\n",
    "    return str(n) == str(n)[::-1]\n",
    "\n",
    "palindromic_numbers = [n for n in range(limit + 1) if is_palindrome(n)]\n",
    "print(\"Palindromic numbers up to\", limit, \"are:\", palindromic_numbers)"
   ]
  },
  {
   "cell_type": "code",
   "execution_count": 10,
   "id": "6484ab3c",
   "metadata": {},
   "outputs": [
    {
     "name": "stdout",
     "output_type": "stream",
     "text": [
      "flatten list is  [1, 2, 3, 4, 5, 6, 7, 8, 9]\n"
     ]
    }
   ],
   "source": [
    "\"\"\"25. Write a program to flatten a nested list using list comprehension.\"\"\"\n",
    "\n",
    "lst = [[1, 2, 3], [4, 5], [6, 7, 8, 9]]\n",
    "\n",
    "flatlst = [j for i in lst for j in i]\n",
    "print(\"flatten list is \", flatlst)"
   ]
  },
  {
   "cell_type": "code",
   "execution_count": 15,
   "id": "b70ba462",
   "metadata": {},
   "outputs": [
    {
     "name": "stdout",
     "output_type": "stream",
     "text": [
      "Sum of even numbers: 30\n",
      "Sum of odd numbers: 25\n"
     ]
    }
   ],
   "source": [
    "\"\"\"26. Develop a program that computes the sum of even and odd numbers in a list separately using list\n",
    "comprehension.\"\"\"\n",
    "\n",
    "\n",
    "numbers = [1, 2, 3, 4, 5, 6, 7, 8, 9, 10]\n",
    "\n",
    "even_sum = sum([num for num in numbers if num % 2 == 0])\n",
    "odd_sum = sum([num for num in numbers if num % 2 != 0])\n",
    "\n",
    "print(\"Sum of even numbers:\", even_sum)\n",
    "print(\"Sum of odd numbers:\", odd_sum)"
   ]
  },
  {
   "cell_type": "code",
   "execution_count": 16,
   "id": "29bab3fb",
   "metadata": {},
   "outputs": [
    {
     "name": "stdout",
     "output_type": "stream",
     "text": [
      "list of squares of odd numbers between 1 and 10 is [1, 9, 25, 49, 81]\n"
     ]
    }
   ],
   "source": [
    "\"\"\"27. Create a program that generates a list of squares of odd numbers between 1 and 10 using list\n",
    "comprehension.\"\"\"\n",
    "\n",
    "lstsqt = [i*i for i in range(1,11) if i%2!=0]\n",
    "print(\"list of squares of odd numbers between 1 and 10 is\",lstsqt)\n"
   ]
  },
  {
   "cell_type": "code",
   "execution_count": 20,
   "id": "51263eee",
   "metadata": {},
   "outputs": [
    {
     "name": "stdout",
     "output_type": "stream",
     "text": [
      "combines two lists into a dictionary  {1: 1, 3: 9, 5: 25, 7: 49, 9: 81}\n",
      "<class 'dict'>\n"
     ]
    }
   ],
   "source": [
    "\"\"\"28. Write a program that combines two lists into a dictionary using list comprehension.\"\"\"\n",
    "\n",
    "lst1 = [1,3,5,7,9]\n",
    "lst2 = [1,9,25,49,81]\n",
    "\n",
    "dic = {i:j for i,j in zip(lst1,lst2)}\n",
    "print(\"combines two lists into a dictionary \",dic)\n",
    "print(type(dic))"
   ]
  },
  {
   "cell_type": "code",
   "execution_count": 22,
   "id": "5e7b69e4",
   "metadata": {},
   "outputs": [
    {
     "name": "stdout",
     "output_type": "stream",
     "text": [
      "Enter a string: hello how are you\n",
      "Vowels in the given string: ['e', 'o', 'o', 'a', 'e', 'o', 'u']\n"
     ]
    }
   ],
   "source": [
    "\"\"\"29. Develop a program that extracts the vowels from a string and stores them in a list using list comprehension.\"\"\"\n",
    "\n",
    "def extract_vowels(input_string):\n",
    "    vowels = \"aeiouAEIOU\"\n",
    "    vowel_list = [char for char in input_string if char in vowels]\n",
    "    return vowel_list\n",
    "\n",
    "input_string = input(\"Enter a string: \")\n",
    "vowel_list = extract_vowels(input_string)\n",
    "print(\"Vowels in the given string:\", vowel_list)"
   ]
  },
  {
   "cell_type": "code",
   "execution_count": 24,
   "id": "926f8aa1",
   "metadata": {},
   "outputs": [
    {
     "name": "stdout",
     "output_type": "stream",
     "text": [
      "List of strings with non-numeric characters removed: ['123', '456', '789', '548']\n"
     ]
    }
   ],
   "source": [
    "\"\"\"30. Create a program that removes all non-numeric characters from a list of strings using list comprehension.\"\"\"\n",
    "\n",
    "string_list = [\"abc123\", \"456def\", \"789ghi\", \"jkl548\"]\n",
    "numeric_strings = [''.join(char for char in string if char.isdigit()) for string in string_list]\n",
    "print(\"List of strings with non-numeric characters removed:\", numeric_strings)\n"
   ]
  },
  {
   "cell_type": "markdown",
   "id": "a53517ae",
   "metadata": {},
   "source": [
    "## Challenge Level:"
   ]
  },
  {
   "cell_type": "code",
   "execution_count": 25,
   "id": "4e9ce9ca",
   "metadata": {},
   "outputs": [
    {
     "name": "stdout",
     "output_type": "stream",
     "text": [
      "Enter the limit: 20\n",
      "Prime numbers up to 20 are: [2, 3, 5, 7, 11, 13, 17, 19]\n"
     ]
    }
   ],
   "source": [
    "\"\"\"31. Write a program to generate a list of prime numbers using the Sieve of Eratosthenes algorithm and list\n",
    "comprehension.\"\"\"\n",
    "\n",
    "def sieve_of_eratosthenes(limit):\n",
    "    primes = [True] * (limit + 1)\n",
    "    primes[0] = primes[1] = False\n",
    "    \n",
    "    for num in range(2, int(limit**0.5) + 1):\n",
    "        if primes[num]:\n",
    "            primes[num*num::num] = [False] * len(primes[num*num::num])\n",
    "    \n",
    "    prime_numbers = [num for num, is_prime in enumerate(primes) if is_prime]\n",
    "    return prime_numbers\n",
    "\n",
    "limit = int(input(\"Enter the limit: \"))\n",
    "prime_numbers = sieve_of_eratosthenes(limit)\n",
    "print(\"Prime numbers up to\", limit, \"are:\", prime_numbers)\n"
   ]
  },
  {
   "cell_type": "code",
   "execution_count": 27,
   "id": "fd7de457",
   "metadata": {},
   "outputs": [
    {
     "name": "stdout",
     "output_type": "stream",
     "text": [
      "Enter the limit: 10\n",
      "Pythagorean triplets up to 10 are: [(3, 4, 5), (6, 8, 10)]\n"
     ]
    }
   ],
   "source": [
    "\"\"\"32. Create a program that generates a list of all Pythagorean triplets up to a specified limit using list\n",
    "comprehension.\"\"\"\n",
    "\n",
    "def generate_pythagorean_triplets(limit):\n",
    "    triplets = [(a, b, c) for a in range(1, limit+1) for b in range(a, limit+1) for c in range(b, limit+1) if a**2 + b**2 == c**2]\n",
    "    return triplets\n",
    "\n",
    "limit = int(input(\"Enter the limit: \"))\n",
    "pythagorean_triplets = generate_pythagorean_triplets(limit)\n",
    "print(\"Pythagorean triplets up to\", limit, \"are:\", pythagorean_triplets)\n"
   ]
  },
  {
   "cell_type": "code",
   "execution_count": 32,
   "id": "b641691d",
   "metadata": {},
   "outputs": [
    {
     "name": "stdout",
     "output_type": "stream",
     "text": [
      "all combinations  [(1, 'a'), (1, 'b'), (1, 'c'), (1, 'd'), (3, 'a'), (3, 'b'), (3, 'c'), (3, 'd'), (5, 'a'), (5, 'b'), (5, 'c'), (5, 'd'), (7, 'a'), (7, 'b'), (7, 'c'), (7, 'd'), (9, 'a'), (9, 'b'), (9, 'c'), (9, 'd')]\n"
     ]
    }
   ],
   "source": [
    "\"\"\"33. Develop a program that generates a list of all possible combinations of two lists using list comprehension.\"\"\"\n",
    "\n",
    "lst1 = [1,3,5,7,9]\n",
    "lst2 = ['a','b','c','d']\n",
    "\n",
    "comblst = [(i,j) for i in lst1 for j in lst2]\n",
    "print(\"all combinations \",comblst)"
   ]
  },
  {
   "cell_type": "code",
   "execution_count": 44,
   "id": "c4007cdc",
   "metadata": {},
   "outputs": [
    {
     "name": "stdout",
     "output_type": "stream",
     "text": [
      "mean is  5.4\n",
      "median is  5.5\n",
      "mode is  [9]\n"
     ]
    }
   ],
   "source": [
    "\"\"\"34. Write a program that calculates the mean, median, and mode of a list of numbers using list\n",
    "comprehension.\"\"\"\n",
    "\n",
    "lst = [1,5,8,6,9,7,4,2,3,9]\n",
    "mean1 = sum(lst)/len(lst)\n",
    "\n",
    "sorted_lst = sorted(lst)\n",
    "n = len(sorted_lst)\n",
    "median1 = (sorted_lst[n // 2] + sorted_lst[(n - 1) // 2]) / 2 if n % 2 == 0 else sorted_lst[n // 2]\n",
    "\n",
    "count_dict = {num: lst.count(num) for num in set(lst)}\n",
    "mode1 = [key for key, value in count_dict.items() if value == max(count_dict.values())]\n",
    "\n",
    "print(\"mean is \",mean1)\n",
    "print(\"median is \",median1)\n",
    "print(\"mode is \",mode1)"
   ]
  },
  {
   "cell_type": "code",
   "execution_count": 51,
   "id": "f493604e",
   "metadata": {},
   "outputs": [
    {
     "name": "stdout",
     "output_type": "stream",
     "text": [
      "Enter the number of rows for Pascal's triangle: 5\n",
      "           1            \n",
      "          1 1           \n",
      "         1 2 1          \n",
      "        1 3 3 1         \n",
      "       1 4 6 4 1        \n"
     ]
    }
   ],
   "source": [
    "\"\"\"35. Create a program that generates Pascal's triangle up to a specified number of rows using list\n",
    "comprehension.\"\"\"\n",
    "\n",
    "def generate_pascals_triangle(num_rows):\n",
    "    if num_rows <= 0:\n",
    "        return []\n",
    "    \n",
    "    triangle = [[1]]\n",
    "    for i in range(1, num_rows):\n",
    "        previous_row = triangle[-1]\n",
    "        new_row = [1] + [previous_row[i] + previous_row[i + 1] for i in range(len(previous_row) - 1)] + [1]\n",
    "        triangle.append(new_row)\n",
    "    \n",
    "    return triangle\n",
    "\n",
    "nrows = int(input(\"Enter the number of rows for Pascal's triangle: \"))\n",
    "pascals_triangle = generate_pascals_triangle(nrows)\n",
    "\n",
    "\n",
    "for row in pascals_triangle:\n",
    "    print(' '.join(map(str, row)).center(num_rows * 4))"
   ]
  },
  {
   "cell_type": "code",
   "execution_count": 54,
   "id": "22adc410",
   "metadata": {},
   "outputs": [
    {
     "name": "stdout",
     "output_type": "stream",
     "text": [
      "The sum of the digits of 1 factorial is 1\n",
      "The sum of the digits of 2 factorial is 2\n",
      "The sum of the digits of 3 factorial is 6\n",
      "The sum of the digits of 4 factorial is 6\n",
      "The sum of the digits of 5 factorial is 3\n"
     ]
    }
   ],
   "source": [
    "\"\"\"36. Develop a program that calculates the sum of the digits of a factorial of numbers from 1 to 5 using list\n",
    "comprehension.\"\"\"\n",
    "\n",
    "def factorial(n):\n",
    "    if n == 0:\n",
    "        return 1\n",
    "    return n * factorial(n - 1)\n",
    "\n",
    "factorials = [factorial(i) for i in range(1, 6)]\n",
    "digit_sums = [sum(map(int, str(f))) for f in factorials]\n",
    "\n",
    "for i in range(1, 6):\n",
    "    print(f\"The sum of the digits of {i} factorial is {digit_sums[i - 1]}\")\n",
    "    "
   ]
  },
  {
   "cell_type": "code",
   "execution_count": 96,
   "id": "d3277e96",
   "metadata": {},
   "outputs": [
    {
     "name": "stdout",
     "output_type": "stream",
     "text": [
      "the longest word is  ['brothers']  with lenght 8\n"
     ]
    }
   ],
   "source": [
    "\"\"\"37. Write a program that finds the longest word in a sentence using list comprehension.\"\"\"\n",
    "\n",
    "sentence = \"india is my country all indians are my brothers and sisters\"\n",
    "\n",
    "def word_length(w):\n",
    "    return len(w)\n",
    "\n",
    "list_of_word = sentence.split()\n",
    "longest_word_size = max(list(map(word_length,list_of_word)))\n",
    "longest_word = [i for i in list_of_word if word_length(i)==longest_word_size]\n",
    "print(\"the longest word is \",longest_word,\" with lenght\",longest_word_size)"
   ]
  },
  {
   "cell_type": "code",
   "execution_count": 143,
   "id": "a790064e",
   "metadata": {},
   "outputs": [
    {
     "name": "stdout",
     "output_type": "stream",
     "text": [
      "list of strings to include only those with more than three vowels\n",
      " ['intelligent', 'sociable', 'creatures,', 'exhibiting', 'remarkable', 'behavior', 'communication']\n"
     ]
    }
   ],
   "source": [
    "\"\"\"38. Create a program that filters a list of strings to include only those with more than three vowels using list\n",
    "comprehension.\"\"\"\n",
    "\n",
    "\n",
    "vowels = ['a', 'e', 'i', 'o', 'u','A', 'E', 'I', 'O', 'U']\n",
    "sentence = \"Elephants are intelligent and sociable creatures, exhibiting remarkable behavior and communication skills in their natural habitat\"\n",
    "\n",
    "def noOf_vowels(word):\n",
    "    count=0\n",
    "    return  sum(1 for w in word if w in vowels)\n",
    "\n",
    "word_lst = sentence.split()\n",
    "result = [(i) for i in word_lst if noOf_vowels(i)>3]\n",
    "# list(map(noOf_vowels,word_lst))\n",
    "print(\"list of strings to include only those with more than three vowels\\n\",result)"
   ]
  },
  {
   "cell_type": "code",
   "execution_count": 145,
   "id": "d63ef807",
   "metadata": {},
   "outputs": [
    {
     "name": "stdout",
     "output_type": "stream",
     "text": [
      "Sum of the digits from 1 to 1000: 13501\n"
     ]
    }
   ],
   "source": [
    "\"\"\"39. Develop a program that calculates the sum of the digits of numbers from 1 to 1000 using list\n",
    "comprehension.\"\"\"\n",
    "\n",
    "digit_sum = sum(int(dig) for n in range(1, 1001) for dig in str(n))\n",
    "print(\"Sum of the digits from 1 to 1000:\", digit_sum)"
   ]
  },
  {
   "cell_type": "code",
   "execution_count": 150,
   "id": "f5d97948",
   "metadata": {},
   "outputs": [
    {
     "name": "stdout",
     "output_type": "stream",
     "text": [
      "Prime palindromic numbers up to 500: [2, 3, 5, 7, 11, 101, 131, 151, 181, 191, 313, 353, 373, 383]\n"
     ]
    }
   ],
   "source": [
    "\"\"\"40. Write a program that generates a list of prime palindromic numbers using list comprehension.\"\"\"\n",
    "\n",
    "def is_prime(num):\n",
    "    if num <= 1:\n",
    "        return False\n",
    "    for i in range(2, int(num**0.5) + 1):\n",
    "        if num % i == 0:\n",
    "            return False\n",
    "    return True\n",
    "\n",
    "prime_palindromes = [n for n in range(1, 500) if is_prime(n) and str(n) == str(n)[::-1]]\n",
    "print(\"Prime palindromic numbers up to 500:\", prime_palindromes)\n"
   ]
  },
  {
   "cell_type": "code",
   "execution_count": null,
   "id": "1f4022ff",
   "metadata": {},
   "outputs": [],
   "source": []
  }
 ],
 "metadata": {
  "kernelspec": {
   "display_name": "Python 3",
   "language": "python",
   "name": "python3"
  },
  "language_info": {
   "codemirror_mode": {
    "name": "ipython",
    "version": 3
   },
   "file_extension": ".py",
   "mimetype": "text/x-python",
   "name": "python",
   "nbconvert_exporter": "python",
   "pygments_lexer": "ipython3",
   "version": "3.8.8"
  },
  "varInspector": {
   "cols": {
    "lenName": 16,
    "lenType": 16,
    "lenVar": 40
   },
   "kernels_config": {
    "python": {
     "delete_cmd_postfix": "",
     "delete_cmd_prefix": "del ",
     "library": "var_list.py",
     "varRefreshCmd": "print(var_dic_list())"
    },
    "r": {
     "delete_cmd_postfix": ") ",
     "delete_cmd_prefix": "rm(",
     "library": "var_list.r",
     "varRefreshCmd": "cat(var_dic_list()) "
    }
   },
   "types_to_exclude": [
    "module",
    "function",
    "builtin_function_or_method",
    "instance",
    "_Feature"
   ],
   "window_display": false
  }
 },
 "nbformat": 4,
 "nbformat_minor": 5
}
