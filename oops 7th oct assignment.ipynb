{
 "cells": [
  {
   "cell_type": "markdown",
   "id": "21964d8c",
   "metadata": {},
   "source": [
    "### Topic-OOPs assignment1"
   ]
  },
  {
   "cell_type": "code",
   "execution_count": 1,
   "id": "1426b899",
   "metadata": {},
   "outputs": [
    {
     "name": "stderr",
     "output_type": "stream",
     "text": [
      "2023-12-16 03:54:54,400 - INFO - Deposited Rs500 into account 4588765. New balance: Rs1500 \n",
      "2023-12-16 03:54:54,401 - INFO - Withdrew Rs200 from account 4588765. New balance: Rs1300 \n",
      "2023-12-16 03:54:54,401 - ERROR - Insufficient funds. Cannot withdraw \n"
     ]
    },
    {
     "name": "stdout",
     "output_type": "stream",
     "text": [
      "\n",
      " Account Number: 4588765\n",
      "Account Holder: shubh jain\n",
      "Balance: Rs 1000 \n",
      "\n",
      "\n",
      " Account Number: 4588765\n",
      "Account Holder: shubh jain\n",
      "Balance: Rs 1300 \n",
      "\n"
     ]
    }
   ],
   "source": [
    "\"\"\"Problem 1: Bank Account Create a class representing a bank account with attributes \n",
    "like account number, account holder name, and balance.\n",
    "Implement methods to deposit and withdraw money from the account.\"\"\"\n",
    "\n",
    "import logging\n",
    "logging.basicConfig(level=logging.DEBUG, format='%(asctime)s - %(levelname)s - %(message)s ')\n",
    "# logging.basicConfig(filename = 'trytest.log',level=logging.DEBUG, format='%(asctime)s - %(levelname)s - %(message)s')\n",
    "class BankAccount:\n",
    "    def __init__(self,account_number,account_holderName,balance):\n",
    "        self.account_number = account_number\n",
    "        self.account_holderName = account_holderName\n",
    "        self.balance = balance\n",
    "        \n",
    "    def deposit(self,amount):\n",
    "        try:\n",
    "            if amount>0:\n",
    "                self.balance += amount\n",
    "                logging.info(f\"Deposited Rs{amount} into account {self.account_number}. New balance: Rs{self.balance}\")\n",
    "            else:\n",
    "                raise valueError(\"Invalid deposit amount. Please deposit a positive amount\") ## raise custum error\n",
    "        except ValueError as e:\n",
    "            logging.error(e)\n",
    "\n",
    "    def withdraw(self,amount):\n",
    "        try:\n",
    "            if amount>0 and amount <=self.balance:\n",
    "                self.balance-= amount\n",
    "                logging.info(f\"Withdrew Rs{amount} from account {self.account_number}. New balance: Rs{self.balance}\")\n",
    "            elif amount>self.balance:\n",
    "                raise ValueError(\"Insufficient funds. Cannot withdraw\")\n",
    "            else:\n",
    "                raise ValueError(\"Invalid withdrawal amount. Please withdraw a positive amount\")\n",
    "        except ValueError as e:\n",
    "            logging.error(e)\n",
    "\n",
    "    def display_account_info(self):\n",
    "        print(\"\\n\",f\"Account Number: {self.account_number}\")\n",
    "        print(f\"Account Holder: {self.account_holderName}\")\n",
    "        print(f\"Balance: Rs {self.balance}\",\"\\n\")\n",
    "        \n",
    "my_account = BankAccount(\"4588765\",\"shubh jain\",1000)\n",
    "my_account.display_account_info()\n",
    "my_account.deposit(500)\n",
    "my_account.withdraw(200)\n",
    "my_account.withdraw(5000)\n",
    "my_account.display_account_info()"
   ]
  },
  {
   "cell_type": "code",
   "execution_count": 2,
   "id": "7f31df57",
   "metadata": {},
   "outputs": [
    {
     "name": "stdout",
     "output_type": "stream",
     "text": [
      "Employee ID: 186\n",
      "Name: Shubh jain\n",
      "Salary: Rs556000\n",
      "Yearly Bonus: Rs55600.0\n",
      "\n",
      "Yearly Bonus: Rs55600.0\n"
     ]
    }
   ],
   "source": [
    "\"\"\"Problem 2: Employee Management Create a class representing an employee with attributes like \n",
    "employee ID, name, and salary. \n",
    "Implement methods to calculate the yearly bonus and display employee details.\"\"\"\n",
    "\n",
    "class Employee:\n",
    "    def __init__(self, employee_id, name, salary):\n",
    "        self.employee_id = employee_id\n",
    "        self.name = name\n",
    "        self.salary = salary\n",
    "\n",
    "    def calculate_yearly_bonus(self):\n",
    "        bonus_percentage = 0.10\n",
    "        yearly_bonus = self.salary * bonus_percentage\n",
    "        return yearly_bonus\n",
    "\n",
    "    def display_employee_details(self):\n",
    "        print(f\"Employee ID: {self.employee_id}\")\n",
    "        print(f\"Name: {self.name}\")\n",
    "        print(f\"Salary: Rs{self.salary}\")\n",
    "        print(f\"Yearly Bonus: Rs{self.calculate_yearly_bonus()}\")\n",
    "\n",
    "employee1 = Employee(employee_id=\"186\", name=\"Shubh jain\", salary=556000)\n",
    "employee1.display_employee_details()\n",
    "yearly_bonus = employee1.calculate_yearly_bonus()\n",
    "print(f\"\\nYearly Bonus: Rs{yearly_bonus}\")"
   ]
  },
  {
   "cell_type": "code",
   "execution_count": 3,
   "id": "0287e172",
   "metadata": {},
   "outputs": [
    {
     "name": "stdout",
     "output_type": "stream",
     "text": [
      "available machines: ['v1', 'v2', 'v3', 'v4', 'v5', 'v6'] \n",
      "\n",
      "shubh rented vehicle v4.\n",
      "ram rented vehicle v6.\n",
      "Available Vehicles: ['v1', 'v2', 'v3', 'v5'] \n",
      "\n",
      "ram returned vehicle v6.\n",
      "shubh returned vehicle v4.\n",
      "Available Vehicles: ['v1', 'v2', 'v3', 'v5', 'v6', 'v4'] \n",
      "\n"
     ]
    }
   ],
   "source": [
    "\"\"\"Problem 3: Vehicle Rental Create a class representing a vehicle rental system. \n",
    "Implement methods to rent a vehicle, return a vehicle, and display available vehicles.\"\"\"\n",
    "\n",
    "class VehicleRental:\n",
    "    def __init__(self, name, vehicle_id):\n",
    "        self.name = name\n",
    "        self.vehicle_id = vehicle_id\n",
    "\n",
    "    def rent_vehicle(self, available_machines):\n",
    "        if self.vehicle_id in available_machines:\n",
    "            available_machines.remove(self.vehicle_id)\n",
    "            print(f\"{self.name} rented vehicle {self.vehicle_id}.\")\n",
    "        else:\n",
    "            print(f\"Vehicle {self.vehicle_id} is not available for rent.\")\n",
    "\n",
    "    def return_vehicle(self, available_machines):\n",
    "        if self.vehicle_id not in available_machines:\n",
    "            available_machines.append(self.vehicle_id)\n",
    "            print(f\"{self.name} returned vehicle {self.vehicle_id}.\")\n",
    "        else:\n",
    "            print(f\"Invalid return request for vehicle {self.vehicle_id}. It's already available.\")\n",
    "\n",
    "available_machines = [\"v1\", \"v2\", \"v3\", \"v4\", \"v5\", \"v6\"]\n",
    "print(\"available machines:\",available_machines,\"\\n\")\n",
    "\n",
    "user1 = VehicleRental(\"shubh\", \"v4\")\n",
    "user1.rent_vehicle(available_machines)\n",
    "user2 = VehicleRental(\"ram\", \"v6\")\n",
    "user2.rent_vehicle(available_machines)\n",
    "print(\"Available Vehicles:\", available_machines,\"\\n\")\n",
    "\n",
    "user2.return_vehicle(available_machines)\n",
    "user1.return_vehicle(available_machines)\n",
    "print(\"Available Vehicles:\", available_machines,\"\\n\")\n"
   ]
  },
  {
   "cell_type": "code",
   "execution_count": 6,
   "id": "150c8081",
   "metadata": {},
   "outputs": [
    {
     "name": "stdout",
     "output_type": "stream",
     "text": [
      "Book The God of Small Things added to the library.\n",
      "Book The Inheritance of Loss added to the library.\n",
      "Book The White Tiger added to the library.\n",
      "Book The God of Small Things borrowed successfully.\n",
      "Available Books:\n",
      "The Inheritance of Loss by Kiran Desai (B002) - Available\n",
      "The White Tiger by Aravind Adiga (B003) - Available\n",
      "Book The Inheritance of Loss borrowed successfully.\n",
      "Available Books:\n",
      "The White Tiger by Aravind Adiga (B003) - Available\n",
      "Available Books:\n",
      "The White Tiger by Aravind Adiga (B003) - Available\n"
     ]
    }
   ],
   "source": [
    "\"\"\"Problem 4: Library Catalog Create classes representing a library and a book.\n",
    "Implement methods to add books to the library, borrow books, and display available books.\"\"\"\n",
    "\n",
    "class Book:\n",
    "    def __init__(self, title, author, book_id):\n",
    "        self.title = title\n",
    "        self.author = author\n",
    "        self.book_id = book_id\n",
    "        self.is_available = True\n",
    "\n",
    "    def __str__(self):\n",
    "        availability = \"Available\" if self.is_available else \"Not Available\"\n",
    "        return (f\"{self.title} by {self.author} ({self.book_id}) - {availability}\")\n",
    "\n",
    "class Library:\n",
    "    def __init__(self, name):\n",
    "        self.name = name\n",
    "        self.books = []\n",
    "\n",
    "    def add_book(self, book):\n",
    "        self.books.append(book)\n",
    "        print(f\"Book {book.title} added to the library.\")\n",
    "\n",
    "    def borrow_book(self, book_id):\n",
    "        for book in self.books:\n",
    "            if book.book_id == book_id and book.is_available:\n",
    "                book.is_available = False\n",
    "                print(f\"Book {book.title} borrowed successfully.\")\n",
    "                self.display_available_books()\n",
    "                return\n",
    "        print(f\"Book with ID {book_id} is not available for borrowing.\")\n",
    "\n",
    "    def display_available_books(self):\n",
    "        available_books = [book for book in self.books if book.is_available]\n",
    "        if available_books:\n",
    "            print(\"Available Books:\")\n",
    "            for book in available_books:\n",
    "                print(book)\n",
    "        else:\n",
    "            print(\"No books are currently available.\")\n",
    "\n",
    "library = Library(\"The indian Library\")\n",
    "\n",
    "book1 = Book(\"The God of Small Things\",\"Arundhati Roy\", \"B001\")\n",
    "book2 = Book(\"The Inheritance of Loss\",\"Kiran Desai\", \"B002\")\n",
    "book3 = Book(\"The White Tiger\",\"Aravind Adiga\", \"B003\")\n",
    "\n",
    "library.add_book(book1)\n",
    "library.add_book(book2)\n",
    "library.add_book(book3)\n",
    "\n",
    "library.borrow_book(\"B001\")\n",
    "library.borrow_book(\"B002\")\n",
    "\n",
    "library.display_available_books()\n"
   ]
  },
  {
   "cell_type": "code",
   "execution_count": 8,
   "id": "59ff7ad2",
   "metadata": {},
   "outputs": [
    {
     "name": "stdout",
     "output_type": "stream",
     "text": [
      "Product Laptop added to the inventory.\n",
      "Product Smartphone added to the inventory.\n",
      "Product Headphones added to the inventory.\n",
      "Quantity of Laptop updated to 8.\n",
      "Available Products:\n",
      "Laptop (ID: P1) - Price: Rs1200 - Quantity: 8\n",
      "Smartphone (ID: P2) - Price: Rs800 - Quantity: 20\n",
      "Headphones (ID: P3) - Price: Rs50 - Quantity: 30\n",
      "Quantity of Smartphone updated to 15.\n",
      "Available Products:\n",
      "Laptop (ID: P1) - Price: Rs1200 - Quantity: 8\n",
      "Smartphone (ID: P2) - Price: Rs800 - Quantity: 15\n",
      "Headphones (ID: P3) - Price: Rs50 - Quantity: 30\n",
      "Available Products:\n",
      "Laptop (ID: P1) - Price: Rs1200 - Quantity: 8\n",
      "Smartphone (ID: P2) - Price: Rs800 - Quantity: 15\n",
      "Headphones (ID: P3) - Price: Rs50 - Quantity: 30\n"
     ]
    }
   ],
   "source": [
    "\"\"\"Problem 5: Product Inventory Create classes representing a product and an inventory system. \n",
    "Implement methods to add products to the inventory, update product quantity, \n",
    "and display available products.\"\"\"\n",
    "\n",
    "class Product:\n",
    "    def __init__(self, product_id, name, price, quantity):\n",
    "        self.product_id = product_id\n",
    "        self.name = name\n",
    "        self.price = price\n",
    "        self.quantity = quantity\n",
    "\n",
    "    def __str__(self):\n",
    "        return f\"{self.name} (ID: {self.product_id}) - Price: Rs{self.price} - Quantity: {self.quantity}\"\n",
    "\n",
    "class InventorySystem:\n",
    "    def __init__(self):\n",
    "        self.products = []\n",
    "\n",
    "    def add_product(self, product):\n",
    "        self.products.append(product)\n",
    "        print(f\"Product {product.name} added to the inventory.\")\n",
    "\n",
    "    def update_quantity(self, product_id, new_quantity):\n",
    "        for product in self.products:\n",
    "            if product.product_id == product_id:\n",
    "                product.quantity = new_quantity\n",
    "                print(f\"Quantity of {product.name} updated to {new_quantity}.\")\n",
    "                self.display_available_products()\n",
    "                return\n",
    "        print(f\"Product with ID {product_id} not found in the inventory.\")\n",
    "\n",
    "    def display_available_products(self):\n",
    "        if self.products:\n",
    "            print(\"Available Products:\")\n",
    "            for product in self.products:\n",
    "                print(product)\n",
    "        else:\n",
    "            print(\"No products are currently available in the inventory.\")\n",
    "\n",
    "\n",
    "inventory_system = InventorySystem()\n",
    "\n",
    "product1 = Product(\"P1\", \"Laptop\", 1200, 10)\n",
    "product2 = Product(\"P2\", \"Smartphone\", 800, 20)\n",
    "product3 = Product(\"P3\", \"Headphones\", 50, 30)\n",
    "\n",
    "inventory_system.add_product(product1)\n",
    "inventory_system.add_product(product2)\n",
    "inventory_system.add_product(product3)\n",
    "\n",
    "inventory_system.update_quantity(\"P1\", 8)\n",
    "inventory_system.update_quantity(\"P2\", 15)\n",
    "\n",
    "inventory_system.display_available_products()\n"
   ]
  },
  {
   "cell_type": "code",
   "execution_count": 10,
   "id": "d02bd112",
   "metadata": {},
   "outputs": [
    {
     "name": "stdout",
     "output_type": "stream",
     "text": [
      "The area of the shape is 190 square units.\n",
      "The perimeter of the shape is 72 units.\n"
     ]
    }
   ],
   "source": [
    "\"\"\"Problem 6: Shape Calculation Create a class representing a shape with attributes like \n",
    "length, width, and height.Implement methods to calculate the area and perimeter of the shape.\"\"\"\n",
    "\n",
    "class Shape:\n",
    "    def __init__(self, length, width, height):\n",
    "        self.length = length\n",
    "        self.width = width\n",
    "        self.height = height\n",
    "\n",
    "    def calculate_area(self):\n",
    "        area = 2 * (self.length * self.width + self.width * self.height + self.height * self.length)\n",
    "        return area\n",
    "\n",
    "    def calculate_perimeter(self):\n",
    "        perimeter = 4 * (self.length + self.width + self.height)\n",
    "        return perimeter\n",
    "\n",
    "my_shape = Shape(10, 5, 3)\n",
    "area = my_shape.calculate_area()\n",
    "perimeter = my_shape.calculate_perimeter()\n",
    "print(f\"The area of the shape is {area} square units.\")\n",
    "print(f\"The perimeter of the shape is {perimeter} units.\")\n"
   ]
  },
  {
   "cell_type": "code",
   "execution_count": 11,
   "id": "637ea2b5",
   "metadata": {},
   "outputs": [
    {
     "name": "stdout",
     "output_type": "stream",
     "text": [
      "Student ID: 483\n",
      "Name: Shubh jain\n",
      "Grades: [90, 85, 95, 80]\n",
      "Average Grade: 87.5\n"
     ]
    }
   ],
   "source": [
    "\"\"\"Problem 7: Student Management Create a class representing a student with attributes like \n",
    "student ID, name, and grades. Implement methods to calculate the average grade and \n",
    "display student details.\"\"\"\n",
    "\n",
    "class Student:\n",
    "    def __init__(self, student_id, name, grades):\n",
    "        self.student_id = student_id\n",
    "        self.name = name\n",
    "        self.grades = grades\n",
    "\n",
    "    def calculate_average_grade(self):\n",
    "        average_grade = sum(self.grades) / len(self.grades)\n",
    "        return average_grade\n",
    "\n",
    "    def display_student_details(self):\n",
    "        print(f\"Student ID: {self.student_id}\")\n",
    "        print(f\"Name: {self.name}\")\n",
    "        print(f\"Grades: {self.grades}\")\n",
    "        print(f\"Average Grade: {self.calculate_average_grade()}\")\n",
    "\n",
    "my_student = Student(483, \"Shubh jain\", [90, 85, 95, 80])\n",
    "my_student.display_student_details()"
   ]
  },
  {
   "cell_type": "code",
   "execution_count": 8,
   "id": "ea25b4e4",
   "metadata": {},
   "outputs": [
    {
     "name": "stdout",
     "output_type": "stream",
     "text": [
      "Sender: shubh\n",
      "Recipient: Ram\n",
      "Subject: congratulation\n"
     ]
    }
   ],
   "source": [
    "\"\"\"Problem 8: Email Management Create a class representing an email with attributes \n",
    "like sender, recipient, and subject. \n",
    "Implement methods to send an email and display email details.\"\"\"\n",
    "\n",
    "import smtplib\n",
    "class Email:\n",
    "    def __init__(self, sender, recipient, subject):\n",
    "        self.sender = sender\n",
    "        self.recipient = recipient\n",
    "        self.subject = subject\n",
    "\n",
    "    def send_email(self):\n",
    "        message = f\"From: {self.sender}\\nTo: {self.recipient}\\nSubject: {self.subject}\\n\\n{self.body}\"\n",
    "        with smtplib.SMTP('smtp.gmail.com', 587) as smtp:\n",
    "            smtp.starttls()\n",
    "            smtp.login('email@gmail.com', 'password')\n",
    "            smtp.sendmail(self.sender, self.recipient, message)\n",
    "\n",
    "    def display_details(self):\n",
    "        print(\"Sender:\", self.sender)\n",
    "        print(\"Recipient:\", self.recipient)\n",
    "        print(\"Subject:\", self.subject)\n",
    "\n",
    "email = Email(\"shubh\", \"Ram\", \"congratulation\")\n",
    "# email.send_email()\n",
    "email.display_details()\n"
   ]
  },
  {
   "cell_type": "code",
   "execution_count": 12,
   "id": "6599b3ed",
   "metadata": {},
   "outputs": [
    {
     "name": "stdout",
     "output_type": "stream",
     "text": [
      "Posts by shubh:\n",
      "Hello guys\n",
      "I love you\n",
      "Happy birthday dear\n",
      "Posts containing 'love':\n",
      "I love you\n"
     ]
    }
   ],
   "source": [
    "\"\"\"Problem 9: Social Media Profile Create a class representing a social media \n",
    "profile with attributes like username and posts. \n",
    "Implement methods to add posts, display posts, and search for posts by keyword.\"\"\"\n",
    "\n",
    "class SocialMediaProfile:\n",
    "    def __init__(self, username):\n",
    "        self.username = username\n",
    "        self.posts = []\n",
    "\n",
    "    def add_post(self, post):\n",
    "        self.posts.append(post)\n",
    "\n",
    "    def display_posts(self):\n",
    "        print(f\"Posts by {self.username}:\")\n",
    "        for post in self.posts:\n",
    "            print(post)\n",
    "\n",
    "    def search_posts(self, keyword):\n",
    "        print(f\"Posts containing '{keyword}':\")\n",
    "        for post in self.posts:\n",
    "            if keyword in post:\n",
    "                print(post)\n",
    "\n",
    "profile = SocialMediaProfile(\"shubh\")\n",
    "profile.add_post(\"Hello guys\")\n",
    "profile.add_post(\"I love you\")\n",
    "profile.add_post(\"Happy birthday dear\")\n",
    "profile.display_posts()\n",
    "profile.search_posts(\"love\")"
   ]
  },
  {
   "cell_type": "code",
   "execution_count": 13,
   "id": "5e95d58a",
   "metadata": {},
   "outputs": [
    {
     "name": "stdout",
     "output_type": "stream",
     "text": [
      "Pending tasks:\n",
      "study\n",
      "wash cloths\n",
      "Clean house\n",
      "Pending tasks:\n",
      "study\n",
      "Clean house\n"
     ]
    }
   ],
   "source": [
    "\"\"\"Problem 10: ToDo List Create a class representing a ToDo list with attributes like tasks and \n",
    "due dates.Implement methods to add tasks, mark tasks as completed, and display pending tasks.\"\"\"\n",
    "\n",
    "class ToDoList:\n",
    "    def __init__(self):\n",
    "        self.tasks = []\n",
    "        self.completed_tasks = []\n",
    "\n",
    "    def add_task(self, task):\n",
    "        self.tasks.append(task)\n",
    "\n",
    "    def mark_task_as_completed(self, task):\n",
    "        if task in self.tasks:\n",
    "            self.tasks.remove(task)\n",
    "            self.completed_tasks.append(task)\n",
    "\n",
    "    def display_pending_tasks(self):\n",
    "        print(\"Pending tasks:\")\n",
    "        for task in self.tasks:\n",
    "            print(task)\n",
    "            \n",
    "to_do_list = ToDoList()\n",
    "to_do_list.add_task(\"study\")\n",
    "to_do_list.add_task(\"wash cloths\")\n",
    "to_do_list.add_task(\"Clean house\")\n",
    "to_do_list.display_pending_tasks()\n",
    "to_do_list.mark_task_as_completed(\"wash cloths\")\n",
    "to_do_list.display_pending_tasks()\n"
   ]
  }
 ],
 "metadata": {
  "kernelspec": {
   "display_name": "Python 3",
   "language": "python",
   "name": "python3"
  },
  "language_info": {
   "codemirror_mode": {
    "name": "ipython",
    "version": 3
   },
   "file_extension": ".py",
   "mimetype": "text/x-python",
   "name": "python",
   "nbconvert_exporter": "python",
   "pygments_lexer": "ipython3",
   "version": "3.8.8"
  },
  "varInspector": {
   "cols": {
    "lenName": 16,
    "lenType": 16,
    "lenVar": 40
   },
   "kernels_config": {
    "python": {
     "delete_cmd_postfix": "",
     "delete_cmd_prefix": "del ",
     "library": "var_list.py",
     "varRefreshCmd": "print(var_dic_list())"
    },
    "r": {
     "delete_cmd_postfix": ") ",
     "delete_cmd_prefix": "rm(",
     "library": "var_list.r",
     "varRefreshCmd": "cat(var_dic_list()) "
    }
   },
   "types_to_exclude": [
    "module",
    "function",
    "builtin_function_or_method",
    "instance",
    "_Feature"
   ],
   "window_display": false
  }
 },
 "nbformat": 4,
 "nbformat_minor": 5
}
