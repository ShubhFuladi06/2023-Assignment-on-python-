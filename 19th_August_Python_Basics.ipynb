{
 "cells": [
  {
   "cell_type": "markdown",
   "id": "691ff76c",
   "metadata": {},
   "source": [
    "## TOPIC: Python Basics Variable"
   ]
  },
  {
   "cell_type": "code",
   "execution_count": 12,
   "id": "6fca22bc",
   "metadata": {},
   "outputs": [
    {
     "name": "stdout",
     "output_type": "stream",
     "text": [
      "x= 20 \n",
      " y= 20\n"
     ]
    }
   ],
   "source": [
    "\"\"\"1. Declare two variables, `x` and `y`, and assign them integer values. Swap the\n",
    "values of these variables without using any temporary variable.\"\"\"\n",
    "\n",
    "x = 10  \n",
    "y = 20    \n",
    "\n",
    "x = y\n",
    "y = x\n",
    "\n",
    "print(\"x=\",x,\"\\n\",\"y=\",y)"
   ]
  },
  {
   "cell_type": "code",
   "execution_count": 15,
   "id": "3e96e714",
   "metadata": {},
   "outputs": [
    {
     "name": "stdout",
     "output_type": "stream",
     "text": [
      "Enter lenght of rectangle\n",
      "5\n",
      "Enter width of rectangle\n",
      "6\n",
      "Area of rectangle is 30\n"
     ]
    }
   ],
   "source": [
    "\"\"\"2. Create a program that calculates the area of a rectangle. Take the length and\n",
    "width as inputs from the user and store them in variables. Calculate and\n",
    "display the area.\"\"\"\n",
    "\n",
    "l = int(input(\"Enter lenght of rectangle\\n\"))\n",
    "w = int(input(\"Enter width of rectangle\\n\"))\n",
    "\n",
    "result = l * w\n",
    "print(\"Area of rectangle is\",result)"
   ]
  },
  {
   "cell_type": "code",
   "execution_count": 16,
   "id": "aa761498",
   "metadata": {},
   "outputs": [
    {
     "name": "stdout",
     "output_type": "stream",
     "text": [
      "Enter the temperature in celcius35\n",
      "35 celsius is equal to 95.0 fahrenheit\n"
     ]
    }
   ],
   "source": [
    "\"\"\"3. Write a Python program that converts temperatures from Celsius to\n",
    "Fahrenheit. Take the temperature in Celsius as input, store it in a variable,\n",
    "convert it to Fahrenheit, and display the result.\"\"\"\n",
    "\n",
    "celsius = int(input(\"Enter the temperature in celcius\"))\n",
    "fahrenheit =  (1.8 * celsius)+32\n",
    "\n",
    "print(celsius,\"celsius is equal to\",fahrenheit,\"fahrenheit\")"
   ]
  },
  {
   "cell_type": "markdown",
   "id": "ad9a4202",
   "metadata": {},
   "source": [
    "## TOPIC: String Based Questions"
   ]
  },
  {
   "cell_type": "code",
   "execution_count": 18,
   "id": "5e0c28e2",
   "metadata": {},
   "outputs": [
    {
     "name": "stdout",
     "output_type": "stream",
     "text": [
      "Enter the sring\n",
      "shubh\n",
      "lenght of string is 5\n"
     ]
    }
   ],
   "source": [
    "\"\"\"1. Write a Python program that takes a string as input and prints the length of\n",
    "the string.\"\"\"\n",
    "\n",
    "s1 = input(\"Enter the sring\\n\")\n",
    "l1 = len(s1)\n",
    "\n",
    "print(\"lenght of string is\",l1)"
   ]
  },
  {
   "cell_type": "code",
   "execution_count": 44,
   "id": "645fb43c",
   "metadata": {},
   "outputs": [
    {
     "name": "stdout",
     "output_type": "stream",
     "text": [
      "Enter the sentence\n",
      "Hello How are you\n",
      "number of vowels in sentence = 7\n"
     ]
    }
   ],
   "source": [
    "\"\"\"2. Create a program that takes a sentence from the user and counts the number\n",
    "of vowels (a, e, i, o, u) in the string.\"\"\"\n",
    "\n",
    "s2 = input(\"Enter the sentence\\n\")\n",
    "s2_l = s2.lower()\n",
    "v = ['a','e','i','o','u']\n",
    "\n",
    "count = 0\n",
    "\n",
    "for i in s2_l:\n",
    "    if i in v:\n",
    "        count+=1\n",
    "\n",
    "print(\"number of vowels in sentence =\", count)"
   ]
  },
  {
   "cell_type": "code",
   "execution_count": 36,
   "id": "b75c9902",
   "metadata": {},
   "outputs": [
    {
     "name": "stdout",
     "output_type": "stream",
     "text": [
      "Enter a string\n",
      "Shubhendu\n",
      "reverse srting is \n",
      " udnehbuhS\n"
     ]
    }
   ],
   "source": [
    "\"\"\"3. Given a string, reverse the order of characters using string slicing and print\n",
    "the reversed string.\"\"\"\n",
    "\n",
    "s3 = input(\"Enter a string\\n\")\n",
    "s3_r = s3[::-1]\n",
    "\n",
    "print(\"reverse srting is \\n\",s3_r)"
   ]
  },
  {
   "cell_type": "code",
   "execution_count": 39,
   "id": "0c604cc6",
   "metadata": {},
   "outputs": [
    {
     "name": "stdout",
     "output_type": "stream",
     "text": [
      "Enter a string\n",
      "radar\n",
      "The string is palindrome\n"
     ]
    }
   ],
   "source": [
    "\"\"\"4. Write a program that takes a string as input and checks if it is a palindrome\n",
    "(reads the same forwards and backwards).\"\"\"\n",
    "\n",
    "s4 = input(\"Enter a string\\n\")\n",
    "s4_r = s4[::-1]\n",
    "\n",
    "if s4 == s4_r:\n",
    "    print(\"The string is palindrome\")\n",
    "else:\n",
    "    print(\"The string is not palindrome\")"
   ]
  },
  {
   "cell_type": "code",
   "execution_count": 43,
   "id": "f3593f7f",
   "metadata": {},
   "outputs": [
    {
     "name": "stdout",
     "output_type": "stream",
     "text": [
      "Enter a string-\n",
      "practice makes man perfect\n",
      "The modified string is-\n",
      " practicemakesmanperfect\n"
     ]
    }
   ],
   "source": [
    "\"\"\"5. Create a program that takes a string as input and removes all the spaces from\n",
    "it. Print the modified string without spaces.\"\"\"\n",
    "\n",
    "s5 = input(\"Enter a string-\\n\")\n",
    "s5_s = s5.replace(\" \",\"\")\n",
    "        \n",
    "print(\"The modified string is-\\n\",s5_s)"
   ]
  },
  {
   "cell_type": "code",
   "execution_count": null,
   "id": "2e66a283",
   "metadata": {},
   "outputs": [],
   "source": []
  }
 ],
 "metadata": {
  "kernelspec": {
   "display_name": "Python 3",
   "language": "python",
   "name": "python3"
  },
  "language_info": {
   "codemirror_mode": {
    "name": "ipython",
    "version": 3
   },
   "file_extension": ".py",
   "mimetype": "text/x-python",
   "name": "python",
   "nbconvert_exporter": "python",
   "pygments_lexer": "ipython3",
   "version": "3.8.8"
  },
  "varInspector": {
   "cols": {
    "lenName": 16,
    "lenType": 16,
    "lenVar": 40
   },
   "kernels_config": {
    "python": {
     "delete_cmd_postfix": "",
     "delete_cmd_prefix": "del ",
     "library": "var_list.py",
     "varRefreshCmd": "print(var_dic_list())"
    },
    "r": {
     "delete_cmd_postfix": ") ",
     "delete_cmd_prefix": "rm(",
     "library": "var_list.r",
     "varRefreshCmd": "cat(var_dic_list()) "
    }
   },
   "types_to_exclude": [
    "module",
    "function",
    "builtin_function_or_method",
    "instance",
    "_Feature"
   ],
   "window_display": false
  }
 },
 "nbformat": 4,
 "nbformat_minor": 5
}
