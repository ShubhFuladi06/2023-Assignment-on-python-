{
 "cells": [
  {
   "cell_type": "markdown",
   "id": "1dac55e0",
   "metadata": {},
   "source": [
    "## For Loop :-"
   ]
  },
  {
   "cell_type": "code",
   "execution_count": 2,
   "id": "c3cf8aaa",
   "metadata": {},
   "outputs": [
    {
     "name": "stdout",
     "output_type": "stream",
     "text": [
      "1\n",
      "2\n",
      "3\n",
      "4\n",
      "5\n",
      "6\n",
      "7\n",
      "8\n",
      "9\n",
      "10\n"
     ]
    }
   ],
   "source": [
    "\"\"\"1.Write a Python program to print numbers from 1 to 10 using a for loop.\"\"\"\n",
    "\n",
    "for i in range(1,11):\n",
    "    print(i)"
   ]
  },
  {
   "cell_type": "code",
   "execution_count": null,
   "id": "b4a04188",
   "metadata": {},
   "outputs": [],
   "source": [
    "\"\"\"2.Explain the difference between a for loop and a while loop in Python.\"\"\"\n",
    "\n",
    "# The syntax of 'while loop' is \n",
    "\n",
    "# #       while condition:\n",
    "# #              Set of statements\n",
    "\n",
    "# While loop is used when the number of iterations is \n",
    "# not known in advance or when we want to repeat a block\n",
    "# of code until a certain condition is met.\n",
    "\n",
    "# -----------------------------------------------------  \n",
    "\n",
    "# The syntax of 'for loop' is\n",
    "\n",
    "# #        for var in iterable:\n",
    "# #               Set of statements\n",
    "    \n",
    "# For loops are designed for iterating over a \n",
    "# sequence of items. Eg. list, tuple, etc."
   ]
  },
  {
   "cell_type": "code",
   "execution_count": 3,
   "id": "ce4310bf",
   "metadata": {},
   "outputs": [
    {
     "name": "stdout",
     "output_type": "stream",
     "text": [
      "5050\n"
     ]
    }
   ],
   "source": [
    "\"\"\"3.Write a Python program to calculate the sum of all numbers from 1 to 100 using a for loop.\"\"\"\n",
    "\n",
    "s=0\n",
    "for i in range(1,101):\n",
    "    s = s+i\n",
    "print(s)"
   ]
  },
  {
   "cell_type": "code",
   "execution_count": 6,
   "id": "3a2125ac",
   "metadata": {},
   "outputs": [
    {
     "name": "stdout",
     "output_type": "stream",
     "text": [
      "1\n",
      "2\n",
      "3\n",
      "4\n",
      "5\n",
      "6\n",
      "7\n",
      "8\n",
      "9\n"
     ]
    }
   ],
   "source": [
    "\"\"\"4.How do you iterate through a list using a for loop in Python?\"\"\"\n",
    "\n",
    "\"\"\"In this,the for loop iterates over each item in the my_list and\n",
    "the loop variable item takes on the value of each element in the list for\n",
    "each iteration. The print(item) statement inside the loop prints each item\n",
    "in the list\"\"\"\n",
    "\n",
    "lst = [1,2,3,4,5,6,7,8,9]\n",
    "for i in lst:\n",
    "    print(i)\n",
    "    \n"
   ]
  },
  {
   "cell_type": "code",
   "execution_count": 7,
   "id": "3685da42",
   "metadata": {},
   "outputs": [
    {
     "name": "stdout",
     "output_type": "stream",
     "text": [
      "Product of all elements in the list: 120\n"
     ]
    }
   ],
   "source": [
    "\"\"\"5.Write a Python program to find the product of all elements in a list using a for loop.\"\"\"\n",
    "\n",
    "lst = [1, 2, 3, 4, 5]\n",
    "product = 1\n",
    "\n",
    "for n in lst:\n",
    "    product *= n\n",
    "\n",
    "print(\"Product of all elements in the list:\", product)\n"
   ]
  },
  {
   "cell_type": "code",
   "execution_count": 8,
   "id": "dda31133",
   "metadata": {},
   "outputs": [
    {
     "name": "stdout",
     "output_type": "stream",
     "text": [
      "2\n",
      "4\n",
      "6\n",
      "8\n",
      "10\n",
      "12\n",
      "14\n",
      "16\n",
      "18\n",
      "20\n"
     ]
    }
   ],
   "source": [
    "\"\"\"6.Create a Python program that prints all even numbers from 1 to 20 using a for loop.\"\"\"\n",
    "\n",
    "for number in range(1, 21):\n",
    "    if number % 2 == 0:\n",
    "        print(number)\n"
   ]
  },
  {
   "cell_type": "code",
   "execution_count": 11,
   "id": "9d7415b2",
   "metadata": {},
   "outputs": [
    {
     "name": "stdout",
     "output_type": "stream",
     "text": [
      "Enter a number: 5\n",
      "The factorial of 5 is: 120\n"
     ]
    }
   ],
   "source": [
    "\"\"\"7.Write a Python program that calculates the factorial of a number using a for loop.\"\"\"\n",
    "\n",
    "def factorial(number):\n",
    "    if number < 0:\n",
    "        return \"Factorial is not defined for negative numbers\"\n",
    "    elif number == 0 or number == 1:\n",
    "        return 1\n",
    "    else:\n",
    "        fact = 1\n",
    "        for i in range(2, number + 1):\n",
    "            fact *= i\n",
    "        return fact\n",
    "\n",
    "number = int(input(\"Enter a number: \"))\n",
    "result = factorial(number)\n",
    "print(f\"The factorial of {number} is: {result}\")\n"
   ]
  },
  {
   "cell_type": "code",
   "execution_count": 13,
   "id": "9b1e8f2c",
   "metadata": {},
   "outputs": [
    {
     "name": "stdout",
     "output_type": "stream",
     "text": [
      "H\n",
      "e\n",
      "l\n",
      "l\n",
      "o\n",
      " \n",
      "I\n",
      "n\n",
      "d\n",
      "i\n",
      "a\n"
     ]
    }
   ],
   "source": [
    "\"\"\"8.How can you iterate through the characters of a string using a for loop in Python?\"\"\"\n",
    "\n",
    "string = \"Hello India\"\n",
    "for ch in string:\n",
    "    print(ch)\n",
    "    \n",
    "\"\"\"the for loop iterates through each character in the string variable.\n",
    "For each iteration, the ch variable takes on the value of the current character in the string,\n",
    "and the loop body is executed\"\"\""
   ]
  },
  {
   "cell_type": "code",
   "execution_count": 16,
   "id": "51019937",
   "metadata": {},
   "outputs": [
    {
     "name": "stdout",
     "output_type": "stream",
     "text": [
      "The largest number in the list is: 20\n"
     ]
    }
   ],
   "source": [
    "\"\"\"9.Write a Python program to find the largest number in a list using a for loop.\"\"\"\n",
    "\n",
    "num = [10, 5, 8, 20, 3, 15]\n",
    "larg_n = num[0]\n",
    "\n",
    "for n in num:\n",
    "    if n > larg_n:\n",
    "        larg_n = n\n",
    "\n",
    "print(\"The largest number in the list is:\", larg_n)\n"
   ]
  },
  {
   "cell_type": "code",
   "execution_count": 31,
   "id": "bc465a11",
   "metadata": {},
   "outputs": [
    {
     "name": "stdout",
     "output_type": "stream",
     "text": [
      "Enter the limit for the Fibonacci sequence: 5\n",
      "Fibonacci sequence up to 5 :\n",
      "0\n",
      "1\n",
      "1\n",
      "2\n",
      "3\n",
      "5\n"
     ]
    }
   ],
   "source": [
    "\"\"\"10.Create a Python program that prints the Fibonacci sequence up to a specified limit \n",
    "using a for loop.\"\"\"\n",
    "\n",
    "def fibonacci(limit):\n",
    "    fib_sequence = []\n",
    "    a, b = 0, 1\n",
    "    while a <= limit:\n",
    "        fib_sequence.append(a)\n",
    "        a, b = b, a + b\n",
    "    return fib_sequence\n",
    "\n",
    "limit = int(input(\"Enter the limit for the Fibonacci sequence: \"))\n",
    "fibonacci_sequence = fibonacci(limit)\n",
    "print(\"Fibonacci sequence up to\", limit, \":\")\n",
    "for number in fibonacci_sequence:\n",
    "    print(number)\n",
    "\n",
    " "
   ]
  },
  {
   "cell_type": "code",
   "execution_count": 32,
   "id": "36268d59",
   "metadata": {},
   "outputs": [
    {
     "name": "stdout",
     "output_type": "stream",
     "text": [
      "Enter a string: shubhendu\n",
      "Number of vowels in the given string: 3\n"
     ]
    }
   ],
   "source": [
    "\"\"\"11.Write a Python program to count the number of vowels in a given string using a for loop.\"\"\"\n",
    "\n",
    "def count_vowels(input_string):\n",
    "    vowels = \"aeiouAEIOU\"\n",
    "    count = 0\n",
    "    for char in input_string:\n",
    "        if char in vowels:\n",
    "            count += 1\n",
    "    return count\n",
    "\n",
    "input_string = input(\"Enter a string: \")\n",
    "num_vowels = count_vowels(input_string)\n",
    "print(\"Number of vowels in the given string:\", num_vowels)\n"
   ]
  },
  {
   "cell_type": "code",
   "execution_count": 33,
   "id": "f73f5dbb",
   "metadata": {},
   "outputs": [
    {
     "name": "stdout",
     "output_type": "stream",
     "text": [
      "Enter a number to generate its multiplication table: 12\n",
      "Multiplication table for 12:\n",
      "12 x 1 = 12\n",
      "12 x 2 = 24\n",
      "12 x 3 = 36\n",
      "12 x 4 = 48\n",
      "12 x 5 = 60\n",
      "12 x 6 = 72\n",
      "12 x 7 = 84\n",
      "12 x 8 = 96\n",
      "12 x 9 = 108\n",
      "12 x 10 = 120\n"
     ]
    }
   ],
   "source": [
    "\"\"\"12.Create a Python program that generates a multiplication table for a \n",
    "given number using a for loop.\"\"\"\n",
    "\n",
    "number = int(input(\"Enter a number to generate its multiplication table: \"))\n",
    "print(f\"Multiplication table for {number}:\")\n",
    "for i in range(1, 11):\n",
    "    result = number * i\n",
    "    print(f\"{number} x {i} = {result}\")"
   ]
  },
  {
   "cell_type": "code",
   "execution_count": 37,
   "id": "de13287e",
   "metadata": {},
   "outputs": [
    {
     "name": "stdout",
     "output_type": "stream",
     "text": [
      "Reversed list: [5, 4, 3, 2, 1]\n"
     ]
    }
   ],
   "source": [
    "\"\"\"13.Write a Python program to reverse a list using a for loop.\"\"\"\n",
    "\n",
    "def reverse_list(input_list):\n",
    "    reversed_list = []\n",
    "    for i in range(len(input_list) - 1, -1, -1):\n",
    "        reversed_list.append(input_list[i])\n",
    "    return reversed_list\n",
    "\n",
    "original_list = [1, 2, 3, 4, 5]\n",
    "reversed_list = reverse_list(original_list)\n",
    "print(\"Reversed list:\", reversed_list)\n"
   ]
  },
  {
   "cell_type": "code",
   "execution_count": 38,
   "id": "bde20e86",
   "metadata": {},
   "outputs": [
    {
     "name": "stdout",
     "output_type": "stream",
     "text": [
      "Common elements between the two lists: [3, 4, 5]\n"
     ]
    }
   ],
   "source": [
    "\"\"\"14.Write a Python program to find the common elements between two lists using a for loop.\"\"\"\n",
    "\n",
    "def find_common_elements(list1, list2):\n",
    "    common_elements = []\n",
    "    for ele in list1:\n",
    "        if ele in list2 and ele not in common_elements:\n",
    "            common_elements.append(ele)\n",
    "    return common_elements\n",
    "\n",
    "list1 = [1, 2, 3, 4, 5]\n",
    "list2 = [3, 4, 5, 6, 7]\n",
    "\n",
    "common_elements = find_common_elements(list1, list2)\n",
    "print(\"Common elements between the two lists:\", common_elements)\n"
   ]
  },
  {
   "cell_type": "code",
   "execution_count": 40,
   "id": "cdd44aca",
   "metadata": {},
   "outputs": [
    {
     "name": "stdout",
     "output_type": "stream",
     "text": [
      "Keys:\n",
      "name\n",
      "age\n",
      "city\n",
      "\n",
      "Keys and Values:\n",
      "name: Alice\n",
      "age: 30\n",
      "city: Wonderland\n"
     ]
    }
   ],
   "source": [
    "\"\"\"15.Explain how to use a for loop to iterate through the keys and values of a dictionary in Python.\"\"\"\n",
    "\n",
    "\"\"\"To iterate through the keys and values of a dictionary in Python using a `for` loop:\n",
    "Access the Dictionary you need a dictionary to iterate through.\n",
    "Dictionaries in Python consist of key-value pairs, where each key is unique.\n",
    "The `items()` method of a dictionary returns a object that displays a list of dictionary's \n",
    "key-value tuple pairs.You can use this method to obtain the keys and values simultaneously during iteration.\n",
    "Iterate Through the Dictionary Use a `for` loop to iterate through the dictionary. \n",
    "In each iteration, the loop will extract a key-value pair from the dictionary.\n",
    "Key Iteration: You can use the loop variable to access keys directly.\n",
    "Key-Value Iteration: If you use `items()`, the loop variable can be a tuple \n",
    "where the first element is the key, and the second element is the value.\"\"\"\n",
    "\n",
    "#example-\n",
    "dict1 = {\n",
    "    \"name\": \"Alice\",\n",
    "    \"age\": 30,\n",
    "    \"city\": \"Wonderland\"\n",
    "}\n",
    "\n",
    "print(\"Keys:\")\n",
    "for key in dict1:\n",
    "    print(key)\n",
    "\n",
    "print(\"\\nKeys and Values:\")\n",
    "for key, value in dict1.items():\n",
    "    print(f\"{key}: {value}\")\n",
    "\n"
   ]
  },
  {
   "cell_type": "code",
   "execution_count": 41,
   "id": "baa6fa5c",
   "metadata": {},
   "outputs": [
    {
     "name": "stdout",
     "output_type": "stream",
     "text": [
      "Enter the first number: 6\n",
      "Enter the second number: 9\n",
      "The Greatest Common Divisor (GCD) of 6 and 9 is: 3\n"
     ]
    }
   ],
   "source": [
    "\"\"\"16.Write a Python program to find the GCD (Greatest Common Divisor) \n",
    "of two numbers using a for loop.\"\"\"\n",
    "\n",
    "def calculate_gcd(a, b):\n",
    "    gcd = 1\n",
    "    for i in range(1, min(a, b) + 1):\n",
    "        if a % i == 0 and b % i == 0:\n",
    "            gcd = i\n",
    "    return gcd\n",
    "\n",
    "num1 = int(input(\"Enter the first number: \"))\n",
    "num2 = int(input(\"Enter the second number: \"))\n",
    "gcd_result = calculate_gcd(num1, num2)\n",
    "print(f\"The Greatest Common Divisor (GCD) of {num1} and {num2} is: {gcd_result}\")\n"
   ]
  },
  {
   "cell_type": "code",
   "execution_count": 42,
   "id": "134e71ec",
   "metadata": {},
   "outputs": [
    {
     "name": "stdout",
     "output_type": "stream",
     "text": [
      "Enter a string: shuhs\n",
      "The string is a palindrome.\n"
     ]
    }
   ],
   "source": [
    "\"\"\"17.Create a Python program that checks if a string is a palindrome using a for loop.\"\"\"\n",
    "\n",
    "def is_palindrome(input_string):\n",
    "    cleaned_string = input_string.replace(\" \", \"\").lower()\n",
    "    for i in range(len(cleaned_string) // 2):\n",
    "        if cleaned_string[i] != cleaned_string[len(cleaned_string) - i - 1]:\n",
    "            return False \n",
    "    return True \n",
    "\n",
    "\n",
    "user_input = input(\"Enter a string: \")\n",
    "if is_palindrome(user_input):\n",
    "    print(\"The string is a palindrome.\")\n",
    "else:\n",
    "    print(\"The string is not a palindrome.\")\n"
   ]
  },
  {
   "cell_type": "code",
   "execution_count": 43,
   "id": "1a43d794",
   "metadata": {},
   "outputs": [
    {
     "name": "stdout",
     "output_type": "stream",
     "text": [
      "Original List: [1, 2, 2, 3, 4, 4, 5]\n",
      "List after removing duplicates: [1, 2, 3, 4, 5]\n"
     ]
    }
   ],
   "source": [
    "\"\"\"18.Write a Python program to remove duplicates from a list using a for loop.\"\"\"\n",
    "\n",
    "def remove_duplicates(input_list):\n",
    "    unique_list = []  \n",
    "    for item in input_list:\n",
    "        if item not in unique_list:\n",
    "            unique_list.append(item)  \n",
    "    return unique_list\n",
    "\n",
    "input_list = [1, 2, 2, 3, 4, 4, 5]\n",
    "print(\"Original List:\", input_list)\n",
    "\n",
    "unique_list = remove_duplicates(input_list)\n",
    "print(\"List after removing duplicates:\", unique_list)\n"
   ]
  },
  {
   "cell_type": "code",
   "execution_count": 44,
   "id": "d14dab75",
   "metadata": {},
   "outputs": [
    {
     "name": "stdout",
     "output_type": "stream",
     "text": [
      "Enter a sentence: hello sir how are you\n",
      "Number of words in the sentence: 5\n"
     ]
    }
   ],
   "source": [
    "\"\"\"19.Create a Python program that counts the number of words in a sentence using a for loop.\"\"\"\n",
    "\n",
    "def count_words(sentence):\n",
    "    word_count = 0\n",
    "    words = sentence.split()\n",
    "    for word in words:\n",
    "        word_count += 1\n",
    "    return word_count\n",
    "\n",
    "sentence = input(\"Enter a sentence: \")\n",
    "\n",
    "number_of_words = count_words(sentence)\n",
    "print(\"Number of words in the sentence:\", number_of_words)\n"
   ]
  },
  {
   "cell_type": "code",
   "execution_count": 47,
   "id": "76bf5299",
   "metadata": {},
   "outputs": [
    {
     "name": "stdout",
     "output_type": "stream",
     "text": [
      "Sum of odd numbers from 1 to 50: 625\n"
     ]
    }
   ],
   "source": [
    "\"\"\"20.Write a Python program to find the sum of all odd numbers from 1 to 50 using a for loop.\"\"\"\n",
    "\n",
    "sum_numbers = 0\n",
    "\n",
    "for n in range(1, 51):\n",
    "    if n % 2 != 0:\n",
    "        sum_numbers += n  \n",
    "        \n",
    "print(\"Sum of odd numbers from 1 to 50:\", sum_numbers)\n"
   ]
  },
  {
   "cell_type": "code",
   "execution_count": 48,
   "id": "2f0f52ce",
   "metadata": {},
   "outputs": [
    {
     "name": "stdout",
     "output_type": "stream",
     "text": [
      "Enter a year: 2000\n",
      "2000 is not a leap year.\n"
     ]
    }
   ],
   "source": [
    "\"\"\"21.Write a Python program that checks if a given year is a leap year using a for loop.\"\"\"\n",
    "\n",
    "def is_leap_year(year):\n",
    "    if year % 4 == 0:\n",
    "        if year % 100 == 0:\n",
    "            if year % 400 == 0:\n",
    "                return True\n",
    "            else:\n",
    "                return False\n",
    "        return True\n",
    "    return False\n",
    "\n",
    "year = int(input(\"Enter a year: \"))\n",
    "if is_leap_year(year):\n",
    "    print(f\"{year} is a leap year.\")\n",
    "else:\n",
    "    print(f\"{year} is not a leap year.\")\n",
    "\n",
    "\n",
    "\n"
   ]
  },
  {
   "cell_type": "code",
   "execution_count": 52,
   "id": "472feabd",
   "metadata": {},
   "outputs": [
    {
     "name": "stdout",
     "output_type": "stream",
     "text": [
      "Enter a number: 25\n",
      "The square root of 25.0 is approximately 5.000000\n"
     ]
    }
   ],
   "source": [
    "\"\"\"22.Create a Python program that calculates the square root of a number using a for loop.\"\"\"\n",
    "\n",
    "def square_root(number):\n",
    "    guess = number / 2.0\n",
    "    iterations = 1000\n",
    "    for _ in range(iterations):\n",
    "        guess = (guess + number / guess) / 2.0\n",
    "    \n",
    "    return guess\n",
    "\n",
    "number = float(input(\"Enter a number: \"))\n",
    "if number >= 0:\n",
    "    sqrt = square_root(number)\n",
    "    print(f\"The square root of {number} is approximately {sqrt:.6f}\")\n",
    "else:\n",
    "    print(\"Invalid input. Please enter a non-negative number.\")\n"
   ]
  },
  {
   "cell_type": "code",
   "execution_count": 54,
   "id": "cc45452d",
   "metadata": {},
   "outputs": [
    {
     "name": "stdout",
     "output_type": "stream",
     "text": [
      "LCM of 20 and 25 is: 100.0\n"
     ]
    }
   ],
   "source": [
    "\"\"\"23.Write a Python program to find the LCM (Least Common Multiple) of two numbers using a for loop.\"\"\"\n",
    "\n",
    "\n",
    "x = 20\n",
    "y = 25\n",
    "if x > y:\n",
    "    x, y = y, x\n",
    "for i in range(1,x+1):\n",
    "    if x%i == 0 and y%i == 0:\n",
    "        gcd = i\n",
    "\n",
    "lcm = (x*y)/gcd\n",
    "print(\"LCM of\", x, \"and\", y, \"is:\", lcm)\n"
   ]
  },
  {
   "cell_type": "markdown",
   "id": "2ea7df34",
   "metadata": {},
   "source": [
    "## If else :"
   ]
  },
  {
   "cell_type": "code",
   "execution_count": 57,
   "id": "d1e272b0",
   "metadata": {},
   "outputs": [
    {
     "name": "stdout",
     "output_type": "stream",
     "text": [
      "Enter a number: 25\n",
      "The number is positive.\n"
     ]
    }
   ],
   "source": [
    "\"\"\"1.Write a Python program to check if a number is positive, negative, or zero using an if-else statemen\"\"\"\n",
    "\n",
    "number = float(input(\"Enter a number: \"))\n",
    "if number > 0:\n",
    "    print(\"The number is positive.\")\n",
    "elif number < 0:\n",
    "    print(\"The number is negative.\")\n",
    "else:\n",
    "    print(\"The number is zero.\")"
   ]
  },
  {
   "cell_type": "code",
   "execution_count": 58,
   "id": "0232edaa",
   "metadata": {},
   "outputs": [
    {
     "name": "stdout",
     "output_type": "stream",
     "text": [
      "Enter a number: 25\n",
      "25 is an odd number.\n"
     ]
    }
   ],
   "source": [
    "\"\"\"2.Create a Python program that checks if a given number is even or odd using an if-else statement.\"\"\"\n",
    "\n",
    "number = int(input(\"Enter a number: \"))\n",
    "if number % 2 == 0:\n",
    "    print(f\"{number} is an even number.\")\n",
    "else:\n",
    "    print(f\"{number} is an odd number.\")\n"
   ]
  },
  {
   "cell_type": "code",
   "execution_count": 60,
   "id": "0ae8fe47",
   "metadata": {},
   "outputs": [
    {
     "name": "stdout",
     "output_type": "stream",
     "text": [
      "Enter the student's score: 89\n",
      "The student's grade is B+\n"
     ]
    }
   ],
   "source": [
    "\"\"\"3.How can you use nested if-else statements in Python, and provide an example?\"\"\"\n",
    "\n",
    "score = int(input(\"Enter the student's score: \"))\n",
    "if score >= 90:\n",
    "    grade = 'A'\n",
    "    if score >= 95:\n",
    "        grade += '+'\n",
    "elif score >= 80:\n",
    "    grade = 'B'\n",
    "    if score >= 85:\n",
    "        grade += '+'\n",
    "else:\n",
    "    grade = 'F'\n",
    "\n",
    "print(f\"The student's grade is {grade}\")\n"
   ]
  },
  {
   "cell_type": "code",
   "execution_count": 61,
   "id": "c130bd1d",
   "metadata": {},
   "outputs": [
    {
     "name": "stdout",
     "output_type": "stream",
     "text": [
      "Enter the first number: 25\n",
      "Enter the second number: 23\n",
      "Enter the third number: 51\n",
      "The largest number is: 51.0\n"
     ]
    }
   ],
   "source": [
    "\"\"\"4.Write a Python program to determine the largest of three numbers using if-else.\"\"\"\n",
    "\n",
    "num1 = float(input(\"Enter the first number: \"))\n",
    "num2 = float(input(\"Enter the second number: \"))\n",
    "num3 = float(input(\"Enter the third number: \"))\n",
    "\n",
    "if num1 >= num2 and num1 >= num3:\n",
    "    largest = num1\n",
    "elif num2 >= num1 and num2 >= num3:\n",
    "    largest = num2\n",
    "else:\n",
    "    largest = num3\n",
    "\n",
    "print(f\"The largest number is: {largest}\")\n"
   ]
  },
  {
   "cell_type": "code",
   "execution_count": 62,
   "id": "2ee6c45f",
   "metadata": {},
   "outputs": [
    {
     "name": "stdout",
     "output_type": "stream",
     "text": [
      "Enter a number: -25\n",
      "The absolute value of -25.0 is: 25.0\n"
     ]
    }
   ],
   "source": [
    "\"\"\"5.Write a Python program that calculates the absolute value of a number using if-else.\"\"\"\n",
    "\n",
    "number = float(input(\"Enter a number: \"))\n",
    "\n",
    "if number >= 0:\n",
    "    absolute_value = number\n",
    "else:\n",
    "    absolute_value = -number\n",
    "\n",
    "print(f\"The absolute value of {number} is: {absolute_value}\")\n"
   ]
  },
  {
   "cell_type": "code",
   "execution_count": 64,
   "id": "ce186831",
   "metadata": {},
   "outputs": [
    {
     "name": "stdout",
     "output_type": "stream",
     "text": [
      "Enter a character: u\n",
      "The character is a vowel.\n"
     ]
    }
   ],
   "source": [
    "\"\"\"6.Create a Python program that checks if a given character is a vowel or consonant using if-else.\"\"\"\n",
    "\n",
    "character = input(\"Enter a character: \")\n",
    "\n",
    "if len(character) == 1:\n",
    "    character = character.lower()\n",
    "    if character in \"aeiou\":\n",
    "        print(\"The character is a vowel.\")\n",
    "    else:\n",
    "        print(\"The character is a consonant.\")\n",
    "else:\n",
    "    print(\"Invalid input. Please enter a single character.\")\n"
   ]
  },
  {
   "cell_type": "code",
   "execution_count": 65,
   "id": "a1c62547",
   "metadata": {},
   "outputs": [
    {
     "name": "stdout",
     "output_type": "stream",
     "text": [
      "Enter your age: 19\n",
      "You are eligible to vote.\n"
     ]
    }
   ],
   "source": [
    "\"\"\"7.Write a Python program to determine if a user is eligible to vote based on their age using if-else.\"\"\"\n",
    "\n",
    "age = int(input(\"Enter your age: \"))\n",
    "if age >= 18:\n",
    "    print(\"You are eligible to vote.\")\n",
    "else:\n",
    "    print(\"You are not eligible to vote.\")\n"
   ]
  },
  {
   "cell_type": "code",
   "execution_count": 67,
   "id": "3b1d4e42",
   "metadata": {},
   "outputs": [
    {
     "name": "stdout",
     "output_type": "stream",
     "text": [
      "Enter the purchase amount: Rs50\n",
      "Discount Amount: Rs 2.50\n",
      "Final Amount after Discount: Rs 47.50\n"
     ]
    }
   ],
   "source": [
    "\"\"\"8.Create a Python program that calculates the discount amount based on the purchase amount using if-else.\"\"\"\n",
    "\n",
    "purchase_amount = float(input(\"Enter the purchase amount: Rs\"))\n",
    "\n",
    "if purchase_amount >= 100:\n",
    "    discount_percentage = 10  \n",
    "elif purchase_amount >= 50:\n",
    "    discount_percentage = 5   \n",
    "else:\n",
    "    discount_percentage = 0 \n",
    "\n",
    "discount_amount = (discount_percentage / 100) * purchase_amount\n",
    "final_amount = purchase_amount - discount_amount\n",
    "\n",
    "print(f\"Discount Amount: Rs {discount_amount:.2f}\")\n",
    "print(f\"Final Amount after Discount: Rs {final_amount:.2f}\")\n"
   ]
  },
  {
   "cell_type": "code",
   "execution_count": 68,
   "id": "f665bdde",
   "metadata": {},
   "outputs": [
    {
     "name": "stdout",
     "output_type": "stream",
     "text": [
      "Enter a number: 45\n",
      "The number 45.0 is within the range [10, 50].\n"
     ]
    }
   ],
   "source": [
    "\"\"\"9.Write a Python program to check if a number is within a specified range using if-else.\"\"\"\n",
    "\n",
    "lower = 10\n",
    "upper = 50\n",
    "number = float(input(\"Enter a number: \"))\n",
    "if number >= lower and number <= upper:\n",
    "    print(f\"The number {number} is within the range [{lower}, {upper}].\")\n",
    "else:\n",
    "    print(f\"The number {number} is outside the range [{lower}, {upper}].\")\n"
   ]
  },
  {
   "cell_type": "code",
   "execution_count": 69,
   "id": "c540ad76",
   "metadata": {},
   "outputs": [
    {
     "name": "stdout",
     "output_type": "stream",
     "text": [
      "Enter the student's score: 76\n",
      "The student's grade is: C\n"
     ]
    }
   ],
   "source": [
    "\"\"\"10.Create a Python program that determines the grade of a student based on their score using if-else.\"\"\"\n",
    "\n",
    "score = int(input(\"Enter the student's score: \"))\n",
    "\n",
    "if score >= 90:\n",
    "    grade = 'A'\n",
    "elif score >= 80:\n",
    "    grade = 'B'\n",
    "elif score >= 70:\n",
    "    grade = 'C'\n",
    "elif score >= 60:\n",
    "    grade = 'D'\n",
    "else:\n",
    "    grade = 'F'\n",
    "\n",
    "print(f\"The student's grade is: {grade}\")\n"
   ]
  },
  {
   "cell_type": "code",
   "execution_count": 70,
   "id": "78acb026",
   "metadata": {},
   "outputs": [
    {
     "name": "stdout",
     "output_type": "stream",
     "text": [
      "Enter a string: \n",
      "The string is empty.\n"
     ]
    }
   ],
   "source": [
    "\"\"\"11.Write a Python program to check if a string is empty or not using if-else.\"\"\"\n",
    "\n",
    "input_string = input(\"Enter a string: \")\n",
    "\n",
    "if len(input_string) == 0:\n",
    "    print(\"The string is empty.\")\n",
    "else:\n",
    "    print(\"The string is not empty.\")\n"
   ]
  },
  {
   "cell_type": "code",
   "execution_count": 71,
   "id": "c8c70bca",
   "metadata": {},
   "outputs": [
    {
     "name": "stdout",
     "output_type": "stream",
     "text": [
      "Enter the length of the first side: 45\n",
      "Enter the length of the second side: 45\n",
      "Enter the length of the third side: 56\n",
      "The triangle is a Isosceles triangle.\n"
     ]
    }
   ],
   "source": [
    "\"\"\"12.Create a Python program that identifies the type of a triangle (e.g., equilateral, isosceles, or scalene) based on input values using if-else.\"\"\"\n",
    "\n",
    "side1 = float(input(\"Enter the length of the first side: \"))\n",
    "side2 = float(input(\"Enter the length of the second side: \"))\n",
    "side3 = float(input(\"Enter the length of the third side: \"))\n",
    "\n",
    "if side1 == side2 and side2 == side3:\n",
    "    triangle_type = \"Equilateral\"\n",
    "elif side1 == side2 or side1 == side3 or side2 == side3:\n",
    "    triangle_type = \"Isosceles\"\n",
    "else:\n",
    "    triangle_type = \"Scalene\"\n",
    "print(f\"The triangle is a {triangle_type} triangle.\")\n"
   ]
  },
  {
   "cell_type": "code",
   "execution_count": 72,
   "id": "22df1a84",
   "metadata": {},
   "outputs": [
    {
     "name": "stdout",
     "output_type": "stream",
     "text": [
      "Enter a number (1 for Sunday, 2 for Monday): 5\n",
      "The day corresponding to the number 5 is Thursday.\n"
     ]
    }
   ],
   "source": [
    "\"\"\"13.Write a Python program to determine the day of the week based on a user-provided number using if-else.\"\"\"\n",
    "\n",
    "day_number = int(input(\"Enter a number (1 for Sunday, 2 for Monday): \"))\n",
    "\n",
    "if day_number == 1:\n",
    "    day_name = \"Sunday\"\n",
    "elif day_number == 2:\n",
    "    day_name = \"Monday\"\n",
    "elif day_number == 3:\n",
    "    day_name = \"Tuesday\"\n",
    "elif day_number == 4:\n",
    "    day_name = \"Wednesday\"\n",
    "elif day_number == 5:\n",
    "    day_name = \"Thursday\"\n",
    "elif day_number == 6:\n",
    "    day_name = \"Friday\"\n",
    "elif day_number == 7:\n",
    "    day_name = \"Saturday\"\n",
    "else:\n",
    "    day_name = \"Invalid\"\n",
    "\n",
    "if day_name != \"Invalid\":\n",
    "    print(f\"The day corresponding to the number {day_number} is {day_name}.\")\n",
    "else:\n",
    "    print(\"Invalid input. Please enter a number between 1 and 7.\")\n"
   ]
  },
  {
   "cell_type": "code",
   "execution_count": 73,
   "id": "a2bc6b48",
   "metadata": {},
   "outputs": [
    {
     "name": "stdout",
     "output_type": "stream",
     "text": [
      "Enter a year: 1994\n",
      "1994 is not a leap year.\n"
     ]
    }
   ],
   "source": [
    "\"\"\"14.Create a Python program that checks if a given year is a leap year using both if-else and a function.\"\"\"\n",
    "\n",
    "def is_leap_year(year):\n",
    "    if year % 4 == 0:\n",
    "        if year % 100 == 0:\n",
    "            if year % 400 == 0:\n",
    "                return True\n",
    "            else:\n",
    "                return False\n",
    "        else:\n",
    "            return True\n",
    "    else:\n",
    "        return False\n",
    "\n",
    "year = int(input(\"Enter a year: \"))\n",
    "if is_leap_year(year):\n",
    "    print(f\"{year} is a leap year.\")\n",
    "else:\n",
    "    print(f\"{year} is not a leap year.\")\n"
   ]
  },
  {
   "cell_type": "code",
   "execution_count": 74,
   "id": "a6cc61af",
   "metadata": {},
   "outputs": [
    {
     "name": "stdout",
     "output_type": "stream",
     "text": [
      "Enter your age: 40\n",
      "Sorry, you are not eligible for a senior citizen discount.\n"
     ]
    }
   ],
   "source": [
    "\"\"\"16.Create a Python program that determines the eligibility of a person for a senior citizen discount based on age using if-else.\"\"\"\n",
    "\n",
    "age = int(input(\"Enter your age: \"))\n",
    "if age >= 60:\n",
    "    print(\"Congratulations! You are eligible for a senior citizen discount.\")\n",
    "else:\n",
    "    print(\"Sorry, you are not eligible for a senior citizen discount.\")\n",
    "\n"
   ]
  },
  {
   "cell_type": "code",
   "execution_count": 75,
   "id": "9de1917b",
   "metadata": {},
   "outputs": [
    {
     "name": "stdout",
     "output_type": "stream",
     "text": [
      "Enter a character: k\n",
      "The character is lowercase.\n"
     ]
    }
   ],
   "source": [
    "\"\"\"17.Write a Python program to categorize a given character as uppercase, lowercase, or neither using if-else.\"\"\"\n",
    "\n",
    "character = input(\"Enter a character: \")\n",
    "if character.isupper():\n",
    "    print(\"The character is uppercase.\")\n",
    "elif character.islower():\n",
    "    print(\"The character is lowercase.\")\n",
    "else:\n",
    "    print(\"The character is neither uppercase nor lowercase.\")\n"
   ]
  },
  {
   "cell_type": "code",
   "execution_count": 76,
   "id": "77304251",
   "metadata": {},
   "outputs": [
    {
     "name": "stdout",
     "output_type": "stream",
     "text": [
      "Enter coefficient a: 8.9\n",
      "Enter coefficient b: 12\n",
      "Enter coefficient c: 15\n",
      "The roots of the quadratic equation are complex: -0.6741573033707865 + 1.1094616661871628i and -0.6741573033707865 - 1.1094616661871628i\n"
     ]
    }
   ],
   "source": [
    "\"\"\"18.Write a Python program to determine the roots of a quadratic equation using if-else.\"\"\"\n",
    "\n",
    "import math\n",
    "a = float(input(\"Enter coefficient a: \"))\n",
    "b = float(input(\"Enter coefficient b: \"))\n",
    "c = float(input(\"Enter coefficient c: \"))\n",
    "\n",
    "discriminant = b**2 - 4*a*c\n",
    "if discriminant > 0:\n",
    "    root1 = (-b + math.sqrt(discriminant)) / (2*a)\n",
    "    root2 = (-b - math.sqrt(discriminant)) / (2*a)\n",
    "    print(f\"The roots of the quadratic equation are real and distinct: {root1} and {root2}\")\n",
    "elif discriminant == 0:\n",
    "    root = -b / (2*a)\n",
    "    print(f\"The root of the quadratic equation is real and equal: {root}\")\n",
    "else:\n",
    "    real_part = -b / (2*a)\n",
    "    imaginary_part = math.sqrt(abs(discriminant)) / (2*a)\n",
    "    print(f\"The roots of the quadratic equation are complex: {real_part} + {imaginary_part}i and {real_part} - {imaginary_part}i\")\n"
   ]
  },
  {
   "cell_type": "code",
   "execution_count": 77,
   "id": "19e59616",
   "metadata": {},
   "outputs": [
    {
     "name": "stdout",
     "output_type": "stream",
     "text": [
      "Enter a year: 1994\n",
      "1994 is not a century year.\n"
     ]
    }
   ],
   "source": [
    "\"\"\"19.Create a Python program that checks if a given year is a century year or not using if-else.\"\"\"\n",
    "\n",
    "year = int(input(\"Enter a year: \"))\n",
    "if year % 100 == 0:\n",
    "    if year % 400 == 0:\n",
    "        print(f\"{year} is a century year.\")\n",
    "    else:\n",
    "        print(f\"{year} is not a century year.\")\n",
    "else:\n",
    "    print(f\"{year} is not a century year.\")\n"
   ]
  },
  {
   "cell_type": "code",
   "execution_count": 78,
   "id": "fdc1f834",
   "metadata": {},
   "outputs": [
    {
     "name": "stdout",
     "output_type": "stream",
     "text": [
      "Enter a number: 15\n",
      "15 is not a perfect square.\n"
     ]
    }
   ],
   "source": [
    "\"\"\"20.Write a Python program to determine if a given number is a perfect square using if-else.\"\"\"\n",
    "\n",
    "number = int(input(\"Enter a number: \"))\n",
    "if number >= 0:\n",
    "    square_root = int(number ** 0.5)\n",
    "    if square_root * square_root == number:\n",
    "        print(f\"{number} is a perfect square.\")\n",
    "    else:\n",
    "        print(f\"{number} is not a perfect square.\")\n",
    "else:\n",
    "    print(\"Invalid input. Please enter a non-negative number.\")\n"
   ]
  },
  {
   "cell_type": "code",
   "execution_count": 79,
   "id": "8874fd45",
   "metadata": {},
   "outputs": [
    {
     "data": {
      "text/plain": [
       "\"1. continue` statement:\\nWhen encountered within a loop, the `continue` statement skips the rest of the code inside \\nthe loop for the current iteration.In the context of an `if-else` loop,\\n`continue` will cause the program to jump to the next iteration of the loop without \\nexecuting the code below the `continue` statement inside that specific iteration.\\nThis is useful when \\nthere are certain conditions under which you want to skip the remaining code in the loop \\nand move on to the next iteration.\\n2. `break` statement:\\nWhen encountered within a loop, the `break` statement terminates the loop prematurely, \\nregardless of the loop's exit condition. \\nIn the context of an `if-else` loop, `break` will cause the program to exit the loop entirely, \\nignoring any remaining iterations.\\nThis is useful when you want to stop the loop from executing further,\\nbased on a particular condition. Once `break` is encountered, \\nthe program control moves to the statement immediately following the loop.\""
      ]
     },
     "execution_count": 79,
     "metadata": {},
     "output_type": "execute_result"
    }
   ],
   "source": [
    "\"\"\"21.Explain the purpose of the \"continue\" and \"break\" statements within if-else loops.\"\"\"\n",
    "\n",
    "\"\"\"1. continue` statement:\n",
    "When encountered within a loop, the `continue` statement skips the rest of the code inside \n",
    "the loop for the current iteration.In the context of an `if-else` loop,\n",
    "`continue` will cause the program to jump to the next iteration of the loop without \n",
    "executing the code below the `continue` statement inside that specific iteration.\n",
    "This is useful when \n",
    "there are certain conditions under which you want to skip the remaining code in the loop \n",
    "and move on to the next iteration.\n",
    "2. `break` statement:\n",
    "When encountered within a loop, the `break` statement terminates the loop prematurely, \n",
    "regardless of the loop's exit condition. \n",
    "In the context of an `if-else` loop, `break` will cause the program to exit the loop entirely, \n",
    "ignoring any remaining iterations.\n",
    "This is useful when you want to stop the loop from executing further,\n",
    "based on a particular condition. Once `break` is encountered, \n",
    "the program control moves to the statement immediately following the loop.\"\"\""
   ]
  },
  {
   "cell_type": "code",
   "execution_count": 83,
   "id": "2e5f93dc",
   "metadata": {},
   "outputs": [
    {
     "name": "stdout",
     "output_type": "stream",
     "text": [
      "Enter your weight in kilograms: 72\n",
      "Enter your height in meters: 1.8\n",
      "Your BMI is 22.22\n",
      "You are categorized as: Normal Weight\n"
     ]
    }
   ],
   "source": [
    "\"\"\"22.Create a Python program that calculates the BMI (Body Mass Index) of a person based on their weight and height using if-else.\"\"\"\n",
    "\n",
    "weight = float(input(\"Enter your weight in kilograms: \"))\n",
    "height = float(input(\"Enter your height in meters: \"))\n",
    "bmi = weight / (height ** 2)\n",
    "\n",
    "if bmi < 18.5:\n",
    "    category = \"Underweight\"\n",
    "elif 18.5 <= bmi < 24.9:\n",
    "    category = \"Normal Weight\"\n",
    "elif 25 <= bmi < 29.9:\n",
    "    category = \"Overweight\"\n",
    "else:\n",
    "    category = \"Obese\"\n",
    "\n",
    "print(f\"Your BMI is {bmi:.2f}\")\n",
    "print(f\"You are categorized as: {category}\")"
   ]
  },
  {
   "cell_type": "code",
   "execution_count": 86,
   "id": "31f99ef8",
   "metadata": {},
   "outputs": [
    {
     "name": "stdout",
     "output_type": "stream",
     "text": [
      "Even numbers: [2, 4, 6, 8, 10]\n"
     ]
    }
   ],
   "source": [
    "\"\"\"23.How can you use the \"filter()\" function with if-else statements to filter elements from a list?\"\"\"\n",
    "\n",
    "\"\"\"This is the example of filter function\"\"\"\n",
    "numbers = [1, 2, 3, 4, 5, 6, 7, 8, 9, 10]\n",
    "def filter_even(number):\n",
    "    if number % 2 == 0:\n",
    "        return True  \n",
    "    else:\n",
    "        return False  \n",
    "even_numbers = list(filter(filter_even, numbers))\n",
    "print(\"Even numbers:\", even_numbers)\n"
   ]
  },
  {
   "cell_type": "code",
   "execution_count": 87,
   "id": "de7d81df",
   "metadata": {},
   "outputs": [
    {
     "name": "stdout",
     "output_type": "stream",
     "text": [
      "Enter a number: 26\n",
      "26 is not a prime number.\n"
     ]
    }
   ],
   "source": [
    "\"\"\"24.Write a Python program to determine if a given number is prime or not using if-else.\"\"\"\n",
    "\n",
    "def is_prime(number):\n",
    "    if number <= 1:\n",
    "        return False  \n",
    "    elif number == 2:\n",
    "        return True   \n",
    "    else:      \n",
    "        for i in range(2, int(number**0.5) + 1):\n",
    "            if number % i == 0:\n",
    "                return False  \n",
    "        return True  \n",
    "number = int(input(\"Enter a number: \"))\n",
    "if is_prime(number):\n",
    "    print(number, \"is a prime number.\")\n",
    "else:\n",
    "    print(number, \"is not a prime number.\")\n"
   ]
  },
  {
   "cell_type": "markdown",
   "id": "b51bb4b4",
   "metadata": {},
   "source": [
    "## Map :-"
   ]
  },
  {
   "cell_type": "code",
   "execution_count": 90,
   "id": "eeebbb32",
   "metadata": {},
   "outputs": [
    {
     "data": {
      "text/plain": [
       "'The map() function in Python is a built-in function used to apply a specified function to each item in an input iterable \\n(such as a list, tuple, or set)\\nand returns a new iterable containing the results.\\nIt takes two arguments: the first argument is the function to apply, \\nand the second argument is the iterable you want to process. \\nThe map() function is useful when you want to transform the elements of an iterable without using explicit loops.\\nmap(function, iterable)'"
      ]
     },
     "execution_count": 90,
     "metadata": {},
     "output_type": "execute_result"
    }
   ],
   "source": [
    "\"\"\"1.Explain the purpose of the `map()` function in Python and provide an example of how it can be used to apply a function to each element of an iterable.\"\"\"\n",
    "\n",
    "\"\"\"The map() function in Python is a built-in function used to apply a specified function to each item in an input iterable \n",
    "(such as a list, tuple, or set)\n",
    "and returns a new iterable containing the results.\n",
    "It takes two arguments: the first argument is the function to apply, \n",
    "and the second argument is the iterable you want to process. \n",
    "The map() function is useful when you want to transform the elements of an iterable without using explicit loops.\n",
    "map(function, iterable)\"\"\"\n",
    "\n"
   ]
  },
  {
   "cell_type": "code",
   "execution_count": 95,
   "id": "31e008aa",
   "metadata": {},
   "outputs": [
    {
     "name": "stdout",
     "output_type": "stream",
     "text": [
      "square of all number in lst is  [1, 4, 9, 16, 25]\n"
     ]
    }
   ],
   "source": [
    "\"\"\"2.Write a Python program that uses the `map()` function to square each element of a list of numbers.\"\"\"\n",
    "\n",
    "lst = [1,2,3,4,5]\n",
    "\n",
    "def square(n):\n",
    "    return n*n\n",
    "\n",
    "sqrlst = list(map(square,lst))\n",
    "print(\"square of all number in lst is \",sqrlst)"
   ]
  },
  {
   "cell_type": "code",
   "execution_count": 96,
   "id": "86aacf1d",
   "metadata": {},
   "outputs": [
    {
     "data": {
      "text/plain": [
       "\"List comprehension offers a more concise and readable syntax compared to map. It provides the ability to filter elements, \\na feature not available in map. \\nFor instance, to print all even numbers within a range of 100, \\na list comprehension like `[n for n in range(100) if n%2 == 0]` is intuitive and cannot be replicated using map alone.\\n\\nList comprehensions are ideal when a list of results is needed since map returns a map object and not a list.\\n Additionally, list comprehensions tend to outperform map when dealing with lengthy or complex expressions that are difficult to express within the constraints of map.\\n\\nOn the other hand, map excels when calling a pre-defined function, \\nas it doesn't require the use of lambda expressions, leading to faster execution in such cases.\""
      ]
     },
     "execution_count": 96,
     "metadata": {},
     "output_type": "execute_result"
    }
   ],
   "source": [
    "\"\"\"3.How does the `map()` function differ from a list comprehension in Python, and when would you choose one over the other?\"\"\"\n",
    "\n",
    "\"\"\"List comprehension offers a more concise and readable syntax compared to map. It provides the ability to filter elements, \n",
    "a feature not available in map. \n",
    "For instance, to print all even numbers within a range of 100, \n",
    "a list comprehension like `[n for n in range(100) if n%2 == 0]` is intuitive and cannot be replicated using map alone.\n",
    "\n",
    "List comprehensions are ideal when a list of results is needed since map returns a map object and not a list.\n",
    " Additionally, list comprehensions tend to outperform map when dealing with lengthy or complex expressions that are difficult to express within the constraints of map.\n",
    "\n",
    "On the other hand, map excels when calling a pre-defined function, \n",
    "as it doesn't require the use of lambda expressions, leading to faster execution in such cases.\"\"\""
   ]
  },
  {
   "cell_type": "code",
   "execution_count": 98,
   "id": "85c79121",
   "metadata": {},
   "outputs": [
    {
     "data": {
      "text/plain": [
       "['SHUBH', 'SUDH', 'INDIA', 'RAM', 'SEETA']"
      ]
     },
     "execution_count": 98,
     "metadata": {},
     "output_type": "execute_result"
    }
   ],
   "source": [
    "\"\"\"4.Create a Python program that uses the `map()` function to convert a list of names to uppercase.\"\"\"\n",
    "\n",
    "lst = ['shubh','sudh','india','ram','seeta']\n",
    "def uppercase(name):\n",
    "    return name.upper()\n",
    "\n",
    "list(map(uppercase,lst))"
   ]
  },
  {
   "cell_type": "code",
   "execution_count": 99,
   "id": "7e78bf89",
   "metadata": {},
   "outputs": [
    {
     "name": "stdout",
     "output_type": "stream",
     "text": [
      "lenght of all word in list  [5, 4, 5, 3, 5]\n"
     ]
    }
   ],
   "source": [
    "\"\"\"5.Write a Python program that uses the `map()` function to calculate the length of each word in a list of strings.\"\"\"\n",
    "\n",
    "lst = ['shubh','sudh','india','ram','seeta']\n",
    "def wordlen(word):\n",
    "    return len(word)\n",
    "\n",
    "lstlength = list(map(wordlen,lst))\n",
    "print(\"lenght of all word in list \",lstlength)\n"
   ]
  },
  {
   "cell_type": "code",
   "execution_count": 100,
   "id": "a35cfa39",
   "metadata": {},
   "outputs": [
    {
     "name": "stdout",
     "output_type": "stream",
     "text": [
      "Result of custom function applied to elements of list1 and list2: [6, 8, 10, 12]\n"
     ]
    }
   ],
   "source": [
    "\"\"\"6.How can you use the `map()` function to apply a custom function to elements of multiple lists simultaneously in Python?\"\"\"\n",
    "\n",
    "\"\"\"In Python, the `map()` function enables you to apply a user-defined function to elements from multiple lists simultaneously. \n",
    "This can be done by providing the lists as arguments along with the custom function. \n",
    "For example, suppose you have two lists, `list1` and `list2`, and you wish to apply a custom function, `custom_function()`, to elements from both lists concurrently. \n",
    "The `map()` function facilitates this process as follows:\"\"\"\n",
    "\n",
    "\n",
    "def custom_function(x, y):\n",
    "    return x + y \n",
    "\n",
    "list1 = [1, 2, 3, 4]\n",
    "list2 = [5, 6, 7, 8]\n",
    "result = list(map(custom_function, list1, list2))\n",
    "print(\"Result of custom function applied to elements of list1 and list2:\", result)"
   ]
  },
  {
   "cell_type": "code",
   "execution_count": 101,
   "id": "7aa5e8f6",
   "metadata": {},
   "outputs": [
    {
     "name": "stdout",
     "output_type": "stream",
     "text": [
      "Temperatures in Celsius: [25, 30, 15, 10, 35]\n",
      "Temperatures in Fahrenheit: [77.0, 86.0, 59.0, 50.0, 95.0]\n"
     ]
    }
   ],
   "source": [
    "\"\"\"7.Create a Python program that uses `map()` to convert a list of temperatures from Celsius to Fahrenheit.\"\"\"\n",
    "\n",
    "def celsius_to_fahrenheit(celsius):\n",
    "    return (celsius * 9/5) + 32\n",
    "\n",
    "temperatures_celsius = [25, 30, 15, 10, 35]\n",
    "\n",
    "temperatures_fahrenheit = list(map(celsius_to_fahrenheit, temperatures_celsius))\n",
    "print(\"Temperatures in Celsius:\", temperatures_celsius)\n",
    "print(\"Temperatures in Fahrenheit:\", temperatures_fahrenheit)\n"
   ]
  },
  {
   "cell_type": "code",
   "execution_count": 103,
   "id": "c4111776",
   "metadata": {},
   "outputs": [
    {
     "name": "stdout",
     "output_type": "stream",
     "text": [
      "Original numbers: [3.7, 2.2, 5.9, 8.4, 6.1]\n",
      "Rounded numbers: [4, 2, 6, 8, 6]\n"
     ]
    }
   ],
   "source": [
    "\"\"\"8.Write a Python program that uses the `map()` function to round each element of a list of floating-point numbers to the nearest integer.\"\"\"\n",
    "\n",
    "def round_to_integer(number):\n",
    "    if number - int(number) >= 0.5:\n",
    "        return int(number) + 1\n",
    "    else:\n",
    "        return int(number)\n",
    "\n",
    "floating_numbers = [3.7, 2.2, 5.9, 8.4, 6.1]\n",
    "rounded_numbers = list(map(round_to_integer, floating_numbers))\n",
    "print(\"Original numbers:\", floating_numbers)\n",
    "print(\"Rounded numbers:\", rounded_numbers)\n"
   ]
  },
  {
   "cell_type": "markdown",
   "id": "1dd28826",
   "metadata": {},
   "source": [
    "## Reduce :-"
   ]
  },
  {
   "cell_type": "code",
   "execution_count": 2,
   "id": "7c61af5e",
   "metadata": {},
   "outputs": [
    {
     "name": "stdout",
     "output_type": "stream",
     "text": [
      "Sum of the numbers: 15\n"
     ]
    }
   ],
   "source": [
    "\"\"\"1.What is the `reduce()` function in Python, and what module should you import to use it? Provide an example of its basic usage.\"\"\"\n",
    "\n",
    "\"\"\"The functools module in Python contains the reduce() function. \n",
    "It is used to reduce an iterable to a single value by cumulatively applying a given function to each item in the iterable.\n",
    "When the iterable is exhausted, \n",
    "the reduce() function applies the function to the first two items, the result, \n",
    "and the subsequent item, and so on. \n",
    "In essence, it gathers all of the function's outputs into a single output.\"\"\"\n",
    "\n",
    "from functools import reduce\n",
    "\n",
    "def add(x, y):\n",
    "    return x + y\n",
    "\n",
    "numbers = [1, 2, 3, 4, 5]\n",
    "sum_of_numbers = reduce(add, numbers)\n",
    "print(\"Sum of the numbers:\", sum_of_numbers)\n"
   ]
  },
  {
   "cell_type": "code",
   "execution_count": 3,
   "id": "9c60baff",
   "metadata": {},
   "outputs": [
    {
     "name": "stdout",
     "output_type": "stream",
     "text": [
      "product of number: 120\n"
     ]
    }
   ],
   "source": [
    "\"\"\"2.Write a Python program that uses the `reduce()` function to find the product of all elements in a list.\"\"\"\n",
    "\n",
    "def product(x,y):\n",
    "    return x*y\n",
    "\n",
    "numbers = [1, 2, 3, 4, 5]\n",
    "product_of_number = reduce(product, numbers)\n",
    "print(\"product of number:\", product_of_number)\n"
   ]
  },
  {
   "cell_type": "code",
   "execution_count": 4,
   "id": "b5b187e0",
   "metadata": {},
   "outputs": [
    {
     "name": "stdout",
     "output_type": "stream",
     "text": [
      "maximum element: 94\n"
     ]
    }
   ],
   "source": [
    "\"\"\"3.Create a Python program that uses `reduce()` to find the maximum element in a list of numbers.\"\"\"\n",
    "\n",
    "def max_ele(x,y):\n",
    "    if x>y:\n",
    "        return x\n",
    "    else:\n",
    "        return y\n",
    "    \n",
    "lst = [25,68,15,94,55,23]\n",
    "maximum_element = reduce(max_ele,lst)\n",
    "print(\"maximum element:\", maximum_element)"
   ]
  },
  {
   "cell_type": "code",
   "execution_count": 6,
   "id": "1d9253df",
   "metadata": {},
   "outputs": [
    {
     "name": "stdout",
     "output_type": "stream",
     "text": [
      "Concatenated string: Hello, Sir, how, are you\n"
     ]
    }
   ],
   "source": [
    "\"\"\"4.How can you use the `reduce()` function to concatenate a list of strings into a single string?\"\"\"\n",
    "\n",
    "from functools import reduce\n",
    "\n",
    "def concatenate_strings(x, y):\n",
    "    return x + y\n",
    "\n",
    "strings = [\"Hello, \", \"Sir, \", \"how, \", \"are \",\"you\"]\n",
    "result = reduce(concatenate_strings, strings)\n",
    "print(\"Concatenated string:\", result)\n"
   ]
  },
  {
   "cell_type": "code",
   "execution_count": 10,
   "id": "a5849aac",
   "metadata": {},
   "outputs": [
    {
     "name": "stdout",
     "output_type": "stream",
     "text": [
      "Enter a number: 6\n",
      "The factorial of 6 is: 720\n"
     ]
    }
   ],
   "source": [
    "\"\"\"5.Write a Python program that calculates the factorial of a number using the `reduce()` function.\"\"\"\n",
    "\n",
    "from functools import reduce\n",
    "\n",
    "def factorial(n, x):\n",
    "    return n * x\n",
    "\n",
    "number = int(input(\"Enter a number: \"))\n",
    "if number >= 0:\n",
    "    result = reduce(factorial, range(1, number + 1), 1)\n",
    "    print(f\"The factorial of {number} is: {result}\")\n",
    "else:\n",
    "    print(\"Factorial is not defined for negative numbers.\")\n"
   ]
  },
  {
   "cell_type": "code",
   "execution_count": 11,
   "id": "f93b0c4b",
   "metadata": {},
   "outputs": [
    {
     "name": "stdout",
     "output_type": "stream",
     "text": [
      "GCD of the numbers: 12\n"
     ]
    }
   ],
   "source": [
    "\"\"\"6.Create a Python program that uses `reduce()` to find the GCD (Greatest Common Divisor) of a list of numbers.\"\"\"\n",
    "\n",
    "import math\n",
    "\n",
    "def gcd(a, b):\n",
    "    while b:\n",
    "        a, b = b, a % b\n",
    "    return a\n",
    "\n",
    "numbers = [48, 60, 72, 96]\n",
    "result_gcd = reduce(gcd, numbers)\n",
    "print(\"GCD of the numbers:\", result_gcd)\n"
   ]
  },
  {
   "cell_type": "code",
   "execution_count": 13,
   "id": "dfd67365",
   "metadata": {},
   "outputs": [
    {
     "name": "stdout",
     "output_type": "stream",
     "text": [
      "Enter a number: 235\n",
      "Sum of digits: 10\n"
     ]
    }
   ],
   "source": [
    "\"\"\"7.Write a Python program that uses the `reduce()` function to find the sum of the digits of a given number.\"\"\"\n",
    "\n",
    "def sum_of_digits(acc, digit):\n",
    "    return acc + int(digit)\n",
    "\n",
    "number = input(\"Enter a number: \")\n",
    "sum_digits = reduce(sum_of_digits, number, 0)\n",
    "print(\"Sum of digits:\", sum_digits)\n"
   ]
  },
  {
   "cell_type": "markdown",
   "id": "46adfa1e",
   "metadata": {},
   "source": [
    "## Filter :-"
   ]
  },
  {
   "cell_type": "code",
   "execution_count": 15,
   "id": "c1ed208d",
   "metadata": {},
   "outputs": [
    {
     "name": "stdout",
     "output_type": "stream",
     "text": [
      "Even numbers: [2, 4, 6, 8]\n"
     ]
    }
   ],
   "source": [
    "\"\"\"1.Explain the purpose of the `filter()` function in Python and provide an example of how it can be used to filter elements from an iterable.\"\"\"\n",
    "\n",
    "\"\"\"Python's built-in filter() function can be used to remove elements from an iterable \n",
    "(like a list, tuple, or set) according to a predefined function or condition. \n",
    "The elements from the iterable for which the specified \n",
    "function returns True are contained in the iterator that is returned. \n",
    "It eliminates elements that are equal to False if no function is given.\n",
    "syntax- filter(function, iterable)\"\"\"\n",
    "\"example\"\n",
    "\n",
    "def is_even(number):\n",
    "    return number % 2 == 0\n",
    "\n",
    "numbers = [1, 2, 3, 4, 5, 6, 7, 8]\n",
    "even_numbers = list(filter(is_even, numbers))\n",
    "print(\"Even numbers:\", even_numbers)\n",
    "\n"
   ]
  },
  {
   "cell_type": "code",
   "execution_count": 16,
   "id": "62d94498",
   "metadata": {},
   "outputs": [
    {
     "name": "stdout",
     "output_type": "stream",
     "text": [
      "Even numbers: [2, 4, 6, 8]\n"
     ]
    }
   ],
   "source": [
    "\"\"\"2.Write a Python program that uses the `filter()` function to select even numbers from a list of integers.\"\"\"\n",
    "\n",
    "def is_even(number):\n",
    "    return number % 2 == 0\n",
    "\n",
    "numbers = [1, 2, 3, 4, 5, 6, 7, 8]\n",
    "even_numbers = list(filter(is_even, numbers))\n",
    "print(\"Even numbers:\", even_numbers)"
   ]
  },
  {
   "cell_type": "code",
   "execution_count": 37,
   "id": "26ff176d",
   "metadata": {},
   "outputs": [
    {
     "name": "stdout",
     "output_type": "stream",
     "text": [
      "Enter the starting letter to filter names: I\n",
      "Names starting with the letter 'I': ['India', 'Iran', 'Israel', 'Iraq']\n"
     ]
    }
   ],
   "source": [
    "\"\"\"3.Create a Python program that uses the `filter()` function to select names that start with a specific letter from a list of strings.\"\"\"\n",
    "\n",
    "\n",
    "def filter_names(names, starting_letter):\n",
    "    filtered_names = filter(lambda name: name.startswith(starting_letter), names)\n",
    "    return list(filtered_names)\n",
    "\n",
    "starting_letter = input(\"Enter the starting letter to filter names: \")\n",
    "names_list = [\"India\", \"korea\", \"Iran\", \"srilanka\", \"Israel\", \"nepal\", \"Iraq\"]\n",
    "filtered_names = filter_names(names_list, starting_letter)\n",
    "print(f\"Names starting with the letter '{starting_letter}': {filtered_names}\")\n"
   ]
  },
  {
   "cell_type": "code",
   "execution_count": 38,
   "id": "571e4cab",
   "metadata": {},
   "outputs": [
    {
     "name": "stdout",
     "output_type": "stream",
     "text": [
      "Prime numbers from the list: [2, 3, 5, 7, 11, 13]\n"
     ]
    }
   ],
   "source": [
    "\"\"\"4.Write a Python program that uses the `filter()` function to select prime numbers from a list of integers.\"\"\"\n",
    "\n",
    "def is_prime(num):\n",
    "    if num <= 1:\n",
    "        return False\n",
    "    for i in range(2, int(num**0.5) + 1):\n",
    "        if num % i == 0:\n",
    "            return False\n",
    "    return True\n",
    "\n",
    "numbers_list = [2, 3, 4, 5, 6, 7, 8, 9, 10, 11, 12, 13, 14, 15]\n",
    "prime_numbers = list(filter(is_prime, numbers_list))\n",
    "print(f\"Prime numbers from the list: {prime_numbers}\")\n"
   ]
  },
  {
   "cell_type": "code",
   "execution_count": 40,
   "id": "31272710",
   "metadata": {},
   "outputs": [
    {
     "name": "stdout",
     "output_type": "stream",
     "text": [
      "[1, 3, 5, 6, 8]\n"
     ]
    }
   ],
   "source": [
    "\"\"\"5.How can you use the `filter()` function to remove None values from a list in Python?\"\"\"\n",
    "\n",
    "\n",
    "def remove_none_values(item):\n",
    "    return item is not None\n",
    "\n",
    "lst = [1, None, 3, None, 5, 6, None, 8]\n",
    "filtered_list = list(filter(remove_none_values, lst))\n",
    "print(filtered_list)"
   ]
  },
  {
   "cell_type": "code",
   "execution_count": 41,
   "id": "fc56ef9a",
   "metadata": {},
   "outputs": [
    {
     "name": "stdout",
     "output_type": "stream",
     "text": [
      "Enter the minimum length of words to filter: 5\n",
      "Words longer than 5 characters: ['srilanka', 'Israel']\n"
     ]
    }
   ],
   "source": [
    "\"\"\"6.Create a Python program that uses `filter()` to select words longer than a certain length from a list of strings.\"\"\"\n",
    "\n",
    "def filter_long_words(words, length):\n",
    "    filtered_words = filter(lambda word: len(word) > length, words)\n",
    "    return list(filtered_words)\n",
    "\n",
    "words_list = [\"India\", \"korea\", \"Iran\", \"srilanka\", \"Israel\", \"nepal\", \"Iraq\"]\n",
    "min_length = int(input(\"Enter the minimum length of words to filter: \"))\n",
    "filtered_words = filter_long_words(words_list, min_length)\n",
    "print(f\"Words longer than {min_length} characters: {filtered_words}\")\n"
   ]
  },
  {
   "cell_type": "code",
   "execution_count": 42,
   "id": "74631e34",
   "metadata": {},
   "outputs": [
    {
     "name": "stdout",
     "output_type": "stream",
     "text": [
      "Enter the threshold value: 10\n",
      "Values greater than 10: [25, 30, 15, 40, 12]\n"
     ]
    }
   ],
   "source": [
    "\"\"\"7.Write a Python program that uses the `filter()` function to select elements greater than a specified threshold from a list of values.\"\"\"\n",
    "\n",
    "def filter_greater_than_threshold(values, threshold):\n",
    "    filtered_values = filter(lambda x: x > threshold, values)\n",
    "    return list(filtered_values)\n",
    "\n",
    "values_list = [10, 25, 5, 30, 15, 8, 40, 12]\n",
    "threshold = int(input(\"Enter the threshold value: \"))\n",
    "filtered_values = filter_greater_than_threshold(values_list, threshold)\n",
    "print(f\"Values greater than {threshold}: {filtered_values}\")\n"
   ]
  },
  {
   "cell_type": "markdown",
   "id": "8727c3c8",
   "metadata": {},
   "source": [
    "## Recursion:-"
   ]
  },
  {
   "cell_type": "code",
   "execution_count": 47,
   "id": "b08a0116",
   "metadata": {},
   "outputs": [
    {
     "data": {
      "text/plain": [
       "\"iteration is the process of repeatedly utilizing loops and \\nother similar constructs to carry out a set of statements. \\nPython's for and while loops are frequently used for iteration. \\nFunction calls are not used in iteration; instead, \\nloops are used to repeatedly run a block of code until a \\npredetermined condition is satisfied.\""
      ]
     },
     "execution_count": 47,
     "metadata": {},
     "output_type": "execute_result"
    }
   ],
   "source": [
    "\"\"\"1.Explain the concept of recursion in Python. How does it differ from iteration?\"\"\"\n",
    "\n",
    "\"\"\"iteration is the process of repeatedly utilizing loops and \n",
    "other similar constructs to carry out a set of statements. \n",
    "Python's for and while loops are frequently used for iteration. \n",
    "Function calls are not used in iteration; instead, \n",
    "loops are used to repeatedly run a block of code until a \n",
    "predetermined condition is satisfied.\"\"\"\n"
   ]
  },
  {
   "cell_type": "code",
   "execution_count": 48,
   "id": "00670e0d",
   "metadata": {},
   "outputs": [
    {
     "data": {
      "text/plain": [
       "120"
      ]
     },
     "execution_count": 48,
     "metadata": {},
     "output_type": "execute_result"
    }
   ],
   "source": [
    "\"\"\"2.Write a Python program to calculate the factorial of a number using recursion.\"\"\"\n",
    "\n",
    "def fatorial(n):\n",
    "    if n==0:\n",
    "        return 1\n",
    "    else:\n",
    "        return n * factorial(n-1)\n",
    "\n",
    "factorial(5)"
   ]
  },
  {
   "cell_type": "code",
   "execution_count": 50,
   "id": "ae6d55b8",
   "metadata": {},
   "outputs": [
    {
     "name": "stdout",
     "output_type": "stream",
     "text": [
      "The 5th Fibonacci number is: 3\n"
     ]
    }
   ],
   "source": [
    "\"\"\"3.Create a recursive Python function to find the nth Fibonacci number.\"\"\"\n",
    "\n",
    "def fibonacci(n):\n",
    "    if n <= 0:\n",
    "        return \"Invalid input\"  \n",
    "    elif n == 1:\n",
    "        return 0  \n",
    "    elif n == 2:\n",
    "        return 1 \n",
    "    else:\n",
    "        return fibonacci(n - 1) + fibonacci(n - 2)\n",
    "\n",
    "n = 5\n",
    "result = fibonacci(n)\n",
    "print(f\"The {n}th Fibonacci number is: {result}\")\n"
   ]
  },
  {
   "cell_type": "code",
   "execution_count": 52,
   "id": "c545daa8",
   "metadata": {},
   "outputs": [
    {
     "name": "stdout",
     "output_type": "stream",
     "text": [
      "The sum of elements in the list is: 34\n"
     ]
    }
   ],
   "source": [
    "\"\"\"4.Write a recursive Python function to calculate the sum of all elements in a list.\"\"\"\n",
    "\n",
    "def list_sum(lst):\n",
    "    if len(lst) == 0:\n",
    "        return 0\n",
    "    else:\n",
    "        return lst[0] + list_sum(lst[1:])\n",
    "\n",
    "list1 = [2,5,7,9,4,7] \n",
    "result = list_sum(list1)\n",
    "print(f\"The sum of elements in the list is: {result}\")\n"
   ]
  },
  {
   "cell_type": "code",
   "execution_count": 53,
   "id": "a47de3dd",
   "metadata": {},
   "outputs": [
    {
     "data": {
      "text/plain": [
       "'Always define a base case in your recursive function. \\nThe base case provides the condition under which the function should stop calling itself \\nand start returning values. \\nIt acts as a termination condition for the recursion. \\nMake sure the base case is reachable from any set of input parameters.'"
      ]
     },
     "execution_count": 53,
     "metadata": {},
     "output_type": "execute_result"
    }
   ],
   "source": [
    "\"\"\"5.How can you prevent a recursive function from running indefinitely, causing a stack overflow error?\"\"\"\n",
    "\n",
    "\"\"\"Always define a base case in your recursive function. \n",
    "The base case provides the condition under which the function should stop calling itself \n",
    "and start returning values. \n",
    "It acts as a termination condition for the recursion. \n",
    "Make sure the base case is reachable from any set of input parameters.\"\"\""
   ]
  },
  {
   "cell_type": "code",
   "execution_count": 61,
   "id": "7d6a55f6",
   "metadata": {},
   "outputs": [
    {
     "data": {
      "text/plain": [
       "11"
      ]
     },
     "execution_count": 61,
     "metadata": {},
     "output_type": "execute_result"
    }
   ],
   "source": [
    "\"\"\"6.Create a recursive Python function to find the greatest common divisor (GCD) of two numbers using the Euclidean algorithm.\"\"\"\n",
    "\n",
    "def gcd(a, b):\n",
    "    if b == 0:\n",
    "        return a\n",
    "    else:\n",
    "        return gcd(b, a % b)\n",
    "    \n",
    "gcd(88,33)"
   ]
  },
  {
   "cell_type": "code",
   "execution_count": 63,
   "id": "0a27cec7",
   "metadata": {},
   "outputs": [
    {
     "data": {
      "text/plain": [
       "'aidni'"
      ]
     },
     "execution_count": 63,
     "metadata": {},
     "output_type": "execute_result"
    }
   ],
   "source": [
    "\"\"\"7.Write a recursive Python function to reverse a string.\"\"\"\n",
    "\n",
    "def reverse_string(s):\n",
    "    if s == \"\":\n",
    "        return s\n",
    "    else:\n",
    "        return reverse_string(s[1:]) + s[0]\n",
    "    \n",
    "reverse_string(\"india\")\n"
   ]
  },
  {
   "cell_type": "code",
   "execution_count": 64,
   "id": "694f8320",
   "metadata": {},
   "outputs": [
    {
     "name": "stdout",
     "output_type": "stream",
     "text": [
      "Enter the base: 5\n",
      "Enter the exponent: 3\n",
      "5.0^3 is equal to 125.0\n"
     ]
    }
   ],
   "source": [
    "\"\"\"8.Create a recursive Python function to calculate the power of a number (x^n).\"\"\"\n",
    "\n",
    "def power(x, n):\n",
    "    if n == 0:\n",
    "        return 1\n",
    "    elif n < 0:\n",
    "        return 1 / power(x, -n)\n",
    "    else:\n",
    "        return x * power(x, n - 1)\n",
    "\n",
    "base = float(input(\"Enter the base: \"))\n",
    "exponent = int(input(\"Enter the exponent: \"))\n",
    "result = power(base, exponent)\n",
    "print(f\"{base}^{exponent} is equal to {result}\")\n"
   ]
  },
  {
   "cell_type": "code",
   "execution_count": 66,
   "id": "a543499b",
   "metadata": {},
   "outputs": [
    {
     "name": "stdout",
     "output_type": "stream",
     "text": [
      "Enter a string: shubh\n",
      "Permutations of the given string: ['shub', 'shbu', 'suhb', 'suhb', 'sbhu', 'sbhu', 'shub', 'shbu', 'hsub', 'hsbu', 'husb', 'hubs', 'hbsu', 'hbus', 'ushb', 'ushb', 'uhsb', 'uhbs', 'ubhs', 'ubhs', 'uhsb', 'uhbs', 'bshu', 'bshu', 'bhsu', 'bhus', 'buhs', 'buhs', 'bhsu', 'bhus', 'hsub', 'hsbu', 'husb', 'hubs', 'hbsu', 'hbus']\n"
     ]
    }
   ],
   "source": [
    "\"\"\"9.Write a recursive Python function to find all permutations of a given string.\"\"\"\n",
    "\n",
    "def permutations(s):\n",
    "    if len(s) == 1:\n",
    "        return [s]\n",
    "    else:\n",
    "        perms = []\n",
    "        for char in s:\n",
    "            remaining_chars = [x for x in s if x != char]\n",
    "            for perm in permutations(''.join(remaining_chars)):\n",
    "                perms.append(char + perm)\n",
    "        return perms\n",
    "\n",
    "input_string = input(\"Enter a string: \")\n",
    "result = permutations(input_string)\n",
    "print(\"Permutations of the given string:\", result)\n",
    "\n"
   ]
  },
  {
   "cell_type": "code",
   "execution_count": 67,
   "id": "ba7badee",
   "metadata": {},
   "outputs": [
    {
     "name": "stdout",
     "output_type": "stream",
     "text": [
      "Enter a string: shubh\n",
      "The given string is not a palindrome.\n"
     ]
    }
   ],
   "source": [
    "\"\"\"10.Write a recursive Python function to check if a string is a palindrome.\"\"\"\n",
    "\n",
    "def is_palindrome(s):\n",
    "    if len(s) <= 1:\n",
    "        return True\n",
    "    if s[0] == s[-1]:\n",
    "        return is_palindrome(s[1:-1])\n",
    "    else:\n",
    "        return False\n",
    "\n",
    "input_string = input(\"Enter a string: \")\n",
    "if is_palindrome(input_string):\n",
    "    print(\"The given string is a palindrome.\")\n",
    "else:\n",
    "    print(\"The given string is not a palindrome.\")\n"
   ]
  },
  {
   "cell_type": "code",
   "execution_count": 68,
   "id": "c9d6b328",
   "metadata": {},
   "outputs": [
    {
     "name": "stdout",
     "output_type": "stream",
     "text": [
      "Enter elements separated by space: 5 6 9 8 7 2 3 \n",
      "Enter the size of combinations: 3\n",
      "All possible combinations of size 3 are:\n",
      "[['9', '6', '5'], ['8', '6', '5'], ['7', '6', '5'], ['2', '6', '5'], ['3', '6', '5'], ['8', '9', '5'], ['7', '9', '5'], ['2', '9', '5'], ['3', '9', '5'], ['7', '8', '5'], ['2', '8', '5'], ['3', '8', '5'], ['2', '7', '5'], ['3', '7', '5'], ['3', '2', '5'], ['8', '9', '6'], ['7', '9', '6'], ['2', '9', '6'], ['3', '9', '6'], ['7', '8', '6'], ['2', '8', '6'], ['3', '8', '6'], ['2', '7', '6'], ['3', '7', '6'], ['3', '2', '6'], ['7', '8', '9'], ['2', '8', '9'], ['3', '8', '9'], ['2', '7', '9'], ['3', '7', '9'], ['3', '2', '9'], ['2', '7', '8'], ['3', '7', '8'], ['3', '2', '8'], ['3', '2', '7']]\n"
     ]
    }
   ],
   "source": [
    "\"\"\"11.Create a recursive Python function to generate all possible combinations of a list of elements.\"\"\"\n",
    "\n",
    "def generate_combinations(elements, r):\n",
    "    if r == 0:\n",
    "        return [[]]\n",
    "    if len(elements) == 0:\n",
    "        return []\n",
    "    head, tail = elements[0], elements[1:]\n",
    "    without_head = generate_combinations(tail, r)\n",
    "    with_head = generate_combinations(tail, r - 1)\n",
    "    for item in with_head:\n",
    "        item.append(head)\n",
    "    return with_head + without_head\n",
    "\n",
    "elements = input(\"Enter elements separated by space: \").split()\n",
    "r = int(input(\"Enter the size of combinations: \"))\n",
    "combinations = generate_combinations(elements, r)\n",
    "print(\"All possible combinations of size\", r, \"are:\")\n",
    "print(combinations)\n"
   ]
  },
  {
   "cell_type": "markdown",
   "id": "9a9819e8",
   "metadata": {},
   "source": [
    "## Basics of Functions:"
   ]
  },
  {
   "cell_type": "code",
   "execution_count": 71,
   "id": "79e2c162",
   "metadata": {},
   "outputs": [
    {
     "data": {
      "text/plain": [
       "'a function is a block of organized, \\nreusable code that performs a specific task or a set of tasks. \\nFunctions provide modularity and reusability to your code.\\nBy defining functions, you can encapsulate a piece of code, give it a name, \\nand then call that function whenever you need to perform the associated tasks, w\\nithout having to rewrite the code each time.\\nFunctions can take parameters as input, perform operations, \\nand optionally return a value as output'"
      ]
     },
     "execution_count": 71,
     "metadata": {},
     "output_type": "execute_result"
    }
   ],
   "source": [
    "\"\"\"1.What is a function in Python, and why is it used?\"\"\"\n",
    "\n",
    "\"\"\"a function is a block of organized, \n",
    "reusable code that performs a specific task or a set of tasks. \n",
    "Functions provide modularity and reusability to your code.\n",
    "By defining functions, you can encapsulate a piece of code, give it a name, \n",
    "and then call that function whenever you need to perform the associated tasks, w\n",
    "ithout having to rewrite the code each time.\n",
    "Functions can take parameters as input, perform operations, \n",
    "and optionally return a value as output\"\"\""
   ]
  },
  {
   "cell_type": "code",
   "execution_count": null,
   "id": "0a4a5264",
   "metadata": {},
   "outputs": [],
   "source": [
    "\"\"\"2.How do you define a function in Python? Provide an example.\"\"\"\n",
    "\n",
    "\"\"\"example of function is follows\"\"\"\n",
    "def square(number):\n",
    "    return number ** 2\n",
    "\n",
    "input_number = float(input(\"Enter a number: \"))\n",
    "result = square(input_number)\n",
    "print(\"Square of\", input_number, \"is\", result)\n"
   ]
  },
  {
   "cell_type": "code",
   "execution_count": 72,
   "id": "91799405",
   "metadata": {},
   "outputs": [
    {
     "data": {
      "text/plain": [
       "\"A function definition is a block of code that specifies what the function does when it is called.\\nIt defines the function's behavior, parameters (if any), and the value it returns (if any). \\nWhen you define a function, \\nyou are essentially creating a blueprint or a template for that functionality. \\nIn Python, you define a function using the def keyword.\\n\\nA function call is the actual execution of the function.\\nWhen you call a function,\\nyou are asking the program to execute the code defined within that function. \\nDuring a function call, you provide specific values for the parameters defined in the function,\\nand the function executes its code with these provided values. \\nA function can be called multiple times with different arguments,\\nand it will perform its defined tasks each time it is called.\""
      ]
     },
     "execution_count": 72,
     "metadata": {},
     "output_type": "execute_result"
    }
   ],
   "source": [
    "\"\"\"3.Explain the difference between a function definition and a function call.\"\"\"\n",
    "\n",
    "\"\"\"A function definition is a block of code that specifies what the function does when it is called.\n",
    "It defines the function's behavior, parameters (if any), and the value it returns (if any). \n",
    "When you define a function, \n",
    "you are essentially creating a blueprint or a template for that functionality. \n",
    "In Python, you define a function using the def keyword.\n",
    "\n",
    "A function call is the actual execution of the function.\n",
    "When you call a function,\n",
    "you are asking the program to execute the code defined within that function. \n",
    "During a function call, you provide specific values for the parameters defined in the function,\n",
    "and the function executes its code with these provided values. \n",
    "A function can be called multiple times with different arguments,\n",
    "and it will perform its defined tasks each time it is called.\"\"\""
   ]
  },
  {
   "cell_type": "code",
   "execution_count": 73,
   "id": "b026db91",
   "metadata": {},
   "outputs": [
    {
     "name": "stdout",
     "output_type": "stream",
     "text": [
      "Enter the first number: 45\n",
      "Enter the second number: 56\n",
      "The sum of 45.0 and 56.0 is 101.0\n"
     ]
    }
   ],
   "source": [
    "\"\"\"4.Write a Python program that defines a function to calculate the sum of two numbers and then calls the function.\"\"\"\n",
    "\n",
    "def calculate_sum(a, b):\n",
    "    return a + b\n",
    "\n",
    "num1 = float(input(\"Enter the first number: \"))\n",
    "num2 = float(input(\"Enter the second number: \"))\n",
    "sum_result = calculate_sum(num1, num2)\n",
    "print(\"The sum of\", num1, \"and\", num2, \"is\", sum_result)\n"
   ]
  },
  {
   "cell_type": "code",
   "execution_count": 74,
   "id": "6155c20a",
   "metadata": {},
   "outputs": [
    {
     "data": {
      "text/plain": [
       "'The interface of a function in programming is defined by a function signature, \\nsometimes referred to as a function prototype or method signature.\\nIt gives the name of the function, \\nthe quantity and kind of data that it takes as inputs,\\nand the format of the output.\\nImportant details regarding how a function should be called, \\nas well as the values it can accept and return, are provided by the function signature.\\nIt acts as a sort of agreement between the code that calls the function and itself.\\nIn general, a function signature includes the following information\\nFunction Name\\nParameters (Input)\\nReturn Type (Output)'"
      ]
     },
     "execution_count": 74,
     "metadata": {},
     "output_type": "execute_result"
    }
   ],
   "source": [
    "\"\"\"5.What is a function signature, and what information does it typically include?\"\"\"\n",
    "\n",
    "\"\"\"The interface of a function in programming is defined by a function signature, \n",
    "sometimes referred to as a function prototype or method signature.\n",
    "It gives the name of the function, \n",
    "the quantity and kind of data that it takes as inputs,\n",
    "and the format of the output.\n",
    "Important details regarding how a function should be called, \n",
    "as well as the values it can accept and return, are provided by the function signature.\n",
    "It acts as a sort of agreement between the code that calls the function and itself.\n",
    "In general, a function signature includes the following information\n",
    "Function Name\n",
    "Parameters (Input)\n",
    "Return Type (Output)\"\"\""
   ]
  },
  {
   "cell_type": "code",
   "execution_count": 75,
   "id": "62902bf4",
   "metadata": {},
   "outputs": [
    {
     "name": "stdout",
     "output_type": "stream",
     "text": [
      "Enter the first number: 45\n",
      "Enter the second number: 56\n",
      "The product of 45.0 and 56.0 is 2520.0\n"
     ]
    }
   ],
   "source": [
    "\"\"\"6.Create a Python function that takes two arguments and returns their product.\"\"\"\n",
    "\n",
    "def multiply(a, b):\n",
    "    return a * b\n",
    "\n",
    "num1 = float(input(\"Enter the first number: \"))\n",
    "num2 = float(input(\"Enter the second number: \"))\n",
    "\n",
    "product_result = multiply(num1, num2)\n",
    "print(\"The product of\", num1, \"and\", num2, \"is\", product_result)\n"
   ]
  },
  {
   "cell_type": "markdown",
   "id": "2ddfa0c3",
   "metadata": {},
   "source": [
    "## Function Parameters and Arguments:"
   ]
  },
  {
   "cell_type": "code",
   "execution_count": null,
   "id": "a6348ee4",
   "metadata": {},
   "outputs": [],
   "source": [
    "\"\"\"1.Explain the concepts of formal parameters and actual arguments in Python functions.\"\"\"\n",
    "\n",
    "\"\"\"Formal Parameters:\n",
    "Formal parameters are the placeholders or variable names used in the function \n",
    "definition to represent the values that a function expects to receive when it is called. \n",
    "These parameters act as local variables within the function body \n",
    "and are used to perform operations inside the function. \n",
    "Formal parameters are defined in the function signature within the parentheses.\n",
    "When you define a function, you specify the formal parameters the function expects\n",
    "\n",
    "For example:\n",
    "\n",
    "def example_function(parameter1, parameter2):\n",
    "In this function definition, parameter1 and parameter2 are formal parameters\n",
    "\n",
    "Actual Arguments:\n",
    "Actual arguments, also known simply as arguments, \n",
    "are the values supplied to the function when it is called. \n",
    "These are the real values that are passed into the function and \n",
    "assigned to the corresponding formal parameters. When you call a function, \n",
    "you provide the actual values for the formal parameters. These actual values can be constants, \n",
    "variables, expressions, or even the result of other function calls.\n",
    "\n",
    "For example:\n",
    "example_function(value1, value2)\n",
    "\n",
    "In this function call, value1 and value2 are actual arguments. \n",
    "When the function is called with these values, they are assigned to parameter1 and parameter2 \n",
    "respectively, allowing the function to work with these actual values.\"\"\""
   ]
  },
  {
   "cell_type": "code",
   "execution_count": 79,
   "id": "9eba523a",
   "metadata": {},
   "outputs": [
    {
     "name": "stdout",
     "output_type": "stream",
     "text": [
      "Area with default values: 6\n"
     ]
    }
   ],
   "source": [
    "\"\"\"2.Write a Python program that defines a function with default argument values.\"\"\"\n",
    "\n",
    "def calculate_rectangle_area(length=2, width=3):\n",
    "    area = length * width\n",
    "    return area\n",
    "\n",
    "default_area = calculate_rectangle_area()\n",
    "print(\"Area with default values:\", default_area)"
   ]
  },
  {
   "cell_type": "code",
   "execution_count": 82,
   "id": "840f93aa",
   "metadata": {},
   "outputs": [
    {
     "name": "stdout",
     "output_type": "stream",
     "text": [
      "Name: shubh\n",
      "Age: 30\n",
      "City: mumbai\n",
      "Name: sudh\n",
      "Age: Unknown\n",
      "City: bangalore\n"
     ]
    }
   ],
   "source": [
    "\"\"\"3.How do you use keyword arguments in Python function calls? Provide an example.\"\"\"\n",
    "\n",
    "def print_person_info(name=\"Unknown\", age=\"Unknown\", city=\"Unknown\"):\n",
    "    print(f\"Name: {name}\")\n",
    "    print(f\"Age: {age}\")\n",
    "    print(f\"City: {city}\")\n",
    "\n",
    "print_person_info(name=\"shubh\", age=30, city=\"mumbai\")\n",
    "print_person_info(name=\"sudh\", city=\"bangalore\")\n"
   ]
  },
  {
   "cell_type": "code",
   "execution_count": 85,
   "id": "993ddf1b",
   "metadata": {},
   "outputs": [
    {
     "name": "stdout",
     "output_type": "stream",
     "text": [
      "Sum : 60\n"
     ]
    }
   ],
   "source": [
    "\"\"\"4.Create a Python function that accepts a variable number of arguments and calculates their sum.\"\"\"\n",
    "\n",
    "def calculate_sum(*args):\n",
    "    total = 0\n",
    "    for num in args:\n",
    "        total += num\n",
    "    return total\n",
    "\n",
    "result = calculate_sum(10, 20, 30)\n",
    "print(\"Sum :\", result)  \n",
    "\n"
   ]
  },
  {
   "cell_type": "code",
   "execution_count": 90,
   "id": "54da6ac8",
   "metadata": {},
   "outputs": [
    {
     "name": "stdout",
     "output_type": "stream",
     "text": [
      "1\n",
      "2\n",
      "3\n",
      "4\n",
      "name : shubh\n",
      "age : 30\n",
      "city : mumbai\n"
     ]
    }
   ],
   "source": [
    "\"\"\"5.What is the purpose of the `*args` and `**kwargs` syntax in function parameter lists?\"\"\"\n",
    "\n",
    "\"\"\"The *args and **kwargs syntax in Python function parameter lists are used to pass a \n",
    "variable number of arguments to a function.\n",
    "The *args syntax is used to pass a variable number of non-keyworded arguments to a function.\n",
    "It allows you to pass any number of arguments to a function, \n",
    "which can be accessed inside the function as a tuple.\n",
    "The **kwargs syntax is used to pass a variable number of keyworded arguments to a function. \n",
    "It allows you to pass any number of keyword arguments (i.e., arguments that have a name) to a function, which can be accessed inside the function as a dictionary.\"\"\"\n",
    "\n",
    "def function_with_args(*args):\n",
    "    for arg in args:\n",
    "        print(arg)\n",
    "\n",
    "def function_with_kwargs(**kwargs):\n",
    "    for key, value in kwargs.items():\n",
    "        print(key, \":\", value)\n",
    "\n",
    "function_with_args(1, 2, 3, 4)\n",
    "function_with_kwargs(name=\"shubh\", age=30, city=\"mumbai\")"
   ]
  },
  {
   "cell_type": "markdown",
   "id": "f366312e",
   "metadata": {},
   "source": [
    "## Return Values and Scoping:"
   ]
  },
  {
   "cell_type": "code",
   "execution_count": 94,
   "id": "a7f66625",
   "metadata": {},
   "outputs": [
    {
     "data": {
      "text/plain": [
       "14"
      ]
     },
     "execution_count": 94,
     "metadata": {},
     "output_type": "execute_result"
    }
   ],
   "source": [
    "\"\"\"1.Describe the role of the `return` statement in Python functions and provide examples.\"\"\"\n",
    "\n",
    "\"\"\"The return statement is utilized to terminate the function \n",
    "and provide the caller with a returned value. \n",
    "The function halts and returns control to the caller upon execution of a return statement. \n",
    "The value that is given back to the caller is the one that comes after the return keyword.\n",
    "By default, None is returned in the absence of a value.\"\"\"\n",
    "\n",
    "def add_numbers(a, b):\n",
    "    return a + b\n",
    "add_numbers(5,9)"
   ]
  },
  {
   "cell_type": "code",
   "execution_count": 97,
   "id": "6570c977",
   "metadata": {},
   "outputs": [
    {
     "name": "stdout",
     "output_type": "stream",
     "text": [
      "6\n",
      "5\n"
     ]
    }
   ],
   "source": [
    "\"\"\"2.Explain the concept of variable scope in Python, including local and global variables.\"\"\"\n",
    "\n",
    "\"\"\"variable scope refers to the region of a program where a variable is accessible. \n",
    "There are two types of variable scopes in Python: local and global.\n",
    "A local variable is a variable that is defined inside a function \n",
    "and can only be accessed within that function. \"\"\"\n",
    "# example:\n",
    "def function1():\n",
    "    x = 6\n",
    "    print(x)\n",
    "    \n",
    "function1()\n",
    "\n",
    "\"\"\"A global variable is a variable that is defined outside of any function \n",
    "and can be accessed from anywhere in the program. \"\"\"\n",
    "# example:    \n",
    "x = 5\n",
    "def function2():\n",
    "    print(x)\n",
    "\n",
    "function2()"
   ]
  },
  {
   "cell_type": "code",
   "execution_count": 99,
   "id": "427bd382",
   "metadata": {},
   "outputs": [
    {
     "name": "stdout",
     "output_type": "stream",
     "text": [
      "Before fun1(), x = 10\n",
      "Inside fun1(), x = 12\n",
      "After fun1(), x = 12\n",
      "Inside fun2(), x = 15\n",
      "After fun2(), x = 15\n"
     ]
    }
   ],
   "source": [
    "\"\"\"3.Write a Python program that demonstrates the use of global variables within functions.\"\"\"\n",
    "\n",
    "x = 10\n",
    "\n",
    "def fun1():\n",
    "    global x\n",
    "    x += 2\n",
    "    print(\"Inside fun1(), x =\", x)\n",
    "\n",
    "def fun2():\n",
    "    global x\n",
    "    x += 3\n",
    "    print(\"Inside fun2(), x =\", x)\n",
    "\n",
    "print(\"Before fun1(), x =\", x)\n",
    "fun1()\n",
    "print(\"After fun1(), x =\", x)\n",
    "fun2()\n",
    "print(\"After fun2(), x =\", x)\n"
   ]
  },
  {
   "cell_type": "code",
   "execution_count": 100,
   "id": "759685a2",
   "metadata": {},
   "outputs": [
    {
     "name": "stdout",
     "output_type": "stream",
     "text": [
      "The factorial of 5 is 120\n"
     ]
    }
   ],
   "source": [
    "\"\"\"4.Create a Python function that calculates the factorial of a number and returns it.\"\"\"\n",
    "\n",
    "def factorial(n):\n",
    "    if n == 0 or n == 1:\n",
    "        return 1\n",
    "    else:\n",
    "        result = 1\n",
    "        for i in range(2, n + 1):\n",
    "            result *= i\n",
    "        return result\n",
    "\n",
    "number = 5\n",
    "result = factorial(number)\n",
    "print(f\"The factorial of {number} is {result}\")\n"
   ]
  },
  {
   "cell_type": "code",
   "execution_count": 101,
   "id": "c90d91ba",
   "metadata": {},
   "outputs": [
    {
     "name": "stdout",
     "output_type": "stream",
     "text": [
      "Inside funfun(), x = 10\n",
      "Outside funfun(), x = 10\n"
     ]
    }
   ],
   "source": [
    "\"\"\"5.How can you access variables defined outside a function from within the function?\"\"\"\n",
    "\n",
    "\"\"\"variables defined outside a function are called global variables.\n",
    "To access a global variable from within a function, \n",
    "you need to use the global keyword to declare the variable as global. \"\"\"\n",
    "#example\n",
    "x = 10\n",
    "def funfun():\n",
    "    global x\n",
    "    print(\"Inside funfun(), x =\", x)\n",
    "\n",
    "funfun()\n",
    "print(\"Outside funfun(), x =\", x)\n"
   ]
  },
  {
   "cell_type": "markdown",
   "id": "cd76104d",
   "metadata": {},
   "source": [
    "## Lambda Functions and Higher-Order Functions:"
   ]
  },
  {
   "cell_type": "code",
   "execution_count": null,
   "id": "7388464b",
   "metadata": {},
   "outputs": [],
   "source": [
    "\"\"\"1.What are lambda functions in Python, and when are they typically used?\"\"\"\n",
    "\n",
    "\"\"\"Lambda functions also known as anonymous functions\n",
    "unnamed functions defined using the lambda keyword.\n",
    "They can have any number of input parameters, \n",
    "but they can only have one expression. \"\"\"\n",
    "#The syntax for a lambda---\n",
    "# lambda arguments: expression\n",
    "\"\"\"Lambda functions are typically used in situations where a short, \n",
    "simple function\"\"\""
   ]
  },
  {
   "cell_type": "code",
   "execution_count": 107,
   "id": "245a5f90",
   "metadata": {},
   "outputs": [
    {
     "name": "stdout",
     "output_type": "stream",
     "text": [
      "Sorted list: [(4, 1), (3, 2), (2, 3), (1, 4)]\n"
     ]
    }
   ],
   "source": [
    "\"\"\"2.Write a Python program that uses lambda functions to sort a list of tuples based on the second element.\"\"\"\n",
    "\n",
    "my_list = [(1, 4), (2, 3), (3, 2), (4, 1)]\n",
    "my_list.sort(key=lambda x: x[1])\n",
    "print(\"Sorted list:\", my_list)\n"
   ]
  },
  {
   "cell_type": "code",
   "execution_count": 108,
   "id": "c71eb411",
   "metadata": {},
   "outputs": [
    {
     "name": "stdout",
     "output_type": "stream",
     "text": [
      "Result of addition: 7\n",
      "Result of multiplication: 12\n"
     ]
    }
   ],
   "source": [
    "\"\"\"3.Explain the concept of higher-order functions in Python, and provide an example.\"\"\"\n",
    "\n",
    "\"\"\"A higher-order function is a function that takes one or more functions as arguments \n",
    "or returns a function as its result. \n",
    " use them as building blocks for more complex operations.\n",
    "Higher order functions are essential for writing clean and efficient code \n",
    "and can simplify tasks by promoting code reusability. \n",
    "\"\"\"\n",
    "\n",
    "def apply_operation(func, x, y):\n",
    "    return func(x, y)\n",
    "\n",
    "def add(x, y):\n",
    "    return x + y\n",
    "\n",
    "def multiply(x, y):\n",
    "    return x * y\n",
    "\n",
    "result1 = apply_operation(add, 3, 4) \n",
    "result2 = apply_operation(multiply, 3, 4) \n",
    "\n",
    "print(\"Result of addition:\", result1)\n",
    "print(\"Result of multiplication:\", result2)\n"
   ]
  },
  {
   "cell_type": "code",
   "execution_count": 109,
   "id": "277f2d88",
   "metadata": {},
   "outputs": [
    {
     "name": "stdout",
     "output_type": "stream",
     "text": [
      "[1, 4, 9, 16, 25]\n"
     ]
    }
   ],
   "source": [
    "\"\"\"4.Create a Python function that takes a list of numbers and a function as arguments, applying the function to each element in the list.\"\"\"\n",
    "\n",
    "def apply_function_to_list(numbers, func):\n",
    "    \n",
    "    result = []\n",
    "    for number in numbers:\n",
    "        result.append(func(number))\n",
    "    return result\n",
    "\n",
    "def square(n):\n",
    "    return n * n\n",
    "\n",
    "numbers = [1, 2, 3, 4, 5]\n",
    "squared_numbers = apply_function_to_list(numbers, square)\n",
    "print(squared_numbers)\n"
   ]
  },
  {
   "cell_type": "markdown",
   "id": "53c7ea69",
   "metadata": {},
   "source": [
    "## Built-in Functions:"
   ]
  },
  {
   "cell_type": "code",
   "execution_count": 112,
   "id": "a20f06a4",
   "metadata": {},
   "outputs": [
    {
     "name": "stdout",
     "output_type": "stream",
     "text": [
      "5\n",
      "9\n",
      "1\n"
     ]
    }
   ],
   "source": [
    "\"\"\"1.Describe the role of built-in functions like `len()`, `max()`, and `min()` in Python.\"\"\"\n",
    "\n",
    "\"\"\"The len() function is used to determine the length or the number of items in an object. \n",
    "It can be applied to various data structures like strings, lists, tuples, sets, and dictionaries\n",
    "\"\"\"\n",
    "# example-\n",
    "list1 = [1, 2, 3, 4, 5]\n",
    "length = len(list1)\n",
    "print(length)\n",
    "\n",
    "\"\"\"The max() function is used to find the largest item in an iterable \n",
    "or the largest of two or more arguments.\"\"\"\n",
    "#example-\n",
    "list2 = [5, 2, 9, 1, 7]\n",
    "maximum = max(list2)\n",
    "print(maximum) \n",
    "\n",
    "\"\"\"The min() function is used to find the smallest item in an iterable or the smallest \n",
    "of two or more arguments.\"\"\"\n",
    "#example-\n",
    "numbers = [5, 2, 9, 1, 7]\n",
    "minimum = min(numbers)\n",
    "print(minimum)\n"
   ]
  },
  {
   "cell_type": "code",
   "execution_count": 113,
   "id": "5dea837f",
   "metadata": {},
   "outputs": [
    {
     "name": "stdout",
     "output_type": "stream",
     "text": [
      "[1, 9, 25]\n"
     ]
    }
   ],
   "source": [
    "\"\"\"2.Write a Python program that uses the `map()` function to apply a function to each element of a list.\"\"\"\n",
    "\n",
    "def square(n):\n",
    "    return n * n\n",
    "\n",
    "list3 = [1,3,5]\n",
    "squared_numbers = list(map(square, list3))\n",
    "print(squared_numbers)\n"
   ]
  },
  {
   "cell_type": "code",
   "execution_count": 114,
   "id": "17c6d4bb",
   "metadata": {},
   "outputs": [
    {
     "name": "stdout",
     "output_type": "stream",
     "text": [
      "[6, 8, 9, 7]\n"
     ]
    }
   ],
   "source": [
    "\"\"\"3.How does the `filter()` function work in Python, and when would you use it?\"\"\"\n",
    "\n",
    "\"\"\"Certainly! The filter() function in Python is a predefined function designed to sift\n",
    "through elements within an iterable data structure, such as a list, tuple, or set. \n",
    "It operates based on a user-defined condition provided through a specified function. \n",
    "The function evaluates each element of the iterable, \n",
    "including it in the result if the condition returns True.\n",
    "Essentially, filter() creates an iterator comprising the elements from the original iterable that meet the \n",
    "criteria specified by the provided function.\"\"\"\n",
    "#sintax-\n",
    "#filter(function, iterable)\n",
    "\n",
    "def is_greater_than_5(num):\n",
    "    return num > 5\n",
    "\n",
    "numbers = [1, 6, 3, 8, 2, 9, 4, 7]\n",
    "filtered_numbers = list(filter(is_greater_than_5, numbers))\n",
    "print(filtered_numbers)\n"
   ]
  },
  {
   "cell_type": "code",
   "execution_count": 118,
   "id": "e654b7fa",
   "metadata": {},
   "outputs": [
    {
     "name": "stdout",
     "output_type": "stream",
     "text": [
      "Product of all elements in the list: 120\n"
     ]
    }
   ],
   "source": [
    "\"\"\"4.Create a Python program that uses the `reduce()` function to find the product of all elements in a list.\"\"\"\n",
    "\n",
    "from functools import reduce\n",
    "def multiply(x, y):\n",
    "    return x * y\n",
    "\n",
    "list44 = [1, 2, 3, 4, 5]\n",
    "product = reduce(multiply, list44)\n",
    "print(\"Product of all elements in the list:\", product)"
   ]
  },
  {
   "cell_type": "markdown",
   "id": "5e2bde85",
   "metadata": {},
   "source": [
    "## Function Documentation and Best Practices:"
   ]
  },
  {
   "cell_type": "code",
   "execution_count": 120,
   "id": "676a6dd2",
   "metadata": {},
   "outputs": [
    {
     "data": {
      "text/plain": [
       "2025"
      ]
     },
     "execution_count": 120,
     "metadata": {},
     "output_type": "execute_result"
    }
   ],
   "source": [
    "\"\"\"1.Explain the purpose of docstrings in Python functions and how to write them.\"\"\"\n",
    "\n",
    "\"\"\"There are different styles for writing docstrings,\n",
    "but one commonly to use the triple double-quotes (\"\"\"  \"\"\") \n",
    "for multi-line docstrings. \"\"\"\n",
    "\n",
    "##Example- \n",
    "\n",
    "def calculate_square(num):\n",
    "    \"\"\"\n",
    "    This function calculates the square of a given number.\n",
    "    Args:number (int or float): The number to be squared.    \n",
    "    Returns:int or float: The square of the input number.\n",
    "    \"\"\"\n",
    "    return num * num\n",
    "\n",
    "calculate_square(45)"
   ]
  },
  {
   "cell_type": "code",
   "execution_count": 122,
   "id": "595d70e0",
   "metadata": {},
   "outputs": [
    {
     "data": {
      "text/plain": [
       "'Use verbs for function names as they typically indicate actions\\n(calculate, get, validate)\\nFunction names can also be a brief description of what the function does \\n(find_maximum, parse_input)'"
      ]
     },
     "execution_count": 122,
     "metadata": {},
     "output_type": "execute_result"
    }
   ],
   "source": [
    "\"\"\"2.Describe some best practices for naming functions and variables in Python, including naming conventions and guidelines.\"\"\"\n",
    "\n",
    "\"Choose meaningful and descriptive names that indicate the purpose of the function or variable.\"\n",
    "\"Avoid single-letter names unless the scope of the variable is very limited \"\n",
    "\"For functions and variable names, use lowercase letters\"\n",
    "\"separate words with underscores.\" \n",
    "# example: calculate_area,user_name,total_count.\n",
    "\n",
    "\"\"\"If a variable or function is intended to be private \n",
    "prefix its name with a single underscore. \n",
    "For example: `_private_variable`, `_private_function()`.\"\"\"\n",
    "\n",
    "\"\"\"Avoid Using Python Keywords:\n",
    "Do not use Python keywords (like if, else, while.) as function or variable names.\"\"\"\n",
    "\n",
    "\"\"\"Use Intuitive Names for Function Parameters\n",
    "When naming function parameters, \n",
    "use names that indicate the purpose of the parameter. \n",
    "example,calculate_sum(num1, num2)\"\"\"\n",
    "\n",
    "\"\"\"Use verbs for function names as they typically indicate actions\n",
    "(calculate, get, validate)\n",
    "Function names can also be a brief description of what the function does \n",
    "(find_maximum, parse_input)\"\"\"\n"
   ]
  },
  {
   "cell_type": "code",
   "execution_count": null,
   "id": "5856c3eb",
   "metadata": {},
   "outputs": [],
   "source": []
  }
 ],
 "metadata": {
  "kernelspec": {
   "display_name": "Python 3",
   "language": "python",
   "name": "python3"
  },
  "language_info": {
   "codemirror_mode": {
    "name": "ipython",
    "version": 3
   },
   "file_extension": ".py",
   "mimetype": "text/x-python",
   "name": "python",
   "nbconvert_exporter": "python",
   "pygments_lexer": "ipython3",
   "version": "3.8.8"
  },
  "varInspector": {
   "cols": {
    "lenName": 16,
    "lenType": 16,
    "lenVar": 40
   },
   "kernels_config": {
    "python": {
     "delete_cmd_postfix": "",
     "delete_cmd_prefix": "del ",
     "library": "var_list.py",
     "varRefreshCmd": "print(var_dic_list())"
    },
    "r": {
     "delete_cmd_postfix": ") ",
     "delete_cmd_prefix": "rm(",
     "library": "var_list.r",
     "varRefreshCmd": "cat(var_dic_list()) "
    }
   },
   "types_to_exclude": [
    "module",
    "function",
    "builtin_function_or_method",
    "instance",
    "_Feature"
   ],
   "window_display": false
  }
 },
 "nbformat": 4,
 "nbformat_minor": 5
}
