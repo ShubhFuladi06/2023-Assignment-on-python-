{
 "cells": [
  {
   "cell_type": "markdown",
   "id": "5dc14dd2",
   "metadata": {},
   "source": [
    "## Basic If-Else Statements:"
   ]
  },
  {
   "cell_type": "code",
   "execution_count": 1,
   "id": "8664d748",
   "metadata": {},
   "outputs": [
    {
     "name": "stdout",
     "output_type": "stream",
     "text": [
      "enter a number-56\n",
      "number is negatice\n"
     ]
    }
   ],
   "source": [
    "\"\"\"1. Write a Python program to check if a given number is positive or negative.\"\"\"\n",
    "\n",
    "number = int(input(\"enter a number\"))\n",
    "if number > 0:\n",
    "    print(\"number is positive\")\n",
    "else:\n",
    "    print(\"number is negatice\")"
   ]
  },
  {
   "cell_type": "code",
   "execution_count": 2,
   "id": "2748a76a",
   "metadata": {},
   "outputs": [
    {
     "name": "stdout",
     "output_type": "stream",
     "text": [
      "enter a number25\n",
      "you are eligible for vote\n"
     ]
    }
   ],
   "source": [
    "\"\"\"2. Create a program that determines if a person is eligible to vote based on their age.\"\"\"\n",
    "\n",
    "age = int(input(\"enter a number\"))\n",
    "if age > 18:\n",
    "    print(\"you are eligible for vote\")\n",
    "else:\n",
    "    print(\"you are not eligible for vote\")"
   ]
  },
  {
   "cell_type": "code",
   "execution_count": 3,
   "id": "4979115a",
   "metadata": {},
   "outputs": [
    {
     "name": "stdout",
     "output_type": "stream",
     "text": [
      "maximum number is  86\n"
     ]
    }
   ],
   "source": [
    "\"\"\"3. Develop a program to find the maximum of two numbers using if-else statements.\"\"\"\n",
    "\n",
    "a = 65\n",
    "b = 86\n",
    "\n",
    "if a>b:\n",
    "    print(\"maximum number is \",a)\n",
    "else:\n",
    "    print(\"maximum number is \",b)"
   ]
  },
  {
   "cell_type": "code",
   "execution_count": 4,
   "id": "82285c0f",
   "metadata": {},
   "outputs": [
    {
     "name": "stdout",
     "output_type": "stream",
     "text": [
      "Enter a year: 1994\n",
      "1994 is not a leap year.\n"
     ]
    }
   ],
   "source": [
    "\"\"\"4. Write a Python script to classify a given year as a leap year or not.\"\"\"\n",
    "\n",
    "year = int(input(\"Enter a year: \"))\n",
    "if (year % 4 == 0 and year % 100 != 0) or (year % 400 == 0):\n",
    "    print(f\"{year} is a leap year.\")\n",
    "else:\n",
    "    print(f\"{year} is not a leap year.\")\n"
   ]
  },
  {
   "cell_type": "code",
   "execution_count": 7,
   "id": "8f7c7492",
   "metadata": {},
   "outputs": [
    {
     "name": "stdout",
     "output_type": "stream",
     "text": [
      "enter character g\n",
      "character is not vowel\n"
     ]
    }
   ],
   "source": [
    "\"\"\"5. Create a program that checks whether a character is a vowel or a consonant.\"\"\"\n",
    "\n",
    "character = str(input(\"enter character \"))\n",
    "vowels = \"aeiouAEIOU\"\n",
    "if character in vowels:\n",
    "    print(\"character is vowel\")\n",
    "else:\n",
    "    print(\"character is not vowel\")\n",
    "\n"
   ]
  },
  {
   "cell_type": "code",
   "execution_count": 8,
   "id": "de03122c",
   "metadata": {},
   "outputs": [
    {
     "name": "stdout",
     "output_type": "stream",
     "text": [
      "Enter a number: 45\n",
      "given number is odd.\n"
     ]
    }
   ],
   "source": [
    "\"\"\"6. Implement a program to determine whether a given number is even or odd.\"\"\"\n",
    "\n",
    "number = int(input(\"Enter a number: \"))\n",
    "if number % 2 == 0:\n",
    "    print(\"given number is even.\")\n",
    "else:\n",
    "    print(\"given number is odd.\")\n",
    "    \n"
   ]
  },
  {
   "cell_type": "code",
   "execution_count": 11,
   "id": "862b67a9",
   "metadata": {},
   "outputs": [
    {
     "name": "stdout",
     "output_type": "stream",
     "text": [
      "Enter a number: -58\n",
      "The absolute value is  58.0\n"
     ]
    }
   ],
   "source": [
    "\"\"\"7. Write a Python function to calculate the absolute value of a number without using the `abs()` function.\"\"\"\n",
    "\n",
    "number = float(input(\"Enter a number: \"))\n",
    "if number < 0:\n",
    "    \n",
    "     print(f\"The absolute value is \", -number)\n",
    "else:\n",
    "     print(f\"The absolute value of \", number)  \n"
   ]
  },
  {
   "cell_type": "code",
   "execution_count": 15,
   "id": "d4fc4316",
   "metadata": {},
   "outputs": [
    {
     "name": "stdout",
     "output_type": "stream",
     "text": [
      "Enter the first number: 86\n",
      "Enter the second number: 95\n",
      "Enter the third number: 38\n",
      "largest number is 95\n"
     ]
    }
   ],
   "source": [
    "\"\"\"8. Develop a program that determines the largest of three given numbers using if-else statements.\"\"\"\n",
    "\n",
    "\n",
    "num1 = input(\"Enter the first number: \")\n",
    "num2 = input(\"Enter the second number: \")\n",
    "num3 = input(\"Enter the third number: \")\n",
    "\n",
    "\n",
    "if num1 >= num2 and num1 >= num3:\n",
    "    print(\"largest number is\",num1)\n",
    "elif num2 >= num1 and num2 >= num3:\n",
    "    print(\"largest number is\",num2)\n",
    "else:\n",
    "    print(\"largest number is\",num3)\n",
    "\n",
    "\n"
   ]
  },
  {
   "cell_type": "code",
   "execution_count": 16,
   "id": "7c8c66bb",
   "metadata": {},
   "outputs": [
    {
     "name": "stdout",
     "output_type": "stream",
     "text": [
      "Enter a string: wow\n",
      "The entered string is a palindrome.\n"
     ]
    }
   ],
   "source": [
    "\"\"\"9. Create a program that checks if a given string is a palindrome.\"\"\"\n",
    "\n",
    "string = input(\"Enter a string: \")\n",
    "s = string.replace(\" \", \"\").lower()\n",
    "if s == s[::-1]:\n",
    "    print(\"The entered string is a palindrome.\")\n",
    "else:\n",
    "    print(\"The entered string is not a palindrome.\")\n"
   ]
  },
  {
   "cell_type": "code",
   "execution_count": 17,
   "id": "23df6089",
   "metadata": {},
   "outputs": [
    {
     "name": "stdout",
     "output_type": "stream",
     "text": [
      "Enter the student's score: 86\n",
      "The student's grade is: A\n"
     ]
    }
   ],
   "source": [
    "\"\"\"10. Write a Python program to calculate the grade based on a student's score.\"\"\"\n",
    "\n",
    "def calculate_grade(score):\n",
    "    if 80 <= score <= 100:\n",
    "        return \"A\"\n",
    "    elif 60 <= score < 80:\n",
    "        return \"B\"\n",
    "    elif 40 <= score < 60:\n",
    "        return \"C\"\n",
    "    else:\n",
    "        return \"F\"\n",
    "\n",
    "score = float(input(\"Enter the student's score: \"))\n",
    "grade = calculate_grade(score)\n",
    "print(f\"The student's grade is: {grade}\")\n",
    "\n"
   ]
  },
  {
   "cell_type": "markdown",
   "id": "b34b2788",
   "metadata": {},
   "source": [
    "## Nested If-Else Statements:"
   ]
  },
  {
   "cell_type": "code",
   "execution_count": 18,
   "id": "ba237eed",
   "metadata": {},
   "outputs": [
    {
     "name": "stdout",
     "output_type": "stream",
     "text": [
      "Enter the first number: 65\n",
      "Enter the second number: 92\n",
      "Enter the third number: 58\n",
      "The largest number among 65.0, 92.0, and 58.0 is: 92.0\n"
     ]
    }
   ],
   "source": [
    "\"\"\"11. Write a program to find the largest among three numbers using nested if-else statements.\"\"\"\n",
    "\n",
    "num1 = float(input(\"Enter the first number: \"))\n",
    "num2 = float(input(\"Enter the second number: \"))\n",
    "num3 = float(input(\"Enter the third number: \"))\n",
    "\n",
    "if num1 >= num2:\n",
    "    if num1 >= num3:\n",
    "        largest = num1\n",
    "    else:\n",
    "        largest = num3\n",
    "else:\n",
    "    if num2 >= num3:\n",
    "        largest = num2\n",
    "    else:\n",
    "        largest = num3\n",
    "\n",
    "print(f\"The largest number among {num1}, {num2}, and {num3} is: {largest}\")\n"
   ]
  },
  {
   "cell_type": "code",
   "execution_count": 19,
   "id": "b90f9889",
   "metadata": {},
   "outputs": [
    {
     "name": "stdout",
     "output_type": "stream",
     "text": [
      "Enter the length of the first side: 56\n",
      "Enter the length of the second side: 26\n",
      "Enter the length of the third side: 56\n",
      "The triangle is Isosceles.\n"
     ]
    }
   ],
   "source": [
    "\"\"\"12. Implement a program to determine if a triangle is equilateral, isosceles, or scalene.\"\"\"\n",
    "\n",
    "def triangle_type(a, b, c):\n",
    "    if a == b == c:\n",
    "        return \"Equilateral\"\n",
    "    elif a == b or b == c or a == c:\n",
    "        return \"Isosceles\"\n",
    "    else:\n",
    "        return \"Scalene\"\n",
    "\n",
    "side1 = float(input(\"Enter the length of the first side: \"))\n",
    "side2 = float(input(\"Enter the length of the second side: \"))\n",
    "side3 = float(input(\"Enter the length of the third side: \"))\n",
    "\n",
    "triangle = triangle_type(side1, side2, side3)\n",
    "print(f\"The triangle is {triangle}.\")"
   ]
  },
  {
   "cell_type": "code",
   "execution_count": 21,
   "id": "2ddc02da",
   "metadata": {},
   "outputs": [
    {
     "name": "stdout",
     "output_type": "stream",
     "text": [
      "Enter a year: 2000\n",
      "2000 is a leap year.\n",
      "2000 is also a century year.\n"
     ]
    }
   ],
   "source": [
    "\"\"\"13. Develop a program that checks if a year is a leap year and also if it is a century year.\"\"\"\n",
    "\n",
    "def is_leap_year(year):\n",
    "    if (year % 4 == 0 and year % 100 != 0) or (year % 400 == 0):\n",
    "        return True\n",
    "    else:\n",
    "        return False\n",
    "\n",
    "def is_century_year(year):\n",
    "    if year % 100 == 0:\n",
    "        return True\n",
    "    else:\n",
    "        return False\n",
    "\n",
    "year = int(input(\"Enter a year: \"))\n",
    "if is_leap_year(year):\n",
    "    print(f\"{year} is a leap year.\")\n",
    "    if is_century_year(year):\n",
    "        print(f\"{year} is also a century year.\")\n",
    "    else:\n",
    "        print(f\"{year} is not a century year.\")\n",
    "else:\n",
    "    print(f\"{year} is not a leap year.\")\n"
   ]
  },
  {
   "cell_type": "code",
   "execution_count": 22,
   "id": "d390eccd",
   "metadata": {},
   "outputs": [
    {
     "name": "stdout",
     "output_type": "stream",
     "text": [
      "Enter a number: 56\n",
      "The number 56.0 is Positive.\n"
     ]
    }
   ],
   "source": [
    "\"\"\"14. Write a Python script to determine if a number is positive, negative, or zero.\"\"\"\n",
    "\n",
    "def check_number(number):\n",
    "    if number > 0:\n",
    "        return \"Positive\"\n",
    "    elif number < 0:\n",
    "        return \"Negative\"\n",
    "    else:\n",
    "        return \"Zero\"\n",
    "\n",
    "number = float(input(\"Enter a number: \"))\n",
    "result = check_number(number)\n",
    "print(f\"The number {number} is {result}.\")\n",
    "\n"
   ]
  },
  {
   "cell_type": "code",
   "execution_count": 23,
   "id": "d222175d",
   "metadata": {},
   "outputs": [
    {
     "name": "stdout",
     "output_type": "stream",
     "text": [
      "Enter your age: 18\n",
      "You are a teenager.\n"
     ]
    }
   ],
   "source": [
    "\"\"\"15. Create a program to check if a person is a teenager (between 13 and 19 years old).\"\"\"\n",
    "\n",
    "def is_teenager(age):\n",
    "    if 13 <= age <= 19:\n",
    "        return True\n",
    "    else:\n",
    "        return False\n",
    "\n",
    "age = int(input(\"Enter your age: \"))\n",
    "if is_teenager(age):\n",
    "    print(\"You are a teenager.\")\n",
    "else:\n",
    "    print(\"You are not a teenager.\")\n"
   ]
  },
  {
   "cell_type": "code",
   "execution_count": 25,
   "id": "62969a75",
   "metadata": {},
   "outputs": [
    {
     "name": "stdout",
     "output_type": "stream",
     "text": [
      "Enter the measure of the angle in degrees: 90\n",
      "The angle with measure 90.0 degrees is a Right Angle.\n"
     ]
    }
   ],
   "source": [
    "\"\"\"16. Develop a program that determines the type of angle based on its measure (acute, obtuse, or right).\"\"\"\n",
    "\n",
    "def angle_type(angle):\n",
    "    if 0 < angle < 90:\n",
    "        return \"Acute Angle\"\n",
    "    elif angle == 90:\n",
    "        return \"Right Angle\"\n",
    "    elif 90 < angle < 180:\n",
    "        return \"Obtuse Angle\"\n",
    "    else:\n",
    "        return \"Invalid Angle\"\n",
    "\n",
    "\n",
    "angle = float(input(\"Enter the measure of the angle in degrees: \"))\n",
    "angle_classification = angle_type(angle)\n",
    "print(f\"The angle with measure {angle} degrees is a {angle_classification}.\")\n",
    "\n"
   ]
  },
  {
   "cell_type": "code",
   "execution_count": 27,
   "id": "95289e31",
   "metadata": {},
   "outputs": [
    {
     "name": "stdout",
     "output_type": "stream",
     "text": [
      "Enter the coefficient a: 2\n",
      "Enter the coefficient b: -5\n",
      "Enter the coefficient c: -3\n",
      "The quadratic equation has two real roots: x1 = 3.0, x2 = -0.5\n"
     ]
    }
   ],
   "source": [
    "\"\"\"17. Write a Python program to calculate the roots of a quadratic equation.\"\"\"\n",
    "\n",
    "import math\n",
    "\n",
    "a = float(input(\"Enter the coefficient a: \"))\n",
    "b = float(input(\"Enter the coefficient b: \"))\n",
    "c = float(input(\"Enter the coefficient c: \"))\n",
    "\n",
    "discriminant = b**2 - 4*a*c\n",
    "\n",
    "if discriminant > 0:\n",
    "    root1 = (-b + math.sqrt(discriminant)) / (2*a)\n",
    "    root2 = (-b - math.sqrt(discriminant)) / (2*a)\n",
    "    print(f\"The quadratic equation has two real roots: x1 = {root1}, x2 = {root2}\")\n",
    "elif discriminant == 0:\n",
    "    root = -b / (2*a)\n",
    "    print(f\"The quadratic equation has one real root: x = {root}\")\n",
    "else:\n",
    "    print(\"The quadratic equation has no real roots (complex roots).\")\n"
   ]
  },
  {
   "cell_type": "code",
   "execution_count": 33,
   "id": "b2c11e17",
   "metadata": {},
   "outputs": [
    {
     "name": "stdout",
     "output_type": "stream",
     "text": [
      "Enter a number  5\n",
      "The day corresponding to number 5 is: Friday\n"
     ]
    }
   ],
   "source": [
    "\"\"\"18. Implement a program to determine the day of the week based on a user-provided number (1 for Monday, 2\n",
    "for Tuesday, etc.)\"\"\"\n",
    "\n",
    "\n",
    "def day_of_week(day_number):\n",
    "    days = [\"Monday\", \"Tuesday\", \"Wednesday\", \"Thursday\", \"Friday\", \"Saturday\", \"Sunday\"]\n",
    "    if 1 <= day_number <= 7:\n",
    "        return days[day_number - 1]\n",
    "    else:\n",
    "        return \"Invalid day number\"\n",
    "\n",
    "day_number = int(input(\"Enter a number  \"))\n",
    "day_name = day_of_week(day_number)\n",
    "print(f\"The day corresponding to number {day_number} is: {day_name}\")"
   ]
  },
  {
   "cell_type": "code",
   "execution_count": 34,
   "id": "3ad82182",
   "metadata": {},
   "outputs": [
    {
     "name": "stdout",
     "output_type": "stream",
     "text": [
      "Enter a year: 2000\n",
      "2000 is a leap year.\n",
      "2000 is also evenly divisible by 400.\n"
     ]
    }
   ],
   "source": [
    "\"\"\"19. Create a program that determines if a year is a leap year and also if it is evenly divisible by 400.\"\"\"\n",
    "\n",
    "def is_leap_year(year):\n",
    "    if (year % 4 == 0 and year % 100 != 0) or (year % 400 == 0):\n",
    "        return True\n",
    "    else:\n",
    "        return False\n",
    "\n",
    "year = int(input(\"Enter a year: \"))\n",
    "if is_leap_year(year):\n",
    "    print(f\"{year} is a leap year.\")\n",
    "    if year % 400 == 0:\n",
    "        print(f\"{year} is also evenly divisible by 400.\")\n",
    "else:\n",
    "    print(f\"{year} is not a leap year.\")\n"
   ]
  },
  {
   "cell_type": "code",
   "execution_count": 35,
   "id": "634fd07b",
   "metadata": {},
   "outputs": [
    {
     "name": "stdout",
     "output_type": "stream",
     "text": [
      "Enter a number: 58\n",
      "58 is not a prime number.\n"
     ]
    }
   ],
   "source": [
    "\"\"\"20. Develop a program that checks if a given number is prime or not using nested if-else statements.\"\"\"\n",
    "\n",
    "def is_prime(number):\n",
    "    if number <= 1:\n",
    "        return False\n",
    "    elif number == 2:\n",
    "        return True\n",
    "    elif number % 2 == 0:\n",
    "        return False\n",
    "    else:\n",
    "        for i in range(3, int(number**0.5) + 1, 2):\n",
    "            if number % i == 0:\n",
    "                return False\n",
    "        return True\n",
    "\n",
    "number = int(input(\"Enter a number: \"))\n",
    "if is_prime(number):\n",
    "    print(f\"{number} is a prime number.\")\n",
    "else:\n",
    "    print(f\"{number} is not a prime number.\")\n",
    "\n",
    "\n"
   ]
  },
  {
   "cell_type": "markdown",
   "id": "7b433d1a",
   "metadata": {},
   "source": [
    "## Elif Statements:"
   ]
  },
  {
   "cell_type": "code",
   "execution_count": 37,
   "id": "add2a5a0",
   "metadata": {},
   "outputs": [
    {
     "name": "stdout",
     "output_type": "stream",
     "text": [
      "Enter the student's score: 79\n",
      "The student's grade is: C\n"
     ]
    }
   ],
   "source": [
    "\"\"\"21. Write a Python program to assign grades based on different ranges of scores using elif statements.\"\"\"\n",
    "\n",
    "def assign_grade(score):\n",
    "    if 90 <= score <= 100:\n",
    "        return \"A\"\n",
    "    elif 80 <= score < 90:\n",
    "        return \"B\"\n",
    "    elif 70 <= score < 80:\n",
    "        return \"C\"\n",
    "    elif 60 <= score < 70:\n",
    "        return \"D\"\n",
    "    else:\n",
    "        return \"Fail\"\n",
    "\n",
    "score = float(input(\"Enter the student's score: \"))\n",
    "grade = assign_grade(score)\n",
    "print(f\"The student's grade is: {grade}\")\n",
    "\n"
   ]
  },
  {
   "cell_type": "code",
   "execution_count": 40,
   "id": "01a416dc",
   "metadata": {},
   "outputs": [
    {
     "name": "stdout",
     "output_type": "stream",
     "text": [
      "Enter the first angle of the triangle: 72\n",
      "Enter the second angle of the triangle: 72\n",
      "Enter the third angle of the triangle: 36\n",
      "The triangle is a Acute Triangle.\n"
     ]
    }
   ],
   "source": [
    "\"\"\"22. Implement a program to determine the type of a triangle based on its angles.\"\"\"\n",
    "\n",
    "def triangle_type(angle1, angle2, angle3):\n",
    "    \n",
    "    if angle1 + angle2 + angle3 == 180:\n",
    "        if angle1 == 90 or angle2 == 90 or angle3 == 90:\n",
    "            return \"Right Triangle\"\n",
    "        elif angle1 > 90 or angle2 > 90 or angle3 > 90:\n",
    "            return \"Obtuse Triangle\"\n",
    "        else:\n",
    "            return \"Acute Triangle\"\n",
    "    else:\n",
    "        return \"Invalid Triangle\"\n",
    "\n",
    "angle1 = float(input(\"Enter the first angle of the triangle: \"))\n",
    "angle2 = float(input(\"Enter the second angle of the triangle: \"))\n",
    "angle3 = float(input(\"Enter the third angle of the triangle: \"))\n",
    "\n",
    "triangle_classification = triangle_type(angle1, angle2, angle3)\n",
    "print(f\"The triangle is a {triangle_classification}.\")\n",
    "\n"
   ]
  },
  {
   "cell_type": "code",
   "execution_count": 41,
   "id": "2cfd3d4c",
   "metadata": {},
   "outputs": [
    {
     "name": "stdout",
     "output_type": "stream",
     "text": [
      "Enter your weight in kilograms: 71\n",
      "Enter your height in meters: 180\n",
      "Your BMI category is: Underweight\n"
     ]
    }
   ],
   "source": [
    "\"\"\"23. Develop a program to categorize a given person's BMI into underweight, normal, overweight, or obese using\n",
    "elif statements.\"\"\"\n",
    "\n",
    "def calculate_bmi(weight, height):\n",
    "    \n",
    "    bmi = weight / (height ** 2)\n",
    "    if bmi < 18.5:\n",
    "        return \"Underweight\"\n",
    "    elif 18.5 <= bmi < 24.9:\n",
    "        return \"Normal weight\"\n",
    "    elif 25 <= bmi < 29.9:\n",
    "        return \"Overweight\"\n",
    "    else:\n",
    "        return \"Obese\"\n",
    "\n",
    "weight = float(input(\"Enter your weight in kilograms: \"))\n",
    "height = float(input(\"Enter your height in meters: \"))\n",
    "\n",
    "bmi_category = calculate_bmi(weight, height)\n",
    "print(f\"Your BMI category is: {bmi_category}\")\n"
   ]
  },
  {
   "cell_type": "code",
   "execution_count": 42,
   "id": "9ec20fca",
   "metadata": {},
   "outputs": [
    {
     "name": "stdout",
     "output_type": "stream",
     "text": [
      "Enter a number: 56\n",
      "The number is positive.\n"
     ]
    }
   ],
   "source": [
    "\"\"\"24. Create a program that determines whether a given number is positive, negative, or zero using elif\n",
    "statements.\"\"\"\n",
    "\n",
    "\n",
    "number = float(input(\"Enter a number: \"))\n",
    "if number > 0:\n",
    "    print(\"The number is positive.\")\n",
    "elif number < 0:\n",
    "    print(\"The number is negative.\")\n",
    "else:\n",
    "    print(\"The number is zero.\")\n",
    "\n"
   ]
  },
  {
   "cell_type": "code",
   "execution_count": 49,
   "id": "daf9196d",
   "metadata": {},
   "outputs": [
    {
     "name": "stdout",
     "output_type": "stream",
     "text": [
      "Enter a character: S\n",
      "The character is uppercase.\n"
     ]
    }
   ],
   "source": [
    "\"\"\"25. Write a Python script to determine the type of a character (uppercase, lowercase, or special) using elif\n",
    "statements.\"\"\"\n",
    "\n",
    "char = input(\"Enter a character: \")\n",
    "\n",
    "if char.islower():\n",
    "    print(\"The character is lowercase.\")\n",
    "elif char.isupper():\n",
    "    print(\"The character is uppercase.\")\n",
    "else:\n",
    "    print(\"The character is special.\")\n"
   ]
  },
  {
   "cell_type": "code",
   "execution_count": 50,
   "id": "8b9ba09f",
   "metadata": {},
   "outputs": [
    {
     "name": "stdout",
     "output_type": "stream",
     "text": [
      "Enter the purchase amount: 500\n",
      "The discounted price is: 475.00\n"
     ]
    }
   ],
   "source": [
    "\"\"\"26. Implement a program to calculate the discounted price based on different purchase amounts using elif\n",
    "statements.\"\"\"\n",
    "\n",
    "purchase_amount = float(input(\"Enter the purchase amount: \"))\n",
    "\n",
    "if purchase_amount >= 1000:\n",
    "    discount = 0.10  \n",
    "elif purchase_amount >= 500:\n",
    "    discount = 0.05  \n",
    "elif purchase_amount >= 100:\n",
    "    discount = 0.02\n",
    "else:\n",
    "    discount = 0 \n",
    "\n",
    "discounted_price = purchase_amount - (purchase_amount * discount)\n",
    "print(f\"The discounted price is: {discounted_price:.2f}\")\n",
    "\n",
    "\n",
    "\n"
   ]
  },
  {
   "cell_type": "code",
   "execution_count": 52,
   "id": "0c72a4a1",
   "metadata": {},
   "outputs": [
    {
     "name": "stdout",
     "output_type": "stream",
     "text": [
      "Enter the electricity consumption in kilowatt hours (kWh): 180\n",
      "The electricity bill is RS 1170.00\n"
     ]
    }
   ],
   "source": [
    "\"\"\"27. Develop a program to calculate the electricity bill based on different consumption slabs using elif\n",
    "statements.\"\"\"\n",
    "\n",
    "\n",
    "consumption = float(input(\"Enter the electricity consumption in kilowatt hours (kWh): \"))\n",
    "\n",
    "if consumption <= 50:\n",
    "    cost_per_unit = 3.00  \n",
    "elif consumption <= 100:\n",
    "    cost_per_unit = 4.50  \n",
    "elif consumption <= 200:\n",
    "    cost_per_unit = 6.50  \n",
    "elif consumption <= 300:\n",
    "    cost_per_unit = 8.00  \n",
    "else:\n",
    "    cost_per_unit = 9.00  \n",
    "\n",
    "total_cost = consumption * cost_per_unit\n",
    "print(f\"The electricity bill is RS {total_cost:.2f}\")\n",
    "\n"
   ]
  },
  {
   "cell_type": "code",
   "execution_count": 53,
   "id": "d7c2cb30",
   "metadata": {},
   "outputs": [
    {
     "name": "stdout",
     "output_type": "stream",
     "text": [
      "Enter the first angle in degrees: 45\n",
      "Enter the second angle in degrees: 45\n",
      "Enter the third angle in degrees: 45\n",
      "Enter the fourth angle in degrees: 45\n",
      "Enter the length of the first side: 50\n",
      "Enter the length of the second side: 80\n",
      "Enter the length of the third side: 50\n",
      "Enter the length of the fourth side: 80\n",
      "The quadrilateral is a rhombus.\n"
     ]
    }
   ],
   "source": [
    "\"\"\"28. Create a program to determine the type of quadrilateral based on its angles and sides using elif\n",
    "statements.\"\"\"\n",
    "\n",
    "\n",
    "angle1 = float(input(\"Enter the first angle in degrees: \"))\n",
    "angle2 = float(input(\"Enter the second angle in degrees: \"))\n",
    "angle3 = float(input(\"Enter the third angle in degrees: \"))\n",
    "angle4 = float(input(\"Enter the fourth angle in degrees: \"))\n",
    "side1 = float(input(\"Enter the length of the first side: \"))\n",
    "side2 = float(input(\"Enter the length of the second side: \"))\n",
    "side3 = float(input(\"Enter the length of the third side: \"))\n",
    "side4 = float(input(\"Enter the length of the fourth side: \"))\n",
    "\n",
    "if angle1 == angle2 == angle3 == angle4 == 90:\n",
    "    if side1 == side2 == side3 == side4:\n",
    "        print(\"The quadrilateral is a square.\")\n",
    "    else:\n",
    "        print(\"The quadrilateral is a rectangle.\")\n",
    "elif side1 == side2 == side3 == side4:\n",
    "    print(\"The quadrilateral is a parallelogram.\")\n",
    "elif side1 == side3 and side2 == side4:\n",
    "    if angle1 == angle3 and angle2 == angle4:\n",
    "        print(\"The quadrilateral is a rhombus.\")\n",
    "    else:\n",
    "        print(\"The quadrilateral is a parallelogram but not a rhombus.\")\n",
    "else:\n",
    "    print(\"The quadrilateral is a general quadrilateral.\")\n",
    "\n"
   ]
  },
  {
   "cell_type": "code",
   "execution_count": 57,
   "id": "3ea3a7aa",
   "metadata": {},
   "outputs": [
    {
     "name": "stdout",
     "output_type": "stream",
     "text": [
      "Enter the month (1-12): 11\n",
      "The season for month 11  is: Winter\n"
     ]
    }
   ],
   "source": [
    "\"\"\"29. Write a Python script to determine the season based on a user-provided month using elif statements.\"\"\"\n",
    "\n",
    "\n",
    "month = int(input(\"Enter the month (1-12): \"))\n",
    "\n",
    "if month in [3, 4, 5, 6]:\n",
    "    season = \"Summer\"\n",
    "elif month in [11, 12, 1, 2]:\n",
    "    season = \"Winter\"\n",
    "elif month in [7, 8, 9, 10]:\n",
    "    season = \"Monsoon\"\n",
    "else:\n",
    "    season = \"Invalid Month\"\n",
    "\n",
    "print(f\"The season for month {month}  is: {season}\")"
   ]
  },
  {
   "cell_type": "code",
   "execution_count": 60,
   "id": "5750b3b6",
   "metadata": {},
   "outputs": [
    {
     "name": "stdout",
     "output_type": "stream",
     "text": [
      "Enter a year: 2000\n",
      "Enter a month (1-12): 11\n",
      "The year 2000 is a Leap Year.\n",
      "The month 11 has 30 days.\n"
     ]
    }
   ],
   "source": [
    "\"\"\"30. Implement a program to determine the type of a year (leap or common) and month (30 or 31 days) using\n",
    "elif statements.\"\"\"\n",
    "\n",
    "year = int(input(\"Enter a year: \"))\n",
    "month = int(input(\"Enter a month (1-12): \"))\n",
    "\n",
    "if year % 400 == 0:\n",
    "    year_type = \"Leap Year\"\n",
    "elif year % 100 == 0:\n",
    "    year_type = \"Common Year\"\n",
    "elif year % 4 == 0:\n",
    "    year_type = \"Leap Year\"\n",
    "else:\n",
    "    year_type = \"Common Year\"\n",
    "\n",
    "if month in [1, 3, 5, 7, 8, 10, 12]:\n",
    "    month_days = 31\n",
    "elif month in [4, 6, 9, 11]:\n",
    "    month_days = 30\n",
    "elif month == 2:\n",
    "    if year_type == \"Leap Year\":\n",
    "        month_days = 29\n",
    "    else:\n",
    "        month_days = 28\n",
    "else:\n",
    "    month_days = \"Invalid Month\"\n",
    "\n",
    "if year_type != \"Invalid Year\" and month_days != \"Invalid Month\":\n",
    "    print(f\"The year {year} is a {year_type}.\")\n",
    "    print(f\"The month {month} has {month_days} days.\")\n",
    "else:\n",
    "    print(\"Invalid input. Please enter valid year and month.\")\n"
   ]
  },
  {
   "cell_type": "markdown",
   "id": "959f9ab6",
   "metadata": {},
   "source": [
    "## Basic Level:"
   ]
  },
  {
   "cell_type": "code",
   "execution_count": 61,
   "id": "ca578429",
   "metadata": {},
   "outputs": [
    {
     "name": "stdout",
     "output_type": "stream",
     "text": [
      "Enter a number: 56\n",
      "The number is positive.\n"
     ]
    }
   ],
   "source": [
    "\"\"\"1. Write a Python program that checks if a given number is positive, negative, or zero.\"\"\"\n",
    "\n",
    "number = float(input(\"Enter a number: \"))\n",
    "if number > 0:\n",
    "    print(\"The number is positive.\")\n",
    "elif number < 0:\n",
    "    print(\"The number is negative.\")\n",
    "else:\n",
    "    print(\"The number is zero.\")\n",
    "\n"
   ]
  },
  {
   "cell_type": "code",
   "execution_count": 62,
   "id": "35c0558e",
   "metadata": {},
   "outputs": [
    {
     "name": "stdout",
     "output_type": "stream",
     "text": [
      "enter a number45\n",
      "you are eligible for vote\n"
     ]
    }
   ],
   "source": [
    "\"\"\"2. Create a program to determine if a person is eligible to vote based on their age.\"\"\"\n",
    "\n",
    "age = int(input(\"enter a number\"))\n",
    "if age > 18:\n",
    "    print(\"you are eligible for vote\")\n",
    "else:\n",
    "    print(\"you are not eligible for vote\")"
   ]
  },
  {
   "cell_type": "code",
   "execution_count": 63,
   "id": "a05fc69a",
   "metadata": {},
   "outputs": [
    {
     "name": "stdout",
     "output_type": "stream",
     "text": [
      "Enter the first number: 56\n",
      "Enter the second number: 96\n",
      "The maximum of 56.0 and 96.0 is: 96.0\n"
     ]
    }
   ],
   "source": [
    "\"\"\"3. Write a program to find the maximum of two given numbers using conditional statements.\"\"\"\n",
    "\n",
    "number1 = float(input(\"Enter the first number: \"))\n",
    "number2 = float(input(\"Enter the second number: \"))\n",
    "\n",
    "if number1 > number2:\n",
    "    maximum = number1\n",
    "else:\n",
    "    maximum = number2\n",
    "print(f\"The maximum of {number1} and {number2} is: {maximum}\")\n",
    "\n"
   ]
  },
  {
   "cell_type": "code",
   "execution_count": 64,
   "id": "f8689059",
   "metadata": {},
   "outputs": [
    {
     "name": "stdout",
     "output_type": "stream",
     "text": [
      "Enter the student's score: 86\n",
      "The student's grade is: B\n"
     ]
    }
   ],
   "source": [
    "\"\"\"4. Develop a program that calculates the grade of a student based on their exam score.\"\"\"\n",
    "\n",
    "def assign_grade(score):\n",
    "    if 90 <= score <= 100:\n",
    "        return \"A\"\n",
    "    elif 80 <= score < 90:\n",
    "        return \"B\"\n",
    "    elif 70 <= score < 80:\n",
    "        return \"C\"\n",
    "    elif 60 <= score < 70:\n",
    "        return \"D\"\n",
    "    else:\n",
    "        return \"Fail\"\n",
    "\n",
    "score = float(input(\"Enter the student's score: \"))\n",
    "grade = assign_grade(score)\n",
    "print(f\"The student's grade is: {grade}\")"
   ]
  },
  {
   "cell_type": "code",
   "execution_count": 65,
   "id": "55f3198e",
   "metadata": {},
   "outputs": [
    {
     "name": "stdout",
     "output_type": "stream",
     "text": [
      "Enter a year: 1994\n",
      "1994 is not a leap year.\n"
     ]
    }
   ],
   "source": [
    "\"\"\"5. Create a program that checks if a year is a leap year or not.\"\"\"\n",
    "\n",
    "year = int(input(\"Enter a year: \"))\n",
    "if (year % 4 == 0 and year % 100 != 0) or (year % 400 == 0):\n",
    "    print(f\"{year} is a leap year.\")\n",
    "else:\n",
    "    print(f\"{year} is not a leap year.\")\n"
   ]
  },
  {
   "cell_type": "code",
   "execution_count": 66,
   "id": "c9f477f7",
   "metadata": {},
   "outputs": [
    {
     "name": "stdout",
     "output_type": "stream",
     "text": [
      "Enter the length of the first side: 45\n",
      "Enter the length of the second side: 45\n",
      "Enter the length of the third side: 20\n",
      "The triangle is Isosceles.\n"
     ]
    }
   ],
   "source": [
    "\"\"\"6. Write a program to classify a triangle based on its sides' lengths.\"\"\"\n",
    "\n",
    "def triangle_type(a, b, c):\n",
    "    if a == b == c:\n",
    "        return \"Equilateral\"\n",
    "    elif a == b or b == c or a == c:\n",
    "        return \"Isosceles\"\n",
    "    else:\n",
    "        return \"Scalene\"\n",
    "\n",
    "side1 = float(input(\"Enter the length of the first side: \"))\n",
    "side2 = float(input(\"Enter the length of the second side: \"))\n",
    "side3 = float(input(\"Enter the length of the third side: \"))\n",
    "\n",
    "triangle = triangle_type(side1, side2, side3)\n",
    "print(f\"The triangle is {triangle}.\")\n"
   ]
  },
  {
   "cell_type": "code",
   "execution_count": 67,
   "id": "1881fc4a",
   "metadata": {},
   "outputs": [
    {
     "name": "stdout",
     "output_type": "stream",
     "text": [
      "Enter the first number: 56\n",
      "Enter the second number: 82\n",
      "Enter the third number: 54\n",
      "The largest number among 56.0, 82.0, and 54.0 is: 82.0\n"
     ]
    }
   ],
   "source": [
    "\"\"\"7. Build a program that determines the largest of three given numbers.\"\"\"\n",
    "\n",
    "number1 = float(input(\"Enter the first number: \"))\n",
    "number2 = float(input(\"Enter the second number: \"))\n",
    "number3 = float(input(\"Enter the third number: \"))\n",
    "\n",
    "# Find the largest number using conditional statements\n",
    "if number1 >= number2 and number1 >= number3:\n",
    "    largest = number1\n",
    "elif number2 >= number1 and number2 >= number3:\n",
    "    largest = number2\n",
    "else:\n",
    "    largest = number3\n",
    "\n",
    "print(f\"The largest number among {number1}, {number2}, and {number3} is: {largest}\")\n",
    "\n"
   ]
  },
  {
   "cell_type": "code",
   "execution_count": 69,
   "id": "859dac13",
   "metadata": {},
   "outputs": [
    {
     "name": "stdout",
     "output_type": "stream",
     "text": [
      "Enter a character: k\n",
      "The character is a consonant.\n"
     ]
    }
   ],
   "source": [
    "\"\"\"8. Develop a program that checks whether a character is a vowel or a consonant.\"\"\"\n",
    "\n",
    "char = input(\"Enter a character: \")\n",
    "if char.isalpha() and len(char) == 1:\n",
    "    if char.lower() in 'aeiou':\n",
    "        print(\"The character is a vowel.\")\n",
    "    else:\n",
    "        print(\"The character is a consonant.\")\n",
    "else:\n",
    "    print(\"Invalid input. Please enter a single alphabet character.\")\n",
    "\n"
   ]
  },
  {
   "cell_type": "code",
   "execution_count": 73,
   "id": "8497c324",
   "metadata": {},
   "outputs": [
    {
     "name": "stdout",
     "output_type": "stream",
     "text": [
      "Enter the number of items in your shopping cart: 3\n",
      "Enter the price of item 1: 52\n",
      "Enter the price of item 2: 62\n",
      "Enter the price of item 3: 35\n",
      "Enter the discount percentage: 10\n",
      "The total cost after a 10.0% discount is: Rs134.10\n"
     ]
    }
   ],
   "source": [
    "\"\"\"9.Create a program to calculate the total cost of a shopping cart based on discounts.\"\"\"\n",
    "\n",
    "def calculate_total_cost(item_prices, discount_percent):\n",
    "    total_cost = sum(item_prices)\n",
    "    discount_amount = (discount_percent / 100) * total_cost\n",
    "    total_cost_after_discount = total_cost - discount_amount\n",
    "    return total_cost_after_discount\n",
    "\n",
    "\n",
    "item_prices = []\n",
    "num_items = int(input(\"Enter the number of items in your shopping cart: \"))\n",
    "for i in range(num_items):\n",
    "    price = float(input(f\"Enter the price of item {i + 1}: \"))\n",
    "    item_prices.append(price)\n",
    "\n",
    "discount_percent = float(input(\"Enter the discount percentage: \"))\n",
    "\n",
    "total_cost = calculate_total_cost(item_prices, discount_percent)\n",
    "print(f\"The total cost after a {discount_percent}% discount is: Rs{total_cost:.2f}\")\n"
   ]
  },
  {
   "cell_type": "code",
   "execution_count": 74,
   "id": "e143c6e6",
   "metadata": {},
   "outputs": [
    {
     "name": "stdout",
     "output_type": "stream",
     "text": [
      "Enter a number: 45\n",
      "The number is odd.\n"
     ]
    }
   ],
   "source": [
    "\"\"\"10. Write a program that checks if a given number is even or odd.\"\"\"\n",
    "\n",
    "number = int(input(\"Enter a number: \"))\n",
    "if number % 2 == 0:\n",
    "    print(\"The number is even.\")\n",
    "else:\n",
    "    print(\"The number is odd.\")\n",
    "\n"
   ]
  },
  {
   "cell_type": "markdown",
   "id": "67e27a2a",
   "metadata": {},
   "source": [
    "## Intermediate Level:"
   ]
  },
  {
   "cell_type": "code",
   "execution_count": 75,
   "id": "8a9836e6",
   "metadata": {},
   "outputs": [
    {
     "name": "stdout",
     "output_type": "stream",
     "text": [
      "Enter the coefficient a: 8\n",
      "Enter the coefficient b: 9\n",
      "Enter the coefficient c: 12\n",
      "The quadratic equation has no real roots (complex roots).\n"
     ]
    }
   ],
   "source": [
    "\"\"\"11. Write a program that calculates the roots of a quadratic equation .\"\"\"\n",
    "\n",
    "import math\n",
    "\n",
    "a = float(input(\"Enter the coefficient a: \"))\n",
    "b = float(input(\"Enter the coefficient b: \"))\n",
    "c = float(input(\"Enter the coefficient c: \"))\n",
    "\n",
    "discriminant = b**2 - 4*a*c\n",
    "\n",
    "if discriminant > 0:\n",
    "    root1 = (-b + math.sqrt(discriminant)) / (2*a)\n",
    "    root2 = (-b - math.sqrt(discriminant)) / (2*a)\n",
    "    print(f\"The quadratic equation has two real roots: x1 = {root1}, x2 = {root2}\")\n",
    "elif discriminant == 0:\n",
    "    root = -b / (2*a)\n",
    "    print(f\"The quadratic equation has one real root: x = {root}\")\n",
    "else:\n",
    "    print(\"The quadratic equation has no real roots (complex roots).\")"
   ]
  },
  {
   "cell_type": "code",
   "execution_count": 76,
   "id": "d1fe8f48",
   "metadata": {},
   "outputs": [
    {
     "name": "stdout",
     "output_type": "stream",
     "text": [
      "Enter a number  5\n",
      "The day corresponding to number 5 is: Friday\n"
     ]
    }
   ],
   "source": [
    "\"\"\"12. Create a program that determines the day of the week based on the day number (1-7).\"\"\"\n",
    "\n",
    "def day_of_week(day_number):\n",
    "    days = [\"Monday\", \"Tuesday\", \"Wednesday\", \"Thursday\", \"Friday\", \"Saturday\", \"Sunday\"]\n",
    "    if 1 <= day_number <= 7:\n",
    "        return days[day_number - 1]\n",
    "    else:\n",
    "        return \"Invalid day number\"\n",
    "\n",
    "day_number = int(input(\"Enter a number  \"))\n",
    "day_name = day_of_week(day_number)\n",
    "print(f\"The day corresponding to number {day_number} is: {day_name}\")"
   ]
  },
  {
   "cell_type": "code",
   "execution_count": 83,
   "id": "403e81cb",
   "metadata": {},
   "outputs": [
    {
     "name": "stdout",
     "output_type": "stream",
     "text": [
      "enter a number5\n",
      "the factorial of  5  is  120\n"
     ]
    }
   ],
   "source": [
    "\"\"\"13. Develop a program that calculates the factorial of a given number using recursion.\"\"\"\n",
    "\n",
    "def factorial(n):\n",
    "    if n==0:\n",
    "        return 1\n",
    "    else:\n",
    "        fact = n * factorial(n-1)\n",
    "        return fact\n",
    "\n",
    "num = int(input(\"enter a number\"))\n",
    "print(\"the factorial of \",num,\" is \",factorial(num))"
   ]
  },
  {
   "cell_type": "code",
   "execution_count": 84,
   "id": "1497e92c",
   "metadata": {},
   "outputs": [
    {
     "name": "stdout",
     "output_type": "stream",
     "text": [
      "Enter the first number: 56\n",
      "Enter the second number: 39\n",
      "Enter the third number: 54\n",
      "The largest number among 56.0, 39.0, and 54.0 is: 56.0\n"
     ]
    }
   ],
   "source": [
    "\"\"\"14. Write a program to find the largest among three numbers without using the `max()` function.\"\"\"\n",
    "\n",
    "num1 = float(input(\"Enter the first number: \"))\n",
    "num2 = float(input(\"Enter the second number: \"))\n",
    "num3 = float(input(\"Enter the third number: \"))\n",
    "\n",
    "if num1 >= num2:\n",
    "    if num1 >= num3:\n",
    "        largest = num1\n",
    "    else:\n",
    "        largest = num3\n",
    "else:\n",
    "    if num2 >= num3:\n",
    "        largest = num2\n",
    "    else:\n",
    "        largest = num3\n",
    "\n",
    "print(f\"The largest number among {num1}, {num2}, and {num3} is: {largest}\")\n"
   ]
  },
  {
   "cell_type": "code",
   "execution_count": 85,
   "id": "74821b74",
   "metadata": {},
   "outputs": [
    {
     "name": "stdout",
     "output_type": "stream",
     "text": [
      "Enter a string: shubh\n",
      "The entered string is not a palindrome.\n"
     ]
    }
   ],
   "source": [
    "\"\"\"16. Build a program that checks if a given string is a palindrome or not.\"\"\"\n",
    "\n",
    "string = input(\"Enter a string: \")\n",
    "s = string.replace(\" \", \"\").lower()\n",
    "if s == s[::-1]:\n",
    "    print(\"The entered string is a palindrome.\")\n",
    "else:\n",
    "    print(\"The entered string is not a palindrome.\")"
   ]
  },
  {
   "cell_type": "code",
   "execution_count": 87,
   "id": "cf82b3f8",
   "metadata": {},
   "outputs": [
    {
     "name": "stdout",
     "output_type": "stream",
     "text": [
      "Enter a list of numbers separated by space: 45 85 96 35 65\n",
      "The average of the list is: 65.20\n"
     ]
    }
   ],
   "source": [
    "\"\"\"17. Write a program that calculates the average of a list of numbers, excluding the smallest and largest values.\"\"\"\n",
    "\n",
    "def calculate_average(numbers):\n",
    "    if len(numbers) < 3:\n",
    "        return \"Enter more than three numbers.\"\n",
    "    else:\n",
    "        total = sum(numbers) \n",
    "        average = total / (len(numbers))\n",
    "        return average\n",
    "\n",
    "numbers = list(map(float, input(\"Enter a list of numbers separated by space: \").split()))\n",
    "result = calculate_average(numbers)\n",
    "print(f\"The average of the list is: {result:.2f}\")\n",
    "\n"
   ]
  },
  {
   "cell_type": "code",
   "execution_count": 28,
   "id": "79e4a4b1",
   "metadata": {},
   "outputs": [
    {
     "name": "stdout",
     "output_type": "stream",
     "text": [
      "Enter temperature in Celsius: 45\n",
      "45.0 Celsius is equal to 113.00 Fahrenheit.\n"
     ]
    }
   ],
   "source": [
    "\"\"\"18. Develop a program that converts a given temperature from Celsius to Fahrenheit.\"\"\"\n",
    "\n",
    "def celsius_to_fahrenheit(celsius):\n",
    "    fahrenheit = (celsius * 9/5) + 32\n",
    "    return fahrenheit\n",
    "\n",
    "celsius_temperature = float(input(\"Enter temperature in Celsius: \"))\n",
    "fahrenheit_temperature = celsius_to_fahrenheit(celsius_temperature)\n",
    "print(f\"{celsius_temperature} Celsius is equal to {fahrenheit_temperature:.2f} Fahrenheit.\")\n"
   ]
  },
  {
   "cell_type": "code",
   "execution_count": 29,
   "id": "175429e0",
   "metadata": {},
   "outputs": [
    {
     "name": "stdout",
     "output_type": "stream",
     "text": [
      "Select operation:\n",
      "1. Addition\n",
      "2. Subtraction\n",
      "3. Multiplication\n",
      "4. Division\n",
      "Enter choice (1/2/3/4): 2\n",
      "Enter first number: 9\n",
      "Enter second number: 5\n",
      "Result:  4.0\n"
     ]
    }
   ],
   "source": [
    "\"\"\"19. Create a program that simulates a basic calculator for addition, subtraction, multiplication, and division.\"\"\"\n",
    "\n",
    "def add(x, y):\n",
    "    return x + y\n",
    "\n",
    "def subtract(x, y):\n",
    "    return x - y\n",
    "\n",
    "def multiply(x, y):\n",
    "    return x * y\n",
    "\n",
    "def divide(x, y):\n",
    "    if y == 0:\n",
    "        return \"Error: Division by zero!\"\n",
    "    return x / y\n",
    "\n",
    "print(\"Select operation:\")\n",
    "print(\"1. Addition\")\n",
    "print(\"2. Subtraction\")\n",
    "print(\"3. Multiplication\")\n",
    "print(\"4. Division\")\n",
    "\n",
    "choice = int(input(\"Enter choice (1/2/3/4): \"))\n",
    "\n",
    "if choice in [1, 2, 3, 4]:\n",
    "    num1 = float(input(\"Enter first number: \"))\n",
    "    num2 = float(input(\"Enter second number: \"))\n",
    "\n",
    "    if choice == 1:\n",
    "        print(\"Result: \", add(num1, num2))\n",
    "    elif choice == 2:\n",
    "        print(\"Result: \", subtract(num1, num2))\n",
    "    elif choice == 3:\n",
    "        print(\"Result: \", multiply(num1, num2))\n",
    "    elif choice == 4:\n",
    "        print(\"Result: \", divide(num1, num2))\n",
    "else:\n",
    "    print(\"Invalid choice. Please select a valid operation (1/2/3/4).\")\n",
    "\n"
   ]
  },
  {
   "cell_type": "code",
   "execution_count": 30,
   "id": "acb22987",
   "metadata": {},
   "outputs": [
    {
     "name": "stdout",
     "output_type": "stream",
     "text": [
      "Enter the coefficient a: 5\n",
      "Enter the coefficient b: 6\n",
      "Enter the coefficient c: 3\n",
      "Enter the coefficient d: 9\n",
      "The cubic equation has three real roots: x1 = (0.39240588031757884+1.2991761197688605j), x2 = (0.6129324973056661+1.1251195237099276j), x3 = (-0.6129324973056661-1.1251195237099276j)\n"
     ]
    }
   ],
   "source": [
    "\"\"\"20. Write a program that determines the roots of a cubic equation using the Cardano formula.\"\"\"\n",
    "\n",
    "import math\n",
    "\n",
    "def cubic_roots(a, b, c, d):\n",
    "    p = c/a - (b**2) / (3*(a**2))\n",
    "    q = (2*(b**3))/(27*(a**3)) - (b*c)/(3*(a**2)) + d/a\n",
    "    delta = (q**2) + (4*(p**3))/27\n",
    "    \n",
    "    if delta > 0:\n",
    "        u1 = (-q + math.sqrt(delta))**(1/3)\n",
    "        u2 = (-q - math.sqrt(delta))**(1/3)\n",
    "        real_root1 = u1 + u2 - b/(3*a)\n",
    "        imaginary_root = math.sqrt(3) * (u1 - u2) / 2\n",
    "        return real_root1, -imaginary_root, imaginary_root\n",
    "    elif delta == 0:\n",
    "        if q == 0:\n",
    "            real_root = (-b/(3*a))\n",
    "            return real_root,\n",
    "        else:\n",
    "            u = (-q)**(1/3)\n",
    "            real_root1 = 2*u - b/(3*a)\n",
    "            real_root2 = -u - b/(3*a)\n",
    "            return real_root1, real_root2\n",
    "    else:\n",
    "        rho = math.sqrt((-q**3))\n",
    "        theta = math.acos(rho / (-q**3)**(3/2))\n",
    "        u1 = 2 * math.sqrt(-q) * math.cos(theta/3)\n",
    "        u2 = 2 * math.sqrt(-q) * math.cos((theta + 2*math.pi) / 3)\n",
    "        u3 = 2 * math.sqrt(-q) * math.cos((theta + 4*math.pi) / 3)\n",
    "        real_root1 = u1 - b/(3*a)\n",
    "        real_root2 = u2 - b/(3*a)\n",
    "        real_root3 = u3 - b/(3*a)\n",
    "        return real_root1, real_root2, real_root3\n",
    "\n",
    "\n",
    "a = float(input(\"Enter the coefficient a: \"))\n",
    "b = float(input(\"Enter the coefficient b: \"))\n",
    "c = float(input(\"Enter the coefficient c: \"))\n",
    "d = float(input(\"Enter the coefficient d: \"))\n",
    "\n",
    "roots = cubic_roots(a, b, c, d)\n",
    "\n",
    "if len(roots) == 1:\n",
    "    print(f\"The cubic equation has one real root: x = {roots[0]}\")\n",
    "elif len(roots) == 2:\n",
    "    print(f\"The cubic equation has two real roots: x1 = {roots[0]}, x2 = {roots[1]}\")\n",
    "else:\n",
    "    print(f\"The cubic equation has three real roots: x1 = {roots[0]}, x2 = {roots[1]}, x3 = {roots[2]}\")\n",
    "\n"
   ]
  },
  {
   "cell_type": "markdown",
   "id": "c6f68fac",
   "metadata": {},
   "source": [
    "## Advanced Level:"
   ]
  },
  {
   "cell_type": "code",
   "execution_count": 92,
   "id": "ead8a611",
   "metadata": {},
   "outputs": [
    {
     "name": "stdout",
     "output_type": "stream",
     "text": [
      "Enter your income: ₹550000\n",
      "Your income tax is: Rs 22500.00\n"
     ]
    }
   ],
   "source": [
    "\"\"\"21. Create a program that calculates the income tax based on the user's income and tax brackets.\"\"\"\n",
    "\n",
    "def calculate_income_tax(income):\n",
    "    if income <= 250000:\n",
    "        tax = 0\n",
    "    elif income <= 500000:\n",
    "        tax = (income - 250000) * 0.05\n",
    "    elif income <= 1000000:\n",
    "        tax = 12500 + (income - 500000) * 0.2\n",
    "    else:\n",
    "        tax = 112500 + (income - 1000000) * 0.3\n",
    "    return tax\n",
    "\n",
    "income = float(input(\"Enter your income: ₹\"))\n",
    "tax = calculate_income_tax(income)\n",
    "print(f\"Your income tax is: Rs {tax:.2f}\")"
   ]
  },
  {
   "cell_type": "code",
   "execution_count": 97,
   "id": "1bba7b27",
   "metadata": {},
   "outputs": [
    {
     "name": "stdout",
     "output_type": "stream",
     "text": [
      "Enter your choice: rock, paper, or scissors\n",
      "paper\n",
      "Computer chooses: scissors\n",
      "Computer wins\n"
     ]
    }
   ],
   "source": [
    "\"\"\"22. Write a program that simulates a rock-paper-scissors game against the computer.\"\"\"\n",
    "\n",
    "import random\n",
    "\n",
    "def determine_winner(user_choice, computer_choice):\n",
    "    if user_choice == computer_choice:\n",
    "        return \"It's a tie!\"\n",
    "    elif (user_choice == \"rock\" and computer_choice == \"scissors\") or (user_choice == \"paper\" and computer_choice == \"rock\") or (user_choice == \"scissors\" and computer_choice == \"paper\"):\n",
    "        return \"You win\"\n",
    "    else:\n",
    "        return \"Computer wins\"\n",
    "\n",
    "choices = [\"rock\", \"paper\", \"scissors\"]\n",
    "print(\"Enter your choice: rock, paper, or scissors\")\n",
    "user_choice = input().lower()\n",
    "\n",
    "if user_choice not in choices:\n",
    "    print(\"Invalid choice. Please choose rock, paper, or scissors.\")\n",
    "else:\n",
    "    computer_choice = random.choice(choices)\n",
    "    print(f\"Computer chooses: {computer_choice}\")\n",
    "    result = determine_winner(user_choice, computer_choice)\n",
    "    print(result)\n"
   ]
  },
  {
   "cell_type": "code",
   "execution_count": 100,
   "id": "1d16d86b",
   "metadata": {},
   "outputs": [
    {
     "name": "stdout",
     "output_type": "stream",
     "text": [
      "Enter the password length: 10\n",
      "Enter complexity preferences (uppercase, lowercase, digits, special; comma-separated): lowercase\n",
      "Generated Password: zpazcypjby\n"
     ]
    }
   ],
   "source": [
    "\n",
    "import string\n",
    "import random\n",
    "\n",
    "def generate_password(length, complexity):\n",
    "    characters = \"\"\n",
    "    if \"uppercase\" in complexity:\n",
    "        characters += string.ascii_uppercase\n",
    "    if \"lowercase\" in complexity:\n",
    "        characters += string.ascii_lowercase\n",
    "    if \"digits\" in complexity:\n",
    "        characters += string.digits\n",
    "    if \"special\" in complexity:\n",
    "        characters += string.punctuation\n",
    "    \n",
    "    if len(characters) == 0:\n",
    "        return \"Invalid complexity preference. Please choose at least one option.\"\n",
    "    \n",
    "    password = ''.join(random.choice(characters) for _ in range(length))\n",
    "    return password\n",
    "\n",
    "length = int(input(\"Enter the password length: \"))\n",
    "complexity = input(\"Enter complexity preferences (uppercase, lowercase, digits, special; comma-separated): \").lower().split(',')\n",
    "password = generate_password(length, complexity)\n",
    "print(f\"Generated Password: {password}\")\n"
   ]
  },
  {
   "cell_type": "code",
   "execution_count": 101,
   "id": "05b15954",
   "metadata": {},
   "outputs": [
    {
     "name": "stdout",
     "output_type": "stream",
     "text": [
      "Enter the length of the password: 10\n",
      "Include uppercase letters? (yes/no): yes\n",
      "Include digits? (yes/no): yes\n",
      "Include special characters? (yes/no): yes\n",
      "Generated Password: 8fgN`G*6X+\n"
     ]
    }
   ],
   "source": [
    "\"\"\"23. Develop a program that generates a random password based on user preferences (length, complexity).\"\"\"\n",
    "\n",
    "import random\n",
    "import string\n",
    "\n",
    "def generate_password(length, use_uppercase, use_digits, use_special_chars):\n",
    "    characters = string.ascii_lowercase\n",
    "    if use_uppercase:\n",
    "        characters += string.ascii_uppercase\n",
    "    if use_digits:\n",
    "        characters += string.digits\n",
    "    if use_special_chars:\n",
    "        characters += string.punctuation\n",
    "\n",
    "    password = ''.join(random.choice(characters) for _ in range(length))\n",
    "    return password\n",
    "\n",
    "length = int(input(\"Enter the length of the password: \"))\n",
    "use_uppercase = input(\"Include uppercase letters? (yes/no): \").lower() == 'yes'\n",
    "use_digits = input(\"Include digits? (yes/no): \").lower() == 'yes'\n",
    "use_special_chars = input(\"Include special characters? (yes/no): \").lower() == 'yes'\n",
    "password = generate_password(length, use_uppercase, use_digits, use_special_chars)\n",
    "print(f\"Generated Password: {password}\")\n",
    "\n"
   ]
  },
  {
   "cell_type": "code",
   "execution_count": 103,
   "id": "4ccfbbc1",
   "metadata": {},
   "outputs": [
    {
     "name": "stdout",
     "output_type": "stream",
     "text": [
      "Welcome to the Adventure Game\n",
      "You find yourself standing in front of a mysterious house.\n",
      "Do you want to enter the house? (yes/no)\n",
      "yes\n",
      "\n",
      "You enter the house and find three doors: red, blue, and green.\n",
      "Which door do you want to enter? (red/blue/green)\n",
      "blue\n",
      "You find a room full of treasures. Congratulations, you win\n"
     ]
    }
   ],
   "source": [
    "\"\"\"24. Create a program that implements a simple text-based adventure game with branching scenarios.\"\"\"\n",
    "\n",
    "def start_game():\n",
    "    print(\"Welcome to the Adventure Game\")\n",
    "    print(\"You find yourself standing in front of a mysterious house.\")\n",
    "    print(\"Do you want to enter the house? (yes/no)\")\n",
    "    choice = input().lower()\n",
    "    \n",
    "    if choice == \"yes\":\n",
    "        inside_house()\n",
    "    elif choice == \"no\":\n",
    "        print(\"You decide not to enter the house. Game Over.\")\n",
    "    else:\n",
    "        print(\"Invalid choice. Please enter 'yes' or 'no'.\")\n",
    "        start_game()\n",
    "\n",
    "def inside_house():\n",
    "    print(\"\\nYou enter the house and find three doors: red, blue, and green.\")\n",
    "    print(\"Which door do you want to enter? (red/blue/green)\")\n",
    "    choice = input().lower()\n",
    "    \n",
    "    if choice == \"red\":\n",
    "        print(\"you enter in room with evils. Game Over.\")\n",
    "    elif choice == \"blue\":\n",
    "        print(\"You find a room full of treasures. Congratulations, you win\")\n",
    "    elif choice == \"green\":\n",
    "        print(\"You enter in room with dragons. Game Over.\")\n",
    "    else:\n",
    "        print(\"Invalid choice. Please enter 'red', 'blue', or 'green'.\")\n",
    "        inside_house()\n",
    "\n",
    "start_game()\n"
   ]
  },
  {
   "cell_type": "code",
   "execution_count": 105,
   "id": "e39ee40e",
   "metadata": {},
   "outputs": [
    {
     "name": "stdout",
     "output_type": "stream",
     "text": [
      "Enter the coefficient 'a': 10\n",
      "Enter the constant 'b': 50\n",
      "The solution for x is: x = -5.00\n"
     ]
    }
   ],
   "source": [
    "\"\"\"25. Build a program that solves a linear equation for x, considering different cases.\"\"\"\n",
    "\n",
    "\n",
    "a = float(input(\"Enter the coefficient 'a': \"))\n",
    "b = float(input(\"Enter the constant 'b': \"))\n",
    "\n",
    "if a == 0:\n",
    "    if b == 0:\n",
    "        print(\"Infinite solutions (all real numbers are solutions).\")\n",
    "    else:\n",
    "        print(\"No solution (the equation is inconsistent).\")\n",
    "else:\n",
    "    x = -b / a\n",
    "    print(f\"The solution for x is: x = {x:.2f}\")"
   ]
  },
  {
   "cell_type": "code",
   "execution_count": 107,
   "id": "e87a6e5a",
   "metadata": {},
   "outputs": [
    {
     "name": "stdout",
     "output_type": "stream",
     "text": [
      "Welcome to the Quiz Game!\n",
      "What is the capital of France?\n",
      "A) Paris\n",
      "B) London\n",
      "C) Madrid\n",
      "Enter your answer (A, B, or C): a\n",
      "Correct!\n",
      "\n",
      "What is the largest planet in our solar system?\n",
      "A) Earth\n",
      "B) Jupiter\n",
      "C) Mars\n",
      "Enter your answer (A, B, or C): c\n",
      "Wrong. The correct answer is B.\n",
      "\n",
      "Which gas do plants absorb from the atmosphere?\n",
      "A) Oxygen\n",
      "B) Carbon Dioxide\n",
      "C) Hydrogen\n",
      "Enter your answer (A, B, or C): b\n",
      "Correct!\n",
      "\n",
      "Your score is: 2/3\n"
     ]
    }
   ],
   "source": [
    "\"\"\"26. Write a program that simulates a basic quiz game with multiple-choice questions and scoring.\"\"\"\n",
    "\n",
    "\n",
    "questions = [\n",
    "    {\n",
    "        \"question\": \"What is the capital of France?\",\n",
    "        \"options\": [\"A) Paris\", \"B) London\", \"C) Madrid\"],\n",
    "        \"correct_answer\": \"A\"\n",
    "    },\n",
    "    {\n",
    "        \"question\": \"What is the largest planet in our solar system?\",\n",
    "        \"options\": [\"A) Earth\", \"B) Jupiter\", \"C) Mars\"],\n",
    "        \"correct_answer\": \"B\"\n",
    "    },\n",
    "    {\n",
    "        \"question\": \"Which gas do plants absorb from the atmosphere?\",\n",
    "        \"options\": [\"A) Oxygen\", \"B) Carbon Dioxide\", \"C) Hydrogen\"],\n",
    "        \"correct_answer\": \"B\"\n",
    "    }\n",
    "]\n",
    "\n",
    "def play_quiz(questions):\n",
    "    score = 0\n",
    "    for question in questions:\n",
    "        print(question[\"question\"])\n",
    "        for option in question[\"options\"]:\n",
    "            print(option)\n",
    "        user_answer = input(\"Enter your answer (A, B, or C): \").upper()\n",
    "        if user_answer == question[\"correct_answer\"]:\n",
    "            print(\"Correct!\\n\")\n",
    "            score += 1\n",
    "        else:\n",
    "            print(f\"Wrong. The correct answer is {question['correct_answer']}.\\n\")\n",
    "    \n",
    "    print(f\"Your score is: {score}/{len(questions)}\")\n",
    "\n",
    "print(\"Welcome to the Quiz Game!\")\n",
    "play_quiz(questions)\n",
    "\n"
   ]
  },
  {
   "cell_type": "code",
   "execution_count": 108,
   "id": "85224347",
   "metadata": {},
   "outputs": [
    {
     "name": "stdout",
     "output_type": "stream",
     "text": [
      "Enter a year: 2000\n",
      "2000 is not a prime number.\n"
     ]
    }
   ],
   "source": [
    "\"\"\"27. Develop a program that determines whether a given year is a prime number or not.\"\"\"\n",
    "\n",
    "def is_prime(year):\n",
    "    if year <= 1:\n",
    "        return False\n",
    "    for i in range(2, int(year**0.5) + 1):\n",
    "        if year % i == 0:\n",
    "            return False\n",
    "    return True\n",
    "\n",
    "year = int(input(\"Enter a year: \"))\n",
    "if is_prime(year):\n",
    "    print(f\"{year} is a prime number.\")\n",
    "else:\n",
    "    print(f\"{year} is not a prime number.\")\n",
    "\n"
   ]
  },
  {
   "cell_type": "code",
   "execution_count": 109,
   "id": "595dca16",
   "metadata": {},
   "outputs": [
    {
     "name": "stdout",
     "output_type": "stream",
     "text": [
      "Enter the first number: 25\n",
      "Enter the second number: 68\n",
      "Enter the third number: 45\n",
      "The numbers in ascending order: 25.0, 45.0, 68.0\n"
     ]
    }
   ],
   "source": [
    "\"\"\"28. Create a program that sorts three numbers in ascending order using conditional statements.\"\"\"\n",
    "\n",
    "\n",
    "num1 = float(input(\"Enter the first number: \"))\n",
    "num2 = float(input(\"Enter the second number: \"))\n",
    "num3 = float(input(\"Enter the third number: \"))\n",
    "\n",
    "if num1 <= num2 and num1 <= num3:\n",
    "    smallest = num1\n",
    "    if num2 <= num3:\n",
    "        middle = num2\n",
    "        largest = num3\n",
    "    else:\n",
    "        middle = num3\n",
    "        largest = num2\n",
    "elif num2 <= num1 and num2 <= num3:\n",
    "    smallest = num2\n",
    "    if num1 <= num3:\n",
    "        middle = num1\n",
    "        largest = num3\n",
    "    else:\n",
    "        middle = num3\n",
    "        largest = num1\n",
    "else:\n",
    "    smallest = num3\n",
    "    if num1 <= num2:\n",
    "        middle = num1\n",
    "        largest = num2\n",
    "    else:\n",
    "        middle = num2\n",
    "        largest = num1\n",
    "\n",
    "print(f\"The numbers in ascending order: {smallest}, {middle}, {largest}\")\n"
   ]
  },
  {
   "cell_type": "code",
   "execution_count": 111,
   "id": "b8195b04",
   "metadata": {},
   "outputs": [
    {
     "name": "stdout",
     "output_type": "stream",
     "text": [
      "The root of the quartic equation is approximately: 0.405184\n"
     ]
    }
   ],
   "source": [
    "\"\"\"29. Build a program that determines the roots of a quartic equation using numerical methods.\"\"\"\n",
    "\n",
    "a = 1.0\n",
    "b = 3.0\n",
    "c = -6.0\n",
    "d = -8.0\n",
    "e = 4.0\n",
    "\n",
    "x0 = 0.0\n",
    "\n",
    "max_iterations = 100\n",
    "tolerance = 1e-6\n",
    "\n",
    "def quartic(x):\n",
    "    value = a * x**4 + b * x**3 + c * x**2 + d * x + e\n",
    "    derivative = 4 * a * x**3 + 3 * b * x**2 + 2 * c * x + d\n",
    "    return value, derivative\n",
    "\n",
    "for i in range(max_iterations):\n",
    "    value, derivative = quartic(x0)\n",
    "    x1 = x0 - value / derivative\n",
    "\n",
    "    if abs(x1 - x0) < tolerance:\n",
    "        break\n",
    "\n",
    "    x0 = x1\n",
    "\n",
    "if i < max_iterations:\n",
    "    print(f\"The root of the quartic equation is approximately: {x0:.6f}\")\n",
    "else:\n",
    "    print(\"The root did not converge within the maximum number of iterations.\")\n",
    "\n"
   ]
  },
  {
   "cell_type": "code",
   "execution_count": 112,
   "id": "f1aeca2d",
   "metadata": {},
   "outputs": [
    {
     "name": "stdout",
     "output_type": "stream",
     "text": [
      "Enter your weight in kilograms: 71\n",
      "Enter your height in meters: 180\n",
      "Your BMI category is: Underweight\n"
     ]
    }
   ],
   "source": [
    "\"\"\"30. Write a program that calculates the BMI (Body Mass Index) and provides health recommendations based\n",
    "on the user's input.\"\"\"\n",
    "\n",
    "def calculate_bmi(weight, height):\n",
    "    \n",
    "    bmi = weight / (height ** 2)\n",
    "    if bmi < 18.5:\n",
    "        return \"Underweight\"\n",
    "    elif 18.5 <= bmi < 24.9:\n",
    "        return \"Normal weight\"\n",
    "    elif 25 <= bmi < 29.9:\n",
    "        return \"Overweight\"\n",
    "    else:\n",
    "        return \"Obese\"\n",
    "\n",
    "weight = float(input(\"Enter your weight in kilograms: \"))\n",
    "height = float(input(\"Enter your height in meters: \"))\n",
    "\n",
    "bmi_category = calculate_bmi(weight, height)\n",
    "print(f\"Your BMI category is: {bmi_category}\")"
   ]
  },
  {
   "cell_type": "markdown",
   "id": "b29a782f",
   "metadata": {},
   "source": [
    "## Challenge Level:"
   ]
  },
  {
   "cell_type": "code",
   "execution_count": 114,
   "id": "76a27b24",
   "metadata": {},
   "outputs": [
    {
     "name": "stdout",
     "output_type": "stream",
     "text": [
      "Enter a password: shubhendu123\n",
      "Password does not meet the complexity requirements.\n"
     ]
    }
   ],
   "source": [
    "\"\"\"31. Create a program that validates a password based on complexity rules (length, characters, etc.).\"\"\"\n",
    "\n",
    "def is_valid_password(password):\n",
    "    \n",
    "    min_length = 8\n",
    "    requires_lowercase = True\n",
    "    requires_uppercase = True\n",
    "    requires_digit = True\n",
    "    requires_special = True\n",
    "\n",
    "    if len(password) < min_length:\n",
    "        return False\n",
    "\n",
    "    if requires_lowercase and not any(c.islower() for c in password):\n",
    "        return False\n",
    "    if requires_uppercase and not any(c.isupper() for c in password):\n",
    "        return False\n",
    "    if requires_digit and not any(c.isdigit() for c in password):\n",
    "        return False\n",
    "    if requires_special and not any(c in \"!@#$%^&*()_+-=\" for c in password):\n",
    "        return False\n",
    "\n",
    "    return True\n",
    "\n",
    "password = input(\"Enter a password: \")\n",
    "\n",
    "if is_valid_password(password):\n",
    "    print(\"Password is valid!\")\n",
    "else:\n",
    "    print(\"Password does not meet the complexity requirements.\")\n",
    "\n"
   ]
  },
  {
   "cell_type": "code",
   "execution_count": 117,
   "id": "a974f98f",
   "metadata": {},
   "outputs": [
    {
     "name": "stdout",
     "output_type": "stream",
     "text": [
      "Enter the number of rows for the matrices: 3\n",
      "Enter the number of columns for the matrices: 2\n",
      "Enter elements for the first matrix:\n",
      "Enter element at position (1, 1): 12\n",
      "Enter element at position (1, 2): 35\n",
      "Enter element at position (2, 1): 25\n",
      "Enter element at position (2, 2): 45\n",
      "Enter element at position (3, 1): 35\n",
      "Enter element at position (3, 2): 15\n",
      "\n",
      "Enter elements for the second matrix:\n",
      "Enter element at position (1, 1): 25\n",
      "Enter element at position (1, 2): 63\n",
      "Enter element at position (2, 1): 45\n",
      "Enter element at position (2, 2): 15\n",
      "Enter element at position (3, 1): 63\n",
      "Enter element at position (3, 2): 25\n",
      "\n",
      "Matrix Addition:\n",
      "[37.0, 98.0]\n",
      "[70.0, 60.0]\n",
      "[98.0, 40.0]\n",
      "\n",
      "Matrix Subtraction:\n",
      "[-13.0, -28.0]\n",
      "[-20.0, 30.0]\n",
      "[-28.0, -10.0]\n"
     ]
    }
   ],
   "source": [
    "\"\"\"32. Develop a program that performs matrix addition and subtraction based on user input.\"\"\"\n",
    "\n",
    "def initialize_matrix(rows, cols):\n",
    "    matrix = []\n",
    "    for i in range(rows):\n",
    "        row = []\n",
    "        for j in range(cols):\n",
    "            element = float(input(f\"Enter element at position ({i+1}, {j+1}): \"))\n",
    "            row.append(element)\n",
    "        matrix.append(row)\n",
    "    return matrix\n",
    "\n",
    "def matrix_addition(matrix1, matrix2):\n",
    "    result = []\n",
    "    for i in range(len(matrix1)):\n",
    "        row = []\n",
    "        for j in range(len(matrix1[0])):\n",
    "            row.append(matrix1[i][j] + matrix2[i][j])\n",
    "        result.append(row)\n",
    "    return result\n",
    "\n",
    "def matrix_subtraction(matrix1, matrix2):\n",
    "    result = []\n",
    "    for i in range(len(matrix1)):\n",
    "        row = []\n",
    "        for j in range(len(matrix1[0])):\n",
    "            row.append(matrix1[i][j] - matrix2[i][j])\n",
    "        result.append(row)\n",
    "    return result\n",
    "\n",
    "\n",
    "rows = int(input(\"Enter the number of rows for the matrices: \"))\n",
    "cols = int(input(\"Enter the number of columns for the matrices: \"))\n",
    "\n",
    "print(\"Enter elements for the first matrix:\")\n",
    "matrix1 = initialize_matrix(rows, cols)\n",
    "\n",
    "print(\"\\nEnter elements for the second matrix:\")\n",
    "matrix2 = initialize_matrix(rows, cols)\n",
    "\n",
    "print(\"\\nMatrix Addition:\")\n",
    "addition_result = matrix_addition(matrix1, matrix2)\n",
    "for row in addition_result:\n",
    "    print(row)\n",
    "\n",
    "print(\"\\nMatrix Subtraction:\")\n",
    "subtraction_result = matrix_subtraction(matrix1, matrix2)\n",
    "for row in subtraction_result:\n",
    "    print(row)\n",
    "\n"
   ]
  },
  {
   "cell_type": "code",
   "execution_count": 118,
   "id": "c09323fd",
   "metadata": {},
   "outputs": [
    {
     "name": "stdout",
     "output_type": "stream",
     "text": [
      "Enter the first number: 45\n",
      "Enter the second number: 15\n",
      "The GCD of 45 and 15 is: 15\n"
     ]
    }
   ],
   "source": [
    "\"\"\"33. Write a program that calculates the greatest common divisor (GCD) of two numbers using the Euclidean\n",
    "algorithm.\"\"\"\n",
    "\n",
    "def gcd(a, b):\n",
    "    while b != 0:\n",
    "        a, b = b, a % b\n",
    "    return a\n",
    "\n",
    "num1 = int(input(\"Enter the first number: \"))\n",
    "num2 = int(input(\"Enter the second number: \"))\n",
    "result = gcd(num1, num2)\n",
    "print(f\"The GCD of {num1} and {num2} is: {result}\")\n"
   ]
  },
  {
   "cell_type": "code",
   "execution_count": 122,
   "id": "ca4a8859",
   "metadata": {},
   "outputs": [
    {
     "name": "stdout",
     "output_type": "stream",
     "text": [
      "Enter the number of rows for the first matrix: 2\n",
      "Enter the number of columns for the first matrix: 3\n",
      "Enter the number of rows for the second matrix: 3\n",
      "Enter the number of columns for the second matrix: 2\n",
      "Enter elements for the first matrix:\n",
      "Enter element at position (1, 1): 23\n",
      "Enter element at position (1, 2): 35\n",
      "Enter element at position (1, 3): 16\n",
      "Enter element at position (2, 1): 42\n",
      "Enter element at position (2, 2): 63\n",
      "Enter element at position (2, 3): 25\n",
      "\n",
      "Enter elements for the second matrix:\n",
      "Enter element at position (1, 1): 35\n",
      "Enter element at position (1, 2): 12\n",
      "Enter element at position (2, 1): 35\n",
      "Enter element at position (2, 2): 24\n",
      "Enter element at position (3, 1): 28\n",
      "Enter element at position (3, 2): 16\n",
      "\n",
      "Matrix Multiplication Result:\n",
      "[2478.0, 1372.0]\n",
      "[4375.0, 2416.0]\n"
     ]
    }
   ],
   "source": [
    "\"\"\"34. Build a program that performs matrix multiplication using nested loops and conditional statements.\"\"\"\n",
    "\n",
    "def initialize_matrix(rows, cols):\n",
    "    matrix = []\n",
    "    for i in range(rows):\n",
    "        row = []\n",
    "        for j in range(cols):\n",
    "            element = float(input(f\"Enter element at position ({i+1}, {j+1}): \"))\n",
    "            row.append(element)\n",
    "        matrix.append(row)\n",
    "    return matrix\n",
    "\n",
    "def matrix_multiplication(matrix1, matrix2):\n",
    "    result = []\n",
    "    rows1 = len(matrix1)\n",
    "    cols1 = len(matrix1[0])\n",
    "    rows2 = len(matrix2)\n",
    "    cols2 = len(matrix2[0])\n",
    "    \n",
    "    if cols1 != rows2:\n",
    "        return \"Invalid matrices for multiplication: Number of columns in the first matrix must be equal to the number of rows in the second matrix.\"\n",
    "    \n",
    "    for i in range(rows1):\n",
    "        row = []\n",
    "        for j in range(cols2):\n",
    "            element = 0\n",
    "            for k in range(cols1):\n",
    "                element += matrix1[i][k] * matrix2[k][j]\n",
    "            row.append(element)\n",
    "        result.append(row)\n",
    "    return result\n",
    "\n",
    "rows1 = int(input(\"Enter the number of rows for the first matrix: \"))\n",
    "cols1 = int(input(\"Enter the number of columns for the first matrix: \"))\n",
    "rows2 = int(input(\"Enter the number of rows for the second matrix: \"))\n",
    "cols2 = int(input(\"Enter the number of columns for the second matrix: \"))\n",
    "\n",
    "print(\"Enter elements for the first matrix:\")\n",
    "matrix1 = initialize_matrix(rows1, cols1)\n",
    "\n",
    "print(\"\\nEnter elements for the second matrix:\")\n",
    "matrix2 = initialize_matrix(rows2, cols2)\n",
    "\n",
    "result = matrix_multiplication(matrix1, matrix2)\n",
    "if isinstance(result, str):\n",
    "    print(result)\n",
    "else:\n",
    "    print(\"\\nMatrix Multiplication Result:\")\n",
    "    for row in result:\n",
    "        print(row)\n"
   ]
  },
  {
   "cell_type": "code",
   "execution_count": 128,
   "id": "100fe3cf",
   "metadata": {},
   "outputs": [
    {
     "name": "stdout",
     "output_type": "stream",
     "text": [
      "Welcome to Tic-Tac-Toe!\n",
      "-------------\n",
      "|   |   |   |\n",
      "-------------\n",
      "|   |   |   |\n",
      "-------------\n",
      "|   |   |   |\n",
      "-------------\n",
      "Enter your move (row and column, separated by space): 2 2 \n",
      "Computer's move: 3 3\n",
      "-------------\n",
      "|   |   |   |\n",
      "-------------\n",
      "|   | X |   |\n",
      "-------------\n",
      "|   |   | O |\n",
      "-------------\n",
      "Enter your move (row and column, separated by space): 1 1 \n",
      "Computer's move: 2 1\n",
      "-------------\n",
      "| X |   |   |\n",
      "-------------\n",
      "| O | X |   |\n",
      "-------------\n",
      "|   |   | O |\n",
      "-------------\n",
      "Enter your move (row and column, separated by space): 1 2\n",
      "Computer's move: 3 1\n",
      "-------------\n",
      "| X | X |   |\n",
      "-------------\n",
      "| O | X |   |\n",
      "-------------\n",
      "| O |   | O |\n",
      "-------------\n",
      "Enter your move (row and column, separated by space): 1 3\n",
      "Congratulations! You win!\n"
     ]
    }
   ],
   "source": [
    "\"\"\"35. Create a program that simulates a basic text-based tic-tac-toe game against the computer.\"\"\"\n",
    "\n",
    "import random\n",
    "\n",
    "def print_board(board):\n",
    "    print(\"-------------\")\n",
    "    for row in board:\n",
    "        print(\"| \" + \" | \".join(row) + \" |\")\n",
    "        print(\"-------------\")\n",
    "\n",
    "def check_winner(board, player):\n",
    "    for i in range(3):\n",
    "        if all(cell == player for cell in board[i]) or all(row[i] == player for row in board) or (board[0][0] == player and board[1][1] == player and board[2][2] == player) or (board[0][2] == player and board[1][1] == player and board[2][0] == player):\n",
    "            return True\n",
    "    return False\n",
    "\n",
    "def computer_move(board):\n",
    "    available_moves = [(i, j) for i in range(3) for j in range(3) if board[i][j] == \" \"]\n",
    "    return random.choice(available_moves)\n",
    "\n",
    "def play_tic_tac_toe():\n",
    "    board = [[\" \" for _ in range(3)] for _ in range(3)]\n",
    "    print(\"Welcome to Tic-Tac-Toe!\")\n",
    "    print_board(board)\n",
    "    \n",
    "    while True:\n",
    "        row, col = map(int, input(\"Enter your move (row and column, separated by space): \").split())\n",
    "        if board[row - 1][col - 1] == \" \":\n",
    "            board[row - 1][col - 1] = \"X\"\n",
    "        else:\n",
    "            print(\"Invalid move. Try again.\")\n",
    "            continue\n",
    "        \n",
    "        if check_winner(board, \"X\"):\n",
    "            print(\"Congratulations! You win!\")\n",
    "            break\n",
    "        \n",
    "        comp_row, comp_col = computer_move(board)\n",
    "        print(f\"Computer's move: {comp_row + 1} {comp_col + 1}\")\n",
    "        board[comp_row][comp_col] = \"O\"\n",
    "        \n",
    "        if check_winner(board, \"O\"):\n",
    "            print(\"Computer wins! Better luck next time.\")\n",
    "            break\n",
    "        \n",
    "        if all(cell != \" \" for row in board for cell in row):\n",
    "            print(\"It's a draw!\")\n",
    "            break\n",
    "        \n",
    "        print_board(board)\n",
    "\n",
    "play_tic_tac_toe()"
   ]
  },
  {
   "cell_type": "code",
   "execution_count": 129,
   "id": "1d1cdc24",
   "metadata": {},
   "outputs": [
    {
     "name": "stdout",
     "output_type": "stream",
     "text": [
      "Enter the number of Fibonacci terms to generate: 10\n",
      "Fibonacci Sequence up to 10 terms:\n",
      "[0, 1, 1, 2, 3, 5, 8, 13, 21, 34]\n"
     ]
    }
   ],
   "source": [
    "\"\"\"36. Write a program that generates Fibonacci numbers up to a specified term using iterative methods.\"\"\"\n",
    "\n",
    "def generate_fibonacci(n):\n",
    "    fibonacci_numbers = [0, 1]\n",
    "    for i in range(2, n):\n",
    "        next_number = fibonacci_numbers[-1] + fibonacci_numbers[-2]\n",
    "        fibonacci_numbers.append(next_number)\n",
    "    return fibonacci_numbers\n",
    "\n",
    "n = int(input(\"Enter the number of Fibonacci terms to generate: \"))\n",
    "if n <= 0:\n",
    "    print(\"Please enter a positive integer.\")\n",
    "else:\n",
    "    fibonacci_sequence = generate_fibonacci(n)\n",
    "    print(\"Fibonacci Sequence up to\", n, \"terms:\")\n",
    "    print(fibonacci_sequence)\n",
    "\n"
   ]
  },
  {
   "cell_type": "code",
   "execution_count": 130,
   "id": "cae05316",
   "metadata": {},
   "outputs": [
    {
     "name": "stdout",
     "output_type": "stream",
     "text": [
      "Enter the value of n to find the nth Fibonacci term: 6\n",
      "The 6th Fibonacci term is: 8\n"
     ]
    }
   ],
   "source": [
    "\"\"\"37. Develop a program that calculates the nth term of the Fibonacci sequence using memoization.\"\"\"\n",
    "\n",
    "fibonacci_cache = {}\n",
    "\n",
    "def fibonacci(n):\n",
    "    if n in fibonacci_cache:\n",
    "        return fibonacci_cache[n]\n",
    "    \n",
    "    if n <= 1:\n",
    "        fibonacci_cache[n] = n\n",
    "    else:\n",
    "        fibonacci_cache[n] = fibonacci(n - 1) + fibonacci(n - 2)\n",
    "    \n",
    "    return fibonacci_cache[n]\n",
    "\n",
    "n = int(input(\"Enter the value of n to find the nth Fibonacci term: \"))\n",
    "if n < 0:\n",
    "    print(\"Please enter a non-negative integer.\")\n",
    "else:\n",
    "    nth_fibonacci_term = fibonacci(n)\n",
    "    print(f\"The {n}th Fibonacci term is: {nth_fibonacci_term}\")\n",
    "\n"
   ]
  },
  {
   "cell_type": "code",
   "execution_count": 132,
   "id": "56454278",
   "metadata": {},
   "outputs": [
    {
     "name": "stdout",
     "output_type": "stream",
     "text": [
      "Enter the year: 2022\n",
      "Enter the month (1-12): 11\n",
      "Calendar for November 2022:\n",
      "\n",
      "Mo Tu We Th Fr Sa Su\n",
      "    1  2  3  4  5  6\n",
      " 7  8  9 10 11 12 13\n",
      "14 15 16 17 18 19 20\n",
      "21 22 23 24 25 26 27\n",
      "28 29 30            \n"
     ]
    }
   ],
   "source": [
    "\"\"\"38. Create a program that generates a calendar for a given month and year using conditional statements.\"\"\"\n",
    "\n",
    "import calendar\n",
    "\n",
    "def generate_calendar(year, month):\n",
    "\n",
    "    calendar.month(year, month)\n",
    "    cal = calendar.monthcalendar(year, month)\n",
    "    return cal\n",
    "\n",
    "year = int(input(\"Enter the year: \"))\n",
    "month = int(input(\"Enter the month (1-12): \"))\n",
    "\n",
    "calendar_output = generate_calendar(year, month)\n",
    "if calendar_output:\n",
    "    print(f\"Calendar for {calendar.month_name[month]} {year}:\\n\")\n",
    "    print(\"Mo Tu We Th Fr Sa Su\")\n",
    "    for week in calendar_output:\n",
    "        print(\" \".join(str(day).rjust(2) if day != 0 else \"  \" for day in week))\n",
    "else:\n",
    "    print(\"Invalid input. Please enter a valid month (1-12) and year.\")\n"
   ]
  },
  {
   "cell_type": "code",
   "execution_count": 134,
   "id": "32122bee",
   "metadata": {},
   "outputs": [
    {
     "name": "stdout",
     "output_type": "stream",
     "text": [
      "Welcome to Blackjack!\n",
      "Your cards: 5 J (value: 15)\n",
      "Computer's first card: 5\n",
      "Type 'hit' to get another card, or 'stand' to pass: hit\n",
      "Your cards: 5 J A (value: 16)\n",
      "Computer's first card: 5\n",
      "Type 'hit' to get another card, or 'stand' to pass: hit\n",
      "Your cards: 5 J A 7 (value: 23)\n",
      "Busted! You lose.\n"
     ]
    }
   ],
   "source": [
    "\"\"\"39. Build a program that simulates a basic text-based blackjack game against the computer.\"\"\"\n",
    "\n",
    "import random\n",
    "def calculate_hand_value(hand):\n",
    "    value = 0\n",
    "    num_aces = 0\n",
    "\n",
    "    for card in hand:\n",
    "        if card in ['K', 'Q', 'J']:\n",
    "            value += 10\n",
    "        elif card == 'A':\n",
    "            num_aces += 1\n",
    "            value += 11\n",
    "        else:\n",
    "            value += int(card)\n",
    "\n",
    "    # Handle aces\n",
    "    while value > 21 and num_aces > 0:\n",
    "        value -= 10\n",
    "        num_aces -= 1\n",
    "\n",
    "    return value\n",
    "\n",
    "def display_hand(hand):\n",
    "    return ' '.join(hand)\n",
    "\n",
    "def play_blackjack():\n",
    "    cards = ['2', '3', '4', '5', '6', '7', '8', '9', '10', 'J', 'Q', 'K', 'A']\n",
    "    player_hand = []\n",
    "    computer_hand = []\n",
    "\n",
    "    for _ in range(2):\n",
    "        player_hand.append(random.choice(cards))\n",
    "        computer_hand.append(random.choice(cards))\n",
    "\n",
    "    while True:\n",
    "        print(f\"Your cards: {display_hand(player_hand)} (value: {calculate_hand_value(player_hand)})\")\n",
    "        print(f\"Computer's first card: {computer_hand[0]}\")\n",
    "\n",
    "        if calculate_hand_value(player_hand) == 21:\n",
    "            print(\"Congratulations! You have a Blackjack! You win!\")\n",
    "            break\n",
    "        elif calculate_hand_value(computer_hand) == 21:\n",
    "            print(\"Computer has a Blackjack....... You lose.\")\n",
    "            break\n",
    "\n",
    "        choice = input(\"Type 'hit' to get another card, or 'stand' to pass: \").lower()\n",
    "\n",
    "        if choice == 'hit':\n",
    "            player_hand.append(random.choice(cards))\n",
    "            if calculate_hand_value(player_hand) > 21:\n",
    "                print(f\"Your cards: {display_hand(player_hand)} (value: {calculate_hand_value(player_hand)})\")\n",
    "                print(\"Busted! You lose.\")\n",
    "                break\n",
    "        elif choice == 'stand':\n",
    "            while calculate_hand_value(computer_hand) < 17:\n",
    "                computer_hand.append(random.choice(cards))\n",
    "\n",
    "            print(f\"Your cards: {display_hand(player_hand)} (value: {calculate_hand_value(player_hand)})\")\n",
    "            print(f\"Computer's cards: {display_hand(computer_hand)} (value: {calculate_hand_value(computer_hand)})\")\n",
    "\n",
    "            if calculate_hand_value(computer_hand) > 21:\n",
    "                print(\"Computer busted...... You win......\")\n",
    "            elif calculate_hand_value(player_hand) > calculate_hand_value(computer_hand):\n",
    "                print(\"You win........\")\n",
    "            elif calculate_hand_value(player_hand) < calculate_hand_value(computer_hand):\n",
    "                print(\"You lose..........\")\n",
    "            else:\n",
    "                print(\"It's a draw..........\")\n",
    "            break\n",
    "        else:\n",
    "            print(\"Invalid input. Please type 'hit' or 'stand'.\")\n",
    "\n",
    "print(\"Welcome to Blackjack!\")\n",
    "play_blackjack()\n"
   ]
  },
  {
   "cell_type": "code",
   "execution_count": 137,
   "id": "ca7282eb",
   "metadata": {},
   "outputs": [
    {
     "name": "stdout",
     "output_type": "stream",
     "text": [
      "Enter a number to find its prime factors: 22\n",
      "Prime factors of 22 are: [2, 11]\n"
     ]
    }
   ],
   "source": [
    "\"\"\"40. Write a program that generates the prime factors of a given number using trial division.\"\"\"\n",
    "\n",
    "def prime_factors(n):\n",
    "    factors = []\n",
    "    divisor = 2\n",
    "\n",
    "    while n > 1:\n",
    "        while n % divisor == 0:\n",
    "            factors.append(divisor)\n",
    "            n //= divisor\n",
    "        divisor += 1\n",
    "\n",
    "    return factors\n",
    "\n",
    "num = int(input(\"Enter a number to find its prime factors: \"))\n",
    "if num <= 0:\n",
    "    print(\"Please enter a positive integer.\")\n",
    "else:\n",
    "    factors = prime_factors(num)\n",
    "    print(f\"Prime factors of {num} are: {factors}\")\n"
   ]
  }
 ],
 "metadata": {
  "kernelspec": {
   "display_name": "Python 3",
   "language": "python",
   "name": "python3"
  },
  "language_info": {
   "codemirror_mode": {
    "name": "ipython",
    "version": 3
   },
   "file_extension": ".py",
   "mimetype": "text/x-python",
   "name": "python",
   "nbconvert_exporter": "python",
   "pygments_lexer": "ipython3",
   "version": "3.8.8"
  },
  "varInspector": {
   "cols": {
    "lenName": 16,
    "lenType": 16,
    "lenVar": 40
   },
   "kernels_config": {
    "python": {
     "delete_cmd_postfix": "",
     "delete_cmd_prefix": "del ",
     "library": "var_list.py",
     "varRefreshCmd": "print(var_dic_list())"
    },
    "r": {
     "delete_cmd_postfix": ") ",
     "delete_cmd_prefix": "rm(",
     "library": "var_list.r",
     "varRefreshCmd": "cat(var_dic_list()) "
    }
   },
   "types_to_exclude": [
    "module",
    "function",
    "builtin_function_or_method",
    "instance",
    "_Feature"
   ],
   "window_display": false
  }
 },
 "nbformat": 4,
 "nbformat_minor": 5
}
